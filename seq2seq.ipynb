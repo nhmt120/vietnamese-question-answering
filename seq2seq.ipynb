{
 "cells": [
  {
   "cell_type": "code",
   "execution_count": 1,
   "id": "6c6124b1",
   "metadata": {
    "execution": {
     "iopub.execute_input": "2022-06-08T08:50:05.520807Z",
     "iopub.status.busy": "2022-06-08T08:50:05.520269Z",
     "iopub.status.idle": "2022-06-08T08:50:18.331495Z",
     "shell.execute_reply": "2022-06-08T08:50:18.330415Z"
    },
    "id": "3XCqd9nmmini",
    "papermill": {
     "duration": 12.823689,
     "end_time": "2022-06-08T08:50:18.334609",
     "exception": false,
     "start_time": "2022-06-08T08:50:05.510920",
     "status": "completed"
    },
    "tags": []
   },
   "outputs": [
    {
     "name": "stdout",
     "output_type": "stream",
     "text": [
      "Collecting pyvi\r\n",
      "  Downloading pyvi-0.1.1-py2.py3-none-any.whl (8.5 MB)\r\n",
      "\u001b[2K     \u001b[90m━━━━━━━━━━━━━━━━━━━━━━━━━━━━━━━━━━━━━━━━\u001b[0m \u001b[32m8.5/8.5 MB\u001b[0m \u001b[31m11.0 MB/s\u001b[0m eta \u001b[36m0:00:00\u001b[0m\r\n",
      "\u001b[?25hCollecting sklearn-crfsuite\r\n",
      "  Downloading sklearn_crfsuite-0.3.6-py2.py3-none-any.whl (12 kB)\r\n",
      "Requirement already satisfied: scikit-learn in /opt/conda/lib/python3.7/site-packages (from pyvi) (1.0.2)\r\n",
      "Requirement already satisfied: scipy>=1.1.0 in /opt/conda/lib/python3.7/site-packages (from scikit-learn->pyvi) (1.7.3)\r\n",
      "Requirement already satisfied: threadpoolctl>=2.0.0 in /opt/conda/lib/python3.7/site-packages (from scikit-learn->pyvi) (3.1.0)\r\n",
      "Requirement already satisfied: numpy>=1.14.6 in /opt/conda/lib/python3.7/site-packages (from scikit-learn->pyvi) (1.21.6)\r\n",
      "Requirement already satisfied: joblib>=0.11 in /opt/conda/lib/python3.7/site-packages (from scikit-learn->pyvi) (1.1.0)\r\n",
      "Collecting python-crfsuite>=0.8.3\r\n",
      "  Downloading python_crfsuite-0.9.8-cp37-cp37m-manylinux_2_17_x86_64.manylinux2014_x86_64.whl (965 kB)\r\n",
      "\u001b[2K     \u001b[90m━━━━━━━━━━━━━━━━━━━━━━━━━━━━━━━━━━━━━━\u001b[0m \u001b[32m965.4/965.4 kB\u001b[0m \u001b[31m51.8 MB/s\u001b[0m eta \u001b[36m0:00:00\u001b[0m\r\n",
      "\u001b[?25hRequirement already satisfied: six in /opt/conda/lib/python3.7/site-packages (from sklearn-crfsuite->pyvi) (1.16.0)\r\n",
      "Requirement already satisfied: tabulate in /opt/conda/lib/python3.7/site-packages (from sklearn-crfsuite->pyvi) (0.8.9)\r\n",
      "Requirement already satisfied: tqdm>=2.0 in /opt/conda/lib/python3.7/site-packages (from sklearn-crfsuite->pyvi) (4.64.0)\r\n",
      "Installing collected packages: python-crfsuite, sklearn-crfsuite, pyvi\r\n",
      "Successfully installed python-crfsuite-0.9.8 pyvi-0.1.1 sklearn-crfsuite-0.3.6\r\n",
      "\u001b[33mWARNING: Running pip as the 'root' user can result in broken permissions and conflicting behaviour with the system package manager. It is recommended to use a virtual environment instead: https://pip.pypa.io/warnings/venv\u001b[0m\u001b[33m\r\n",
      "\u001b[0m"
     ]
    }
   ],
   "source": [
    "!pip install pyvi"
   ]
  },
  {
   "cell_type": "code",
   "execution_count": 2,
   "id": "56e9d2ba",
   "metadata": {
    "execution": {
     "iopub.execute_input": "2022-06-08T08:50:18.364362Z",
     "iopub.status.busy": "2022-06-08T08:50:18.363736Z",
     "iopub.status.idle": "2022-06-08T08:50:24.920371Z",
     "shell.execute_reply": "2022-06-08T08:50:24.919511Z"
    },
    "id": "OK0jFWTIvj7f",
    "papermill": {
     "duration": 6.573768,
     "end_time": "2022-06-08T08:50:24.922469",
     "exception": false,
     "start_time": "2022-06-08T08:50:18.348701",
     "status": "completed"
    },
    "tags": []
   },
   "outputs": [],
   "source": [
    "SEED = 42\n",
    "\n",
    "import string\n",
    "\n",
    "import nltk\n",
    "import re\n",
    "\n",
    "import numpy as np\n",
    "import pandas as pd\n",
    "from pyvi import ViTokenizer\n",
    "\n",
    "from tensorflow.keras.models import Model, load_model\n",
    "from tensorflow.keras.layers import Dense, Embedding, LSTM, Input, Dropout\n",
    "from tensorflow.keras.preprocessing.sequence import pad_sequences\n",
    "from tensorflow.keras.utils import to_categorical\n",
    "from keras.preprocessing.text import Tokenizer\n",
    "from keras.utils.vis_utils import plot_model\n",
    "\n",
    "from sklearn.model_selection import train_test_split\n",
    "from gensim.models import Word2Vec\n",
    "from scipy.spatial import distance\n",
    "\n",
    "from matplotlib import pyplot as plt"
   ]
  },
  {
   "cell_type": "code",
   "execution_count": 3,
   "id": "3264598b",
   "metadata": {
    "execution": {
     "iopub.execute_input": "2022-06-08T08:50:24.940489Z",
     "iopub.status.busy": "2022-06-08T08:50:24.939954Z",
     "iopub.status.idle": "2022-06-08T08:50:24.958250Z",
     "shell.execute_reply": "2022-06-08T08:50:24.957210Z"
    },
    "id": "nsRvjEMqvj7p",
    "outputId": "43faead3-fdbd-4bc9-a889-a62062dfdc8d",
    "papermill": {
     "duration": 0.02881,
     "end_time": "2022-06-08T08:50:24.959913",
     "exception": false,
     "start_time": "2022-06-08T08:50:24.931103",
     "status": "completed"
    },
    "tags": []
   },
   "outputs": [
    {
     "name": "stdout",
     "output_type": "stream",
     "text": [
      "['shoping.txt', 'a ch.txt', 'tn gu.txt', 'bn b.txt', 'tdtu.txt', 's thch.txt', 'thng tin c nhn.txt', 'hc tp.txt', 'ngh nghip.txt', 'ngi yu.txt', 'gii tr.txt', 'tr chuyn v i n.txt', 'gia nh.txt', 'cc cu hi phc tp.txt', 'du lch.txt', 't nc.txt', 'robot.txt', 'ngh l.txt']\n"
     ]
    }
   ],
   "source": [
    "import os\n",
    "# dir = '/content/drive/MyDrive/NLP/dữ liệu chatbot - dự án cuối kì'\n",
    "dir = '../input/chatbot-data/chatbot'\n",
    "\n",
    "filenames = os.listdir(dir)\n",
    "print(filenames)"
   ]
  },
  {
   "cell_type": "code",
   "execution_count": 4,
   "id": "bc7a5bc2",
   "metadata": {
    "execution": {
     "iopub.execute_input": "2022-06-08T08:50:24.977189Z",
     "iopub.status.busy": "2022-06-08T08:50:24.976903Z",
     "iopub.status.idle": "2022-06-08T08:50:25.117212Z",
     "shell.execute_reply": "2022-06-08T08:50:25.116363Z"
    },
    "id": "l9JSiGuhvj7r",
    "outputId": "01601e03-a710-471c-e77d-d479401fe0bb",
    "papermill": {
     "duration": 0.151877,
     "end_time": "2022-06-08T08:50:25.119816",
     "exception": false,
     "start_time": "2022-06-08T08:50:24.967939",
     "status": "completed"
    },
    "tags": []
   },
   "outputs": [
    {
     "name": "stdout",
     "output_type": "stream",
     "text": [
      "Number of QA pairs: 5855 \n",
      "\n",
      "Q: có loại nào đặc biệt không bạn ?\n",
      "A: có 2 loại đặc biệt nha bạn \n",
      "\n",
      "Q: Ê mày tao định mua son nè mày thấy chỗ nào bán được không?\n",
      "A: à mày qua moon shop quận 7 thử \n",
      "\n",
      "Q: cho tôi hỏi nhà này có bao nhiêu phòng?\n",
      "A: ngồi nhà này có đến 5 phòng nha bạn \n",
      "\n",
      "Q: Đặc sản của quê bạn là gì?\n",
      "A: Về trái cây thì có thanh long, Về thức ăn thì có bánh căn 1 loại bánh như bánh xèo nhưng nhỏ hơn. \n",
      "\n",
      "Q: vậy còn số điện thoại của cậu là bao nhiêu?\n",
      "A: số điện thoại của tớ là 0234567891 \n",
      "\n"
     ]
    }
   ],
   "source": [
    "Q = []\n",
    "A = []\n",
    "for i in filenames:\n",
    "    with open(dir+'/'+i, encoding=\"utf8\") as f:\n",
    "        for line in f:\n",
    "            a =  line.split('__eou__')\n",
    "            Q.append(a[0].strip())\n",
    "            A.append(a[1].strip())\n",
    "print('Number of QA pairs:', len(Q), '\\n')\n",
    "\n",
    "# shuffle to mix the data topic\n",
    "QA = pd.DataFrame(zip(Q, A))\n",
    "QA = QA.sample(frac=1, random_state=61)\n",
    "\n",
    "Q = QA.iloc[:, 0].values\n",
    "A = QA.iloc[:, 1].values\n",
    "\n",
    "for i in range(5):\n",
    "    print('Q:', Q[i])\n",
    "    print('A:', A[i], '\\n')"
   ]
  },
  {
   "cell_type": "code",
   "execution_count": 5,
   "id": "f8a3e2a5",
   "metadata": {
    "execution": {
     "iopub.execute_input": "2022-06-08T08:50:25.138338Z",
     "iopub.status.busy": "2022-06-08T08:50:25.137706Z",
     "iopub.status.idle": "2022-06-08T08:50:25.143038Z",
     "shell.execute_reply": "2022-06-08T08:50:25.142325Z"
    },
    "papermill": {
     "duration": 0.015969,
     "end_time": "2022-06-08T08:50:25.144771",
     "exception": false,
     "start_time": "2022-06-08T08:50:25.128802",
     "status": "completed"
    },
    "tags": []
   },
   "outputs": [],
   "source": [
    "def normalize(data):\n",
    "    cleaned_data = []\n",
    "    regex = re.compile('[%s]' % re.escape(string.punctuation))\n",
    "    for sent in data:\n",
    "        sent = regex.sub('', sent)\n",
    "        sent = ViTokenizer.tokenize(sent)\n",
    "        cleaned_data.append(sent.lower())\n",
    "    return cleaned_data"
   ]
  },
  {
   "cell_type": "code",
   "execution_count": 6,
   "id": "c841e95f",
   "metadata": {
    "execution": {
     "iopub.execute_input": "2022-06-08T08:50:25.162566Z",
     "iopub.status.busy": "2022-06-08T08:50:25.161945Z",
     "iopub.status.idle": "2022-06-08T08:50:26.670282Z",
     "shell.execute_reply": "2022-06-08T08:50:26.669486Z"
    },
    "papermill": {
     "duration": 1.519643,
     "end_time": "2022-06-08T08:50:26.672498",
     "exception": false,
     "start_time": "2022-06-08T08:50:25.152855",
     "status": "completed"
    },
    "tags": []
   },
   "outputs": [
    {
     "name": "stdout",
     "output_type": "stream",
     "text": [
      "Q: có loại nào đặc_biệt không bạn\n",
      "A: có 2 loại đặc_biệt nha bạn \n",
      "\n",
      "Q: ê mày tao định mua son nè mày thấy chỗ nào bán được không\n",
      "A: à mày qua moon shop quận 7 thử \n",
      "\n",
      "Q: cho tôi hỏi nhà này có bao_nhiêu phòng\n",
      "A: ngồi nhà này có đến 5 phòng nha bạn \n",
      "\n",
      "Q: đặc_sản của quê bạn là gì\n",
      "A: về trái_cây thì có thanh_long về thức_ăn thì có bánh căn 1 loại bánh như bánh_xèo nhưng nhỏ hơn \n",
      "\n",
      "Q: vậy còn số điện_thoại của cậu là bao_nhiêu\n",
      "A: số điện_thoại của tớ là 0234567891 \n",
      "\n"
     ]
    }
   ],
   "source": [
    "questions = normalize(Q)\n",
    "answers = normalize(A)\n",
    "\n",
    "for i in range(5):\n",
    "    print('Q:', questions[i])\n",
    "    print('A:', answers[i], '\\n')"
   ]
  },
  {
   "cell_type": "code",
   "execution_count": 7,
   "id": "9f4236e1",
   "metadata": {
    "execution": {
     "iopub.execute_input": "2022-06-08T08:50:26.691183Z",
     "iopub.status.busy": "2022-06-08T08:50:26.690872Z",
     "iopub.status.idle": "2022-06-08T08:50:26.699131Z",
     "shell.execute_reply": "2022-06-08T08:50:26.697895Z"
    },
    "papermill": {
     "duration": 0.018895,
     "end_time": "2022-06-08T08:50:26.700805",
     "exception": false,
     "start_time": "2022-06-08T08:50:26.681910",
     "status": "completed"
    },
    "tags": []
   },
   "outputs": [],
   "source": [
    "X_train, X_test, y_train, y_test = train_test_split(questions, answers, test_size=0.1, random_state=SEED)"
   ]
  },
  {
   "cell_type": "code",
   "execution_count": 8,
   "id": "72d50e79",
   "metadata": {
    "execution": {
     "iopub.execute_input": "2022-06-08T08:50:26.718682Z",
     "iopub.status.busy": "2022-06-08T08:50:26.718339Z",
     "iopub.status.idle": "2022-06-08T08:50:26.725092Z",
     "shell.execute_reply": "2022-06-08T08:50:26.724245Z"
    },
    "id": "x7zf0U6Nvj7u",
    "papermill": {
     "duration": 0.017823,
     "end_time": "2022-06-08T08:50:26.726864",
     "exception": false,
     "start_time": "2022-06-08T08:50:26.709041",
     "status": "completed"
    },
    "tags": []
   },
   "outputs": [],
   "source": [
    "# start and end of string token to each answer\n",
    "for i in range(len(y_train)):\n",
    "    y_train[i] = '<start> ' + y_train[i] + ' <end>'"
   ]
  },
  {
   "cell_type": "code",
   "execution_count": 9,
   "id": "3d0831bd",
   "metadata": {
    "execution": {
     "iopub.execute_input": "2022-06-08T08:50:26.744132Z",
     "iopub.status.busy": "2022-06-08T08:50:26.743872Z",
     "iopub.status.idle": "2022-06-08T08:50:26.889576Z",
     "shell.execute_reply": "2022-06-08T08:50:26.888735Z"
    },
    "id": "L90MakM0vj7y",
    "outputId": "08a6011f-e8c7-4bc2-988c-c31bc84497c8",
    "papermill": {
     "duration": 0.156754,
     "end_time": "2022-06-08T08:50:26.891850",
     "exception": false,
     "start_time": "2022-06-08T08:50:26.735096",
     "status": "completed"
    },
    "tags": []
   },
   "outputs": [
    {
     "name": "stdout",
     "output_type": "stream",
     "text": [
      "VOCAB SIZE: 5154\n"
     ]
    }
   ],
   "source": [
    "# count each token appearing time\n",
    "tokenizer = Tokenizer(filters='')\n",
    "tokenizer.fit_on_texts(X_train + X_test + y_train + y_test + ['<unk>'])\n",
    "VOCAB_SIZE = len(tokenizer.word_index) + 1 # padding token for embedding layer later\n",
    "print('VOCAB SIZE: {}'.format(VOCAB_SIZE))\n",
    "vocab = list(tokenizer.word_index.keys()) # list of tokens"
   ]
  },
  {
   "cell_type": "code",
   "execution_count": 10,
   "id": "161acada",
   "metadata": {
    "execution": {
     "iopub.execute_input": "2022-06-08T08:50:26.910390Z",
     "iopub.status.busy": "2022-06-08T08:50:26.910099Z",
     "iopub.status.idle": "2022-06-08T08:50:27.010777Z",
     "shell.execute_reply": "2022-06-08T08:50:27.009938Z"
    },
    "id": "WAl_Wm8gwJnG",
    "outputId": "6ebb3cec-23ee-4405-b204-5eda960340ae",
    "papermill": {
     "duration": 0.11168,
     "end_time": "2022-06-08T08:50:27.012701",
     "exception": false,
     "start_time": "2022-06-08T08:50:26.901021",
     "status": "completed"
    },
    "tags": []
   },
   "outputs": [],
   "source": [
    "tokenized_questions = tokenizer.texts_to_sequences(X_train)\n",
    "tokenized_answers = tokenizer.texts_to_sequences(y_train)"
   ]
  },
  {
   "cell_type": "code",
   "execution_count": 11,
   "id": "d56e91db",
   "metadata": {
    "execution": {
     "iopub.execute_input": "2022-06-08T08:50:27.031000Z",
     "iopub.status.busy": "2022-06-08T08:50:27.030701Z",
     "iopub.status.idle": "2022-06-08T08:50:27.058112Z",
     "shell.execute_reply": "2022-06-08T08:50:27.056997Z"
    },
    "id": "d1UdhpNUvj70",
    "outputId": "1fc607f3-dc03-45d4-ce4a-48259e7151a9",
    "papermill": {
     "duration": 0.038762,
     "end_time": "2022-06-08T08:50:27.060416",
     "exception": false,
     "start_time": "2022-06-08T08:50:27.021654",
     "status": "completed"
    },
    "tags": []
   },
   "outputs": [
    {
     "name": "stdout",
     "output_type": "stream",
     "text": [
      "Encoder input data shape: (5269, 75)\n",
      "Max length of encoder input data: 75\n"
     ]
    }
   ],
   "source": [
    "MAXLEN_QUESTION = max([len(x) for x in tokenized_questions])\n",
    "padded_questions = pad_sequences(tokenized_questions, maxlen=MAXLEN_QUESTION, padding='post')\n",
    "encoder_input_data = np.array(padded_questions)\n",
    "print('Encoder input data shape:', encoder_input_data.shape)\n",
    "print('Max length of encoder input data:', MAXLEN_QUESTION)"
   ]
  },
  {
   "cell_type": "code",
   "execution_count": 12,
   "id": "93a8ae64",
   "metadata": {
    "execution": {
     "iopub.execute_input": "2022-06-08T08:50:27.078699Z",
     "iopub.status.busy": "2022-06-08T08:50:27.078390Z",
     "iopub.status.idle": "2022-06-08T08:50:27.107204Z",
     "shell.execute_reply": "2022-06-08T08:50:27.106187Z"
    },
    "id": "Y-g2Z_ibvj71",
    "outputId": "e6569561-a5ba-4490-beab-6b165bec28e0",
    "papermill": {
     "duration": 0.040226,
     "end_time": "2022-06-08T08:50:27.109405",
     "exception": false,
     "start_time": "2022-06-08T08:50:27.069179",
     "status": "completed"
    },
    "tags": []
   },
   "outputs": [
    {
     "name": "stdout",
     "output_type": "stream",
     "text": [
      "Decoder input data shape: (5269, 113)\n",
      "Max length of decoder input data: 113\n"
     ]
    }
   ],
   "source": [
    "MAXLEN_ANSWER = max([len(x) for x in tokenized_answers])\n",
    "padded_answers = pad_sequences(tokenized_answers, maxlen=MAXLEN_ANSWER, padding='post')\n",
    "decoder_input_data = np.array(padded_answers)\n",
    "print('Decoder input data shape:', decoder_input_data.shape)\n",
    "print('Max length of decoder input data:', MAXLEN_ANSWER)"
   ]
  },
  {
   "cell_type": "code",
   "execution_count": 13,
   "id": "ad5722ca",
   "metadata": {
    "execution": {
     "iopub.execute_input": "2022-06-08T08:50:27.127776Z",
     "iopub.status.busy": "2022-06-08T08:50:27.127511Z",
     "iopub.status.idle": "2022-06-08T08:50:28.318053Z",
     "shell.execute_reply": "2022-06-08T08:50:28.317200Z"
    },
    "id": "fEpd4v7Mvj73",
    "outputId": "58b454cf-d703-4ea8-cef1-41495f2894ae",
    "papermill": {
     "duration": 1.20217,
     "end_time": "2022-06-08T08:50:28.320588",
     "exception": false,
     "start_time": "2022-06-08T08:50:27.118418",
     "status": "completed"
    },
    "tags": []
   },
   "outputs": [
    {
     "name": "stdout",
     "output_type": "stream",
     "text": [
      "Decoder ouput data shape: (5269, 113, 5154)\n"
     ]
    }
   ],
   "source": [
    "padded_answers_dec_out = pad_sequences(padded_answers[:, 1:], maxlen=MAXLEN_ANSWER, padding='post')\n",
    "decoder_output_data = to_categorical(padded_answers_dec_out, VOCAB_SIZE, dtype='uint8')# remove <start> tag in answers data\n",
    "print('Decoder ouput data shape:', decoder_output_data.shape)"
   ]
  },
  {
   "cell_type": "code",
   "execution_count": 14,
   "id": "1385cc26",
   "metadata": {
    "execution": {
     "iopub.execute_input": "2022-06-08T08:50:28.340376Z",
     "iopub.status.busy": "2022-06-08T08:50:28.339686Z",
     "iopub.status.idle": "2022-06-08T08:50:31.837196Z",
     "shell.execute_reply": "2022-06-08T08:50:31.836396Z"
    },
    "id": "slipHGSXvj73",
    "papermill": {
     "duration": 3.508879,
     "end_time": "2022-06-08T08:50:31.839233",
     "exception": false,
     "start_time": "2022-06-08T08:50:28.330354",
     "status": "completed"
    },
    "tags": []
   },
   "outputs": [
    {
     "name": "stderr",
     "output_type": "stream",
     "text": [
      "2022-06-08 08:50:28.444974: I tensorflow/stream_executor/cuda/cuda_gpu_executor.cc:937] successful NUMA node read from SysFS had negative value (-1), but there must be at least one NUMA node, so returning NUMA node zero\n",
      "2022-06-08 08:50:28.561495: I tensorflow/stream_executor/cuda/cuda_gpu_executor.cc:937] successful NUMA node read from SysFS had negative value (-1), but there must be at least one NUMA node, so returning NUMA node zero\n",
      "2022-06-08 08:50:28.562345: I tensorflow/stream_executor/cuda/cuda_gpu_executor.cc:937] successful NUMA node read from SysFS had negative value (-1), but there must be at least one NUMA node, so returning NUMA node zero\n",
      "2022-06-08 08:50:28.563931: I tensorflow/core/platform/cpu_feature_guard.cc:142] This TensorFlow binary is optimized with oneAPI Deep Neural Network Library (oneDNN) to use the following CPU instructions in performance-critical operations:  AVX2 AVX512F FMA\n",
      "To enable them in other operations, rebuild TensorFlow with the appropriate compiler flags.\n",
      "2022-06-08 08:50:28.564307: I tensorflow/stream_executor/cuda/cuda_gpu_executor.cc:937] successful NUMA node read from SysFS had negative value (-1), but there must be at least one NUMA node, so returning NUMA node zero\n",
      "2022-06-08 08:50:28.565244: I tensorflow/stream_executor/cuda/cuda_gpu_executor.cc:937] successful NUMA node read from SysFS had negative value (-1), but there must be at least one NUMA node, so returning NUMA node zero\n",
      "2022-06-08 08:50:28.566135: I tensorflow/stream_executor/cuda/cuda_gpu_executor.cc:937] successful NUMA node read from SysFS had negative value (-1), but there must be at least one NUMA node, so returning NUMA node zero\n",
      "2022-06-08 08:50:30.770858: I tensorflow/stream_executor/cuda/cuda_gpu_executor.cc:937] successful NUMA node read from SysFS had negative value (-1), but there must be at least one NUMA node, so returning NUMA node zero\n",
      "2022-06-08 08:50:30.771878: I tensorflow/stream_executor/cuda/cuda_gpu_executor.cc:937] successful NUMA node read from SysFS had negative value (-1), but there must be at least one NUMA node, so returning NUMA node zero\n",
      "2022-06-08 08:50:30.772804: I tensorflow/stream_executor/cuda/cuda_gpu_executor.cc:937] successful NUMA node read from SysFS had negative value (-1), but there must be at least one NUMA node, so returning NUMA node zero\n",
      "2022-06-08 08:50:30.773480: I tensorflow/core/common_runtime/gpu/gpu_device.cc:1510] Created device /job:localhost/replica:0/task:0/device:GPU:0 with 15403 MB memory:  -> device: 0, name: Tesla P100-PCIE-16GB, pci bus id: 0000:00:04.0, compute capability: 6.0\n"
     ]
    }
   ],
   "source": [
    "encoder_inputs = Input(shape=(MAXLEN_QUESTION,))\n",
    "encoder_embedding = Embedding(VOCAB_SIZE, 200, mask_zero=True) (encoder_inputs) # mask zero to acknowledge 0 padding\n",
    "_, state_h, state_c = LSTM(200, return_state=True) (encoder_embedding) # return last hidden and cell state\n",
    "encoder_states = [state_h, state_c]"
   ]
  },
  {
   "cell_type": "code",
   "execution_count": 15,
   "id": "68a32349",
   "metadata": {
    "execution": {
     "iopub.execute_input": "2022-06-08T08:50:31.858191Z",
     "iopub.status.busy": "2022-06-08T08:50:31.857849Z",
     "iopub.status.idle": "2022-06-08T08:50:32.547742Z",
     "shell.execute_reply": "2022-06-08T08:50:32.546901Z"
    },
    "id": "UYaJaLp7vj74",
    "papermill": {
     "duration": 0.701818,
     "end_time": "2022-06-08T08:50:32.549903",
     "exception": false,
     "start_time": "2022-06-08T08:50:31.848085",
     "status": "completed"
    },
    "scrolled": true,
    "tags": []
   },
   "outputs": [],
   "source": [
    "decoder_inputs = Input(shape=(MAXLEN_ANSWER,))\n",
    "decoder_embedding = Embedding(VOCAB_SIZE, 200, mask_zero=True) (decoder_inputs)\n",
    "decoder_lstm = LSTM(200, return_state=True, return_sequences=True)\n",
    "decoder_outputs, _, _ = decoder_lstm(decoder_embedding, initial_state=encoder_states) # passing hidden states to dense\n",
    "decoder_dense = Dense(VOCAB_SIZE, activation='softmax')\n",
    "output = decoder_dense(decoder_outputs)"
   ]
  },
  {
   "cell_type": "code",
   "execution_count": 16,
   "id": "68c7c3ce",
   "metadata": {
    "execution": {
     "iopub.execute_input": "2022-06-08T08:50:32.569468Z",
     "iopub.status.busy": "2022-06-08T08:50:32.568709Z",
     "iopub.status.idle": "2022-06-08T08:50:33.604175Z",
     "shell.execute_reply": "2022-06-08T08:50:33.603198Z"
    },
    "id": "zpxqS0CQvj74",
    "outputId": "c7c6e53e-f04b-44c4-a738-80897f7e8cb9",
    "papermill": {
     "duration": 1.047563,
     "end_time": "2022-06-08T08:50:33.606421",
     "exception": false,
     "start_time": "2022-06-08T08:50:32.558858",
     "status": "completed"
    },
    "tags": []
   },
   "outputs": [
    {
     "name": "stdout",
     "output_type": "stream",
     "text": [
      "Model: \"model\"\n",
      "____________________________________________________________________________________________________\n",
      "Layer (type)               Output Shape                                  Param #   Connected to     \n",
      "====================================================================================================\n",
      "input_1 (InputLayer)       [(None, 75)]                                  0                          \n",
      "____________________________________________________________________________________________________\n",
      "input_2 (InputLayer)       [(None, 113)]                                 0                          \n",
      "____________________________________________________________________________________________________\n",
      "embedding (Embedding)      (None, 75, 200)                               1030800   input_1[0][0]    \n",
      "____________________________________________________________________________________________________\n",
      "embedding_1 (Embedding)    (None, 113, 200)                              1030800   input_2[0][0]    \n",
      "____________________________________________________________________________________________________\n",
      "lstm (LSTM)                [(None, 200), (None, 200), (None, 200)]       320800    embedding[0][0]  \n",
      "____________________________________________________________________________________________________\n",
      "lstm_1 (LSTM)              [(None, 113, 200), (None, 200), (None, 200)]  320800    embedding_1[0][0]\n",
      "                                                                                   lstm[0][1]       \n",
      "                                                                                   lstm[0][2]       \n",
      "____________________________________________________________________________________________________\n",
      "dense (Dense)              (None, 113, 5154)                             1035954   lstm_1[0][0]     \n",
      "====================================================================================================\n",
      "Total params: 3,739,154\n",
      "Trainable params: 3,739,154\n",
      "Non-trainable params: 0\n",
      "____________________________________________________________________________________________________\n",
      "None\n"
     ]
    },
    {
     "data": {
      "image/png": "[encoded data removed]",
      "text/plain": [
       "<IPython.core.display.Image object>"
      ]
     },
     "execution_count": 16,
     "metadata": {},
     "output_type": "execute_result"
    }
   ],
   "source": [
    "model = Model([encoder_inputs, decoder_inputs], output)\n",
    "model.compile(loss='categorical_crossentropy', optimizer='adam', metrics=['accuracy'])\n",
    "print(model.summary(line_length=100, positions=[.27, .73, .83, 1.]))\n",
    "plot_model(model, rankdir='LR', show_shapes=True)"
   ]
  },
  {
   "cell_type": "code",
   "execution_count": 17,
   "id": "ea66c258",
   "metadata": {
    "execution": {
     "iopub.execute_input": "2022-06-08T08:50:33.627347Z",
     "iopub.status.busy": "2022-06-08T08:50:33.626642Z",
     "iopub.status.idle": "2022-06-08T09:06:05.972468Z",
     "shell.execute_reply": "2022-06-08T09:06:05.971582Z"
    },
    "id": "Gi27qYt8vj74",
    "outputId": "03dd453c-8dec-4c03-930a-dfeabf65390c",
    "papermill": {
     "duration": 932.36334,
     "end_time": "2022-06-08T09:06:05.979405",
     "exception": false,
     "start_time": "2022-06-08T08:50:33.616065",
     "status": "completed"
    },
    "scrolled": true,
    "tags": []
   },
   "outputs": [
    {
     "name": "stderr",
     "output_type": "stream",
     "text": [
      "2022-06-08 08:50:33.635529: W tensorflow/core/framework/cpu_allocator_impl.cc:80] Allocation of 2761750284 exceeds 10% of free system memory.\n",
      "2022-06-08 08:50:36.503150: W tensorflow/core/framework/cpu_allocator_impl.cc:80] Allocation of 2761750284 exceeds 10% of free system memory.\n",
      "2022-06-08 08:50:38.458288: I tensorflow/compiler/mlir/mlir_graph_optimization_pass.cc:185] None of the MLIR Optimization Passes are enabled (registered 2)\n"
     ]
    },
    {
     "name": "stdout",
     "output_type": "stream",
     "text": [
      "Epoch 1/100\n"
     ]
    },
    {
     "name": "stderr",
     "output_type": "stream",
     "text": [
      "2022-06-08 08:50:45.148024: I tensorflow/stream_executor/cuda/cuda_dnn.cc:369] Loaded cuDNN version 8005\n"
     ]
    },
    {
     "name": "stdout",
     "output_type": "stream",
     "text": [
      "149/149 [==============================] - 20s 80ms/step - loss: 0.4885 - accuracy: 0.1785 - val_loss: 0.4261 - val_accuracy: 0.2458\n",
      "Epoch 2/100\n",
      "149/149 [==============================] - 9s 60ms/step - loss: 0.4155 - accuracy: 0.2499 - val_loss: 0.4192 - val_accuracy: 0.2468\n",
      "Epoch 3/100\n",
      "149/149 [==============================] - 9s 59ms/step - loss: 0.4034 - accuracy: 0.2527 - val_loss: 0.4158 - val_accuracy: 0.2530\n",
      "Epoch 4/100\n",
      "149/149 [==============================] - 9s 60ms/step - loss: 0.3924 - accuracy: 0.2640 - val_loss: 0.4104 - val_accuracy: 0.2627\n",
      "Epoch 5/100\n",
      "149/149 [==============================] - 9s 58ms/step - loss: 0.3818 - accuracy: 0.2703 - val_loss: 0.4060 - val_accuracy: 0.2665\n",
      "Epoch 6/100\n",
      "149/149 [==============================] - 9s 58ms/step - loss: 0.3714 - accuracy: 0.2751 - val_loss: 0.4027 - val_accuracy: 0.2703\n",
      "Epoch 7/100\n",
      "149/149 [==============================] - 9s 59ms/step - loss: 0.3610 - accuracy: 0.2821 - val_loss: 0.3991 - val_accuracy: 0.2751\n",
      "Epoch 8/100\n",
      "149/149 [==============================] - 9s 62ms/step - loss: 0.3504 - accuracy: 0.2898 - val_loss: 0.3967 - val_accuracy: 0.2764\n",
      "Epoch 9/100\n",
      "149/149 [==============================] - 9s 58ms/step - loss: 0.3397 - accuracy: 0.3017 - val_loss: 0.3936 - val_accuracy: 0.2827\n",
      "Epoch 10/100\n",
      "149/149 [==============================] - 9s 58ms/step - loss: 0.3296 - accuracy: 0.3103 - val_loss: 0.3910 - val_accuracy: 0.2876\n",
      "Epoch 11/100\n",
      "149/149 [==============================] - 9s 59ms/step - loss: 0.3191 - accuracy: 0.3216 - val_loss: 0.3880 - val_accuracy: 0.2992\n",
      "Epoch 12/100\n",
      "149/149 [==============================] - 9s 62ms/step - loss: 0.3084 - accuracy: 0.3331 - val_loss: 0.3853 - val_accuracy: 0.3013\n",
      "Epoch 13/100\n",
      "149/149 [==============================] - 9s 59ms/step - loss: 0.2980 - accuracy: 0.3430 - val_loss: 0.3837 - val_accuracy: 0.3027\n",
      "Epoch 14/100\n",
      "149/149 [==============================] - 9s 58ms/step - loss: 0.2876 - accuracy: 0.3522 - val_loss: 0.3826 - val_accuracy: 0.3078\n",
      "Epoch 15/100\n",
      "149/149 [==============================] - 9s 58ms/step - loss: 0.2773 - accuracy: 0.3624 - val_loss: 0.3815 - val_accuracy: 0.3105\n",
      "Epoch 16/100\n",
      "149/149 [==============================] - 9s 63ms/step - loss: 0.2671 - accuracy: 0.3745 - val_loss: 0.3805 - val_accuracy: 0.3127\n",
      "Epoch 17/100\n",
      "149/149 [==============================] - 9s 60ms/step - loss: 0.2572 - accuracy: 0.3880 - val_loss: 0.3802 - val_accuracy: 0.3175\n",
      "Epoch 18/100\n",
      "149/149 [==============================] - 9s 60ms/step - loss: 0.2476 - accuracy: 0.3999 - val_loss: 0.3806 - val_accuracy: 0.3181\n",
      "Epoch 19/100\n",
      "149/149 [==============================] - 9s 58ms/step - loss: 0.2381 - accuracy: 0.4148 - val_loss: 0.3802 - val_accuracy: 0.3207\n",
      "Epoch 20/100\n",
      "149/149 [==============================] - 9s 58ms/step - loss: 0.2286 - accuracy: 0.4324 - val_loss: 0.3814 - val_accuracy: 0.3236\n",
      "Epoch 21/100\n",
      "149/149 [==============================] - 9s 57ms/step - loss: 0.2197 - accuracy: 0.4505 - val_loss: 0.3825 - val_accuracy: 0.3259\n",
      "Epoch 22/100\n",
      "149/149 [==============================] - 9s 57ms/step - loss: 0.2108 - accuracy: 0.4678 - val_loss: 0.3835 - val_accuracy: 0.3281\n",
      "Epoch 23/100\n",
      "149/149 [==============================] - 9s 63ms/step - loss: 0.2019 - accuracy: 0.4858 - val_loss: 0.3856 - val_accuracy: 0.3312\n",
      "Epoch 24/100\n",
      "149/149 [==============================] - 9s 59ms/step - loss: 0.1935 - accuracy: 0.5065 - val_loss: 0.3866 - val_accuracy: 0.3378\n",
      "Epoch 25/100\n",
      "149/149 [==============================] - 9s 59ms/step - loss: 0.1850 - accuracy: 0.5251 - val_loss: 0.3888 - val_accuracy: 0.3354\n",
      "Epoch 26/100\n",
      "149/149 [==============================] - 9s 60ms/step - loss: 0.1772 - accuracy: 0.5431 - val_loss: 0.3909 - val_accuracy: 0.3348\n",
      "Epoch 27/100\n",
      "149/149 [==============================] - 9s 63ms/step - loss: 0.1696 - accuracy: 0.5595 - val_loss: 0.3928 - val_accuracy: 0.3390\n",
      "Epoch 28/100\n",
      "149/149 [==============================] - 9s 60ms/step - loss: 0.1624 - accuracy: 0.5770 - val_loss: 0.3947 - val_accuracy: 0.3407\n",
      "Epoch 29/100\n",
      "149/149 [==============================] - 9s 60ms/step - loss: 0.1554 - accuracy: 0.5944 - val_loss: 0.3967 - val_accuracy: 0.3376\n",
      "Epoch 30/100\n",
      "149/149 [==============================] - 9s 58ms/step - loss: 0.1485 - accuracy: 0.6109 - val_loss: 0.3995 - val_accuracy: 0.3411\n",
      "Epoch 31/100\n",
      "149/149 [==============================] - 9s 62ms/step - loss: 0.1422 - accuracy: 0.6268 - val_loss: 0.4017 - val_accuracy: 0.3382\n",
      "Epoch 32/100\n",
      "149/149 [==============================] - 9s 60ms/step - loss: 0.1360 - accuracy: 0.6442 - val_loss: 0.4036 - val_accuracy: 0.3443\n",
      "Epoch 33/100\n",
      "149/149 [==============================] - 9s 61ms/step - loss: 0.1305 - accuracy: 0.6573 - val_loss: 0.4076 - val_accuracy: 0.3424\n",
      "Epoch 34/100\n",
      "149/149 [==============================] - 9s 61ms/step - loss: 0.1246 - accuracy: 0.6713 - val_loss: 0.4104 - val_accuracy: 0.3399\n",
      "Epoch 35/100\n",
      "149/149 [==============================] - 9s 62ms/step - loss: 0.1196 - accuracy: 0.6857 - val_loss: 0.4134 - val_accuracy: 0.3432\n",
      "Epoch 36/100\n",
      "149/149 [==============================] - 9s 60ms/step - loss: 0.1147 - accuracy: 0.6986 - val_loss: 0.4159 - val_accuracy: 0.3439\n",
      "Epoch 37/100\n",
      "149/149 [==============================] - 9s 58ms/step - loss: 0.1089 - accuracy: 0.7127 - val_loss: 0.4180 - val_accuracy: 0.3420\n",
      "Epoch 38/100\n",
      "149/149 [==============================] - 9s 59ms/step - loss: 0.1038 - accuracy: 0.7284 - val_loss: 0.4219 - val_accuracy: 0.3428\n",
      "Epoch 39/100\n",
      "149/149 [==============================] - 9s 63ms/step - loss: 0.0993 - accuracy: 0.7399 - val_loss: 0.4260 - val_accuracy: 0.3399\n",
      "Epoch 40/100\n",
      "149/149 [==============================] - 9s 59ms/step - loss: 0.0951 - accuracy: 0.7507 - val_loss: 0.4288 - val_accuracy: 0.3445\n",
      "Epoch 41/100\n",
      "149/149 [==============================] - 9s 58ms/step - loss: 0.0909 - accuracy: 0.7634 - val_loss: 0.4309 - val_accuracy: 0.3428\n",
      "Epoch 42/100\n",
      "149/149 [==============================] - 9s 59ms/step - loss: 0.0866 - accuracy: 0.7754 - val_loss: 0.4345 - val_accuracy: 0.3435\n",
      "Epoch 43/100\n",
      "149/149 [==============================] - 9s 60ms/step - loss: 0.0826 - accuracy: 0.7867 - val_loss: 0.4380 - val_accuracy: 0.3451\n",
      "Epoch 44/100\n",
      "149/149 [==============================] - 9s 61ms/step - loss: 0.0789 - accuracy: 0.7966 - val_loss: 0.4414 - val_accuracy: 0.3485\n",
      "Epoch 45/100\n",
      "149/149 [==============================] - 9s 60ms/step - loss: 0.0755 - accuracy: 0.8067 - val_loss: 0.4438 - val_accuracy: 0.3485\n",
      "Epoch 46/100\n",
      "149/149 [==============================] - 9s 58ms/step - loss: 0.0722 - accuracy: 0.8156 - val_loss: 0.4470 - val_accuracy: 0.3454\n",
      "Epoch 47/100\n",
      "149/149 [==============================] - 9s 62ms/step - loss: 0.0694 - accuracy: 0.8225 - val_loss: 0.4500 - val_accuracy: 0.3445\n",
      "Epoch 48/100\n",
      "149/149 [==============================] - 9s 59ms/step - loss: 0.0657 - accuracy: 0.8344 - val_loss: 0.4541 - val_accuracy: 0.3494\n",
      "Epoch 49/100\n",
      "149/149 [==============================] - 9s 59ms/step - loss: 0.0624 - accuracy: 0.8428 - val_loss: 0.4558 - val_accuracy: 0.3500\n",
      "Epoch 50/100\n",
      "149/149 [==============================] - 9s 59ms/step - loss: 0.0591 - accuracy: 0.8535 - val_loss: 0.4590 - val_accuracy: 0.3519\n",
      "Epoch 51/100\n",
      "149/149 [==============================] - 9s 60ms/step - loss: 0.0565 - accuracy: 0.8620 - val_loss: 0.4635 - val_accuracy: 0.3481\n",
      "Epoch 52/100\n",
      "149/149 [==============================] - 9s 60ms/step - loss: 0.0540 - accuracy: 0.8687 - val_loss: 0.4667 - val_accuracy: 0.3502\n",
      "Epoch 53/100\n",
      "149/149 [==============================] - 9s 59ms/step - loss: 0.0513 - accuracy: 0.8754 - val_loss: 0.4688 - val_accuracy: 0.3511\n",
      "Epoch 54/100\n",
      "149/149 [==============================] - 9s 61ms/step - loss: 0.0489 - accuracy: 0.8817 - val_loss: 0.4727 - val_accuracy: 0.3498\n",
      "Epoch 55/100\n",
      "149/149 [==============================] - 9s 60ms/step - loss: 0.0467 - accuracy: 0.8894 - val_loss: 0.4760 - val_accuracy: 0.3485\n",
      "Epoch 56/100\n",
      "149/149 [==============================] - 9s 58ms/step - loss: 0.0446 - accuracy: 0.8953 - val_loss: 0.4782 - val_accuracy: 0.3511\n",
      "Epoch 57/100\n",
      "149/149 [==============================] - 9s 60ms/step - loss: 0.0425 - accuracy: 0.8995 - val_loss: 0.4831 - val_accuracy: 0.3504\n",
      "Epoch 58/100\n",
      "149/149 [==============================] - 9s 59ms/step - loss: 0.0404 - accuracy: 0.9069 - val_loss: 0.4850 - val_accuracy: 0.3508\n",
      "Epoch 59/100\n",
      "149/149 [==============================] - 9s 61ms/step - loss: 0.0382 - accuracy: 0.9119 - val_loss: 0.4894 - val_accuracy: 0.3508\n",
      "Epoch 60/100\n",
      "149/149 [==============================] - 9s 61ms/step - loss: 0.0361 - accuracy: 0.9176 - val_loss: 0.4925 - val_accuracy: 0.3513\n",
      "Epoch 61/100\n",
      "149/149 [==============================] - 9s 58ms/step - loss: 0.0344 - accuracy: 0.9224 - val_loss: 0.4954 - val_accuracy: 0.3532\n",
      "Epoch 62/100\n",
      "149/149 [==============================] - 9s 60ms/step - loss: 0.0327 - accuracy: 0.9264 - val_loss: 0.4969 - val_accuracy: 0.3502\n",
      "Epoch 63/100\n",
      "149/149 [==============================] - 9s 58ms/step - loss: 0.0312 - accuracy: 0.9308 - val_loss: 0.5013 - val_accuracy: 0.3477\n",
      "Epoch 64/100\n",
      "149/149 [==============================] - 9s 60ms/step - loss: 0.0296 - accuracy: 0.9349 - val_loss: 0.5037 - val_accuracy: 0.3504\n",
      "Epoch 65/100\n",
      "149/149 [==============================] - 9s 58ms/step - loss: 0.0283 - accuracy: 0.9377 - val_loss: 0.5091 - val_accuracy: 0.3496\n",
      "Epoch 66/100\n",
      "149/149 [==============================] - 9s 62ms/step - loss: 0.0271 - accuracy: 0.9411 - val_loss: 0.5097 - val_accuracy: 0.3479\n",
      "Epoch 67/100\n",
      "149/149 [==============================] - 9s 59ms/step - loss: 0.0260 - accuracy: 0.9448 - val_loss: 0.5131 - val_accuracy: 0.3466\n",
      "Epoch 68/100\n",
      "149/149 [==============================] - 9s 59ms/step - loss: 0.0247 - accuracy: 0.9469 - val_loss: 0.5173 - val_accuracy: 0.3536\n",
      "Epoch 69/100\n",
      "149/149 [==============================] - 9s 59ms/step - loss: 0.0232 - accuracy: 0.9518 - val_loss: 0.5210 - val_accuracy: 0.3506\n",
      "Epoch 70/100\n",
      "149/149 [==============================] - 9s 63ms/step - loss: 0.0222 - accuracy: 0.9543 - val_loss: 0.5229 - val_accuracy: 0.3487\n",
      "Epoch 71/100\n",
      "149/149 [==============================] - 9s 59ms/step - loss: 0.0208 - accuracy: 0.9570 - val_loss: 0.5260 - val_accuracy: 0.3489\n",
      "Epoch 72/100\n",
      "149/149 [==============================] - 9s 58ms/step - loss: 0.0197 - accuracy: 0.9590 - val_loss: 0.5290 - val_accuracy: 0.3540\n",
      "Epoch 73/100\n",
      "149/149 [==============================] - 9s 60ms/step - loss: 0.0187 - accuracy: 0.9615 - val_loss: 0.5320 - val_accuracy: 0.3451\n",
      "Epoch 74/100\n",
      "149/149 [==============================] - 9s 60ms/step - loss: 0.0176 - accuracy: 0.9638 - val_loss: 0.5356 - val_accuracy: 0.3477\n",
      "Epoch 75/100\n",
      "149/149 [==============================] - 9s 59ms/step - loss: 0.0169 - accuracy: 0.9650 - val_loss: 0.5354 - val_accuracy: 0.3492\n",
      "Epoch 76/100\n",
      "149/149 [==============================] - 9s 59ms/step - loss: 0.0161 - accuracy: 0.9676 - val_loss: 0.5392 - val_accuracy: 0.3481\n",
      "Epoch 77/100\n",
      "149/149 [==============================] - 9s 62ms/step - loss: 0.0152 - accuracy: 0.9690 - val_loss: 0.5469 - val_accuracy: 0.3498\n",
      "Epoch 78/100\n",
      "149/149 [==============================] - 9s 60ms/step - loss: 0.0143 - accuracy: 0.9707 - val_loss: 0.5473 - val_accuracy: 0.3517\n",
      "Epoch 79/100\n",
      "149/149 [==============================] - 9s 59ms/step - loss: 0.0139 - accuracy: 0.9717 - val_loss: 0.5504 - val_accuracy: 0.3470\n",
      "Epoch 80/100\n",
      "149/149 [==============================] - 9s 58ms/step - loss: 0.0132 - accuracy: 0.9733 - val_loss: 0.5544 - val_accuracy: 0.3515\n",
      "Epoch 81/100\n",
      "149/149 [==============================] - 9s 63ms/step - loss: 0.0126 - accuracy: 0.9745 - val_loss: 0.5567 - val_accuracy: 0.3462\n",
      "Epoch 82/100\n",
      "149/149 [==============================] - 9s 59ms/step - loss: 0.0123 - accuracy: 0.9751 - val_loss: 0.5622 - val_accuracy: 0.3508\n",
      "Epoch 83/100\n",
      "149/149 [==============================] - 9s 58ms/step - loss: 0.0118 - accuracy: 0.9753 - val_loss: 0.5611 - val_accuracy: 0.3468\n",
      "Epoch 84/100\n",
      "149/149 [==============================] - 9s 59ms/step - loss: 0.0111 - accuracy: 0.9768 - val_loss: 0.5655 - val_accuracy: 0.3496\n",
      "Epoch 85/100\n",
      "149/149 [==============================] - 9s 62ms/step - loss: 0.0106 - accuracy: 0.9776 - val_loss: 0.5670 - val_accuracy: 0.3481\n",
      "Epoch 86/100\n",
      "149/149 [==============================] - 9s 58ms/step - loss: 0.0103 - accuracy: 0.9783 - val_loss: 0.5711 - val_accuracy: 0.3477\n",
      "Epoch 87/100\n",
      "149/149 [==============================] - 9s 59ms/step - loss: 0.0101 - accuracy: 0.9782 - val_loss: 0.5715 - val_accuracy: 0.3462\n",
      "Epoch 88/100\n",
      "149/149 [==============================] - 9s 63ms/step - loss: 0.0095 - accuracy: 0.9792 - val_loss: 0.5746 - val_accuracy: 0.3449\n",
      "Epoch 89/100\n",
      "149/149 [==============================] - 9s 60ms/step - loss: 0.0089 - accuracy: 0.9794 - val_loss: 0.5771 - val_accuracy: 0.3470\n",
      "Epoch 90/100\n",
      "149/149 [==============================] - 9s 60ms/step - loss: 0.0085 - accuracy: 0.9802 - val_loss: 0.5800 - val_accuracy: 0.3502\n",
      "Epoch 91/100\n",
      "149/149 [==============================] - 9s 59ms/step - loss: 0.0082 - accuracy: 0.9807 - val_loss: 0.5821 - val_accuracy: 0.3483\n",
      "Epoch 92/100\n",
      "149/149 [==============================] - 9s 62ms/step - loss: 0.0079 - accuracy: 0.9809 - val_loss: 0.5851 - val_accuracy: 0.3502\n",
      "Epoch 93/100\n",
      "149/149 [==============================] - 9s 58ms/step - loss: 0.0076 - accuracy: 0.9808 - val_loss: 0.5870 - val_accuracy: 0.3483\n",
      "Epoch 94/100\n",
      "149/149 [==============================] - 9s 58ms/step - loss: 0.0074 - accuracy: 0.9810 - val_loss: 0.5903 - val_accuracy: 0.3439\n",
      "Epoch 95/100\n",
      "149/149 [==============================] - 9s 62ms/step - loss: 0.0071 - accuracy: 0.9811 - val_loss: 0.5944 - val_accuracy: 0.3451\n",
      "Epoch 96/100\n",
      "149/149 [==============================] - 9s 63ms/step - loss: 0.0069 - accuracy: 0.9813 - val_loss: 0.5955 - val_accuracy: 0.3464\n",
      "Epoch 97/100\n",
      "149/149 [==============================] - 9s 59ms/step - loss: 0.0066 - accuracy: 0.9816 - val_loss: 0.5964 - val_accuracy: 0.3502\n",
      "Epoch 98/100\n",
      "149/149 [==============================] - 9s 58ms/step - loss: 0.0064 - accuracy: 0.9819 - val_loss: 0.6005 - val_accuracy: 0.3492\n",
      "Epoch 99/100\n",
      "149/149 [==============================] - 9s 63ms/step - loss: 0.0063 - accuracy: 0.9819 - val_loss: 0.6025 - val_accuracy: 0.3502\n",
      "Epoch 100/100\n",
      "149/149 [==============================] - 9s 59ms/step - loss: 0.0065 - accuracy: 0.9814 - val_loss: 0.6044 - val_accuracy: 0.3473\n"
     ]
    }
   ],
   "source": [
    "history = model.fit([encoder_input_data, decoder_input_data], decoder_output_data, epochs=100, validation_split=0.1) # epochs >= 10 to get proper answer"
   ]
  },
  {
   "cell_type": "code",
   "execution_count": 18,
   "id": "2c475359",
   "metadata": {
    "execution": {
     "iopub.execute_input": "2022-06-08T09:06:07.295712Z",
     "iopub.status.busy": "2022-06-08T09:06:07.295242Z",
     "iopub.status.idle": "2022-06-08T09:06:08.021338Z",
     "shell.execute_reply": "2022-06-08T09:06:08.020563Z"
    },
    "id": "QaESKXhfvj75",
    "papermill": {
     "duration": 1.35229,
     "end_time": "2022-06-08T09:06:08.023392",
     "exception": false,
     "start_time": "2022-06-08T09:06:06.671102",
     "status": "completed"
    },
    "scrolled": true,
    "tags": []
   },
   "outputs": [],
   "source": [
    "def make_inference_models():\n",
    "    \n",
    "    # encoder model takes questions as input and output its LSTM state\n",
    "    encoder_model = Model(encoder_inputs, encoder_states)\n",
    "    \n",
    "    # decoder takes encoder output states as its initial state \n",
    "    # and 200 is the output of encoder last hidden and cell states dimension\n",
    "    decoder_state_input_h = Input(shape=(200,))\n",
    "    decoder_state_input_c = Input(shape=(200,))\n",
    "    decoder_states_inputs = [decoder_state_input_h, decoder_state_input_c]\n",
    "    \n",
    "    # use these pre-trained layers of the model: decoder_embedding, decoder_lstm, decoder_dense\n",
    "    decoder_outputs, state_h, state_c = decoder_lstm(decoder_embedding, initial_state=decoder_states_inputs)\n",
    "    decoder_states = [state_h, state_c]\n",
    "    decoder_outputs = decoder_dense(decoder_outputs)\n",
    "    \n",
    "    # decoder model takes one token and the states predicted from enc_model   \n",
    "    decoder_model = Model([decoder_inputs] + decoder_states_inputs, [decoder_outputs] + decoder_states)\n",
    "    \n",
    "    return encoder_model, decoder_model\n",
    "\n",
    "enc_model, dec_model = make_inference_models()\n",
    "enc_model.save('enc_model.h5')\n",
    "dec_model.save('dec_model.h5')"
   ]
  },
  {
   "cell_type": "code",
   "execution_count": 19,
   "id": "adad44ff",
   "metadata": {
    "execution": {
     "iopub.execute_input": "2022-06-08T09:06:09.304753Z",
     "iopub.status.busy": "2022-06-08T09:06:09.304291Z",
     "iopub.status.idle": "2022-06-08T09:06:09.308234Z",
     "shell.execute_reply": "2022-06-08T09:06:09.307376Z"
    },
    "papermill": {
     "duration": 0.674461,
     "end_time": "2022-06-08T09:06:09.310106",
     "exception": false,
     "start_time": "2022-06-08T09:06:08.635645",
     "status": "completed"
    },
    "tags": []
   },
   "outputs": [],
   "source": [
    "# # load model\n",
    "# enc_model = load_model('./../input/chatbot-data/enc_model.h5')\n",
    "# dec_model = load_model('../input/chatbot-data/dec_model.h5')"
   ]
  },
  {
   "cell_type": "code",
   "execution_count": 20,
   "id": "30912cdb",
   "metadata": {
    "execution": {
     "iopub.execute_input": "2022-06-08T09:06:10.541778Z",
     "iopub.status.busy": "2022-06-08T09:06:10.541280Z",
     "iopub.status.idle": "2022-06-08T09:06:10.548719Z",
     "shell.execute_reply": "2022-06-08T09:06:10.548021Z"
    },
    "id": "iZJwkGzpvj75",
    "papermill": {
     "duration": 0.625991,
     "end_time": "2022-06-08T09:06:10.550807",
     "exception": false,
     "start_time": "2022-06-08T09:06:09.924816",
     "status": "completed"
    },
    "tags": []
   },
   "outputs": [],
   "source": [
    "def format_question(sent:str):\n",
    "    sent = normalize([sent])[0]\n",
    "    words = sent.split()\n",
    "    token_list = []\n",
    "    for word in words:\n",
    "        try:\n",
    "            index = tokenizer.word_index[word]\n",
    "        except KeyError:\n",
    "            index = tokenizer.word_index['<unk>']\n",
    "        token_list.append(index)\n",
    "    return pad_sequences([token_list], maxlen=MAXLEN_QUESTION, padding='post', truncating='post')"
   ]
  },
  {
   "cell_type": "code",
   "execution_count": 21,
   "id": "3a087fd1",
   "metadata": {
    "execution": {
     "iopub.execute_input": "2022-06-08T09:06:11.879709Z",
     "iopub.status.busy": "2022-06-08T09:06:11.879343Z",
     "iopub.status.idle": "2022-06-08T09:06:11.888838Z",
     "shell.execute_reply": "2022-06-08T09:06:11.888039Z"
    },
    "id": "v_4uY17Uvj77",
    "papermill": {
     "duration": 0.645983,
     "end_time": "2022-06-08T09:06:11.890705",
     "exception": false,
     "start_time": "2022-06-08T09:06:11.244722",
     "status": "completed"
    },
    "tags": []
   },
   "outputs": [],
   "source": [
    "def ask(question, display=True):\n",
    "    if display == True: print('Q:', question)\n",
    "    question = format_question(question)\n",
    "    states_values = enc_model.predict(question)\n",
    "    target_seq = np.zeros((1, 1))\n",
    "    target_seq[0, 0] = tokenizer.word_index['<start>']\n",
    "    \n",
    "    stop_condition = False\n",
    "    decoded_seq = ''\n",
    "    while not stop_condition:\n",
    "        # dec_outputs return a one hot vector with the dimension number of vocab size\n",
    "        dec_outputs, h, c = dec_model.predict([target_seq] + states_values)\n",
    "        gen_word_index = np.argmax(dec_outputs[0, -1])\n",
    "        try:\n",
    "            gen_word = tokenizer.index_word[gen_word_index]\n",
    "        except KeyError:\n",
    "            gen_word = '<end>'\n",
    "        if gen_word == '<end>' or len(decoded_seq.split()) > MAXLEN_ANSWER:\n",
    "            stop_condition = True\n",
    "        else:\n",
    "            decoded_seq += gen_word + ' '\n",
    "            \n",
    "        target_seq = np.zeros((1, 1))  \n",
    "        target_seq[0, 0] = gen_word_index\n",
    "        states_values = [h, c]\n",
    "    if display == True:\n",
    "        if len(decoded_seq) > 1: # empty or <2 character answer\n",
    "            answer = decoded_seq[0].upper() + decoded_seq[1:].replace('_', ' ')\n",
    "        else:\n",
    "            answer = decoded_seq\n",
    "        print('A:', answer.strip(), '\\n')\n",
    "    else:\n",
    "        answer = decoded_seq.strip()\n",
    "    return answer"
   ]
  },
  {
   "cell_type": "code",
   "execution_count": 22,
   "id": "3f986a98",
   "metadata": {
    "execution": {
     "iopub.execute_input": "2022-06-08T09:06:13.177244Z",
     "iopub.status.busy": "2022-06-08T09:06:13.176892Z",
     "iopub.status.idle": "2022-06-08T09:06:17.202425Z",
     "shell.execute_reply": "2022-06-08T09:06:17.201596Z"
    },
    "papermill": {
     "duration": 4.645735,
     "end_time": "2022-06-08T09:06:17.204588",
     "exception": false,
     "start_time": "2022-06-08T09:06:12.558853",
     "status": "completed"
    },
    "tags": []
   },
   "outputs": [
    {
     "name": "stdout",
     "output_type": "stream",
     "text": [
      "Q: Bạn sinh năm bao nhiêu?\n",
      "A: Mình sinh năm 2001 \n",
      "\n",
      "Q: Có người yêu chưa?\n",
      "A: Rồi \n",
      "\n",
      "Q: Shop tư vấn cho mình một số mẫu giày thích hợp để đi chơi được không?\n",
      "A: Bạn có thể tham khảo vài đôi giày của adidas hoặc nike \n",
      "\n",
      "Q: Quê bạn ở đâu?\n",
      "A: Quê mình ở tiền giang \n",
      "\n",
      "Q: Bạn thường làm gì trong thời gian rảnh?\n",
      "A: Ngủ \n",
      "\n",
      "Q: Bạn có muốn đi xem phim vào cuối tuần này hay không?\n",
      "A: Được chứ tớ đi du lịch ở nhà mà \n",
      "\n",
      "Q: Bạn thích môn thể thao gì?\n",
      "A: Mình thích đá bóng \n",
      "\n",
      "\n"
     ]
    }
   ],
   "source": [
    "ask('Bạn sinh năm bao nhiêu?')\n",
    "ask('Có người yêu chưa?')\n",
    "ask('Shop tư vấn cho mình một số mẫu giày thích hợp để đi chơi được không?')\n",
    "ask('Quê bạn ở đâu?')\n",
    "ask('Bạn thường làm gì trong thời gian rảnh?')\n",
    "ask('Bạn có muốn đi xem phim vào cuối tuần này hay không?')\n",
    "ask('Bạn thích môn thể thao gì?')\n",
    "print()"
   ]
  },
  {
   "cell_type": "code",
   "execution_count": 23,
   "id": "a88eab09",
   "metadata": {
    "execution": {
     "iopub.execute_input": "2022-06-08T09:06:18.491238Z",
     "iopub.status.busy": "2022-06-08T09:06:18.490888Z",
     "iopub.status.idle": "2022-06-08T09:06:18.708428Z",
     "shell.execute_reply": "2022-06-08T09:06:18.707686Z"
    },
    "papermill": {
     "duration": 0.838224,
     "end_time": "2022-06-08T09:06:18.710263",
     "exception": false,
     "start_time": "2022-06-08T09:06:17.872039",
     "status": "completed"
    },
    "tags": []
   },
   "outputs": [
    {
     "data": {
      "image/png": "[encoded data removed]",
      "text/plain": [
       "<Figure size 432x288 with 1 Axes>"
      ]
     },
     "metadata": {
      "needs_background": "light"
     },
     "output_type": "display_data"
    }
   ],
   "source": [
    "plt.plot(history.history['loss'])\n",
    "plt.plot(history.history['val_loss'])\n",
    "plt.title('Model loss')\n",
    "plt.ylabel('loss')\n",
    "plt.xlabel('epoch')\n",
    "plt.legend(['train', 'val'], loc='best')\n",
    "plt.show()"
   ]
  },
  {
   "cell_type": "code",
   "execution_count": 24,
   "id": "b681c2ec",
   "metadata": {
    "execution": {
     "iopub.execute_input": "2022-06-08T09:06:19.994311Z",
     "iopub.status.busy": "2022-06-08T09:06:19.993769Z",
     "iopub.status.idle": "2022-06-08T09:06:20.187003Z",
     "shell.execute_reply": "2022-06-08T09:06:20.186262Z"
    },
    "papermill": {
     "duration": 0.860947,
     "end_time": "2022-06-08T09:06:20.188779",
     "exception": false,
     "start_time": "2022-06-08T09:06:19.327832",
     "status": "completed"
    },
    "tags": []
   },
   "outputs": [
    {
     "data": {
      "image/png": "[encoded data removed]",
      "text/plain": [
       "<Figure size 432x288 with 1 Axes>"
      ]
     },
     "metadata": {
      "needs_background": "light"
     },
     "output_type": "display_data"
    }
   ],
   "source": [
    "plt.plot(history.history['accuracy'])\n",
    "plt.plot(history.history['val_accuracy'])\n",
    "plt.title('Model accuracy')\n",
    "plt.ylabel('accuracy')\n",
    "plt.xlabel('epoch')\n",
    "plt.legend(['train', 'val'], loc='best')\n",
    "plt.show()"
   ]
  },
  {
   "cell_type": "code",
   "execution_count": 25,
   "id": "8c9b3073",
   "metadata": {
    "execution": {
     "iopub.execute_input": "2022-06-08T09:06:21.475263Z",
     "iopub.status.busy": "2022-06-08T09:06:21.474919Z",
     "iopub.status.idle": "2022-06-08T09:06:22.647134Z",
     "shell.execute_reply": "2022-06-08T09:06:22.646363Z"
    },
    "papermill": {
     "duration": 1.845153,
     "end_time": "2022-06-08T09:06:22.649297",
     "exception": false,
     "start_time": "2022-06-08T09:06:20.804144",
     "status": "completed"
    },
    "tags": []
   },
   "outputs": [],
   "source": [
    "modelw2v = Word2Vec(sentences=[x.split() for x in answers + questions + ['<unk>']], vector_size=100, min_count=1, sg=1)\n",
    "\n",
    "#Tính trung bình cộng các vector của từng từ trong câu\n",
    "def avg_sentence_vector(sent):\n",
    "    feature_vec = np.zeros((100,))\n",
    "    nwords = 0\n",
    "    for word in sent.split():\n",
    "        if word in modelw2v.wv.index_to_key:\n",
    "            try:\n",
    "                word_vec = modelw2v.wv[word]\n",
    "                nwords += 1\n",
    "            except KeyError:\n",
    "                word_vec = modelw2v.wv['<unk>']\n",
    "            feature_vec = np.add(feature_vec, word_vec)\n",
    "    if nwords > 0:\n",
    "        feature_vec = np.divide(feature_vec, nwords)\n",
    "    return feature_vec"
   ]
  },
  {
   "cell_type": "code",
   "execution_count": 26,
   "id": "42d8bbab",
   "metadata": {
    "execution": {
     "iopub.execute_input": "2022-06-08T09:06:23.950110Z",
     "iopub.status.busy": "2022-06-08T09:06:23.949756Z",
     "iopub.status.idle": "2022-06-08T09:06:23.956139Z",
     "shell.execute_reply": "2022-06-08T09:06:23.955328Z"
    },
    "papermill": {
     "duration": 0.691559,
     "end_time": "2022-06-08T09:06:23.957902",
     "exception": false,
     "start_time": "2022-06-08T09:06:23.266343",
     "status": "completed"
    },
    "tags": []
   },
   "outputs": [],
   "source": [
    "def evaluate(preds, actuals):\n",
    "    similarities = []\n",
    "    for i in range(len(preds)):\n",
    "        pred = avg_sentence_vector(preds[i])\n",
    "        actual = avg_sentence_vector(actuals[i])\n",
    "        sim = np.dot(pred, actual) / (np.linalg.norm(pred) * np.linalg.norm(actual)) # cosine similarity\n",
    "        if not np.isnan(sim):\n",
    "            similarities.append(sim)\n",
    "    return np.sum(similarities)/len(preds)"
   ]
  },
  {
   "cell_type": "code",
   "execution_count": 27,
   "id": "7f3cabb8",
   "metadata": {
    "execution": {
     "iopub.execute_input": "2022-06-08T09:06:25.198252Z",
     "iopub.status.busy": "2022-06-08T09:06:25.197896Z",
     "iopub.status.idle": "2022-06-08T09:10:17.039418Z",
     "shell.execute_reply": "2022-06-08T09:10:17.038633Z"
    },
    "papermill": {
     "duration": 233.145169,
     "end_time": "2022-06-08T09:10:17.721313",
     "exception": false,
     "start_time": "2022-06-08T09:06:24.576144",
     "status": "completed"
    },
    "tags": []
   },
   "outputs": [
    {
     "name": "stdout",
     "output_type": "stream",
     "text": [
      "Score based on semantic similarity:  0.9222940880422499\n"
     ]
    },
    {
     "name": "stderr",
     "output_type": "stream",
     "text": [
      "/opt/conda/lib/python3.7/site-packages/ipykernel_launcher.py:6: RuntimeWarning: invalid value encountered in double_scalars\n",
      "  \n"
     ]
    }
   ],
   "source": [
    "preds = [ask(x, display=False) for x in X_test]\n",
    "print('Score based on semantic similarity: ', evaluate(preds, y_test))"
   ]
  },
  {
   "cell_type": "code",
   "execution_count": 28,
   "id": "06a64642",
   "metadata": {
    "execution": {
     "iopub.execute_input": "2022-06-08T09:10:19.257459Z",
     "iopub.status.busy": "2022-06-08T09:10:19.256878Z",
     "iopub.status.idle": "2022-06-08T09:10:24.056041Z",
     "shell.execute_reply": "2022-06-08T09:10:24.055145Z"
    },
    "papermill": {
     "duration": 5.538726,
     "end_time": "2022-06-08T09:10:24.057862",
     "exception": false,
     "start_time": "2022-06-08T09:10:18.519136",
     "status": "completed"
    },
    "tags": []
   },
   "outputs": [
    {
     "name": "stdout",
     "output_type": "stream",
     "text": [
      "Question: em có thể ở ktx được không ạ\n",
      "Model Answer: em tính mặc đồ miễn phí rồi còn lại bị tốt hay nhất không đi được\n",
      "Correct Answer: em đăng ký theo form để xét ở ktx nhé \n",
      "\n",
      "Question: nơi bạn ở trọ có gần trạm xe buýt không\n",
      "Model Answer: ở nơi mình không có đồ ăn với 1 người là mình có\n",
      "Correct Answer: gần lắm bạn chỉ cần 5 phút đi bộ là tới à \n",
      "\n",
      "Question: bên mình có bán váy dài đi biển không ạ\n",
      "Model Answer: bên em thì quan tâm cho mình phải rõ quá đẹp rồi đó nhưng mình cũng không có đồ ăn\n",
      "Correct Answer: có nha bên em có rất nhiều mẫu váy thích hợp để đi biển \n",
      "\n",
      "Question: tôi có thể đến đâu để được tư vấn\n",
      "Model Answer: áo đâu bạn cho mình đi\n",
      "Correct Answer: cậu có thể đến phòng e001 để được tư vấn \n",
      "\n",
      "Question: tên của bạn là gì\n",
      "Model Answer: mình tên là hưng\n",
      "Correct Answer: mình tên quang \n",
      "\n",
      "Question: mày đang làm ở đâu\n",
      "Model Answer: tao làm ở học viện công nghệ teky\n",
      "Correct Answer: tui đang làm ở công ty tui hihi \n",
      "\n",
      "Question: trường mình có tổng cộng bao nhiêu ngành đào tạo vậy ạ\n",
      "Model Answer: trường có 3 tòa nhà của căn tin dãy f căn tin tại khu ký túc xá mở phục vụ các bạn có thể ăn uống tại đây\n",
      "Correct Answer: trường mình có 39 ngành đào tạo nha \n",
      "\n",
      "Question: bạn cho mình hỏi skype của bạn với\n",
      "Model Answer: ok bạn đó\n",
      "Correct Answer: skype của mình la danchoi \n",
      "\n",
      "Question: sao cậu lại nhát vậy\n",
      "Model Answer: tớ tên phạm thị lan anh\n",
      "Correct Answer: mình cũng không biết nữa chắc do tính cách mình như vậy \n",
      "\n",
      "Question: bạn có thích đội bóng đá nào không\n",
      "Model Answer: có\n",
      "Correct Answer: tớ thích manchester united \n",
      "\n"
     ]
    }
   ],
   "source": [
    "for i in range(10):\n",
    "    print('Question:', X_test[i].replace('_', ' '))\n",
    "    print('Model Answer:', ask(X_test[i], display=False).replace('_', ' '))\n",
    "    print('Correct Answer:', y_test[i].replace('_', ' '), '\\n') "
   ]
  }
 ],
 "metadata": {
  "kernelspec": {
   "display_name": "Python 3",
   "language": "python",
   "name": "python3"
  },
  "language_info": {
   "codemirror_mode": {
    "name": "ipython",
    "version": 3
   },
   "file_extension": ".py",
   "mimetype": "text/x-python",
   "name": "python",
   "nbconvert_exporter": "python",
   "pygments_lexer": "ipython3",
   "version": "3.7.12"
  },
  "papermill": {
   "default_parameters": {},
   "duration": 1230.474668,
   "end_time": "2022-06-08T09:10:27.964761",
   "environment_variables": {},
   "exception": null,
   "input_path": "__notebook__.ipynb",
   "output_path": "__notebook__.ipynb",
   "parameters": {},
   "start_time": "2022-06-08T08:49:57.490093",
   "version": "2.3.4"
  }
 },
 "nbformat": 4,
 "nbformat_minor": 5
}
