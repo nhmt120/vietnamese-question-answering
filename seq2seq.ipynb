{
 "cells": [
  {
   "cell_type": "code",
   "execution_count": 1,
   "id": "fe4358de",
   "metadata": {
    "execution": {
     "iopub.execute_input": "2022-06-02T09:27:23.522823Z",
     "iopub.status.busy": "2022-06-02T09:27:23.522408Z",
     "iopub.status.idle": "2022-06-02T09:27:39.334171Z",
     "shell.execute_reply": "2022-06-02T09:27:39.333001Z"
    },
    "id": "3XCqd9nmmini",
    "papermill": {
     "duration": 15.8249,
     "end_time": "2022-06-02T09:27:39.336724",
     "exception": false,
     "start_time": "2022-06-02T09:27:23.511824",
     "status": "completed"
    },
    "tags": []
   },
   "outputs": [
    {
     "name": "stdout",
     "output_type": "stream",
     "text": [
      "Collecting pyvi\r\n",
      "  Downloading pyvi-0.1.1-py2.py3-none-any.whl (8.5 MB)\r\n",
      "\u001b[2K     \u001b[90m━━━━━━━━━━━━━━━━━━━━━━━━━━━━━━━━━━━━━━━━\u001b[0m \u001b[32m8.5/8.5 MB\u001b[0m \u001b[31m5.7 MB/s\u001b[0m eta \u001b[36m0:00:00\u001b[0m\r\n",
      "\u001b[?25hRequirement already satisfied: scikit-learn in /opt/conda/lib/python3.7/site-packages (from pyvi) (1.0.2)\r\n",
      "Collecting sklearn-crfsuite\r\n",
      "  Downloading sklearn_crfsuite-0.3.6-py2.py3-none-any.whl (12 kB)\r\n",
      "Requirement already satisfied: numpy>=1.14.6 in /opt/conda/lib/python3.7/site-packages (from scikit-learn->pyvi) (1.21.6)\r\n",
      "Requirement already satisfied: scipy>=1.1.0 in /opt/conda/lib/python3.7/site-packages (from scikit-learn->pyvi) (1.7.3)\r\n",
      "Requirement already satisfied: threadpoolctl>=2.0.0 in /opt/conda/lib/python3.7/site-packages (from scikit-learn->pyvi) (3.1.0)\r\n",
      "Requirement already satisfied: joblib>=0.11 in /opt/conda/lib/python3.7/site-packages (from scikit-learn->pyvi) (1.1.0)\r\n",
      "Requirement already satisfied: tabulate in /opt/conda/lib/python3.7/site-packages (from sklearn-crfsuite->pyvi) (0.8.9)\r\n",
      "Collecting python-crfsuite>=0.8.3\r\n",
      "  Downloading python_crfsuite-0.9.8-cp37-cp37m-manylinux_2_17_x86_64.manylinux2014_x86_64.whl (965 kB)\r\n",
      "\u001b[2K     \u001b[90m━━━━━━━━━━━━━━━━━━━━━━━━━━━━━━━━━━━━━━\u001b[0m \u001b[32m965.4/965.4 kB\u001b[0m \u001b[31m40.8 MB/s\u001b[0m eta \u001b[36m0:00:00\u001b[0m\r\n",
      "\u001b[?25hRequirement already satisfied: six in /opt/conda/lib/python3.7/site-packages (from sklearn-crfsuite->pyvi) (1.16.0)\r\n",
      "Requirement already satisfied: tqdm>=2.0 in /opt/conda/lib/python3.7/site-packages (from sklearn-crfsuite->pyvi) (4.64.0)\r\n",
      "Installing collected packages: python-crfsuite, sklearn-crfsuite, pyvi\r\n",
      "Successfully installed python-crfsuite-0.9.8 pyvi-0.1.1 sklearn-crfsuite-0.3.6\r\n",
      "\u001b[33mWARNING: Running pip as the 'root' user can result in broken permissions and conflicting behaviour with the system package manager. It is recommended to use a virtual environment instead: https://pip.pypa.io/warnings/venv\u001b[0m\u001b[33m\r\n",
      "\u001b[0m"
     ]
    }
   ],
   "source": [
    "!pip install pyvi"
   ]
  },
  {
   "cell_type": "code",
   "execution_count": 2,
   "id": "48da1548",
   "metadata": {
    "execution": {
     "iopub.execute_input": "2022-06-02T09:27:39.359210Z",
     "iopub.status.busy": "2022-06-02T09:27:39.358536Z",
     "iopub.status.idle": "2022-06-02T09:27:46.272731Z",
     "shell.execute_reply": "2022-06-02T09:27:46.271826Z"
    },
    "id": "OK0jFWTIvj7f",
    "papermill": {
     "duration": 6.928689,
     "end_time": "2022-06-02T09:27:46.275400",
     "exception": false,
     "start_time": "2022-06-02T09:27:39.346711",
     "status": "completed"
    },
    "tags": []
   },
   "outputs": [],
   "source": [
    "import numpy as np\n",
    "import pandas as pd\n",
    "from pyvi import ViTokenizer\n",
    "\n",
    "import string\n",
    "import nltk\n",
    "import re\n",
    "\n",
    "from tensorflow.keras.models import Model, load_model\n",
    "\n",
    "from tensorflow.keras.layers import Dense, Embedding, LSTM, Input\n",
    "\n",
    "from tensorflow.keras.preprocessing.sequence import pad_sequences\n",
    "from keras.utils.vis_utils import plot_model\n",
    "\n",
    "import re\n",
    "from tensorflow.keras.utils import to_categorical\n",
    "from keras.preprocessing.text import Tokenizer"
   ]
  },
  {
   "cell_type": "code",
   "execution_count": 3,
   "id": "dca3b70b",
   "metadata": {
    "execution": {
     "iopub.execute_input": "2022-06-02T09:27:46.296482Z",
     "iopub.status.busy": "2022-06-02T09:27:46.295877Z",
     "iopub.status.idle": "2022-06-02T09:27:46.309924Z",
     "shell.execute_reply": "2022-06-02T09:27:46.309005Z"
    },
    "id": "nsRvjEMqvj7p",
    "outputId": "43faead3-fdbd-4bc9-a889-a62062dfdc8d",
    "papermill": {
     "duration": 0.027057,
     "end_time": "2022-06-02T09:27:46.312445",
     "exception": false,
     "start_time": "2022-06-02T09:27:46.285388",
     "status": "completed"
    },
    "tags": []
   },
   "outputs": [
    {
     "name": "stdout",
     "output_type": "stream",
     "text": [
      "['shoping.txt', 'a ch.txt', 'tn gu.txt', 'bn b.txt', 'tdtu.txt', 's thch.txt', 'thng tin c nhn.txt', 'hc tp.txt', 'ngh nghip.txt', 'ngi yu.txt', 'gii tr.txt', 'tr chuyn v i n.txt', 'gia nh.txt', 'cc cu hi phc tp.txt', 'du lch.txt', 't nc.txt', 'robot.txt', 'ngh l.txt']\n"
     ]
    }
   ],
   "source": [
    "import os\n",
    "# dir = '/content/drive/MyDrive/NLP/dữ liệu chatbot - dự án cuối kì'\n",
    "dir = '../input/chatbot-data/chatbot'\n",
    "\n",
    "filenames = os.listdir(dir)\n",
    "print(filenames)"
   ]
  },
  {
   "cell_type": "code",
   "execution_count": 4,
   "id": "da569408",
   "metadata": {
    "execution": {
     "iopub.execute_input": "2022-06-02T09:27:46.332520Z",
     "iopub.status.busy": "2022-06-02T09:27:46.331726Z",
     "iopub.status.idle": "2022-06-02T09:27:46.453592Z",
     "shell.execute_reply": "2022-06-02T09:27:46.452666Z"
    },
    "id": "l9JSiGuhvj7r",
    "outputId": "01601e03-a710-471c-e77d-d479401fe0bb",
    "papermill": {
     "duration": 0.133894,
     "end_time": "2022-06-02T09:27:46.456154",
     "exception": false,
     "start_time": "2022-06-02T09:27:46.322260",
     "status": "completed"
    },
    "tags": []
   },
   "outputs": [
    {
     "name": "stdout",
     "output_type": "stream",
     "text": [
      "Number of QA pairs: 5855 \n",
      "\n",
      "Q: có loại nào đặc biệt không bạn ?\n",
      "A: có 2 loại đặc biệt nha bạn \n",
      "\n",
      "Q: Ê mày tao định mua son nè mày thấy chỗ nào bán được không?\n",
      "A: à mày qua moon shop quận 7 thử \n",
      "\n",
      "Q: cho tôi hỏi nhà này có bao nhiêu phòng?\n",
      "A: ngồi nhà này có đến 5 phòng nha bạn \n",
      "\n",
      "Q: Đặc sản của quê bạn là gì?\n",
      "A: Về trái cây thì có thanh long, Về thức ăn thì có bánh căn 1 loại bánh như bánh xèo nhưng nhỏ hơn. \n",
      "\n",
      "Q: vậy còn số điện thoại của cậu là bao nhiêu?\n",
      "A: số điện thoại của tớ là 0234567891 \n",
      "\n"
     ]
    }
   ],
   "source": [
    "Q = []\n",
    "A = []\n",
    "for i in filenames:\n",
    "    with open(dir+'/'+i, encoding=\"utf8\") as f:\n",
    "        for line in f:\n",
    "            a =  line.split('__eou__')\n",
    "            Q.append(a[0].strip())\n",
    "            A.append(a[1].strip())\n",
    "print('Number of QA pairs:', len(Q), '\\n')\n",
    "\n",
    "# shuffle to mix the data topic\n",
    "QA = pd.DataFrame(zip(Q, A))\n",
    "QA = QA.sample(frac=1, random_state=61)\n",
    "\n",
    "Q = QA.iloc[:, 0].values\n",
    "A = QA.iloc[:, 1].values\n",
    "\n",
    "for i in range(5):\n",
    "    print('Q:', Q[i])\n",
    "    print('A:', A[i], '\\n')"
   ]
  },
  {
   "cell_type": "code",
   "execution_count": 5,
   "id": "256c2ad8",
   "metadata": {
    "execution": {
     "iopub.execute_input": "2022-06-02T09:27:46.476245Z",
     "iopub.status.busy": "2022-06-02T09:27:46.475875Z",
     "iopub.status.idle": "2022-06-02T09:27:46.481782Z",
     "shell.execute_reply": "2022-06-02T09:27:46.480717Z"
    },
    "papermill": {
     "duration": 0.018159,
     "end_time": "2022-06-02T09:27:46.483916",
     "exception": false,
     "start_time": "2022-06-02T09:27:46.465757",
     "status": "completed"
    },
    "tags": []
   },
   "outputs": [],
   "source": [
    "# stop_words = np.loadtxt('../input/chatbot-data/vietnamese-stopwords-dash.txt', dtype=str, encoding='utf8')\n",
    "# def remove_stop_word(sent):\n",
    "#     clean_sent = ''\n",
    "#     for w in sent.split():\n",
    "#         if w not in stop_words:\n",
    "#             clean_sent += w + ' '\n",
    "#     return clean_sent.strip()\n",
    "\n",
    "def normalize(data):\n",
    "    cleaned_data = []\n",
    "    regex = re.compile('[%s]' % re.escape(string.punctuation))\n",
    "    for sent in data:\n",
    "        sent = regex.sub('', sent)\n",
    "        sent = ViTokenizer.tokenize(sent)\n",
    "        cleaned_data.append(sent.lower())\n",
    "    return cleaned_data"
   ]
  },
  {
   "cell_type": "code",
   "execution_count": 6,
   "id": "a257a561",
   "metadata": {
    "execution": {
     "iopub.execute_input": "2022-06-02T09:27:46.502645Z",
     "iopub.status.busy": "2022-06-02T09:27:46.502351Z",
     "iopub.status.idle": "2022-06-02T09:27:48.444401Z",
     "shell.execute_reply": "2022-06-02T09:27:48.443546Z"
    },
    "papermill": {
     "duration": 1.954803,
     "end_time": "2022-06-02T09:27:48.447559",
     "exception": false,
     "start_time": "2022-06-02T09:27:46.492756",
     "status": "completed"
    },
    "tags": []
   },
   "outputs": [
    {
     "name": "stdout",
     "output_type": "stream",
     "text": [
      "Q: có loại nào đặc_biệt không bạn\n",
      "A: có 2 loại đặc_biệt nha bạn \n",
      "\n",
      "Q: ê mày tao định mua son nè mày thấy chỗ nào bán được không\n",
      "A: à mày qua moon shop quận 7 thử \n",
      "\n",
      "Q: cho tôi hỏi nhà này có bao_nhiêu phòng\n",
      "A: ngồi nhà này có đến 5 phòng nha bạn \n",
      "\n",
      "Q: đặc_sản của quê bạn là gì\n",
      "A: về trái_cây thì có thanh_long về thức_ăn thì có bánh căn 1 loại bánh như bánh_xèo nhưng nhỏ hơn \n",
      "\n",
      "Q: vậy còn số điện_thoại của cậu là bao_nhiêu\n",
      "A: số điện_thoại của tớ là 0234567891 \n",
      "\n"
     ]
    }
   ],
   "source": [
    "questions = normalize(Q)\n",
    "answers = normalize(A)\n",
    "\n",
    "for i in range(5):\n",
    "    print('Q:', questions[i])\n",
    "    print('A:', answers[i], '\\n')"
   ]
  },
  {
   "cell_type": "code",
   "execution_count": 7,
   "id": "35b8757a",
   "metadata": {
    "execution": {
     "iopub.execute_input": "2022-06-02T09:27:48.470031Z",
     "iopub.status.busy": "2022-06-02T09:27:48.469339Z",
     "iopub.status.idle": "2022-06-02T09:27:48.478014Z",
     "shell.execute_reply": "2022-06-02T09:27:48.477156Z"
    },
    "id": "x7zf0U6Nvj7u",
    "papermill": {
     "duration": 0.02185,
     "end_time": "2022-06-02T09:27:48.480066",
     "exception": false,
     "start_time": "2022-06-02T09:27:48.458216",
     "status": "completed"
    },
    "tags": []
   },
   "outputs": [],
   "source": [
    "# start and end of string token to each answer\n",
    "for i in range(len(answers)):\n",
    "    answers[i] = '<start> ' + answers[i] + ' <end>'"
   ]
  },
  {
   "cell_type": "code",
   "execution_count": 8,
   "id": "e2a5e924",
   "metadata": {
    "execution": {
     "iopub.execute_input": "2022-06-02T09:27:48.500348Z",
     "iopub.status.busy": "2022-06-02T09:27:48.499591Z",
     "iopub.status.idle": "2022-06-02T09:27:48.668096Z",
     "shell.execute_reply": "2022-06-02T09:27:48.667118Z"
    },
    "id": "L90MakM0vj7y",
    "outputId": "08a6011f-e8c7-4bc2-988c-c31bc84497c8",
    "papermill": {
     "duration": 0.181239,
     "end_time": "2022-06-02T09:27:48.670556",
     "exception": false,
     "start_time": "2022-06-02T09:27:48.489317",
     "status": "completed"
    },
    "tags": []
   },
   "outputs": [
    {
     "name": "stdout",
     "output_type": "stream",
     "text": [
      "VOCAB SIZE: 5154\n"
     ]
    }
   ],
   "source": [
    "# count each token appearing time \n",
    "tokenizer = Tokenizer(filters='')\n",
    "tokenizer.fit_on_texts(questions + answers + ['<unk>'])\n",
    "VOCAB_SIZE = len(tokenizer.word_index) + 1 # padding token for embedding layer later\n",
    "print('VOCAB SIZE: {}'.format(VOCAB_SIZE))\n",
    "vocab = list(tokenizer.word_index.keys()) # list of tokens"
   ]
  },
  {
   "cell_type": "code",
   "execution_count": 9,
   "id": "19617a59",
   "metadata": {
    "execution": {
     "iopub.execute_input": "2022-06-02T09:27:48.691903Z",
     "iopub.status.busy": "2022-06-02T09:27:48.691540Z",
     "iopub.status.idle": "2022-06-02T09:27:48.820370Z",
     "shell.execute_reply": "2022-06-02T09:27:48.819448Z"
    },
    "id": "WAl_Wm8gwJnG",
    "outputId": "6ebb3cec-23ee-4405-b204-5eda960340ae",
    "papermill": {
     "duration": 0.14195,
     "end_time": "2022-06-02T09:27:48.822617",
     "exception": false,
     "start_time": "2022-06-02T09:27:48.680667",
     "status": "completed"
    },
    "tags": []
   },
   "outputs": [],
   "source": [
    "tokenized_questions = tokenizer.texts_to_sequences(questions)\n",
    "tokenized_answers = tokenizer.texts_to_sequences(answers)"
   ]
  },
  {
   "cell_type": "code",
   "execution_count": 10,
   "id": "e5cd20a5",
   "metadata": {
    "execution": {
     "iopub.execute_input": "2022-06-02T09:27:48.843889Z",
     "iopub.status.busy": "2022-06-02T09:27:48.843536Z",
     "iopub.status.idle": "2022-06-02T09:27:48.883473Z",
     "shell.execute_reply": "2022-06-02T09:27:48.881384Z"
    },
    "id": "d1UdhpNUvj70",
    "outputId": "1fc607f3-dc03-45d4-ce4a-48259e7151a9",
    "papermill": {
     "duration": 0.053141,
     "end_time": "2022-06-02T09:27:48.885716",
     "exception": false,
     "start_time": "2022-06-02T09:27:48.832575",
     "status": "completed"
    },
    "tags": []
   },
   "outputs": [
    {
     "name": "stdout",
     "output_type": "stream",
     "text": [
      "Encoder input data shape: (5855, 75)\n",
      "Max length of encoder input data: 75\n"
     ]
    }
   ],
   "source": [
    "MAXLEN_QUESTION = max([len(x) for x in tokenized_questions])\n",
    "padded_questions = pad_sequences(tokenized_questions, maxlen=MAXLEN_QUESTION, padding='post')\n",
    "encoder_input_data = np.array(padded_questions)\n",
    "print('Encoder input data shape:', encoder_input_data.shape)\n",
    "print('Max length of encoder input data:', MAXLEN_QUESTION)"
   ]
  },
  {
   "cell_type": "code",
   "execution_count": 11,
   "id": "943b4810",
   "metadata": {
    "execution": {
     "iopub.execute_input": "2022-06-02T09:27:48.906286Z",
     "iopub.status.busy": "2022-06-02T09:27:48.905928Z",
     "iopub.status.idle": "2022-06-02T09:27:48.940002Z",
     "shell.execute_reply": "2022-06-02T09:27:48.938706Z"
    },
    "id": "Y-g2Z_ibvj71",
    "outputId": "e6569561-a5ba-4490-beab-6b165bec28e0",
    "papermill": {
     "duration": 0.047424,
     "end_time": "2022-06-02T09:27:48.943151",
     "exception": false,
     "start_time": "2022-06-02T09:27:48.895727",
     "status": "completed"
    },
    "tags": []
   },
   "outputs": [
    {
     "name": "stdout",
     "output_type": "stream",
     "text": [
      "Decoder input data shape: (5855, 113)\n",
      "Max length of decoder input data: 113\n"
     ]
    }
   ],
   "source": [
    "MAXLEN_ANSWER = max([len(x) for x in tokenized_answers])\n",
    "padded_answers = pad_sequences(tokenized_answers, maxlen=MAXLEN_ANSWER, padding='post')\n",
    "decoder_input_data = np.array(padded_answers)\n",
    "print('Decoder input data shape:', decoder_input_data.shape)\n",
    "print('Max length of decoder input data:', MAXLEN_ANSWER)"
   ]
  },
  {
   "cell_type": "code",
   "execution_count": 12,
   "id": "4c65beec",
   "metadata": {
    "execution": {
     "iopub.execute_input": "2022-06-02T09:27:48.964214Z",
     "iopub.status.busy": "2022-06-02T09:27:48.963837Z",
     "iopub.status.idle": "2022-06-02T09:27:50.479751Z",
     "shell.execute_reply": "2022-06-02T09:27:50.477912Z"
    },
    "id": "fEpd4v7Mvj73",
    "outputId": "58b454cf-d703-4ea8-cef1-41495f2894ae",
    "papermill": {
     "duration": 1.529558,
     "end_time": "2022-06-02T09:27:50.482653",
     "exception": false,
     "start_time": "2022-06-02T09:27:48.953095",
     "status": "completed"
    },
    "tags": []
   },
   "outputs": [
    {
     "name": "stdout",
     "output_type": "stream",
     "text": [
      "Decoder ouput data shape: (5855, 113, 5154)\n"
     ]
    }
   ],
   "source": [
    "padded_answers_dec_out = pad_sequences(padded_answers[:, 1:], maxlen=MAXLEN_ANSWER, padding='post')\n",
    "decoder_output_data = to_categorical(padded_answers_dec_out, VOCAB_SIZE, dtype='uint8')# remove <start> tag in answers data\n",
    "print('Decoder ouput data shape:', decoder_output_data.shape)"
   ]
  },
  {
   "cell_type": "code",
   "execution_count": 13,
   "id": "b7e0e101",
   "metadata": {
    "execution": {
     "iopub.execute_input": "2022-06-02T09:27:50.517587Z",
     "iopub.status.busy": "2022-06-02T09:27:50.517222Z",
     "iopub.status.idle": "2022-06-02T09:27:54.182375Z",
     "shell.execute_reply": "2022-06-02T09:27:54.181463Z"
    },
    "id": "slipHGSXvj73",
    "papermill": {
     "duration": 3.679485,
     "end_time": "2022-06-02T09:27:54.184588",
     "exception": false,
     "start_time": "2022-06-02T09:27:50.505103",
     "status": "completed"
    },
    "tags": []
   },
   "outputs": [
    {
     "name": "stderr",
     "output_type": "stream",
     "text": [
      "2022-06-02 09:27:50.632492: I tensorflow/stream_executor/cuda/cuda_gpu_executor.cc:937] successful NUMA node read from SysFS had negative value (-1), but there must be at least one NUMA node, so returning NUMA node zero\n",
      "2022-06-02 09:27:50.748995: I tensorflow/stream_executor/cuda/cuda_gpu_executor.cc:937] successful NUMA node read from SysFS had negative value (-1), but there must be at least one NUMA node, so returning NUMA node zero\n",
      "2022-06-02 09:27:50.750311: I tensorflow/stream_executor/cuda/cuda_gpu_executor.cc:937] successful NUMA node read from SysFS had negative value (-1), but there must be at least one NUMA node, so returning NUMA node zero\n",
      "2022-06-02 09:27:50.752581: I tensorflow/core/platform/cpu_feature_guard.cc:142] This TensorFlow binary is optimized with oneAPI Deep Neural Network Library (oneDNN) to use the following CPU instructions in performance-critical operations:  AVX2 AVX512F FMA\n",
      "To enable them in other operations, rebuild TensorFlow with the appropriate compiler flags.\n",
      "2022-06-02 09:27:50.753026: I tensorflow/stream_executor/cuda/cuda_gpu_executor.cc:937] successful NUMA node read from SysFS had negative value (-1), but there must be at least one NUMA node, so returning NUMA node zero\n",
      "2022-06-02 09:27:50.754163: I tensorflow/stream_executor/cuda/cuda_gpu_executor.cc:937] successful NUMA node read from SysFS had negative value (-1), but there must be at least one NUMA node, so returning NUMA node zero\n",
      "2022-06-02 09:27:50.755192: I tensorflow/stream_executor/cuda/cuda_gpu_executor.cc:937] successful NUMA node read from SysFS had negative value (-1), but there must be at least one NUMA node, so returning NUMA node zero\n",
      "2022-06-02 09:27:53.033495: I tensorflow/stream_executor/cuda/cuda_gpu_executor.cc:937] successful NUMA node read from SysFS had negative value (-1), but there must be at least one NUMA node, so returning NUMA node zero\n",
      "2022-06-02 09:27:53.034509: I tensorflow/stream_executor/cuda/cuda_gpu_executor.cc:937] successful NUMA node read from SysFS had negative value (-1), but there must be at least one NUMA node, so returning NUMA node zero\n",
      "2022-06-02 09:27:53.035309: I tensorflow/stream_executor/cuda/cuda_gpu_executor.cc:937] successful NUMA node read from SysFS had negative value (-1), but there must be at least one NUMA node, so returning NUMA node zero\n",
      "2022-06-02 09:27:53.035910: I tensorflow/core/common_runtime/gpu/gpu_device.cc:1510] Created device /job:localhost/replica:0/task:0/device:GPU:0 with 15403 MB memory:  -> device: 0, name: Tesla P100-PCIE-16GB, pci bus id: 0000:00:04.0, compute capability: 6.0\n"
     ]
    }
   ],
   "source": [
    "encoder_inputs = Input(shape=(MAXLEN_QUESTION,))\n",
    "encoder_embedding = Embedding(VOCAB_SIZE, 200, mask_zero=True) (encoder_inputs) # mask zero to acknowledge 0 padding\n",
    "_, state_h, state_c = LSTM(200, return_state=True) (encoder_embedding) # return last hidden and cell state\n",
    "encoder_states = [state_h, state_c]"
   ]
  },
  {
   "cell_type": "code",
   "execution_count": 14,
   "id": "d1412c79",
   "metadata": {
    "execution": {
     "iopub.execute_input": "2022-06-02T09:27:54.204546Z",
     "iopub.status.busy": "2022-06-02T09:27:54.203843Z",
     "iopub.status.idle": "2022-06-02T09:27:54.947467Z",
     "shell.execute_reply": "2022-06-02T09:27:54.946437Z"
    },
    "id": "UYaJaLp7vj74",
    "papermill": {
     "duration": 0.756078,
     "end_time": "2022-06-02T09:27:54.949935",
     "exception": false,
     "start_time": "2022-06-02T09:27:54.193857",
     "status": "completed"
    },
    "scrolled": true,
    "tags": []
   },
   "outputs": [],
   "source": [
    "decoder_inputs = Input(shape=(MAXLEN_ANSWER,))\n",
    "decoder_embedding = Embedding(VOCAB_SIZE, 200, mask_zero=True) (decoder_inputs)\n",
    "decoder_lstm = LSTM(200, return_state=True, return_sequences=True)\n",
    "decoder_outputs, _, _ = decoder_lstm(decoder_embedding, initial_state=encoder_states) # passing hidden states to dense\n",
    "decoder_dense = Dense(VOCAB_SIZE, activation='softmax')\n",
    "output = decoder_dense(decoder_outputs)"
   ]
  },
  {
   "cell_type": "code",
   "execution_count": 15,
   "id": "c48c5f6e",
   "metadata": {
    "execution": {
     "iopub.execute_input": "2022-06-02T09:27:54.970950Z",
     "iopub.status.busy": "2022-06-02T09:27:54.970590Z",
     "iopub.status.idle": "2022-06-02T09:27:56.109947Z",
     "shell.execute_reply": "2022-06-02T09:27:56.108869Z"
    },
    "id": "zpxqS0CQvj74",
    "outputId": "c7c6e53e-f04b-44c4-a738-80897f7e8cb9",
    "papermill": {
     "duration": 1.152007,
     "end_time": "2022-06-02T09:27:56.112059",
     "exception": false,
     "start_time": "2022-06-02T09:27:54.960052",
     "status": "completed"
    },
    "tags": []
   },
   "outputs": [
    {
     "name": "stdout",
     "output_type": "stream",
     "text": [
      "Model: \"model\"\n",
      "____________________________________________________________________________________________________\n",
      "Layer (type)               Output Shape                                  Param #   Connected to     \n",
      "====================================================================================================\n",
      "input_1 (InputLayer)       [(None, 75)]                                  0                          \n",
      "____________________________________________________________________________________________________\n",
      "input_2 (InputLayer)       [(None, 113)]                                 0                          \n",
      "____________________________________________________________________________________________________\n",
      "embedding (Embedding)      (None, 75, 200)                               1030800   input_1[0][0]    \n",
      "____________________________________________________________________________________________________\n",
      "embedding_1 (Embedding)    (None, 113, 200)                              1030800   input_2[0][0]    \n",
      "____________________________________________________________________________________________________\n",
      "lstm (LSTM)                [(None, 200), (None, 200), (None, 200)]       320800    embedding[0][0]  \n",
      "____________________________________________________________________________________________________\n",
      "lstm_1 (LSTM)              [(None, 113, 200), (None, 200), (None, 200)]  320800    embedding_1[0][0]\n",
      "                                                                                   lstm[0][1]       \n",
      "                                                                                   lstm[0][2]       \n",
      "____________________________________________________________________________________________________\n",
      "dense (Dense)              (None, 113, 5154)                             1035954   lstm_1[0][0]     \n",
      "====================================================================================================\n",
      "Total params: 3,739,154\n",
      "Trainable params: 3,739,154\n",
      "Non-trainable params: 0\n",
      "____________________________________________________________________________________________________\n",
      "None\n"
     ]
    },
    {
     "data": {
      "image/png": "[encoded data removed]",
      "text/plain": [
       "<IPython.core.display.Image object>"
      ]
     },
     "execution_count": 15,
     "metadata": {},
     "output_type": "execute_result"
    }
   ],
   "source": [
    "model = Model([encoder_inputs, decoder_inputs], output)\n",
    "model.compile(loss='categorical_crossentropy', optimizer='adam', metrics=['accuracy'])\n",
    "print(model.summary(line_length=100, positions=[.27, .73, .83, 1.]))\n",
    "plot_model(model, rankdir='LR', show_shapes=True)"
   ]
  },
  {
   "cell_type": "code",
   "execution_count": 16,
   "id": "5d3c9215",
   "metadata": {
    "execution": {
     "iopub.execute_input": "2022-06-02T09:27:56.134413Z",
     "iopub.status.busy": "2022-06-02T09:27:56.134061Z",
     "iopub.status.idle": "2022-06-02T09:46:29.738243Z",
     "shell.execute_reply": "2022-06-02T09:46:29.737281Z"
    },
    "id": "Gi27qYt8vj74",
    "outputId": "03dd453c-8dec-4c03-930a-dfeabf65390c",
    "papermill": {
     "duration": 1113.618121,
     "end_time": "2022-06-02T09:46:29.740803",
     "exception": false,
     "start_time": "2022-06-02T09:27:56.122682",
     "status": "completed"
    },
    "scrolled": true,
    "tags": []
   },
   "outputs": [
    {
     "name": "stderr",
     "output_type": "stream",
     "text": [
      "2022-06-02 09:27:56.142791: W tensorflow/core/framework/cpu_allocator_impl.cc:80] Allocation of 3068676138 exceeds 10% of free system memory.\n",
      "2022-06-02 09:27:59.621417: W tensorflow/core/framework/cpu_allocator_impl.cc:80] Allocation of 3068676138 exceeds 10% of free system memory.\n",
      "2022-06-02 09:28:01.926321: I tensorflow/compiler/mlir/mlir_graph_optimization_pass.cc:185] None of the MLIR Optimization Passes are enabled (registered 2)\n"
     ]
    },
    {
     "name": "stdout",
     "output_type": "stream",
     "text": [
      "Epoch 1/100\n"
     ]
    },
    {
     "name": "stderr",
     "output_type": "stream",
     "text": [
      "2022-06-02 09:28:10.491505: I tensorflow/stream_executor/cuda/cuda_dnn.cc:369] Loaded cuDNN version 8005\n"
     ]
    },
    {
     "name": "stdout",
     "output_type": "stream",
     "text": [
      "165/165 [==============================] - 23s 80ms/step - loss: 0.4789 - accuracy: 0.1863 - val_loss: 0.4375 - val_accuracy: 0.2398\n",
      "Epoch 2/100\n",
      "165/165 [==============================] - 10s 64ms/step - loss: 0.4125 - accuracy: 0.2513 - val_loss: 0.4302 - val_accuracy: 0.2420\n",
      "Epoch 3/100\n",
      "165/165 [==============================] - 10s 60ms/step - loss: 0.4002 - accuracy: 0.2578 - val_loss: 0.4248 - val_accuracy: 0.2506\n",
      "Epoch 4/100\n",
      "165/165 [==============================] - 10s 62ms/step - loss: 0.3884 - accuracy: 0.2684 - val_loss: 0.4182 - val_accuracy: 0.2590\n",
      "Epoch 5/100\n",
      "165/165 [==============================] - 11s 66ms/step - loss: 0.3769 - accuracy: 0.2740 - val_loss: 0.4125 - val_accuracy: 0.2619\n",
      "Epoch 6/100\n",
      "165/165 [==============================] - 10s 63ms/step - loss: 0.3661 - accuracy: 0.2777 - val_loss: 0.4088 - val_accuracy: 0.2650\n",
      "Epoch 7/100\n",
      "165/165 [==============================] - 10s 62ms/step - loss: 0.3554 - accuracy: 0.2856 - val_loss: 0.4051 - val_accuracy: 0.2709\n",
      "Epoch 8/100\n",
      "165/165 [==============================] - 11s 64ms/step - loss: 0.3444 - accuracy: 0.2964 - val_loss: 0.4003 - val_accuracy: 0.2789\n",
      "Epoch 9/100\n",
      "165/165 [==============================] - 10s 63ms/step - loss: 0.3331 - accuracy: 0.3086 - val_loss: 0.3979 - val_accuracy: 0.2824\n",
      "Epoch 10/100\n",
      "165/165 [==============================] - 11s 65ms/step - loss: 0.3213 - accuracy: 0.3207 - val_loss: 0.3942 - val_accuracy: 0.2933\n",
      "Epoch 11/100\n",
      "165/165 [==============================] - 11s 68ms/step - loss: 0.3092 - accuracy: 0.3340 - val_loss: 0.3916 - val_accuracy: 0.3008\n",
      "Epoch 12/100\n",
      "165/165 [==============================] - 11s 65ms/step - loss: 0.2977 - accuracy: 0.3440 - val_loss: 0.3900 - val_accuracy: 0.2997\n",
      "Epoch 13/100\n",
      "165/165 [==============================] - 10s 63ms/step - loss: 0.2864 - accuracy: 0.3556 - val_loss: 0.3881 - val_accuracy: 0.3029\n",
      "Epoch 14/100\n",
      "165/165 [==============================] - 11s 65ms/step - loss: 0.2755 - accuracy: 0.3661 - val_loss: 0.3872 - val_accuracy: 0.3088\n",
      "Epoch 15/100\n",
      "165/165 [==============================] - 10s 61ms/step - loss: 0.2647 - accuracy: 0.3773 - val_loss: 0.3872 - val_accuracy: 0.3080\n",
      "Epoch 16/100\n",
      "165/165 [==============================] - 11s 64ms/step - loss: 0.2545 - accuracy: 0.3908 - val_loss: 0.3869 - val_accuracy: 0.3066\n",
      "Epoch 17/100\n",
      "165/165 [==============================] - 11s 65ms/step - loss: 0.2442 - accuracy: 0.4034 - val_loss: 0.3860 - val_accuracy: 0.3152\n",
      "Epoch 18/100\n",
      "165/165 [==============================] - 10s 63ms/step - loss: 0.2343 - accuracy: 0.4190 - val_loss: 0.3876 - val_accuracy: 0.3184\n",
      "Epoch 19/100\n",
      "165/165 [==============================] - 10s 63ms/step - loss: 0.2248 - accuracy: 0.4361 - val_loss: 0.3887 - val_accuracy: 0.3160\n",
      "Epoch 20/100\n",
      "165/165 [==============================] - 10s 63ms/step - loss: 0.2152 - accuracy: 0.4537 - val_loss: 0.3892 - val_accuracy: 0.3173\n",
      "Epoch 21/100\n",
      "165/165 [==============================] - 11s 65ms/step - loss: 0.2059 - accuracy: 0.4718 - val_loss: 0.3896 - val_accuracy: 0.3228\n",
      "Epoch 22/100\n",
      "165/165 [==============================] - 10s 61ms/step - loss: 0.1970 - accuracy: 0.4937 - val_loss: 0.3912 - val_accuracy: 0.3247\n",
      "Epoch 23/100\n",
      "165/165 [==============================] - 10s 63ms/step - loss: 0.1884 - accuracy: 0.5120 - val_loss: 0.3931 - val_accuracy: 0.3267\n",
      "Epoch 24/100\n",
      "165/165 [==============================] - 11s 66ms/step - loss: 0.1800 - accuracy: 0.5314 - val_loss: 0.3956 - val_accuracy: 0.3302\n",
      "Epoch 25/100\n",
      "165/165 [==============================] - 11s 64ms/step - loss: 0.1726 - accuracy: 0.5501 - val_loss: 0.3965 - val_accuracy: 0.3322\n",
      "Epoch 26/100\n",
      "165/165 [==============================] - 10s 63ms/step - loss: 0.1645 - accuracy: 0.5696 - val_loss: 0.3977 - val_accuracy: 0.3304\n",
      "Epoch 27/100\n",
      "165/165 [==============================] - 11s 66ms/step - loss: 0.1573 - accuracy: 0.5869 - val_loss: 0.4009 - val_accuracy: 0.3339\n",
      "Epoch 28/100\n",
      "165/165 [==============================] - 10s 63ms/step - loss: 0.1503 - accuracy: 0.6037 - val_loss: 0.4034 - val_accuracy: 0.3341\n",
      "Epoch 29/100\n",
      "165/165 [==============================] - 10s 62ms/step - loss: 0.1443 - accuracy: 0.6187 - val_loss: 0.4064 - val_accuracy: 0.3326\n",
      "Epoch 30/100\n",
      "165/165 [==============================] - 10s 63ms/step - loss: 0.1378 - accuracy: 0.6357 - val_loss: 0.4089 - val_accuracy: 0.3335\n",
      "Epoch 31/100\n",
      "165/165 [==============================] - 11s 67ms/step - loss: 0.1315 - accuracy: 0.6519 - val_loss: 0.4127 - val_accuracy: 0.3365\n",
      "Epoch 32/100\n",
      "165/165 [==============================] - 10s 62ms/step - loss: 0.1254 - accuracy: 0.6679 - val_loss: 0.4139 - val_accuracy: 0.3350\n",
      "Epoch 33/100\n",
      "165/165 [==============================] - 10s 61ms/step - loss: 0.1199 - accuracy: 0.6830 - val_loss: 0.4179 - val_accuracy: 0.3387\n",
      "Epoch 34/100\n",
      "165/165 [==============================] - 11s 65ms/step - loss: 0.1145 - accuracy: 0.6978 - val_loss: 0.4194 - val_accuracy: 0.3402\n",
      "Epoch 35/100\n",
      "165/165 [==============================] - 10s 62ms/step - loss: 0.1095 - accuracy: 0.7113 - val_loss: 0.4224 - val_accuracy: 0.3415\n",
      "Epoch 36/100\n",
      "165/165 [==============================] - 10s 62ms/step - loss: 0.1046 - accuracy: 0.7247 - val_loss: 0.4243 - val_accuracy: 0.3413\n",
      "Epoch 37/100\n",
      "165/165 [==============================] - 11s 67ms/step - loss: 0.0998 - accuracy: 0.7365 - val_loss: 0.4285 - val_accuracy: 0.3381\n",
      "Epoch 38/100\n",
      "165/165 [==============================] - 10s 62ms/step - loss: 0.0952 - accuracy: 0.7493 - val_loss: 0.4316 - val_accuracy: 0.3446\n",
      "Epoch 39/100\n",
      "165/165 [==============================] - 10s 61ms/step - loss: 0.0908 - accuracy: 0.7620 - val_loss: 0.4343 - val_accuracy: 0.3446\n",
      "Epoch 40/100\n",
      "165/165 [==============================] - 11s 67ms/step - loss: 0.0866 - accuracy: 0.7742 - val_loss: 0.4376 - val_accuracy: 0.3461\n",
      "Epoch 41/100\n",
      "165/165 [==============================] - 10s 63ms/step - loss: 0.0830 - accuracy: 0.7834 - val_loss: 0.4400 - val_accuracy: 0.3463\n",
      "Epoch 42/100\n",
      "165/165 [==============================] - 10s 62ms/step - loss: 0.0790 - accuracy: 0.7948 - val_loss: 0.4439 - val_accuracy: 0.3450\n",
      "Epoch 43/100\n",
      "165/165 [==============================] - 11s 65ms/step - loss: 0.0752 - accuracy: 0.8056 - val_loss: 0.4472 - val_accuracy: 0.3457\n",
      "Epoch 44/100\n",
      "165/165 [==============================] - 11s 64ms/step - loss: 0.0716 - accuracy: 0.8160 - val_loss: 0.4514 - val_accuracy: 0.3494\n",
      "Epoch 45/100\n",
      "165/165 [==============================] - 10s 62ms/step - loss: 0.0681 - accuracy: 0.8265 - val_loss: 0.4537 - val_accuracy: 0.3474\n",
      "Epoch 46/100\n",
      "165/165 [==============================] - 11s 64ms/step - loss: 0.0650 - accuracy: 0.8353 - val_loss: 0.4572 - val_accuracy: 0.3503\n",
      "Epoch 47/100\n",
      "165/165 [==============================] - 11s 65ms/step - loss: 0.0618 - accuracy: 0.8439 - val_loss: 0.4596 - val_accuracy: 0.3509\n",
      "Epoch 48/100\n",
      "165/165 [==============================] - 10s 63ms/step - loss: 0.0590 - accuracy: 0.8517 - val_loss: 0.4638 - val_accuracy: 0.3503\n",
      "Epoch 49/100\n",
      "165/165 [==============================] - 11s 64ms/step - loss: 0.0563 - accuracy: 0.8592 - val_loss: 0.4674 - val_accuracy: 0.3509\n",
      "Epoch 50/100\n",
      "165/165 [==============================] - 11s 66ms/step - loss: 0.0533 - accuracy: 0.8688 - val_loss: 0.4708 - val_accuracy: 0.3527\n",
      "Epoch 51/100\n",
      "165/165 [==============================] - 11s 66ms/step - loss: 0.0507 - accuracy: 0.8743 - val_loss: 0.4740 - val_accuracy: 0.3527\n",
      "Epoch 52/100\n",
      "165/165 [==============================] - 10s 64ms/step - loss: 0.0484 - accuracy: 0.8813 - val_loss: 0.4760 - val_accuracy: 0.3536\n",
      "Epoch 53/100\n",
      "165/165 [==============================] - 11s 64ms/step - loss: 0.0458 - accuracy: 0.8895 - val_loss: 0.4801 - val_accuracy: 0.3520\n",
      "Epoch 54/100\n",
      "165/165 [==============================] - 11s 64ms/step - loss: 0.0434 - accuracy: 0.8959 - val_loss: 0.4860 - val_accuracy: 0.3501\n",
      "Epoch 55/100\n",
      "165/165 [==============================] - 10s 62ms/step - loss: 0.0412 - accuracy: 0.9021 - val_loss: 0.4888 - val_accuracy: 0.3538\n",
      "Epoch 56/100\n",
      "165/165 [==============================] - 11s 66ms/step - loss: 0.0392 - accuracy: 0.9073 - val_loss: 0.4903 - val_accuracy: 0.3540\n",
      "Epoch 57/100\n",
      "165/165 [==============================] - 10s 63ms/step - loss: 0.0373 - accuracy: 0.9132 - val_loss: 0.4944 - val_accuracy: 0.3535\n",
      "Epoch 58/100\n",
      "165/165 [==============================] - 10s 62ms/step - loss: 0.0354 - accuracy: 0.9177 - val_loss: 0.4976 - val_accuracy: 0.3538\n",
      "Epoch 59/100\n",
      "165/165 [==============================] - 11s 64ms/step - loss: 0.0336 - accuracy: 0.9246 - val_loss: 0.5024 - val_accuracy: 0.3525\n",
      "Epoch 60/100\n",
      "165/165 [==============================] - 11s 65ms/step - loss: 0.0319 - accuracy: 0.9275 - val_loss: 0.5064 - val_accuracy: 0.3546\n",
      "Epoch 61/100\n",
      "165/165 [==============================] - 10s 63ms/step - loss: 0.0302 - accuracy: 0.9317 - val_loss: 0.5058 - val_accuracy: 0.3523\n",
      "Epoch 62/100\n",
      "165/165 [==============================] - 11s 66ms/step - loss: 0.0291 - accuracy: 0.9346 - val_loss: 0.5118 - val_accuracy: 0.3566\n",
      "Epoch 63/100\n",
      "165/165 [==============================] - 10s 64ms/step - loss: 0.0275 - accuracy: 0.9391 - val_loss: 0.5154 - val_accuracy: 0.3472\n",
      "Epoch 64/100\n",
      "165/165 [==============================] - 11s 65ms/step - loss: 0.0259 - accuracy: 0.9435 - val_loss: 0.5176 - val_accuracy: 0.3523\n",
      "Epoch 65/100\n",
      "165/165 [==============================] - 11s 65ms/step - loss: 0.0246 - accuracy: 0.9471 - val_loss: 0.5224 - val_accuracy: 0.3525\n",
      "Epoch 66/100\n",
      "165/165 [==============================] - 11s 65ms/step - loss: 0.0234 - accuracy: 0.9494 - val_loss: 0.5272 - val_accuracy: 0.3525\n",
      "Epoch 67/100\n",
      "165/165 [==============================] - 10s 63ms/step - loss: 0.0222 - accuracy: 0.9527 - val_loss: 0.5279 - val_accuracy: 0.3525\n",
      "Epoch 68/100\n",
      "165/165 [==============================] - 11s 64ms/step - loss: 0.0211 - accuracy: 0.9546 - val_loss: 0.5319 - val_accuracy: 0.3514\n",
      "Epoch 69/100\n",
      "165/165 [==============================] - 11s 64ms/step - loss: 0.0200 - accuracy: 0.9572 - val_loss: 0.5320 - val_accuracy: 0.3503\n",
      "Epoch 70/100\n",
      "165/165 [==============================] - 10s 63ms/step - loss: 0.0195 - accuracy: 0.9593 - val_loss: 0.5399 - val_accuracy: 0.3522\n",
      "Epoch 71/100\n",
      "165/165 [==============================] - 10s 63ms/step - loss: 0.0180 - accuracy: 0.9625 - val_loss: 0.5418 - val_accuracy: 0.3535\n",
      "Epoch 72/100\n",
      "165/165 [==============================] - 11s 68ms/step - loss: 0.0171 - accuracy: 0.9639 - val_loss: 0.5448 - val_accuracy: 0.3523\n",
      "Epoch 73/100\n",
      "165/165 [==============================] - 10s 63ms/step - loss: 0.0162 - accuracy: 0.9662 - val_loss: 0.5483 - val_accuracy: 0.3514\n",
      "Epoch 74/100\n",
      "165/165 [==============================] - 11s 64ms/step - loss: 0.0156 - accuracy: 0.9680 - val_loss: 0.5541 - val_accuracy: 0.3525\n",
      "Epoch 75/100\n",
      "165/165 [==============================] - 11s 67ms/step - loss: 0.0149 - accuracy: 0.9683 - val_loss: 0.5550 - val_accuracy: 0.3501\n",
      "Epoch 76/100\n",
      "165/165 [==============================] - 10s 63ms/step - loss: 0.0146 - accuracy: 0.9698 - val_loss: 0.5563 - val_accuracy: 0.3529\n",
      "Epoch 77/100\n",
      "165/165 [==============================] - 10s 63ms/step - loss: 0.0137 - accuracy: 0.9713 - val_loss: 0.5612 - val_accuracy: 0.3509\n",
      "Epoch 78/100\n",
      "165/165 [==============================] - 11s 66ms/step - loss: 0.0128 - accuracy: 0.9722 - val_loss: 0.5662 - val_accuracy: 0.3509\n",
      "Epoch 79/100\n",
      "165/165 [==============================] - 10s 62ms/step - loss: 0.0123 - accuracy: 0.9731 - val_loss: 0.5646 - val_accuracy: 0.3466\n",
      "Epoch 80/100\n",
      "165/165 [==============================] - 10s 63ms/step - loss: 0.0118 - accuracy: 0.9741 - val_loss: 0.5709 - val_accuracy: 0.3479\n",
      "Epoch 81/100\n",
      "165/165 [==============================] - 11s 67ms/step - loss: 0.0115 - accuracy: 0.9748 - val_loss: 0.5724 - val_accuracy: 0.3505\n",
      "Epoch 82/100\n",
      "165/165 [==============================] - 10s 64ms/step - loss: 0.0109 - accuracy: 0.9755 - val_loss: 0.5741 - val_accuracy: 0.3485\n",
      "Epoch 83/100\n",
      "165/165 [==============================] - 10s 61ms/step - loss: 0.0104 - accuracy: 0.9764 - val_loss: 0.5785 - val_accuracy: 0.3475\n",
      "Epoch 84/100\n",
      "165/165 [==============================] - 11s 66ms/step - loss: 0.0098 - accuracy: 0.9778 - val_loss: 0.5790 - val_accuracy: 0.3485\n",
      "Epoch 85/100\n",
      "165/165 [==============================] - 10s 62ms/step - loss: 0.0093 - accuracy: 0.9778 - val_loss: 0.5850 - val_accuracy: 0.3496\n",
      "Epoch 86/100\n",
      "165/165 [==============================] - 10s 61ms/step - loss: 0.0088 - accuracy: 0.9785 - val_loss: 0.5846 - val_accuracy: 0.3463\n",
      "Epoch 87/100\n",
      "165/165 [==============================] - 11s 68ms/step - loss: 0.0085 - accuracy: 0.9789 - val_loss: 0.5855 - val_accuracy: 0.3431\n",
      "Epoch 88/100\n",
      "165/165 [==============================] - 10s 63ms/step - loss: 0.0083 - accuracy: 0.9793 - val_loss: 0.5924 - val_accuracy: 0.3488\n",
      "Epoch 89/100\n",
      "165/165 [==============================] - 10s 63ms/step - loss: 0.0080 - accuracy: 0.9799 - val_loss: 0.5949 - val_accuracy: 0.3464\n",
      "Epoch 90/100\n",
      "165/165 [==============================] - 11s 65ms/step - loss: 0.0077 - accuracy: 0.9800 - val_loss: 0.6004 - val_accuracy: 0.3485\n",
      "Epoch 91/100\n",
      "165/165 [==============================] - 11s 64ms/step - loss: 0.0075 - accuracy: 0.9800 - val_loss: 0.6006 - val_accuracy: 0.3466\n",
      "Epoch 92/100\n",
      "165/165 [==============================] - 10s 63ms/step - loss: 0.0073 - accuracy: 0.9802 - val_loss: 0.6039 - val_accuracy: 0.3455\n",
      "Epoch 93/100\n",
      "165/165 [==============================] - 11s 67ms/step - loss: 0.0070 - accuracy: 0.9804 - val_loss: 0.6073 - val_accuracy: 0.3499\n",
      "Epoch 94/100\n",
      "165/165 [==============================] - 11s 65ms/step - loss: 0.0072 - accuracy: 0.9806 - val_loss: 0.6059 - val_accuracy: 0.3446\n",
      "Epoch 95/100\n",
      "165/165 [==============================] - 10s 62ms/step - loss: 0.0075 - accuracy: 0.9798 - val_loss: 0.6100 - val_accuracy: 0.3483\n",
      "Epoch 96/100\n",
      "165/165 [==============================] - 11s 65ms/step - loss: 0.0075 - accuracy: 0.9796 - val_loss: 0.6088 - val_accuracy: 0.3503\n",
      "Epoch 97/100\n",
      "165/165 [==============================] - 11s 65ms/step - loss: 0.0070 - accuracy: 0.9803 - val_loss: 0.6132 - val_accuracy: 0.3505\n",
      "Epoch 98/100\n",
      "165/165 [==============================] - 10s 62ms/step - loss: 0.0066 - accuracy: 0.9804 - val_loss: 0.6168 - val_accuracy: 0.3485\n",
      "Epoch 99/100\n",
      "165/165 [==============================] - 11s 65ms/step - loss: 0.0065 - accuracy: 0.9802 - val_loss: 0.6184 - val_accuracy: 0.3507\n",
      "Epoch 100/100\n",
      "165/165 [==============================] - 11s 65ms/step - loss: 0.0063 - accuracy: 0.9800 - val_loss: 0.6221 - val_accuracy: 0.3522\n"
     ]
    }
   ],
   "source": [
    "history = model.fit([encoder_input_data, decoder_input_data], decoder_output_data, epochs=100, validation_split=0.1) # epochs >= 10"
   ]
  },
  {
   "cell_type": "code",
   "execution_count": 17,
   "id": "f770c2bf",
   "metadata": {
    "execution": {
     "iopub.execute_input": "2022-06-02T09:46:31.849544Z",
     "iopub.status.busy": "2022-06-02T09:46:31.848992Z",
     "iopub.status.idle": "2022-06-02T09:46:32.631807Z",
     "shell.execute_reply": "2022-06-02T09:46:32.631009Z"
    },
    "id": "QaESKXhfvj75",
    "papermill": {
     "duration": 1.869179,
     "end_time": "2022-06-02T09:46:32.634123",
     "exception": false,
     "start_time": "2022-06-02T09:46:30.764944",
     "status": "completed"
    },
    "scrolled": true,
    "tags": []
   },
   "outputs": [],
   "source": [
    "def make_inference_models():\n",
    "    \n",
    "    # encoder model takes questions as input and output its LSTM state\n",
    "    encoder_model = Model(encoder_inputs, encoder_states)\n",
    "    \n",
    "    # decoder takes encoder output states as its initial state \n",
    "    # and 200 is the output of encoder last hidden and cell states dimension\n",
    "    decoder_state_input_h = Input(shape=(200,))\n",
    "    decoder_state_input_c = Input(shape=(200,))\n",
    "    decoder_states_inputs = [decoder_state_input_h, decoder_state_input_c]\n",
    "    \n",
    "    # use these pre-trained layers of the model: decoder_embedding, decoder_lstm, decoder_dense \n",
    "    decoder_outputs, state_h, state_c = decoder_lstm(decoder_embedding, initial_state=decoder_states_inputs)\n",
    "    decoder_states = [state_h, state_c]\n",
    "    decoder_outputs = decoder_dense(decoder_outputs)\n",
    "    \n",
    "    # decoder model takes one token and the states predicted from enc_model   \n",
    "    decoder_model = Model([decoder_inputs] + decoder_states_inputs, [decoder_outputs] + decoder_states)\n",
    "    \n",
    "    return encoder_model, decoder_model\n",
    "\n",
    "enc_model, dec_model = make_inference_models()\n",
    "enc_model.save('enc_model.h5')\n",
    "dec_model.save('dec_model.h5')"
   ]
  },
  {
   "cell_type": "code",
   "execution_count": 18,
   "id": "a5f102e6",
   "metadata": {
    "execution": {
     "iopub.execute_input": "2022-06-02T09:46:34.734304Z",
     "iopub.status.busy": "2022-06-02T09:46:34.733817Z",
     "iopub.status.idle": "2022-06-02T09:46:34.738404Z",
     "shell.execute_reply": "2022-06-02T09:46:34.737570Z"
    },
    "papermill": {
     "duration": 1.019605,
     "end_time": "2022-06-02T09:46:34.741062",
     "exception": false,
     "start_time": "2022-06-02T09:46:33.721457",
     "status": "completed"
    },
    "tags": []
   },
   "outputs": [],
   "source": [
    "# # load model\n",
    "# enc_model = load_model('./../input/chatbot-data/enc_model.h5')\n",
    "# dec_model = load_model('../input/chatbot-data/dec_model.h5')"
   ]
  },
  {
   "cell_type": "code",
   "execution_count": 19,
   "id": "63c30975",
   "metadata": {
    "execution": {
     "iopub.execute_input": "2022-06-02T09:46:36.908158Z",
     "iopub.status.busy": "2022-06-02T09:46:36.907690Z",
     "iopub.status.idle": "2022-06-02T09:46:36.913701Z",
     "shell.execute_reply": "2022-06-02T09:46:36.912914Z"
    },
    "id": "iZJwkGzpvj75",
    "papermill": {
     "duration": 1.10292,
     "end_time": "2022-06-02T09:46:36.915497",
     "exception": false,
     "start_time": "2022-06-02T09:46:35.812577",
     "status": "completed"
    },
    "tags": []
   },
   "outputs": [],
   "source": [
    "def format_question(sent:str):\n",
    "    sent = normalize([sent])[0]\n",
    "    words = sent.split()\n",
    "    token_list = []\n",
    "    for word in words:\n",
    "        try:\n",
    "            index = tokenizer.word_index[word]\n",
    "        except KeyError:\n",
    "            index = tokenizer.word_index['<unk>']\n",
    "        token_list.append(index)\n",
    "    return pad_sequences([token_list], maxlen=MAXLEN_QUESTION, padding='post', truncating='post')"
   ]
  },
  {
   "cell_type": "code",
   "execution_count": 20,
   "id": "ea848a6f",
   "metadata": {
    "execution": {
     "iopub.execute_input": "2022-06-02T09:46:38.998231Z",
     "iopub.status.busy": "2022-06-02T09:46:38.997716Z",
     "iopub.status.idle": "2022-06-02T09:46:39.008723Z",
     "shell.execute_reply": "2022-06-02T09:46:39.007934Z"
    },
    "id": "v_4uY17Uvj77",
    "papermill": {
     "duration": 1.090687,
     "end_time": "2022-06-02T09:46:39.010711",
     "exception": false,
     "start_time": "2022-06-02T09:46:37.920024",
     "status": "completed"
    },
    "tags": []
   },
   "outputs": [],
   "source": [
    "def ask(question):\n",
    "    print('Q:', question)\n",
    "    question = format_question(question)\n",
    "    states_values = enc_model.predict(question)\n",
    "    target_seq = np.zeros((1, 1))\n",
    "    target_seq[0, 0] = tokenizer.word_index['<start>']\n",
    "    \n",
    "    stop_condition = False\n",
    "    decoded_seq = ''\n",
    "    while not stop_condition:\n",
    "        # dec_outputs return a one hot vector with the dimension number of vocab size\n",
    "        dec_outputs, h, c = dec_model.predict([target_seq] + states_values)\n",
    "        gen_word_index = np.argmax(dec_outputs[0, -1])\n",
    "        gen_word = tokenizer.index_word[gen_word_index]\n",
    "        \n",
    "        if gen_word == '<end>' or len(decoded_seq.split()) > MAXLEN_ANSWER:\n",
    "            stop_condition = True\n",
    "        else:\n",
    "            decoded_seq += gen_word + ' '\n",
    "            \n",
    "        target_seq = np.zeros((1, 1))  \n",
    "        target_seq[0, 0] = gen_word_index\n",
    "        states_values = [h, c]\n",
    "        \n",
    "    answer = decoded_seq[0].upper() + decoded_seq[1:].replace('_', ' ')\n",
    "    print('A:', answer.strip(), '\\n')"
   ]
  },
  {
   "cell_type": "code",
   "execution_count": 21,
   "id": "8001e95b",
   "metadata": {
    "execution": {
     "iopub.execute_input": "2022-06-02T09:46:41.446395Z",
     "iopub.status.busy": "2022-06-02T09:46:41.446015Z",
     "iopub.status.idle": "2022-06-02T09:46:45.639544Z",
     "shell.execute_reply": "2022-06-02T09:46:45.638604Z"
    },
    "papermill": {
     "duration": 5.413663,
     "end_time": "2022-06-02T09:46:45.642080",
     "exception": false,
     "start_time": "2022-06-02T09:46:40.228417",
     "status": "completed"
    },
    "tags": []
   },
   "outputs": [
    {
     "name": "stdout",
     "output_type": "stream",
     "text": [
      "Q: Bạn sinh năm bao nhiêu?\n",
      "A: Mình sinh năm 2001 \n",
      "\n",
      "Q: Có người yêu chưa?\n",
      "A: Chưa \n",
      "\n",
      "Q: Shop tư vấn cho mình một số mẫu giày thích hợp để đi chơi được không?\n",
      "A: Bạn có thể tham khảo vài đôi giày của adidas hoặc nike \n",
      "\n",
      "Q: Quê bạn ở đâu?\n",
      "A: Quê mình ở thành phố hồ chí minh \n",
      "\n",
      "Q: Bạn thường làm gì trong thời gian rảnh?\n",
      "A: Lúc rảnh mình thường đọc truyện \n",
      "\n",
      "Q: Bạn có muốn đi xem phim vào cuối tuần này hay không?\n",
      "A: Dĩ nhiên là muốn rồi \n",
      "\n",
      "Q: Bạn thích môn thể thao gì?\n",
      "A: Mình thích đá bóng \n",
      "\n"
     ]
    }
   ],
   "source": [
    "ask('Bạn sinh năm bao nhiêu?')\n",
    "ask('Có người yêu chưa?')\n",
    "ask('Shop tư vấn cho mình một số mẫu giày thích hợp để đi chơi được không?')\n",
    "ask('Quê bạn ở đâu?')\n",
    "ask('Bạn thường làm gì trong thời gian rảnh?')\n",
    "ask('Bạn có muốn đi xem phim vào cuối tuần này hay không?')\n",
    "ask('Bạn thích môn thể thao gì?')"
   ]
  },
  {
   "cell_type": "code",
   "execution_count": 22,
   "id": "72fa1670",
   "metadata": {
    "execution": {
     "iopub.execute_input": "2022-06-02T09:46:47.733835Z",
     "iopub.status.busy": "2022-06-02T09:46:47.733324Z",
     "iopub.status.idle": "2022-06-02T09:46:47.977333Z",
     "shell.execute_reply": "2022-06-02T09:46:47.976533Z"
    },
    "papermill": {
     "duration": 1.322033,
     "end_time": "2022-06-02T09:46:47.979302",
     "exception": false,
     "start_time": "2022-06-02T09:46:46.657269",
     "status": "completed"
    },
    "tags": []
   },
   "outputs": [
    {
     "data": {
      "image/png": "[encoded data removed]",
      "text/plain": [
       "<Figure size 432x288 with 1 Axes>"
      ]
     },
     "metadata": {
      "needs_background": "light"
     },
     "output_type": "display_data"
    }
   ],
   "source": [
    "from matplotlib import pyplot as plt\n",
    "plt.plot(history.history['loss'])\n",
    "plt.plot(history.history['val_loss'])\n",
    "plt.title('Model loss')\n",
    "plt.ylabel('loss')\n",
    "plt.xlabel('epoch')\n",
    "plt.legend(['train', 'val'], loc='best')\n",
    "plt.show()"
   ]
  },
  {
   "cell_type": "code",
   "execution_count": 23,
   "id": "129bc89f",
   "metadata": {
    "execution": {
     "iopub.execute_input": "2022-06-02T09:46:50.684498Z",
     "iopub.status.busy": "2022-06-02T09:46:50.684071Z",
     "iopub.status.idle": "2022-06-02T09:46:50.895887Z",
     "shell.execute_reply": "2022-06-02T09:46:50.895095Z"
    },
    "papermill": {
     "duration": 1.696355,
     "end_time": "2022-06-02T09:46:50.898012",
     "exception": false,
     "start_time": "2022-06-02T09:46:49.201657",
     "status": "completed"
    },
    "tags": []
   },
   "outputs": [
    {
     "data": {
      "image/png": "[encoded data removed]",
      "text/plain": [
       "<Figure size 432x288 with 1 Axes>"
      ]
     },
     "metadata": {
      "needs_background": "light"
     },
     "output_type": "display_data"
    }
   ],
   "source": [
    "plt.plot(history.history['accuracy'])\n",
    "plt.plot(history.history['val_accuracy'])\n",
    "plt.title('Model accuracy')\n",
    "plt.ylabel('accuracy')\n",
    "plt.xlabel('epoch')\n",
    "plt.legend(['train', 'val'], loc='best')\n",
    "plt.show()"
   ]
  }
 ],
 "metadata": {
  "kernelspec": {
   "display_name": "Python 3",
   "language": "python",
   "name": "python3"
  },
  "language_info": {
   "codemirror_mode": {
    "name": "ipython",
    "version": 3
   },
   "file_extension": ".py",
   "mimetype": "text/x-python",
   "name": "python",
   "nbconvert_exporter": "python",
   "pygments_lexer": "ipython3",
   "version": "3.7.12"
  },
  "papermill": {
   "default_parameters": {},
   "duration": 1181.629731,
   "end_time": "2022-06-02T09:46:56.011603",
   "environment_variables": {},
   "exception": null,
   "input_path": "__notebook__.ipynb",
   "output_path": "__notebook__.ipynb",
   "parameters": {},
   "start_time": "2022-06-02T09:27:14.381872",
   "version": "2.3.4"
  }
 },
 "nbformat": 4,
 "nbformat_minor": 5
}
