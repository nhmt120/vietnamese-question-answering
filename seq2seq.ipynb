{
 "cells": [
  {
   "cell_type": "code",
   "execution_count": 1,
   "id": "5f677c56",
   "metadata": {
    "execution": {
     "iopub.execute_input": "2022-06-01T20:53:52.816047Z",
     "iopub.status.busy": "2022-06-01T20:53:52.815609Z",
     "iopub.status.idle": "2022-06-01T20:54:10.144610Z",
     "shell.execute_reply": "2022-06-01T20:54:10.143365Z"
    },
    "id": "3XCqd9nmmini",
    "papermill": {
     "duration": 17.34409,
     "end_time": "2022-06-01T20:54:10.147376",
     "exception": false,
     "start_time": "2022-06-01T20:53:52.803286",
     "status": "completed"
    },
    "tags": []
   },
   "outputs": [
    {
     "name": "stdout",
     "output_type": "stream",
     "text": [
      "Collecting pyvi\r\n",
      "  Downloading pyvi-0.1.1-py2.py3-none-any.whl (8.5 MB)\r\n",
      "\u001b[2K     \u001b[90m━━━━━━━━━━━━━━━━━━━━━━━━━━━━━━━━━━━━━━━━\u001b[0m \u001b[32m8.5/8.5 MB\u001b[0m \u001b[31m5.6 MB/s\u001b[0m eta \u001b[36m0:00:00\u001b[0m\r\n",
      "\u001b[?25hRequirement already satisfied: scikit-learn in /opt/conda/lib/python3.7/site-packages (from pyvi) (1.0.2)\r\n",
      "Collecting sklearn-crfsuite\r\n",
      "  Downloading sklearn_crfsuite-0.3.6-py2.py3-none-any.whl (12 kB)\r\n",
      "Requirement already satisfied: numpy>=1.14.6 in /opt/conda/lib/python3.7/site-packages (from scikit-learn->pyvi) (1.21.6)\r\n",
      "Requirement already satisfied: scipy>=1.1.0 in /opt/conda/lib/python3.7/site-packages (from scikit-learn->pyvi) (1.7.3)\r\n",
      "Requirement already satisfied: joblib>=0.11 in /opt/conda/lib/python3.7/site-packages (from scikit-learn->pyvi) (1.1.0)\r\n",
      "Requirement already satisfied: threadpoolctl>=2.0.0 in /opt/conda/lib/python3.7/site-packages (from scikit-learn->pyvi) (3.1.0)\r\n",
      "Requirement already satisfied: tqdm>=2.0 in /opt/conda/lib/python3.7/site-packages (from sklearn-crfsuite->pyvi) (4.64.0)\r\n",
      "Requirement already satisfied: tabulate in /opt/conda/lib/python3.7/site-packages (from sklearn-crfsuite->pyvi) (0.8.9)\r\n",
      "Collecting python-crfsuite>=0.8.3\r\n",
      "  Downloading python_crfsuite-0.9.8-cp37-cp37m-manylinux_2_17_x86_64.manylinux2014_x86_64.whl (965 kB)\r\n",
      "\u001b[2K     \u001b[90m━━━━━━━━━━━━━━━━━━━━━━━━━━━━━━━━━━━━━━\u001b[0m \u001b[32m965.4/965.4 kB\u001b[0m \u001b[31m33.8 MB/s\u001b[0m eta \u001b[36m0:00:00\u001b[0m\r\n",
      "\u001b[?25hRequirement already satisfied: six in /opt/conda/lib/python3.7/site-packages (from sklearn-crfsuite->pyvi) (1.16.0)\r\n",
      "Installing collected packages: python-crfsuite, sklearn-crfsuite, pyvi\r\n",
      "Successfully installed python-crfsuite-0.9.8 pyvi-0.1.1 sklearn-crfsuite-0.3.6\r\n",
      "\u001b[33mWARNING: Running pip as the 'root' user can result in broken permissions and conflicting behaviour with the system package manager. It is recommended to use a virtual environment instead: https://pip.pypa.io/warnings/venv\u001b[0m\u001b[33m\r\n",
      "\u001b[0m"
     ]
    }
   ],
   "source": [
    "!pip install pyvi"
   ]
  },
  {
   "cell_type": "code",
   "execution_count": 2,
   "id": "b4051614",
   "metadata": {
    "execution": {
     "iopub.execute_input": "2022-06-01T20:54:10.170082Z",
     "iopub.status.busy": "2022-06-01T20:54:10.169680Z",
     "iopub.status.idle": "2022-06-01T20:54:19.781041Z",
     "shell.execute_reply": "2022-06-01T20:54:19.779805Z"
    },
    "id": "OK0jFWTIvj7f",
    "papermill": {
     "duration": 9.625624,
     "end_time": "2022-06-01T20:54:19.783622",
     "exception": false,
     "start_time": "2022-06-01T20:54:10.157998",
     "status": "completed"
    },
    "tags": []
   },
   "outputs": [],
   "source": [
    "import numpy as np\n",
    "import pandas as pd\n",
    "from pyvi import ViTokenizer\n",
    "\n",
    "import string\n",
    "import nltk\n",
    "import re\n",
    "\n",
    "from tensorflow.keras.models import Model, load_model\n",
    "\n",
    "from tensorflow.keras.layers import Dense, Embedding, LSTM, Input\n",
    "\n",
    "from tensorflow.keras.preprocessing.sequence import pad_sequences\n",
    "from keras.utils.vis_utils import plot_model\n",
    "\n",
    "import re\n",
    "from tensorflow.keras.utils import to_categorical\n",
    "from keras.preprocessing.text import Tokenizer"
   ]
  },
  {
   "cell_type": "code",
   "execution_count": 3,
   "id": "c3830b05",
   "metadata": {
    "execution": {
     "iopub.execute_input": "2022-06-01T20:54:19.806671Z",
     "iopub.status.busy": "2022-06-01T20:54:19.805897Z",
     "iopub.status.idle": "2022-06-01T20:54:19.823153Z",
     "shell.execute_reply": "2022-06-01T20:54:19.822061Z"
    },
    "id": "nsRvjEMqvj7p",
    "outputId": "43faead3-fdbd-4bc9-a889-a62062dfdc8d",
    "papermill": {
     "duration": 0.031305,
     "end_time": "2022-06-01T20:54:19.825564",
     "exception": false,
     "start_time": "2022-06-01T20:54:19.794259",
     "status": "completed"
    },
    "tags": []
   },
   "outputs": [
    {
     "name": "stdout",
     "output_type": "stream",
     "text": [
      "['shoping.txt', 'a ch.txt', 'tn gu.txt', 'bn b.txt', 'tdtu.txt', 's thch.txt', 'thng tin c nhn.txt', 'hc tp.txt', 'ngh nghip.txt', 'ngi yu.txt', 'gii tr.txt', 'tr chuyn v i n.txt', 'gia nh.txt', 'cc cu hi phc tp.txt', 'du lch.txt', 't nc.txt', 'robot.txt', 'ngh l.txt']\n"
     ]
    }
   ],
   "source": [
    "import os\n",
    "# dir = '/content/drive/MyDrive/NLP/dữ liệu chatbot - dự án cuối kì'\n",
    "dir = '../input/chatbot-data/chatbot'\n",
    "\n",
    "filenames = os.listdir(dir)\n",
    "print(filenames)"
   ]
  },
  {
   "cell_type": "code",
   "execution_count": 4,
   "id": "24be223e",
   "metadata": {
    "execution": {
     "iopub.execute_input": "2022-06-01T20:54:19.850136Z",
     "iopub.status.busy": "2022-06-01T20:54:19.849479Z",
     "iopub.status.idle": "2022-06-01T20:54:20.038230Z",
     "shell.execute_reply": "2022-06-01T20:54:20.037439Z"
    },
    "id": "l9JSiGuhvj7r",
    "outputId": "01601e03-a710-471c-e77d-d479401fe0bb",
    "papermill": {
     "duration": 0.204134,
     "end_time": "2022-06-01T20:54:20.040756",
     "exception": false,
     "start_time": "2022-06-01T20:54:19.836622",
     "status": "completed"
    },
    "tags": []
   },
   "outputs": [
    {
     "name": "stdout",
     "output_type": "stream",
     "text": [
      "Number of QA pairs: 5855 \n",
      "\n",
      "Q: có loại nào đặc biệt không bạn ?\n",
      "A: có 2 loại đặc biệt nha bạn \n",
      "\n",
      "Q: Ê mày tao định mua son nè mày thấy chỗ nào bán được không?\n",
      "A: à mày qua moon shop quận 7 thử \n",
      "\n",
      "Q: cho tôi hỏi nhà này có bao nhiêu phòng?\n",
      "A: ngồi nhà này có đến 5 phòng nha bạn \n",
      "\n",
      "Q: Đặc sản của quê bạn là gì?\n",
      "A: Về trái cây thì có thanh long, Về thức ăn thì có bánh căn 1 loại bánh như bánh xèo nhưng nhỏ hơn. \n",
      "\n",
      "Q: vậy còn số điện thoại của cậu là bao nhiêu?\n",
      "A: số điện thoại của tớ là 0234567891 \n",
      "\n"
     ]
    }
   ],
   "source": [
    "Q = []\n",
    "A = []\n",
    "for i in filenames:\n",
    "    with open(dir+'/'+i, encoding=\"utf8\") as f:\n",
    "        for line in f:\n",
    "            a =  line.split('__eou__')\n",
    "            Q.append(a[0].strip())\n",
    "            A.append(a[1].strip())\n",
    "print('Number of QA pairs:', len(Q), '\\n')\n",
    "\n",
    "# shuffle to mix the data topic\n",
    "QA = pd.DataFrame(zip(Q, A))\n",
    "QA = QA.sample(frac=1, random_state=61)\n",
    "\n",
    "Q = QA.iloc[:, 0].values\n",
    "A = QA.iloc[:, 1].values\n",
    "\n",
    "for i in range(5):\n",
    "    print('Q:', Q[i])\n",
    "    print('A:', A[i], '\\n')"
   ]
  },
  {
   "cell_type": "code",
   "execution_count": 5,
   "id": "1398eea6",
   "metadata": {
    "execution": {
     "iopub.execute_input": "2022-06-01T20:54:20.063618Z",
     "iopub.status.busy": "2022-06-01T20:54:20.063197Z",
     "iopub.status.idle": "2022-06-01T20:54:20.090667Z",
     "shell.execute_reply": "2022-06-01T20:54:20.089248Z"
    },
    "papermill": {
     "duration": 0.042383,
     "end_time": "2022-06-01T20:54:20.093509",
     "exception": false,
     "start_time": "2022-06-01T20:54:20.051126",
     "status": "completed"
    },
    "tags": []
   },
   "outputs": [],
   "source": [
    "stop_words = np.loadtxt('../input/chatbot-data/vietnamese-stopwords-dash.txt', dtype=str, encoding='utf8')\n",
    "def remove_stop_word(sent):\n",
    "    clean_sent = ''\n",
    "    for w in sent.split():\n",
    "        if w not in stop_words:\n",
    "            clean_sent += w + ' '\n",
    "    return clean_sent.strip()\n",
    "\n",
    "def normalize(data, keep_stop_word=False):\n",
    "    cleaned_data = []\n",
    "    regex = re.compile('[%s]' % re.escape(string.punctuation))\n",
    "    for sent in data:\n",
    "        sent = regex.sub('', sent)\n",
    "        sent = ViTokenizer.tokenize(sent)\n",
    "        if keep_stop_word == False:\n",
    "            sent = remove_stop_word(sent.lower())\n",
    "        cleaned_data.append(sent)\n",
    "    return cleaned_data"
   ]
  },
  {
   "cell_type": "code",
   "execution_count": 6,
   "id": "03990e98",
   "metadata": {
    "execution": {
     "iopub.execute_input": "2022-06-01T20:54:20.116221Z",
     "iopub.status.busy": "2022-06-01T20:54:20.115557Z",
     "iopub.status.idle": "2022-06-01T20:54:23.242310Z",
     "shell.execute_reply": "2022-06-01T20:54:23.240528Z"
    },
    "papermill": {
     "duration": 3.141071,
     "end_time": "2022-06-01T20:54:23.244959",
     "exception": false,
     "start_time": "2022-06-01T20:54:20.103888",
     "status": "completed"
    },
    "tags": []
   },
   "outputs": [
    {
     "name": "stdout",
     "output_type": "stream",
     "text": [
      "Q: \n",
      "A: có 2 loại đặc_biệt nha bạn \n",
      "\n",
      "Q: ê mày tao định mua son nè mày chỗ\n",
      "A: à mày qua moon shop quận 7 thử \n",
      "\n",
      "Q: phòng\n",
      "A: ngồi nhà này có đến 5 phòng nha bạn \n",
      "\n",
      "Q: đặc_sản quê\n",
      "A: Về trái_cây thì có thanh_long Về thức_ăn thì có bánh căn 1 loại bánh như bánh_xèo nhưng nhỏ hơn \n",
      "\n",
      "Q: điện_thoại\n",
      "A: số điện_thoại của tớ là 0234567891 \n",
      "\n"
     ]
    }
   ],
   "source": [
    "questions = normalize(Q, keep_stop_word=False)  # only remove stop words from questions\n",
    "answers = normalize(A, keep_stop_word=True)  # keep stop words in answers for a natural prediction output\n",
    "\n",
    "for i in range(5):\n",
    "    print('Q:', questions[i])\n",
    "    print('A:', answers[i], '\\n')"
   ]
  },
  {
   "cell_type": "code",
   "execution_count": 7,
   "id": "881f657e",
   "metadata": {
    "execution": {
     "iopub.execute_input": "2022-06-01T20:54:23.268858Z",
     "iopub.status.busy": "2022-06-01T20:54:23.268439Z",
     "iopub.status.idle": "2022-06-01T20:54:23.277334Z",
     "shell.execute_reply": "2022-06-01T20:54:23.276173Z"
    },
    "id": "x7zf0U6Nvj7u",
    "papermill": {
     "duration": 0.024029,
     "end_time": "2022-06-01T20:54:23.279719",
     "exception": false,
     "start_time": "2022-06-01T20:54:23.255690",
     "status": "completed"
    },
    "tags": []
   },
   "outputs": [],
   "source": [
    "# start and end of string token to each answer\n",
    "for i in range(len(answers)):\n",
    "    answers[i] = '<start> ' + answers[i] + ' <end>'"
   ]
  },
  {
   "cell_type": "code",
   "execution_count": 8,
   "id": "a468afad",
   "metadata": {
    "execution": {
     "iopub.execute_input": "2022-06-01T20:54:23.303233Z",
     "iopub.status.busy": "2022-06-01T20:54:23.302647Z",
     "iopub.status.idle": "2022-06-01T20:54:23.453731Z",
     "shell.execute_reply": "2022-06-01T20:54:23.452222Z"
    },
    "id": "L90MakM0vj7y",
    "outputId": "08a6011f-e8c7-4bc2-988c-c31bc84497c8",
    "papermill": {
     "duration": 0.165672,
     "end_time": "2022-06-01T20:54:23.456242",
     "exception": false,
     "start_time": "2022-06-01T20:54:23.290570",
     "status": "completed"
    },
    "tags": []
   },
   "outputs": [
    {
     "name": "stdout",
     "output_type": "stream",
     "text": [
      "VOCAB SIZE: 5133\n"
     ]
    }
   ],
   "source": [
    "# count each token appearing time \n",
    "tokenizer = Tokenizer(filters='')\n",
    "tokenizer.fit_on_texts(questions + answers + ['<unk>'])\n",
    "VOCAB_SIZE = len(tokenizer.word_index) + 1 # padding token for embedding layer later\n",
    "print('VOCAB SIZE: {}'.format(VOCAB_SIZE))\n",
    "vocab = list(tokenizer.word_index.keys()) # list of tokens"
   ]
  },
  {
   "cell_type": "code",
   "execution_count": 9,
   "id": "9bfa74d6",
   "metadata": {
    "execution": {
     "iopub.execute_input": "2022-06-01T20:54:23.479989Z",
     "iopub.status.busy": "2022-06-01T20:54:23.479202Z",
     "iopub.status.idle": "2022-06-01T20:54:23.610629Z",
     "shell.execute_reply": "2022-06-01T20:54:23.608942Z"
    },
    "id": "WAl_Wm8gwJnG",
    "outputId": "6ebb3cec-23ee-4405-b204-5eda960340ae",
    "papermill": {
     "duration": 0.14721,
     "end_time": "2022-06-01T20:54:23.614021",
     "exception": false,
     "start_time": "2022-06-01T20:54:23.466811",
     "status": "completed"
    },
    "tags": []
   },
   "outputs": [
    {
     "name": "stdout",
     "output_type": "stream",
     "text": [
      "Number of removed pair: 476\n",
      "Number of train data after cleaning: 5379\n"
     ]
    },
    {
     "name": "stderr",
     "output_type": "stream",
     "text": [
      "/opt/conda/lib/python3.7/site-packages/numpy/lib/function_base.py:4454: VisibleDeprecationWarning: Creating an ndarray from ragged nested sequences (which is a list-or-tuple of lists-or-tuples-or ndarrays with different lengths or shapes) is deprecated. If you meant to do this, you must specify 'dtype=object' when creating the ndarray.\n",
      "  arr = asarray(arr)\n"
     ]
    }
   ],
   "source": [
    "tokenized_questions = tokenizer.texts_to_sequences(questions)\n",
    "tokenized_answers = tokenizer.texts_to_sequences(answers)\n",
    "\n",
    "# due to stop words cleaning, there are empty questions\n",
    "# => remove pair with empty question from the training data\n",
    "\n",
    "indices = []\n",
    "for i in range(len(tokenized_questions)):\n",
    "    if len(tokenized_questions[i])==0:\n",
    "        indices.append(i)\n",
    "tokenized_questions = np.delete(tokenized_questions, indices)\n",
    "tokenized_answers = np.delete(tokenized_answers, indices)\n",
    "print('Number of removed pair:', len(indices))\n",
    "print('Number of train data after cleaning:', len(tokenized_questions))"
   ]
  },
  {
   "cell_type": "code",
   "execution_count": 10,
   "id": "336a08a5",
   "metadata": {
    "execution": {
     "iopub.execute_input": "2022-06-01T20:54:23.638119Z",
     "iopub.status.busy": "2022-06-01T20:54:23.637576Z",
     "iopub.status.idle": "2022-06-01T20:54:23.670654Z",
     "shell.execute_reply": "2022-06-01T20:54:23.667973Z"
    },
    "id": "d1UdhpNUvj70",
    "outputId": "1fc607f3-dc03-45d4-ce4a-48259e7151a9",
    "papermill": {
     "duration": 0.048845,
     "end_time": "2022-06-01T20:54:23.674383",
     "exception": false,
     "start_time": "2022-06-01T20:54:23.625538",
     "status": "completed"
    },
    "tags": []
   },
   "outputs": [
    {
     "name": "stdout",
     "output_type": "stream",
     "text": [
      "Encoder input data shape: (5379, 18)\n",
      "Max length of encoder input data: 18\n"
     ]
    }
   ],
   "source": [
    "MAXLEN_QUESTION = max([len(x) for x in tokenized_questions])\n",
    "padded_questions = pad_sequences(tokenized_questions, maxlen=MAXLEN_QUESTION, padding='post')\n",
    "encoder_input_data = np.array(padded_questions)\n",
    "print('Encoder input data shape:', encoder_input_data.shape)\n",
    "print('Max length of encoder input data:', MAXLEN_QUESTION)"
   ]
  },
  {
   "cell_type": "code",
   "execution_count": 11,
   "id": "5713b7b7",
   "metadata": {
    "execution": {
     "iopub.execute_input": "2022-06-01T20:54:23.699105Z",
     "iopub.status.busy": "2022-06-01T20:54:23.698686Z",
     "iopub.status.idle": "2022-06-01T20:54:23.737977Z",
     "shell.execute_reply": "2022-06-01T20:54:23.736985Z"
    },
    "id": "Y-g2Z_ibvj71",
    "outputId": "e6569561-a5ba-4490-beab-6b165bec28e0",
    "papermill": {
     "duration": 0.054241,
     "end_time": "2022-06-01T20:54:23.740137",
     "exception": false,
     "start_time": "2022-06-01T20:54:23.685896",
     "status": "completed"
    },
    "tags": []
   },
   "outputs": [
    {
     "name": "stdout",
     "output_type": "stream",
     "text": [
      "Decoder input data shape: (5379, 113)\n",
      "Max length of decoder input data: 113\n"
     ]
    }
   ],
   "source": [
    "MAXLEN_ANSWER = max([len(x) for x in tokenized_answers])\n",
    "padded_answers = pad_sequences(tokenized_answers, maxlen=MAXLEN_ANSWER, padding='post')\n",
    "decoder_input_data = np.array(padded_answers)\n",
    "print('Decoder input data shape:', decoder_input_data.shape)\n",
    "print('Max length of decoder input data:', MAXLEN_ANSWER)"
   ]
  },
  {
   "cell_type": "code",
   "execution_count": 12,
   "id": "77f6c800",
   "metadata": {
    "execution": {
     "iopub.execute_input": "2022-06-01T20:54:23.764207Z",
     "iopub.status.busy": "2022-06-01T20:54:23.763217Z",
     "iopub.status.idle": "2022-06-01T20:54:25.480530Z",
     "shell.execute_reply": "2022-06-01T20:54:25.479811Z"
    },
    "id": "fEpd4v7Mvj73",
    "outputId": "58b454cf-d703-4ea8-cef1-41495f2894ae",
    "papermill": {
     "duration": 1.731512,
     "end_time": "2022-06-01T20:54:25.482644",
     "exception": false,
     "start_time": "2022-06-01T20:54:23.751132",
     "status": "completed"
    },
    "tags": []
   },
   "outputs": [
    {
     "name": "stdout",
     "output_type": "stream",
     "text": [
      "Decoder ouput data shape: (5379, 113, 5133)\n"
     ]
    }
   ],
   "source": [
    "padded_answers_dec_out = pad_sequences(padded_answers[:, 1:], maxlen=MAXLEN_ANSWER, padding='post')\n",
    "decoder_output_data = to_categorical(padded_answers_dec_out, VOCAB_SIZE, dtype='uint8')# remove <start> tag in answers data\n",
    "print('Decoder ouput data shape:', decoder_output_data.shape)"
   ]
  },
  {
   "cell_type": "code",
   "execution_count": 13,
   "id": "5a08c0a4",
   "metadata": {
    "execution": {
     "iopub.execute_input": "2022-06-01T20:54:25.506630Z",
     "iopub.status.busy": "2022-06-01T20:54:25.506046Z",
     "iopub.status.idle": "2022-06-01T20:54:26.573662Z",
     "shell.execute_reply": "2022-06-01T20:54:26.572644Z"
    },
    "id": "slipHGSXvj73",
    "papermill": {
     "duration": 1.082465,
     "end_time": "2022-06-01T20:54:26.576237",
     "exception": false,
     "start_time": "2022-06-01T20:54:25.493772",
     "status": "completed"
    },
    "tags": []
   },
   "outputs": [
    {
     "name": "stderr",
     "output_type": "stream",
     "text": [
      "2022-06-01 20:54:25.558127: I tensorflow/core/common_runtime/process_util.cc:146] Creating new thread pool with default inter op setting: 2. Tune using inter_op_parallelism_threads for best performance.\n"
     ]
    }
   ],
   "source": [
    "encoder_inputs = Input(shape=(MAXLEN_QUESTION,))\n",
    "encoder_embedding = Embedding(VOCAB_SIZE, 200, mask_zero=True) (encoder_inputs) # mask zero to acknowledge 0 padding\n",
    "_, state_h, state_c = LSTM(200, return_state=True) (encoder_embedding) # return last hidden and cell state\n",
    "encoder_states = [state_h, state_c]"
   ]
  },
  {
   "cell_type": "code",
   "execution_count": 14,
   "id": "24f85559",
   "metadata": {
    "execution": {
     "iopub.execute_input": "2022-06-01T20:54:26.600099Z",
     "iopub.status.busy": "2022-06-01T20:54:26.599702Z",
     "iopub.status.idle": "2022-06-01T20:54:27.508382Z",
     "shell.execute_reply": "2022-06-01T20:54:27.507630Z"
    },
    "id": "UYaJaLp7vj74",
    "papermill": {
     "duration": 0.923355,
     "end_time": "2022-06-01T20:54:27.510693",
     "exception": false,
     "start_time": "2022-06-01T20:54:26.587338",
     "status": "completed"
    },
    "tags": []
   },
   "outputs": [],
   "source": [
    "decoder_inputs = Input(shape=(MAXLEN_ANSWER,))\n",
    "decoder_embedding = Embedding(VOCAB_SIZE, 200, mask_zero=True) (decoder_inputs)\n",
    "decoder_lstm = LSTM(200, return_state=True, return_sequences=True)\n",
    "decoder_outputs, _, _ = decoder_lstm(decoder_embedding, initial_state=encoder_states) # passing all time steps hidden states to dense\n",
    "decoder_dense = Dense(VOCAB_SIZE, activation='softmax')\n",
    "output = decoder_dense(decoder_outputs)"
   ]
  },
  {
   "cell_type": "code",
   "execution_count": 15,
   "id": "4db4210f",
   "metadata": {
    "execution": {
     "iopub.execute_input": "2022-06-01T20:54:27.536099Z",
     "iopub.status.busy": "2022-06-01T20:54:27.535459Z",
     "iopub.status.idle": "2022-06-01T20:54:28.925523Z",
     "shell.execute_reply": "2022-06-01T20:54:28.923803Z"
    },
    "id": "zpxqS0CQvj74",
    "outputId": "c7c6e53e-f04b-44c4-a738-80897f7e8cb9",
    "papermill": {
     "duration": 1.406597,
     "end_time": "2022-06-01T20:54:28.928230",
     "exception": false,
     "start_time": "2022-06-01T20:54:27.521633",
     "status": "completed"
    },
    "tags": []
   },
   "outputs": [
    {
     "name": "stdout",
     "output_type": "stream",
     "text": [
      "Model: \"model\"\n",
      "__________________________________________________________________________________________________\n",
      "Layer (type)                    Output Shape         Param #     Connected to                     \n",
      "==================================================================================================\n",
      "input_1 (InputLayer)            [(None, 18)]         0                                            \n",
      "__________________________________________________________________________________________________\n",
      "input_2 (InputLayer)            [(None, 113)]        0                                            \n",
      "__________________________________________________________________________________________________\n",
      "embedding (Embedding)           (None, 18, 200)      1026600     input_1[0][0]                    \n",
      "__________________________________________________________________________________________________\n",
      "embedding_1 (Embedding)         (None, 113, 200)     1026600     input_2[0][0]                    \n",
      "__________________________________________________________________________________________________\n",
      "lstm (LSTM)                     [(None, 200), (None, 320800      embedding[0][0]                  \n",
      "__________________________________________________________________________________________________\n",
      "lstm_1 (LSTM)                   [(None, 113, 200), ( 320800      embedding_1[0][0]                \n",
      "                                                                 lstm[0][1]                       \n",
      "                                                                 lstm[0][2]                       \n",
      "__________________________________________________________________________________________________\n",
      "dense (Dense)                   (None, 113, 5133)    1031733     lstm_1[0][0]                     \n",
      "==================================================================================================\n",
      "Total params: 3,726,533\n",
      "Trainable params: 3,726,533\n",
      "Non-trainable params: 0\n",
      "__________________________________________________________________________________________________\n",
      "None\n"
     ]
    },
    {
     "data": {
      "image/png": "[encoded data removed]",
      "text/plain": [
       "<IPython.core.display.Image object>"
      ]
     },
     "execution_count": 15,
     "metadata": {},
     "output_type": "execute_result"
    }
   ],
   "source": [
    "model = Model([encoder_inputs, decoder_inputs], output)\n",
    "model.compile(loss='categorical_crossentropy', optimizer='adam', metrics=['accuracy'])\n",
    "print(model.summary())\n",
    "plot_model(model, rankdir='LR', show_shapes=True)"
   ]
  },
  {
   "cell_type": "code",
   "execution_count": 16,
   "id": "0cdba0e4",
   "metadata": {
    "execution": {
     "iopub.execute_input": "2022-06-01T20:54:28.955018Z",
     "iopub.status.busy": "2022-06-01T20:54:28.954249Z",
     "iopub.status.idle": "2022-06-01T23:56:53.860821Z",
     "shell.execute_reply": "2022-06-01T23:56:53.859507Z"
    },
    "id": "Gi27qYt8vj74",
    "outputId": "03dd453c-8dec-4c03-930a-dfeabf65390c",
    "papermill": {
     "duration": 10944.923339,
     "end_time": "2022-06-01T23:56:53.864106",
     "exception": false,
     "start_time": "2022-06-01T20:54:28.940767",
     "status": "completed"
    },
    "tags": []
   },
   "outputs": [
    {
     "name": "stderr",
     "output_type": "stream",
     "text": [
      "2022-06-01 20:54:32.089896: I tensorflow/compiler/mlir/mlir_graph_optimization_pass.cc:185] None of the MLIR Optimization Passes are enabled (registered 2)\n"
     ]
    },
    {
     "name": "stdout",
     "output_type": "stream",
     "text": [
      "Epoch 1/100\n",
      "152/152 [==============================] - 119s 723ms/step - loss: 0.5097 - accuracy: 0.1733 - val_loss: 0.4570 - val_accuracy: 0.2302\n",
      "Epoch 2/100\n",
      "152/152 [==============================] - 108s 708ms/step - loss: 0.4274 - accuracy: 0.2448 - val_loss: 0.4446 - val_accuracy: 0.2390\n",
      "Epoch 3/100\n",
      "152/152 [==============================] - 109s 715ms/step - loss: 0.4132 - accuracy: 0.2518 - val_loss: 0.4396 - val_accuracy: 0.2444\n",
      "Epoch 4/100\n",
      "152/152 [==============================] - 109s 719ms/step - loss: 0.4023 - accuracy: 0.2577 - val_loss: 0.4349 - val_accuracy: 0.2479\n",
      "Epoch 5/100\n",
      "152/152 [==============================] - 108s 710ms/step - loss: 0.3922 - accuracy: 0.2621 - val_loss: 0.4312 - val_accuracy: 0.2530\n",
      "Epoch 6/100\n",
      "152/152 [==============================] - 109s 716ms/step - loss: 0.3819 - accuracy: 0.2671 - val_loss: 0.4270 - val_accuracy: 0.2567\n",
      "Epoch 7/100\n",
      "152/152 [==============================] - 108s 711ms/step - loss: 0.3716 - accuracy: 0.2727 - val_loss: 0.4239 - val_accuracy: 0.2577\n",
      "Epoch 8/100\n",
      "152/152 [==============================] - 108s 711ms/step - loss: 0.3607 - accuracy: 0.2820 - val_loss: 0.4196 - val_accuracy: 0.2664\n",
      "Epoch 9/100\n",
      "152/152 [==============================] - 107s 707ms/step - loss: 0.3498 - accuracy: 0.2920 - val_loss: 0.4175 - val_accuracy: 0.2681\n",
      "Epoch 10/100\n",
      "152/152 [==============================] - 110s 722ms/step - loss: 0.3388 - accuracy: 0.3033 - val_loss: 0.4150 - val_accuracy: 0.2748\n",
      "Epoch 11/100\n",
      "152/152 [==============================] - 110s 722ms/step - loss: 0.3282 - accuracy: 0.3138 - val_loss: 0.4136 - val_accuracy: 0.2736\n",
      "Epoch 12/100\n",
      "152/152 [==============================] - 109s 714ms/step - loss: 0.3179 - accuracy: 0.3225 - val_loss: 0.4132 - val_accuracy: 0.2791\n",
      "Epoch 13/100\n",
      "152/152 [==============================] - 108s 714ms/step - loss: 0.3076 - accuracy: 0.3321 - val_loss: 0.4116 - val_accuracy: 0.2840\n",
      "Epoch 14/100\n",
      "152/152 [==============================] - 107s 702ms/step - loss: 0.2978 - accuracy: 0.3407 - val_loss: 0.4109 - val_accuracy: 0.2848\n",
      "Epoch 15/100\n",
      "152/152 [==============================] - 108s 709ms/step - loss: 0.2879 - accuracy: 0.3514 - val_loss: 0.4109 - val_accuracy: 0.2895\n",
      "Epoch 16/100\n",
      "152/152 [==============================] - 107s 703ms/step - loss: 0.2784 - accuracy: 0.3633 - val_loss: 0.4115 - val_accuracy: 0.2915\n",
      "Epoch 17/100\n",
      "152/152 [==============================] - 107s 706ms/step - loss: 0.2690 - accuracy: 0.3758 - val_loss: 0.4117 - val_accuracy: 0.2952\n",
      "Epoch 18/100\n",
      "152/152 [==============================] - 107s 703ms/step - loss: 0.2597 - accuracy: 0.3880 - val_loss: 0.4116 - val_accuracy: 0.2917\n",
      "Epoch 19/100\n",
      "152/152 [==============================] - 107s 702ms/step - loss: 0.2507 - accuracy: 0.4031 - val_loss: 0.4125 - val_accuracy: 0.2954\n",
      "Epoch 20/100\n",
      "152/152 [==============================] - 109s 718ms/step - loss: 0.2417 - accuracy: 0.4174 - val_loss: 0.4132 - val_accuracy: 0.2950\n",
      "Epoch 21/100\n",
      "152/152 [==============================] - 109s 718ms/step - loss: 0.2333 - accuracy: 0.4322 - val_loss: 0.4154 - val_accuracy: 0.2994\n",
      "Epoch 22/100\n",
      "152/152 [==============================] - 108s 710ms/step - loss: 0.2249 - accuracy: 0.4481 - val_loss: 0.4163 - val_accuracy: 0.3005\n",
      "Epoch 23/100\n",
      "152/152 [==============================] - 108s 710ms/step - loss: 0.2167 - accuracy: 0.4650 - val_loss: 0.4163 - val_accuracy: 0.2999\n",
      "Epoch 24/100\n",
      "152/152 [==============================] - 107s 705ms/step - loss: 0.2085 - accuracy: 0.4814 - val_loss: 0.4184 - val_accuracy: 0.3041\n",
      "Epoch 25/100\n",
      "152/152 [==============================] - 107s 707ms/step - loss: 0.2008 - accuracy: 0.5020 - val_loss: 0.4202 - val_accuracy: 0.3037\n",
      "Epoch 26/100\n",
      "152/152 [==============================] - 110s 720ms/step - loss: 0.1930 - accuracy: 0.5200 - val_loss: 0.4208 - val_accuracy: 0.3029\n",
      "Epoch 27/100\n",
      "152/152 [==============================] - 109s 719ms/step - loss: 0.1859 - accuracy: 0.5348 - val_loss: 0.4226 - val_accuracy: 0.3072\n",
      "Epoch 28/100\n",
      "152/152 [==============================] - 107s 707ms/step - loss: 0.1791 - accuracy: 0.5519 - val_loss: 0.4250 - val_accuracy: 0.3027\n",
      "Epoch 29/100\n",
      "152/152 [==============================] - 108s 712ms/step - loss: 0.1720 - accuracy: 0.5677 - val_loss: 0.4273 - val_accuracy: 0.3074\n",
      "Epoch 30/100\n",
      "152/152 [==============================] - 107s 703ms/step - loss: 0.1654 - accuracy: 0.5830 - val_loss: 0.4298 - val_accuracy: 0.3080\n",
      "Epoch 31/100\n",
      "152/152 [==============================] - 108s 711ms/step - loss: 0.1590 - accuracy: 0.5998 - val_loss: 0.4326 - val_accuracy: 0.3080\n",
      "Epoch 32/100\n",
      "152/152 [==============================] - 109s 720ms/step - loss: 0.1534 - accuracy: 0.6109 - val_loss: 0.4332 - val_accuracy: 0.3054\n",
      "Epoch 33/100\n",
      "152/152 [==============================] - 108s 712ms/step - loss: 0.1478 - accuracy: 0.6243 - val_loss: 0.4355 - val_accuracy: 0.3098\n",
      "Epoch 34/100\n",
      "152/152 [==============================] - 106s 699ms/step - loss: 0.1426 - accuracy: 0.6356 - val_loss: 0.4383 - val_accuracy: 0.3100\n",
      "Epoch 35/100\n",
      "152/152 [==============================] - 109s 718ms/step - loss: 0.1372 - accuracy: 0.6495 - val_loss: 0.4401 - val_accuracy: 0.3105\n",
      "Epoch 36/100\n",
      "152/152 [==============================] - 108s 711ms/step - loss: 0.1321 - accuracy: 0.6608 - val_loss: 0.4434 - val_accuracy: 0.3123\n",
      "Epoch 37/100\n",
      "152/152 [==============================] - 109s 718ms/step - loss: 0.1271 - accuracy: 0.6737 - val_loss: 0.4458 - val_accuracy: 0.3111\n",
      "Epoch 38/100\n",
      "152/152 [==============================] - 111s 729ms/step - loss: 0.1224 - accuracy: 0.6842 - val_loss: 0.4487 - val_accuracy: 0.3160\n",
      "Epoch 39/100\n",
      "152/152 [==============================] - 107s 702ms/step - loss: 0.1178 - accuracy: 0.6945 - val_loss: 0.4508 - val_accuracy: 0.3155\n",
      "Epoch 40/100\n",
      "152/152 [==============================] - 108s 711ms/step - loss: 0.1136 - accuracy: 0.7048 - val_loss: 0.4524 - val_accuracy: 0.3149\n",
      "Epoch 41/100\n",
      "152/152 [==============================] - 109s 719ms/step - loss: 0.1097 - accuracy: 0.7158 - val_loss: 0.4552 - val_accuracy: 0.3155\n",
      "Epoch 42/100\n",
      "152/152 [==============================] - 107s 704ms/step - loss: 0.1057 - accuracy: 0.7252 - val_loss: 0.4582 - val_accuracy: 0.3127\n",
      "Epoch 43/100\n",
      "152/152 [==============================] - 108s 713ms/step - loss: 0.1018 - accuracy: 0.7345 - val_loss: 0.4610 - val_accuracy: 0.3160\n",
      "Epoch 44/100\n",
      "152/152 [==============================] - 109s 714ms/step - loss: 0.0979 - accuracy: 0.7446 - val_loss: 0.4648 - val_accuracy: 0.3190\n",
      "Epoch 45/100\n",
      "152/152 [==============================] - 108s 713ms/step - loss: 0.0941 - accuracy: 0.7540 - val_loss: 0.4661 - val_accuracy: 0.3157\n",
      "Epoch 46/100\n",
      "152/152 [==============================] - 107s 705ms/step - loss: 0.0908 - accuracy: 0.7641 - val_loss: 0.4703 - val_accuracy: 0.3202\n",
      "Epoch 47/100\n",
      "152/152 [==============================] - 109s 719ms/step - loss: 0.0876 - accuracy: 0.7723 - val_loss: 0.4737 - val_accuracy: 0.3160\n",
      "Epoch 48/100\n",
      "152/152 [==============================] - 107s 703ms/step - loss: 0.0846 - accuracy: 0.7776 - val_loss: 0.4750 - val_accuracy: 0.3168\n",
      "Epoch 49/100\n",
      "152/152 [==============================] - 107s 703ms/step - loss: 0.0818 - accuracy: 0.7854 - val_loss: 0.4795 - val_accuracy: 0.3223\n",
      "Epoch 50/100\n",
      "152/152 [==============================] - 106s 699ms/step - loss: 0.0786 - accuracy: 0.7948 - val_loss: 0.4820 - val_accuracy: 0.3204\n",
      "Epoch 51/100\n",
      "152/152 [==============================] - 106s 699ms/step - loss: 0.0755 - accuracy: 0.8017 - val_loss: 0.4840 - val_accuracy: 0.3174\n",
      "Epoch 52/100\n",
      "152/152 [==============================] - 106s 697ms/step - loss: 0.0727 - accuracy: 0.8091 - val_loss: 0.4867 - val_accuracy: 0.3214\n",
      "Epoch 53/100\n",
      "152/152 [==============================] - 107s 707ms/step - loss: 0.0702 - accuracy: 0.8157 - val_loss: 0.4912 - val_accuracy: 0.3221\n",
      "Epoch 54/100\n",
      "152/152 [==============================] - 109s 715ms/step - loss: 0.0676 - accuracy: 0.8220 - val_loss: 0.4931 - val_accuracy: 0.3196\n",
      "Epoch 55/100\n",
      "152/152 [==============================] - 111s 729ms/step - loss: 0.0652 - accuracy: 0.8284 - val_loss: 0.4969 - val_accuracy: 0.3178\n",
      "Epoch 56/100\n",
      "152/152 [==============================] - 108s 709ms/step - loss: 0.0628 - accuracy: 0.8350 - val_loss: 0.4999 - val_accuracy: 0.3212\n",
      "Epoch 57/100\n",
      "152/152 [==============================] - 108s 708ms/step - loss: 0.0608 - accuracy: 0.8403 - val_loss: 0.5031 - val_accuracy: 0.3243\n",
      "Epoch 58/100\n",
      "152/152 [==============================] - 109s 716ms/step - loss: 0.0585 - accuracy: 0.8463 - val_loss: 0.5068 - val_accuracy: 0.3245\n",
      "Epoch 59/100\n",
      "152/152 [==============================] - 109s 716ms/step - loss: 0.0565 - accuracy: 0.8515 - val_loss: 0.5087 - val_accuracy: 0.3235\n",
      "Epoch 60/100\n",
      "152/152 [==============================] - 111s 732ms/step - loss: 0.0544 - accuracy: 0.8582 - val_loss: 0.5123 - val_accuracy: 0.3247\n",
      "Epoch 61/100\n",
      "152/152 [==============================] - 110s 721ms/step - loss: 0.0525 - accuracy: 0.8635 - val_loss: 0.5135 - val_accuracy: 0.3208\n",
      "Epoch 62/100\n",
      "152/152 [==============================] - 112s 735ms/step - loss: 0.0506 - accuracy: 0.8683 - val_loss: 0.5187 - val_accuracy: 0.3233\n",
      "Epoch 63/100\n",
      "152/152 [==============================] - 111s 732ms/step - loss: 0.0487 - accuracy: 0.8721 - val_loss: 0.5207 - val_accuracy: 0.3235\n",
      "Epoch 64/100\n",
      "152/152 [==============================] - 113s 741ms/step - loss: 0.0473 - accuracy: 0.8768 - val_loss: 0.5243 - val_accuracy: 0.3219\n",
      "Epoch 65/100\n",
      "152/152 [==============================] - 111s 733ms/step - loss: 0.0459 - accuracy: 0.8802 - val_loss: 0.5266 - val_accuracy: 0.3235\n",
      "Epoch 66/100\n",
      "152/152 [==============================] - 111s 732ms/step - loss: 0.0441 - accuracy: 0.8848 - val_loss: 0.5290 - val_accuracy: 0.3214\n",
      "Epoch 67/100\n",
      "152/152 [==============================] - 106s 700ms/step - loss: 0.0426 - accuracy: 0.8876 - val_loss: 0.5322 - val_accuracy: 0.3212\n",
      "Epoch 68/100\n",
      "152/152 [==============================] - 108s 710ms/step - loss: 0.0408 - accuracy: 0.8935 - val_loss: 0.5350 - val_accuracy: 0.3243\n",
      "Epoch 69/100\n",
      "152/152 [==============================] - 109s 715ms/step - loss: 0.0395 - accuracy: 0.8958 - val_loss: 0.5389 - val_accuracy: 0.3267\n",
      "Epoch 70/100\n",
      "152/152 [==============================] - 109s 720ms/step - loss: 0.0382 - accuracy: 0.8997 - val_loss: 0.5416 - val_accuracy: 0.3270\n",
      "Epoch 71/100\n",
      "152/152 [==============================] - 109s 715ms/step - loss: 0.0368 - accuracy: 0.9018 - val_loss: 0.5432 - val_accuracy: 0.3259\n",
      "Epoch 72/100\n",
      "152/152 [==============================] - 108s 712ms/step - loss: 0.0356 - accuracy: 0.9052 - val_loss: 0.5472 - val_accuracy: 0.3247\n",
      "Epoch 73/100\n",
      "152/152 [==============================] - 109s 717ms/step - loss: 0.0344 - accuracy: 0.9085 - val_loss: 0.5507 - val_accuracy: 0.3243\n",
      "Epoch 74/100\n",
      "152/152 [==============================] - 112s 739ms/step - loss: 0.0332 - accuracy: 0.9117 - val_loss: 0.5535 - val_accuracy: 0.3282\n",
      "Epoch 75/100\n",
      "152/152 [==============================] - 108s 710ms/step - loss: 0.0320 - accuracy: 0.9148 - val_loss: 0.5556 - val_accuracy: 0.3278\n",
      "Epoch 76/100\n",
      "152/152 [==============================] - 112s 737ms/step - loss: 0.0311 - accuracy: 0.9158 - val_loss: 0.5600 - val_accuracy: 0.3269\n",
      "Epoch 77/100\n",
      "152/152 [==============================] - 116s 762ms/step - loss: 0.0304 - accuracy: 0.9191 - val_loss: 0.5618 - val_accuracy: 0.3221\n",
      "Epoch 78/100\n",
      "152/152 [==============================] - 113s 745ms/step - loss: 0.0296 - accuracy: 0.9208 - val_loss: 0.5661 - val_accuracy: 0.3253\n",
      "Epoch 79/100\n",
      "152/152 [==============================] - 111s 729ms/step - loss: 0.0286 - accuracy: 0.9228 - val_loss: 0.5675 - val_accuracy: 0.3261\n",
      "Epoch 80/100\n",
      "152/152 [==============================] - 111s 730ms/step - loss: 0.0274 - accuracy: 0.9255 - val_loss: 0.5718 - val_accuracy: 0.3296\n",
      "Epoch 81/100\n",
      "152/152 [==============================] - 113s 743ms/step - loss: 0.0266 - accuracy: 0.9269 - val_loss: 0.5736 - val_accuracy: 0.3270\n",
      "Epoch 82/100\n",
      "152/152 [==============================] - 110s 721ms/step - loss: 0.0258 - accuracy: 0.9292 - val_loss: 0.5756 - val_accuracy: 0.3245\n",
      "Epoch 83/100\n",
      "152/152 [==============================] - 113s 746ms/step - loss: 0.0249 - accuracy: 0.9313 - val_loss: 0.5792 - val_accuracy: 0.3290\n",
      "Epoch 84/100\n",
      "152/152 [==============================] - 112s 739ms/step - loss: 0.0243 - accuracy: 0.9322 - val_loss: 0.5827 - val_accuracy: 0.3261\n",
      "Epoch 85/100\n",
      "152/152 [==============================] - 114s 748ms/step - loss: 0.0235 - accuracy: 0.9336 - val_loss: 0.5860 - val_accuracy: 0.3261\n",
      "Epoch 86/100\n",
      "152/152 [==============================] - 110s 724ms/step - loss: 0.0228 - accuracy: 0.9360 - val_loss: 0.5864 - val_accuracy: 0.3249\n",
      "Epoch 87/100\n",
      "152/152 [==============================] - 113s 746ms/step - loss: 0.0227 - accuracy: 0.9355 - val_loss: 0.5902 - val_accuracy: 0.3278\n",
      "Epoch 88/100\n",
      "152/152 [==============================] - 113s 746ms/step - loss: 0.0220 - accuracy: 0.9365 - val_loss: 0.5946 - val_accuracy: 0.3290\n",
      "Epoch 89/100\n",
      "152/152 [==============================] - 112s 739ms/step - loss: 0.0214 - accuracy: 0.9383 - val_loss: 0.5964 - val_accuracy: 0.3298\n",
      "Epoch 90/100\n",
      "152/152 [==============================] - 112s 735ms/step - loss: 0.0209 - accuracy: 0.9396 - val_loss: 0.5975 - val_accuracy: 0.3249\n",
      "Epoch 91/100\n",
      "152/152 [==============================] - 113s 743ms/step - loss: 0.0202 - accuracy: 0.9402 - val_loss: 0.6010 - val_accuracy: 0.3212\n",
      "Epoch 92/100\n",
      "152/152 [==============================] - 116s 766ms/step - loss: 0.0196 - accuracy: 0.9410 - val_loss: 0.6024 - val_accuracy: 0.3270\n",
      "Epoch 93/100\n",
      "152/152 [==============================] - 120s 787ms/step - loss: 0.0191 - accuracy: 0.9430 - val_loss: 0.6078 - val_accuracy: 0.3278\n",
      "Epoch 94/100\n",
      "152/152 [==============================] - 115s 756ms/step - loss: 0.0186 - accuracy: 0.9428 - val_loss: 0.6091 - val_accuracy: 0.3249\n",
      "Epoch 95/100\n",
      "152/152 [==============================] - 110s 721ms/step - loss: 0.0181 - accuracy: 0.9437 - val_loss: 0.6132 - val_accuracy: 0.3251\n",
      "Epoch 96/100\n",
      "152/152 [==============================] - 107s 702ms/step - loss: 0.0178 - accuracy: 0.9443 - val_loss: 0.6132 - val_accuracy: 0.3263\n",
      "Epoch 97/100\n",
      "152/152 [==============================] - 108s 708ms/step - loss: 0.0175 - accuracy: 0.9442 - val_loss: 0.6163 - val_accuracy: 0.3259\n",
      "Epoch 98/100\n",
      "152/152 [==============================] - 109s 720ms/step - loss: 0.0172 - accuracy: 0.9451 - val_loss: 0.6195 - val_accuracy: 0.3243\n",
      "Epoch 99/100\n",
      "152/152 [==============================] - 108s 714ms/step - loss: 0.0170 - accuracy: 0.9457 - val_loss: 0.6198 - val_accuracy: 0.3251\n",
      "Epoch 100/100\n",
      "152/152 [==============================] - 107s 707ms/step - loss: 0.0165 - accuracy: 0.9457 - val_loss: 0.6235 - val_accuracy: 0.3265\n"
     ]
    }
   ],
   "source": [
    "history = model.fit([encoder_input_data, decoder_input_data], decoder_output_data, epochs=100, validation_split=0.1) # epochs >= 10"
   ]
  },
  {
   "cell_type": "code",
   "execution_count": 17,
   "id": "5ffe1c17",
   "metadata": {
    "execution": {
     "iopub.execute_input": "2022-06-01T23:56:56.210969Z",
     "iopub.status.busy": "2022-06-01T23:56:56.210585Z",
     "iopub.status.idle": "2022-06-01T23:56:57.101308Z",
     "shell.execute_reply": "2022-06-01T23:56:57.100283Z"
    },
    "id": "QaESKXhfvj75",
    "papermill": {
     "duration": 2.112994,
     "end_time": "2022-06-01T23:56:57.103980",
     "exception": false,
     "start_time": "2022-06-01T23:56:54.990986",
     "status": "completed"
    },
    "scrolled": true,
    "tags": []
   },
   "outputs": [],
   "source": [
    "def make_inference_models():\n",
    "    \n",
    "    # encoder model takes questions as input and output its LSTM state\n",
    "    encoder_model = Model(encoder_inputs, encoder_states)\n",
    "    \n",
    "    # decoder takes encoder output states as its initial state \n",
    "    # and 200 is the output of encoder last hidden and cell states dimension\n",
    "    decoder_state_input_h = Input(shape=(200,))\n",
    "    decoder_state_input_c = Input(shape=(200,))\n",
    "    decoder_states_inputs = [decoder_state_input_h, decoder_state_input_c]\n",
    "    \n",
    "    # use these pre-trained layers of the model: decoder_embedding, decoder_lstm, decoder_dense \n",
    "    decoder_outputs, state_h, state_c = decoder_lstm(decoder_embedding, initial_state=decoder_states_inputs)\n",
    "    decoder_states = [state_h, state_c]\n",
    "    decoder_outputs = decoder_dense(decoder_outputs)\n",
    "    \n",
    "    # decoder model takes one token and the states predicted from enc_model   \n",
    "    decoder_model = Model([decoder_inputs] + decoder_states_inputs, [decoder_outputs] + decoder_states)\n",
    "    \n",
    "    return encoder_model, decoder_model\n",
    "\n",
    "enc_model, dec_model = make_inference_models()\n",
    "enc_model.save('enc_model.h5')\n",
    "dec_model.save('dec_model.h5')"
   ]
  },
  {
   "cell_type": "code",
   "execution_count": 18,
   "id": "1a27de8d",
   "metadata": {
    "execution": {
     "iopub.execute_input": "2022-06-01T23:56:59.416327Z",
     "iopub.status.busy": "2022-06-01T23:56:59.415886Z",
     "iopub.status.idle": "2022-06-01T23:56:59.420139Z",
     "shell.execute_reply": "2022-06-01T23:56:59.419184Z"
    },
    "papermill": {
     "duration": 1.205142,
     "end_time": "2022-06-01T23:56:59.422336",
     "exception": false,
     "start_time": "2022-06-01T23:56:58.217194",
     "status": "completed"
    },
    "tags": []
   },
   "outputs": [],
   "source": [
    "# # load model\n",
    "# enc_model = load_model('./../input/chatbot-data/enc_model.h5')\n",
    "# dec_model = load_model('../input/chatbot-data/dec_model.h5')"
   ]
  },
  {
   "cell_type": "code",
   "execution_count": 19,
   "id": "ca3feb07",
   "metadata": {
    "execution": {
     "iopub.execute_input": "2022-06-01T23:57:01.827328Z",
     "iopub.status.busy": "2022-06-01T23:57:01.826718Z",
     "iopub.status.idle": "2022-06-01T23:57:01.834471Z",
     "shell.execute_reply": "2022-06-01T23:57:01.833267Z"
    },
    "id": "iZJwkGzpvj75",
    "papermill": {
     "duration": 1.290037,
     "end_time": "2022-06-01T23:57:01.836527",
     "exception": false,
     "start_time": "2022-06-01T23:57:00.546490",
     "status": "completed"
    },
    "tags": []
   },
   "outputs": [],
   "source": [
    "def format_question(sent:str):\n",
    "    sent = normalize([sent], keep_stop_word=False)[0]\n",
    "    words = sent.split()\n",
    "    token_list = []\n",
    "    for word in words:\n",
    "        try:\n",
    "            index = tokenizer.word_index[word]\n",
    "        except KeyError:\n",
    "            index = tokenizer.word_index['<unk>']\n",
    "        token_list.append(index)\n",
    "    return pad_sequences([token_list], maxlen=MAXLEN_QUESTION, padding='post', truncating='post')"
   ]
  },
  {
   "cell_type": "code",
   "execution_count": 20,
   "id": "99681d22",
   "metadata": {
    "execution": {
     "iopub.execute_input": "2022-06-01T23:57:04.283954Z",
     "iopub.status.busy": "2022-06-01T23:57:04.283563Z",
     "iopub.status.idle": "2022-06-01T23:57:04.295795Z",
     "shell.execute_reply": "2022-06-01T23:57:04.294701Z"
    },
    "id": "v_4uY17Uvj77",
    "papermill": {
     "duration": 1.289359,
     "end_time": "2022-06-01T23:57:04.298034",
     "exception": false,
     "start_time": "2022-06-01T23:57:03.008675",
     "status": "completed"
    },
    "tags": []
   },
   "outputs": [],
   "source": [
    "def ask(question):\n",
    "    print('Q:', question)\n",
    "    question = format_question(question)\n",
    "    states_values = enc_model.predict(question)\n",
    "    target_seq = np.zeros((1, 1))\n",
    "    target_seq[0, 0] = tokenizer.word_index['<start>']\n",
    "    \n",
    "    stop_condition = False\n",
    "    decoded_seq = ''\n",
    "    while not stop_condition:\n",
    "        # dec_outputs return a one hot vector with the dimension number of vocab size\n",
    "        dec_outputs, h, c = dec_model.predict([target_seq] + states_values)\n",
    "        gen_word_index = np.argmax(dec_outputs[0, -1])\n",
    "        gen_word = tokenizer.index_word[gen_word_index]\n",
    "        \n",
    "        if gen_word == '<end>' or len(decoded_seq.split()) > MAXLEN_ANSWER:\n",
    "            stop_condition = True\n",
    "        else:\n",
    "            decoded_seq += gen_word + ' '\n",
    "            \n",
    "        target_seq = np.zeros((1, 1))  \n",
    "        target_seq[0, 0] = gen_word_index\n",
    "        states_values = [h, c]\n",
    "        \n",
    "    answer = decoded_seq[0].upper() + decoded_seq[1:].replace('_', ' ')\n",
    "    print('A:', answer.strip(), '\\n')"
   ]
  },
  {
   "cell_type": "code",
   "execution_count": 21,
   "id": "2391fa88",
   "metadata": {
    "execution": {
     "iopub.execute_input": "2022-06-01T23:57:06.691483Z",
     "iopub.status.busy": "2022-06-01T23:57:06.690427Z",
     "iopub.status.idle": "2022-06-01T23:57:12.643886Z",
     "shell.execute_reply": "2022-06-01T23:57:12.642611Z"
    },
    "papermill": {
     "duration": 7.164617,
     "end_time": "2022-06-01T23:57:12.646519",
     "exception": false,
     "start_time": "2022-06-01T23:57:05.481902",
     "status": "completed"
    },
    "tags": []
   },
   "outputs": [
    {
     "name": "stdout",
     "output_type": "stream",
     "text": [
      "Q: Bạn sinh năm bao nhiêu?\n",
      "A: Mình sinh năm 2001 \n",
      "\n",
      "Q: Có người yêu chưa?\n",
      "A: Mình chưa có người yêu \n",
      "\n",
      "Q: Shop tư vấn cho mình một số mẫu giày thích hợp để đi chơi được không?\n",
      "A: Bạn có thể tham khảo vài đôi giày của adidas hoặc nike \n",
      "\n",
      "Q: Quê bạn ở đâu?\n",
      "A: Quê mình ở thành phố hồ chí minh \n",
      "\n",
      "Q: Bạn thường làm gì trong thời gian rảnh?\n",
      "A: Mình thường chơi game \n",
      "\n",
      "Q: Bạn có muốn đi xem phim vào cuối tuần này hay không?\n",
      "A: Dĩ nhiên là muốn rồi \n",
      "\n",
      "Q: Bạn thích môn thể thao gì?\n",
      "A: Đá banh \n",
      "\n"
     ]
    }
   ],
   "source": [
    "ask('Bạn sinh năm bao nhiêu?')\n",
    "ask('Có người yêu chưa?')\n",
    "ask('Shop tư vấn cho mình một số mẫu giày thích hợp để đi chơi được không?')\n",
    "ask('Quê bạn ở đâu?')\n",
    "ask('Bạn thường làm gì trong thời gian rảnh?')\n",
    "ask('Bạn có muốn đi xem phim vào cuối tuần này hay không?')\n",
    "ask('Bạn thích môn thể thao gì?')"
   ]
  },
  {
   "cell_type": "code",
   "execution_count": 22,
   "id": "5da3164b",
   "metadata": {
    "execution": {
     "iopub.execute_input": "2022-06-01T23:57:15.010280Z",
     "iopub.status.busy": "2022-06-01T23:57:15.009851Z",
     "iopub.status.idle": "2022-06-01T23:57:15.281475Z",
     "shell.execute_reply": "2022-06-01T23:57:15.280222Z"
    },
    "papermill": {
     "duration": 1.493031,
     "end_time": "2022-06-01T23:57:15.283848",
     "exception": false,
     "start_time": "2022-06-01T23:57:13.790817",
     "status": "completed"
    },
    "tags": []
   },
   "outputs": [
    {
     "data": {
      "image/png": "[encoded data removed]",
      "text/plain": [
       "<Figure size 432x288 with 1 Axes>"
      ]
     },
     "metadata": {
      "needs_background": "light"
     },
     "output_type": "display_data"
    }
   ],
   "source": [
    "from matplotlib import pyplot as plt\n",
    "plt.plot(history.history['loss'])\n",
    "plt.plot(history.history['val_loss'])\n",
    "plt.title('Model loss')\n",
    "plt.ylabel('loss')\n",
    "plt.xlabel('epoch')\n",
    "plt.legend(['train', 'val'], loc='best')\n",
    "plt.show()"
   ]
  },
  {
   "cell_type": "code",
   "execution_count": null,
   "id": "fadc5a3e",
   "metadata": {
    "papermill": {
     "duration": 1.282881,
     "end_time": "2022-06-01T23:57:17.744227",
     "exception": false,
     "start_time": "2022-06-01T23:57:16.461346",
     "status": "completed"
    },
    "tags": []
   },
   "outputs": [],
   "source": []
  }
 ],
 "metadata": {
  "kernelspec": {
   "display_name": "Python 3",
   "language": "python",
   "name": "python3"
  },
  "language_info": {
   "codemirror_mode": {
    "name": "ipython",
    "version": 3
   },
   "file_extension": ".py",
   "mimetype": "text/x-python",
   "name": "python",
   "nbconvert_exporter": "python",
   "pygments_lexer": "ipython3",
   "version": "3.7.12"
  },
  "papermill": {
   "default_parameters": {},
   "duration": 11020.918595,
   "end_time": "2022-06-01T23:57:22.819686",
   "environment_variables": {},
   "exception": null,
   "input_path": "__notebook__.ipynb",
   "output_path": "__notebook__.ipynb",
   "parameters": {},
   "start_time": "2022-06-01T20:53:41.901091",
   "version": "2.3.4"
  }
 },
 "nbformat": 4,
 "nbformat_minor": 5
}
