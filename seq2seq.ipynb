{
 "cells": [
  {
   "cell_type": "code",
   "execution_count": 1,
   "id": "cb6fce92",
   "metadata": {
    "execution": {
     "iopub.execute_input": "2022-05-30T19:57:20.200476Z",
     "iopub.status.busy": "2022-05-30T19:57:20.199611Z",
     "iopub.status.idle": "2022-05-30T19:57:37.555614Z",
     "shell.execute_reply": "2022-05-30T19:57:37.554626Z"
    },
    "id": "3XCqd9nmmini",
    "papermill": {
     "duration": 17.370599,
     "end_time": "2022-05-30T19:57:37.558056",
     "exception": false,
     "start_time": "2022-05-30T19:57:20.187457",
     "status": "completed"
    },
    "tags": []
   },
   "outputs": [
    {
     "name": "stdout",
     "output_type": "stream",
     "text": [
      "Collecting pyvi\r\n",
      "  Downloading pyvi-0.1.1-py2.py3-none-any.whl (8.5 MB)\r\n",
      "\u001b[2K     \u001b[90m━━━━━━━━━━━━━━━━━━━━━━━━━━━━━━━━━━━━━━━━\u001b[0m \u001b[32m8.5/8.5 MB\u001b[0m \u001b[31m5.7 MB/s\u001b[0m eta \u001b[36m0:00:00\u001b[0m\r\n",
      "\u001b[?25hCollecting sklearn-crfsuite\r\n",
      "  Downloading sklearn_crfsuite-0.3.6-py2.py3-none-any.whl (12 kB)\r\n",
      "Requirement already satisfied: scikit-learn in /opt/conda/lib/python3.7/site-packages (from pyvi) (1.0.2)\r\n",
      "Requirement already satisfied: threadpoolctl>=2.0.0 in /opt/conda/lib/python3.7/site-packages (from scikit-learn->pyvi) (3.1.0)\r\n",
      "Requirement already satisfied: joblib>=0.11 in /opt/conda/lib/python3.7/site-packages (from scikit-learn->pyvi) (1.1.0)\r\n",
      "Requirement already satisfied: numpy>=1.14.6 in /opt/conda/lib/python3.7/site-packages (from scikit-learn->pyvi) (1.21.6)\r\n",
      "Requirement already satisfied: scipy>=1.1.0 in /opt/conda/lib/python3.7/site-packages (from scikit-learn->pyvi) (1.7.3)\r\n",
      "Collecting python-crfsuite>=0.8.3\r\n",
      "  Downloading python_crfsuite-0.9.8-cp37-cp37m-manylinux_2_17_x86_64.manylinux2014_x86_64.whl (965 kB)\r\n",
      "\u001b[2K     \u001b[90m━━━━━━━━━━━━━━━━━━━━━━━━━━━━━━━━━━━━━━\u001b[0m \u001b[32m965.4/965.4 kB\u001b[0m \u001b[31m32.5 MB/s\u001b[0m eta \u001b[36m0:00:00\u001b[0m\r\n",
      "\u001b[?25hRequirement already satisfied: tqdm>=2.0 in /opt/conda/lib/python3.7/site-packages (from sklearn-crfsuite->pyvi) (4.64.0)\r\n",
      "Requirement already satisfied: tabulate in /opt/conda/lib/python3.7/site-packages (from sklearn-crfsuite->pyvi) (0.8.9)\r\n",
      "Requirement already satisfied: six in /opt/conda/lib/python3.7/site-packages (from sklearn-crfsuite->pyvi) (1.16.0)\r\n",
      "Installing collected packages: python-crfsuite, sklearn-crfsuite, pyvi\r\n",
      "Successfully installed python-crfsuite-0.9.8 pyvi-0.1.1 sklearn-crfsuite-0.3.6\r\n",
      "\u001b[33mWARNING: Running pip as the 'root' user can result in broken permissions and conflicting behaviour with the system package manager. It is recommended to use a virtual environment instead: https://pip.pypa.io/warnings/venv\u001b[0m\u001b[33m\r\n",
      "\u001b[0m"
     ]
    }
   ],
   "source": [
    "!pip install pyvi"
   ]
  },
  {
   "cell_type": "code",
   "execution_count": 2,
   "id": "bcff9cb1",
   "metadata": {
    "execution": {
     "iopub.execute_input": "2022-05-30T19:57:37.579177Z",
     "iopub.status.busy": "2022-05-30T19:57:37.578805Z",
     "iopub.status.idle": "2022-05-30T19:57:45.296563Z",
     "shell.execute_reply": "2022-05-30T19:57:45.295580Z"
    },
    "id": "OK0jFWTIvj7f",
    "papermill": {
     "duration": 7.730791,
     "end_time": "2022-05-30T19:57:45.298797",
     "exception": false,
     "start_time": "2022-05-30T19:57:37.568006",
     "status": "completed"
    },
    "tags": []
   },
   "outputs": [],
   "source": [
    "import numpy as np\n",
    "import pandas as pd\n",
    "from pyvi import ViTokenizer\n",
    "\n",
    "import string\n",
    "import nltk\n",
    "import re\n",
    "\n",
    "from tensorflow.keras.models import Model, load_model\n",
    "\n",
    "from tensorflow.keras.layers import Dense, Embedding, LSTM, Input\n",
    "\n",
    "from tensorflow.keras.preprocessing.sequence import pad_sequences\n",
    "from keras.utils.vis_utils import plot_model\n",
    "\n",
    "import re\n",
    "from tensorflow.keras.utils import to_categorical\n",
    "from keras.preprocessing.text import Tokenizer"
   ]
  },
  {
   "cell_type": "code",
   "execution_count": 3,
   "id": "ef3008fa",
   "metadata": {
    "execution": {
     "iopub.execute_input": "2022-05-30T19:57:45.320287Z",
     "iopub.status.busy": "2022-05-30T19:57:45.319104Z",
     "iopub.status.idle": "2022-05-30T19:57:45.333058Z",
     "shell.execute_reply": "2022-05-30T19:57:45.331966Z"
    },
    "id": "nsRvjEMqvj7p",
    "outputId": "43faead3-fdbd-4bc9-a889-a62062dfdc8d",
    "papermill": {
     "duration": 0.026817,
     "end_time": "2022-05-30T19:57:45.335397",
     "exception": false,
     "start_time": "2022-05-30T19:57:45.308580",
     "status": "completed"
    },
    "tags": []
   },
   "outputs": [
    {
     "name": "stdout",
     "output_type": "stream",
     "text": [
      "['shoping.txt', 'a ch.txt', 'tn gu.txt', 'bn b.txt', 'tdtu.txt', 's thch.txt', 'thng tin c nhn.txt', 'hc tp.txt', 'ngh nghip.txt', 'ngi yu.txt', 'gii tr.txt', 'tr chuyn v i n.txt', 'gia nh.txt', 'cc cu hi phc tp.txt', 'du lch.txt', 't nc.txt', 'robot.txt', 'ngh l.txt']\n"
     ]
    }
   ],
   "source": [
    "import os\n",
    "# dir = '/content/drive/MyDrive/NLP/dữ liệu chatbot - dự án cuối kì'\n",
    "dir = '../input/chatbot-data/chatbot'\n",
    "\n",
    "filenames = os.listdir(dir)\n",
    "print(filenames)"
   ]
  },
  {
   "cell_type": "code",
   "execution_count": 4,
   "id": "9e9b0c64",
   "metadata": {
    "execution": {
     "iopub.execute_input": "2022-05-30T19:57:45.355670Z",
     "iopub.status.busy": "2022-05-30T19:57:45.355280Z",
     "iopub.status.idle": "2022-05-30T19:57:45.466809Z",
     "shell.execute_reply": "2022-05-30T19:57:45.465719Z"
    },
    "id": "l9JSiGuhvj7r",
    "outputId": "01601e03-a710-471c-e77d-d479401fe0bb",
    "papermill": {
     "duration": 0.124609,
     "end_time": "2022-05-30T19:57:45.469516",
     "exception": false,
     "start_time": "2022-05-30T19:57:45.344907",
     "status": "completed"
    },
    "tags": []
   },
   "outputs": [
    {
     "name": "stdout",
     "output_type": "stream",
     "text": [
      "Number of QA pairs: 5855 \n",
      "\n",
      "Q: xin chào, mình có thể giúp gì cho bạn ?\n",
      "A: mình cần mua một cái điện thoại mới \n",
      "\n",
      "Q: bạn muốn một chiếc điện thoại như thế nào ?\n",
      "A: mình chưa biết, bạn có thể tư vấn mình không ? \n",
      "\n",
      "Q: ở đây có chiếc điện thoại nào kèm tai nghe không ?\n",
      "A: những chiếc điện thoại có giá 6 triệu trở lên sẽ được tặng kèm tai nghe \n",
      "\n",
      "Q: điện thoại nào đang là thịnh hành hiện nay ?\n",
      "A: hiện tại điện thoại Apple đang rất được ưa chuộng \n",
      "\n",
      "Q: bạn có tính mua sắm gì vào dịp tết này không?\n",
      "A: mình tính sắm vài bộ quần áo và 1 đôi giày mới \n",
      "\n"
     ]
    }
   ],
   "source": [
    "Q = []\n",
    "A = []\n",
    "for i in filenames:\n",
    "    with open(dir+'/'+i, encoding=\"utf8\") as f:\n",
    "        for line in f:\n",
    "            a =  line.split('__eou__')\n",
    "            Q.append(a[0].strip())\n",
    "            A.append(a[1].strip())\n",
    "print('Number of QA pairs:', len(Q), '\\n')\n",
    "\n",
    "for i in range(5):\n",
    "    print('Q:', Q[i])\n",
    "    print('A:', A[i], '\\n')"
   ]
  },
  {
   "cell_type": "code",
   "execution_count": 5,
   "id": "0b8c8720",
   "metadata": {
    "execution": {
     "iopub.execute_input": "2022-05-30T19:57:45.490721Z",
     "iopub.status.busy": "2022-05-30T19:57:45.489932Z",
     "iopub.status.idle": "2022-05-30T19:57:45.512483Z",
     "shell.execute_reply": "2022-05-30T19:57:45.511569Z"
    },
    "papermill": {
     "duration": 0.03519,
     "end_time": "2022-05-30T19:57:45.514627",
     "exception": false,
     "start_time": "2022-05-30T19:57:45.479437",
     "status": "completed"
    },
    "tags": []
   },
   "outputs": [],
   "source": [
    "stop_words = np.loadtxt('../input/chatbot-data/vietnamese-stopwords-dash.txt', dtype=str, encoding='utf8')\n",
    "def remove_stop_word(sent):\n",
    "    clean_sent = ''\n",
    "    for w in sent.split():\n",
    "        if w not in stop_words:\n",
    "            clean_sent += w + ' '\n",
    "    return clean_sent.strip()\n",
    "\n",
    "def normalize(data, keep_stop_word=False):\n",
    "    cleaned_data = []\n",
    "    regex = re.compile('[%s]' % re.escape(string.punctuation))\n",
    "    for sent in data:\n",
    "        sent = regex.sub('', sent)\n",
    "        sent = ViTokenizer.tokenize(sent)\n",
    "        if keep_stop_word == False:\n",
    "            sent = remove_stop_word(sent.lower())\n",
    "        cleaned_data.append(sent)\n",
    "    return cleaned_data"
   ]
  },
  {
   "cell_type": "code",
   "execution_count": 6,
   "id": "ff684434",
   "metadata": {
    "execution": {
     "iopub.execute_input": "2022-05-30T19:57:45.535879Z",
     "iopub.status.busy": "2022-05-30T19:57:45.535501Z",
     "iopub.status.idle": "2022-05-30T19:57:48.636546Z",
     "shell.execute_reply": "2022-05-30T19:57:48.635423Z"
    },
    "papermill": {
     "duration": 3.11445,
     "end_time": "2022-05-30T19:57:48.638986",
     "exception": false,
     "start_time": "2022-05-30T19:57:45.524536",
     "status": "completed"
    },
    "tags": []
   },
   "outputs": [
    {
     "name": "stdout",
     "output_type": "stream",
     "text": [
      "Q: chào giúp\n",
      "A: mình cần mua một cái điện_thoại mới \n",
      "\n",
      "Q: điện_thoại\n",
      "A: mình chưa biết bạn có_thể tư_vấn mình không \n",
      "\n",
      "Q: điện_thoại kèm tai_nghe\n",
      "A: những chiếc điện_thoại có_giá 6 triệu trở lên sẽ được tặng kèm tai_nghe \n",
      "\n",
      "Q: điện_thoại thịnh_hành\n",
      "A: hiện_tại điện_thoại Apple đang rất được ưa_chuộng \n",
      "\n",
      "Q: mua_sắm dịp tết\n",
      "A: mình tính sắm vài bộ quần_áo và 1 đôi giày mới \n",
      "\n"
     ]
    }
   ],
   "source": [
    "questions = normalize(Q, keep_stop_word=False)  # only remove stop words from questions\n",
    "answers = normalize(A, keep_stop_word=True)  # keep stop words in answers for a natural prediction output\n",
    "\n",
    "for i in range(5):\n",
    "    print('Q:', questions[i])\n",
    "    print('A:', answers[i], '\\n')"
   ]
  },
  {
   "cell_type": "code",
   "execution_count": 7,
   "id": "b8d2e20f",
   "metadata": {
    "execution": {
     "iopub.execute_input": "2022-05-30T19:57:48.659898Z",
     "iopub.status.busy": "2022-05-30T19:57:48.659515Z",
     "iopub.status.idle": "2022-05-30T19:57:48.667594Z",
     "shell.execute_reply": "2022-05-30T19:57:48.666435Z"
    },
    "id": "x7zf0U6Nvj7u",
    "papermill": {
     "duration": 0.020973,
     "end_time": "2022-05-30T19:57:48.669802",
     "exception": false,
     "start_time": "2022-05-30T19:57:48.648829",
     "status": "completed"
    },
    "tags": []
   },
   "outputs": [],
   "source": [
    "# start and end of string token to each answer\n",
    "for i in range(len(answers)):\n",
    "    answers[i] = '<start> ' + answers[i] + ' <end>'"
   ]
  },
  {
   "cell_type": "code",
   "execution_count": 8,
   "id": "19849328",
   "metadata": {
    "execution": {
     "iopub.execute_input": "2022-05-30T19:57:48.690735Z",
     "iopub.status.busy": "2022-05-30T19:57:48.690300Z",
     "iopub.status.idle": "2022-05-30T19:57:48.832099Z",
     "shell.execute_reply": "2022-05-30T19:57:48.831142Z"
    },
    "id": "L90MakM0vj7y",
    "outputId": "08a6011f-e8c7-4bc2-988c-c31bc84497c8",
    "papermill": {
     "duration": 0.154367,
     "end_time": "2022-05-30T19:57:48.834038",
     "exception": false,
     "start_time": "2022-05-30T19:57:48.679671",
     "status": "completed"
    },
    "tags": []
   },
   "outputs": [
    {
     "name": "stdout",
     "output_type": "stream",
     "text": [
      "VOCAB SIZE: 5133\n"
     ]
    }
   ],
   "source": [
    "# count each token appearing time \n",
    "tokenizer = Tokenizer(filters='')\n",
    "tokenizer.fit_on_texts(questions + answers + ['<unk>'])\n",
    "VOCAB_SIZE = len(tokenizer.word_index) + 1 # padding token for embedding layer later\n",
    "print('VOCAB SIZE: {}'.format(VOCAB_SIZE))\n",
    "vocab = list(tokenizer.word_index.keys()) # list of tokens"
   ]
  },
  {
   "cell_type": "code",
   "execution_count": 9,
   "id": "db2037e7",
   "metadata": {
    "execution": {
     "iopub.execute_input": "2022-05-30T19:57:48.856772Z",
     "iopub.status.busy": "2022-05-30T19:57:48.856298Z",
     "iopub.status.idle": "2022-05-30T19:57:48.973836Z",
     "shell.execute_reply": "2022-05-30T19:57:48.972666Z"
    },
    "id": "WAl_Wm8gwJnG",
    "outputId": "6ebb3cec-23ee-4405-b204-5eda960340ae",
    "papermill": {
     "duration": 0.132515,
     "end_time": "2022-05-30T19:57:48.977296",
     "exception": false,
     "start_time": "2022-05-30T19:57:48.844781",
     "status": "completed"
    },
    "tags": []
   },
   "outputs": [
    {
     "name": "stdout",
     "output_type": "stream",
     "text": [
      "Number of removed pair: 476\n",
      "Number of train data after cleaning: 5379\n"
     ]
    },
    {
     "name": "stderr",
     "output_type": "stream",
     "text": [
      "/opt/conda/lib/python3.7/site-packages/numpy/lib/function_base.py:4454: VisibleDeprecationWarning: Creating an ndarray from ragged nested sequences (which is a list-or-tuple of lists-or-tuples-or ndarrays with different lengths or shapes) is deprecated. If you meant to do this, you must specify 'dtype=object' when creating the ndarray.\n",
      "  arr = asarray(arr)\n"
     ]
    }
   ],
   "source": [
    "tokenized_questions = tokenizer.texts_to_sequences(questions)\n",
    "tokenized_answers = tokenizer.texts_to_sequences(answers)\n",
    "\n",
    "# due to stop words cleaning, there are empty questions\n",
    "# => remove pair with empty question from the training data\n",
    "\n",
    "indices = []\n",
    "for i in range(len(tokenized_questions)):\n",
    "    if len(tokenized_questions[i])==0:\n",
    "        indices.append(i)\n",
    "tokenized_questions = np.delete(tokenized_questions, indices)\n",
    "tokenized_answers = np.delete(tokenized_answers, indices)\n",
    "print('Number of removed pair:', len(indices))\n",
    "print('Number of train data after cleaning:', len(tokenized_questions))"
   ]
  },
  {
   "cell_type": "code",
   "execution_count": 10,
   "id": "4987c89b",
   "metadata": {
    "execution": {
     "iopub.execute_input": "2022-05-30T19:57:48.999050Z",
     "iopub.status.busy": "2022-05-30T19:57:48.998677Z",
     "iopub.status.idle": "2022-05-30T19:57:49.029367Z",
     "shell.execute_reply": "2022-05-30T19:57:49.028047Z"
    },
    "id": "d1UdhpNUvj70",
    "outputId": "1fc607f3-dc03-45d4-ce4a-48259e7151a9",
    "papermill": {
     "duration": 0.043635,
     "end_time": "2022-05-30T19:57:49.031419",
     "exception": false,
     "start_time": "2022-05-30T19:57:48.987784",
     "status": "completed"
    },
    "tags": []
   },
   "outputs": [
    {
     "name": "stdout",
     "output_type": "stream",
     "text": [
      "Encoder input data shape: (5379, 18)\n",
      "Max length of encoder input data: 18\n"
     ]
    }
   ],
   "source": [
    "MAXLEN_QUESTION = max([len(x) for x in tokenized_questions])\n",
    "padded_questions = pad_sequences(tokenized_questions, maxlen=MAXLEN_QUESTION, padding='post')\n",
    "encoder_input_data = np.array(padded_questions)\n",
    "print('Encoder input data shape:', encoder_input_data.shape)\n",
    "print('Max length of encoder input data:', MAXLEN_QUESTION)"
   ]
  },
  {
   "cell_type": "code",
   "execution_count": 11,
   "id": "40c41a8f",
   "metadata": {
    "execution": {
     "iopub.execute_input": "2022-05-30T19:57:49.053412Z",
     "iopub.status.busy": "2022-05-30T19:57:49.053017Z",
     "iopub.status.idle": "2022-05-30T19:57:49.086970Z",
     "shell.execute_reply": "2022-05-30T19:57:49.085797Z"
    },
    "id": "Y-g2Z_ibvj71",
    "outputId": "e6569561-a5ba-4490-beab-6b165bec28e0",
    "papermill": {
     "duration": 0.047757,
     "end_time": "2022-05-30T19:57:49.089290",
     "exception": false,
     "start_time": "2022-05-30T19:57:49.041533",
     "status": "completed"
    },
    "tags": []
   },
   "outputs": [
    {
     "name": "stdout",
     "output_type": "stream",
     "text": [
      "Decoder input data shape: (5379, 113)\n",
      "Max length of decoder input data: 113\n"
     ]
    }
   ],
   "source": [
    "MAXLEN_ANSWER = max([len(x) for x in tokenized_answers])\n",
    "padded_answers = pad_sequences(tokenized_answers, maxlen=MAXLEN_ANSWER, padding='post')\n",
    "decoder_input_data = np.array(padded_answers)\n",
    "print('Decoder input data shape:', decoder_input_data.shape)\n",
    "print('Max length of decoder input data:', MAXLEN_ANSWER)"
   ]
  },
  {
   "cell_type": "code",
   "execution_count": 12,
   "id": "df93dff7",
   "metadata": {
    "execution": {
     "iopub.execute_input": "2022-05-30T19:57:49.111463Z",
     "iopub.status.busy": "2022-05-30T19:57:49.110266Z",
     "iopub.status.idle": "2022-05-30T19:57:50.578182Z",
     "shell.execute_reply": "2022-05-30T19:57:50.577003Z"
    },
    "id": "fEpd4v7Mvj73",
    "outputId": "58b454cf-d703-4ea8-cef1-41495f2894ae",
    "papermill": {
     "duration": 1.481077,
     "end_time": "2022-05-30T19:57:50.580496",
     "exception": false,
     "start_time": "2022-05-30T19:57:49.099419",
     "status": "completed"
    },
    "tags": []
   },
   "outputs": [
    {
     "name": "stdout",
     "output_type": "stream",
     "text": [
      "Decoder ouput data shape: (5379, 113, 5133)\n"
     ]
    }
   ],
   "source": [
    "for line in tokenized_answers:\n",
    "    del line[0] # remove <start> tag in answers data\n",
    "\n",
    "padded_answers = pad_sequences(tokenized_answers, maxlen=MAXLEN_ANSWER, padding='post')\n",
    "decoder_output_data = to_categorical(padded_answers, VOCAB_SIZE, dtype='uint8')\n",
    "print('Decoder ouput data shape:', decoder_output_data.shape)"
   ]
  },
  {
   "cell_type": "code",
   "execution_count": 13,
   "id": "41fa2b81",
   "metadata": {
    "execution": {
     "iopub.execute_input": "2022-05-30T19:57:50.603478Z",
     "iopub.status.busy": "2022-05-30T19:57:50.603007Z",
     "iopub.status.idle": "2022-05-30T19:57:51.679041Z",
     "shell.execute_reply": "2022-05-30T19:57:51.678304Z"
    },
    "id": "slipHGSXvj73",
    "papermill": {
     "duration": 1.090709,
     "end_time": "2022-05-30T19:57:51.681628",
     "exception": false,
     "start_time": "2022-05-30T19:57:50.590919",
     "status": "completed"
    },
    "tags": []
   },
   "outputs": [
    {
     "name": "stderr",
     "output_type": "stream",
     "text": [
      "2022-05-30 19:57:50.652419: I tensorflow/core/common_runtime/process_util.cc:146] Creating new thread pool with default inter op setting: 2. Tune using inter_op_parallelism_threads for best performance.\n"
     ]
    }
   ],
   "source": [
    "encoder_inputs = Input(shape=(MAXLEN_QUESTION,))\n",
    "encoder_embedding = Embedding(VOCAB_SIZE, 200, mask_zero=True) (encoder_inputs) # mask zero to acknowledge 0 padding\n",
    "_, state_h, state_c = LSTM(200, return_state=True) (encoder_embedding) # return last hidden and cell state\n",
    "encoder_states = [state_h, state_c]"
   ]
  },
  {
   "cell_type": "code",
   "execution_count": 14,
   "id": "b4b4faa7",
   "metadata": {
    "execution": {
     "iopub.execute_input": "2022-05-30T19:57:51.703914Z",
     "iopub.status.busy": "2022-05-30T19:57:51.703415Z",
     "iopub.status.idle": "2022-05-30T19:57:52.672267Z",
     "shell.execute_reply": "2022-05-30T19:57:52.671237Z"
    },
    "id": "UYaJaLp7vj74",
    "papermill": {
     "duration": 0.983261,
     "end_time": "2022-05-30T19:57:52.675108",
     "exception": false,
     "start_time": "2022-05-30T19:57:51.691847",
     "status": "completed"
    },
    "tags": []
   },
   "outputs": [],
   "source": [
    "decoder_inputs = Input(shape=(None,))\n",
    "decoder_embedding = Embedding(VOCAB_SIZE, 200, mask_zero=True) (decoder_inputs)\n",
    "decoder_lstm = LSTM(200, return_state=True, return_sequences=True)\n",
    "decoder_outputs, _, _ = decoder_lstm(decoder_embedding, initial_state=encoder_states) # passing all time steps hidden states to dense\n",
    "decoder_dense = Dense(VOCAB_SIZE, activation='softmax')\n",
    "output = decoder_dense(decoder_outputs)"
   ]
  },
  {
   "cell_type": "code",
   "execution_count": 15,
   "id": "7f7fa622",
   "metadata": {
    "execution": {
     "iopub.execute_input": "2022-05-30T19:57:52.697570Z",
     "iopub.status.busy": "2022-05-30T19:57:52.697148Z",
     "iopub.status.idle": "2022-05-30T19:57:53.876456Z",
     "shell.execute_reply": "2022-05-30T19:57:53.875491Z"
    },
    "id": "zpxqS0CQvj74",
    "outputId": "c7c6e53e-f04b-44c4-a738-80897f7e8cb9",
    "papermill": {
     "duration": 1.193005,
     "end_time": "2022-05-30T19:57:53.878500",
     "exception": false,
     "start_time": "2022-05-30T19:57:52.685495",
     "status": "completed"
    },
    "tags": []
   },
   "outputs": [
    {
     "name": "stdout",
     "output_type": "stream",
     "text": [
      "Model: \"model\"\n",
      "__________________________________________________________________________________________________\n",
      "Layer (type)                    Output Shape         Param #     Connected to                     \n",
      "==================================================================================================\n",
      "input_1 (InputLayer)            [(None, 18)]         0                                            \n",
      "__________________________________________________________________________________________________\n",
      "input_2 (InputLayer)            [(None, None)]       0                                            \n",
      "__________________________________________________________________________________________________\n",
      "embedding (Embedding)           (None, 18, 200)      1026600     input_1[0][0]                    \n",
      "__________________________________________________________________________________________________\n",
      "embedding_1 (Embedding)         (None, None, 200)    1026600     input_2[0][0]                    \n",
      "__________________________________________________________________________________________________\n",
      "lstm (LSTM)                     [(None, 200), (None, 320800      embedding[0][0]                  \n",
      "__________________________________________________________________________________________________\n",
      "lstm_1 (LSTM)                   [(None, None, 200),  320800      embedding_1[0][0]                \n",
      "                                                                 lstm[0][1]                       \n",
      "                                                                 lstm[0][2]                       \n",
      "__________________________________________________________________________________________________\n",
      "dense (Dense)                   (None, None, 5133)   1031733     lstm_1[0][0]                     \n",
      "==================================================================================================\n",
      "Total params: 3,726,533\n",
      "Trainable params: 3,726,533\n",
      "Non-trainable params: 0\n",
      "__________________________________________________________________________________________________\n",
      "None\n"
     ]
    },
    {
     "data": {
      "image/png": "[encoded data removed]",
      "text/plain": [
       "<IPython.core.display.Image object>"
      ]
     },
     "execution_count": 15,
     "metadata": {},
     "output_type": "execute_result"
    }
   ],
   "source": [
    "model = Model([encoder_inputs, decoder_inputs], output)\n",
    "model.compile(loss='categorical_crossentropy', optimizer='adam', metrics=['accuracy'])\n",
    "print(model.summary())\n",
    "plot_model(model, rankdir='LR', show_shapes=True)"
   ]
  },
  {
   "cell_type": "code",
   "execution_count": 16,
   "id": "352697a6",
   "metadata": {
    "execution": {
     "iopub.execute_input": "2022-05-30T19:57:53.912056Z",
     "iopub.status.busy": "2022-05-30T19:57:53.910822Z",
     "iopub.status.idle": "2022-05-30T23:08:34.197126Z",
     "shell.execute_reply": "2022-05-30T23:08:34.195765Z"
    },
    "id": "Gi27qYt8vj74",
    "outputId": "03dd453c-8dec-4c03-930a-dfeabf65390c",
    "papermill": {
     "duration": 11440.306288,
     "end_time": "2022-05-30T23:08:34.199611",
     "exception": false,
     "start_time": "2022-05-30T19:57:53.893323",
     "status": "completed"
    },
    "tags": []
   },
   "outputs": [
    {
     "name": "stderr",
     "output_type": "stream",
     "text": [
      "2022-05-30 19:57:56.683888: I tensorflow/compiler/mlir/mlir_graph_optimization_pass.cc:185] None of the MLIR Optimization Passes are enabled (registered 2)\n"
     ]
    },
    {
     "name": "stdout",
     "output_type": "stream",
     "text": [
      "Epoch 1/100\n",
      "169/169 [==============================] - 121s 664ms/step - loss: 0.5009 - accuracy: 0.1736\n",
      "Epoch 2/100\n",
      "169/169 [==============================] - 116s 688ms/step - loss: 0.4268 - accuracy: 0.2440\n",
      "Epoch 3/100\n",
      "169/169 [==============================] - 114s 677ms/step - loss: 0.4132 - accuracy: 0.2516\n",
      "Epoch 4/100\n",
      "169/169 [==============================] - 114s 677ms/step - loss: 0.4025 - accuracy: 0.2577\n",
      "Epoch 5/100\n",
      "169/169 [==============================] - 113s 670ms/step - loss: 0.3922 - accuracy: 0.2625\n",
      "Epoch 6/100\n",
      "169/169 [==============================] - 117s 694ms/step - loss: 0.3815 - accuracy: 0.2676\n",
      "Epoch 7/100\n",
      "169/169 [==============================] - 115s 683ms/step - loss: 0.3704 - accuracy: 0.2747\n",
      "Epoch 8/100\n",
      "169/169 [==============================] - 115s 679ms/step - loss: 0.3593 - accuracy: 0.2849\n",
      "Epoch 9/100\n",
      "169/169 [==============================] - 114s 674ms/step - loss: 0.3482 - accuracy: 0.2946\n",
      "Epoch 10/100\n",
      "169/169 [==============================] - 113s 667ms/step - loss: 0.3372 - accuracy: 0.3061\n",
      "Epoch 11/100\n",
      "169/169 [==============================] - 115s 680ms/step - loss: 0.3265 - accuracy: 0.3153\n",
      "Epoch 12/100\n",
      "169/169 [==============================] - 115s 683ms/step - loss: 0.3160 - accuracy: 0.3266\n",
      "Epoch 13/100\n",
      "169/169 [==============================] - 114s 677ms/step - loss: 0.3058 - accuracy: 0.3374\n",
      "Epoch 14/100\n",
      "169/169 [==============================] - 114s 676ms/step - loss: 0.2959 - accuracy: 0.3474\n",
      "Epoch 15/100\n",
      "169/169 [==============================] - 113s 671ms/step - loss: 0.2859 - accuracy: 0.3586\n",
      "Epoch 16/100\n",
      "169/169 [==============================] - 113s 671ms/step - loss: 0.2761 - accuracy: 0.3705\n",
      "Epoch 17/100\n",
      "169/169 [==============================] - 112s 663ms/step - loss: 0.2666 - accuracy: 0.3824\n",
      "Epoch 18/100\n",
      "169/169 [==============================] - 113s 668ms/step - loss: 0.2573 - accuracy: 0.3962\n",
      "Epoch 19/100\n",
      "169/169 [==============================] - 112s 662ms/step - loss: 0.2480 - accuracy: 0.4108\n",
      "Epoch 20/100\n",
      "169/169 [==============================] - 114s 672ms/step - loss: 0.2391 - accuracy: 0.4253\n",
      "Epoch 21/100\n",
      "169/169 [==============================] - 112s 664ms/step - loss: 0.2308 - accuracy: 0.4392\n",
      "Epoch 22/100\n",
      "169/169 [==============================] - 112s 664ms/step - loss: 0.2223 - accuracy: 0.4570\n",
      "Epoch 23/100\n",
      "169/169 [==============================] - 114s 672ms/step - loss: 0.2144 - accuracy: 0.4719\n",
      "Epoch 24/100\n",
      "169/169 [==============================] - 112s 665ms/step - loss: 0.2064 - accuracy: 0.4893\n",
      "Epoch 25/100\n",
      "169/169 [==============================] - 116s 687ms/step - loss: 0.1985 - accuracy: 0.5059\n",
      "Epoch 26/100\n",
      "169/169 [==============================] - 116s 685ms/step - loss: 0.1912 - accuracy: 0.5224\n",
      "Epoch 27/100\n",
      "169/169 [==============================] - 115s 681ms/step - loss: 0.1840 - accuracy: 0.5396\n",
      "Epoch 28/100\n",
      "169/169 [==============================] - 115s 678ms/step - loss: 0.1774 - accuracy: 0.5544\n",
      "Epoch 29/100\n",
      "169/169 [==============================] - 114s 673ms/step - loss: 0.1706 - accuracy: 0.5713\n",
      "Epoch 30/100\n",
      "169/169 [==============================] - 112s 664ms/step - loss: 0.1645 - accuracy: 0.5855\n",
      "Epoch 31/100\n",
      "169/169 [==============================] - 113s 670ms/step - loss: 0.1584 - accuracy: 0.5993\n",
      "Epoch 32/100\n",
      "169/169 [==============================] - 113s 669ms/step - loss: 0.1525 - accuracy: 0.6131\n",
      "Epoch 33/100\n",
      "169/169 [==============================] - 115s 679ms/step - loss: 0.1469 - accuracy: 0.6255\n",
      "Epoch 34/100\n",
      "169/169 [==============================] - 116s 686ms/step - loss: 0.1416 - accuracy: 0.6390\n",
      "Epoch 35/100\n",
      "169/169 [==============================] - 114s 678ms/step - loss: 0.1364 - accuracy: 0.6504\n",
      "Epoch 36/100\n",
      "169/169 [==============================] - 114s 675ms/step - loss: 0.1317 - accuracy: 0.6614\n",
      "Epoch 37/100\n",
      "169/169 [==============================] - 116s 685ms/step - loss: 0.1273 - accuracy: 0.6713\n",
      "Epoch 38/100\n",
      "169/169 [==============================] - 113s 669ms/step - loss: 0.1231 - accuracy: 0.6818\n",
      "Epoch 39/100\n",
      "169/169 [==============================] - 113s 670ms/step - loss: 0.1185 - accuracy: 0.6935\n",
      "Epoch 40/100\n",
      "169/169 [==============================] - 112s 665ms/step - loss: 0.1139 - accuracy: 0.7046\n",
      "Epoch 41/100\n",
      "169/169 [==============================] - 113s 670ms/step - loss: 0.1096 - accuracy: 0.7152\n",
      "Epoch 42/100\n",
      "169/169 [==============================] - 113s 667ms/step - loss: 0.1058 - accuracy: 0.7248\n",
      "Epoch 43/100\n",
      "169/169 [==============================] - 113s 670ms/step - loss: 0.1019 - accuracy: 0.7337\n",
      "Epoch 44/100\n",
      "169/169 [==============================] - 116s 686ms/step - loss: 0.0983 - accuracy: 0.7441\n",
      "Epoch 45/100\n",
      "169/169 [==============================] - 116s 684ms/step - loss: 0.0949 - accuracy: 0.7513\n",
      "Epoch 46/100\n",
      "169/169 [==============================] - 115s 683ms/step - loss: 0.0912 - accuracy: 0.7613\n",
      "Epoch 47/100\n",
      "169/169 [==============================] - 114s 672ms/step - loss: 0.0881 - accuracy: 0.7691\n",
      "Epoch 48/100\n",
      "169/169 [==============================] - 113s 671ms/step - loss: 0.0850 - accuracy: 0.7775\n",
      "Epoch 49/100\n",
      "169/169 [==============================] - 113s 668ms/step - loss: 0.0818 - accuracy: 0.7857\n",
      "Epoch 50/100\n",
      "169/169 [==============================] - 114s 674ms/step - loss: 0.0790 - accuracy: 0.7930\n",
      "Epoch 51/100\n",
      "169/169 [==============================] - 113s 670ms/step - loss: 0.0765 - accuracy: 0.7984\n",
      "Epoch 52/100\n",
      "169/169 [==============================] - 114s 676ms/step - loss: 0.0738 - accuracy: 0.8050\n",
      "Epoch 53/100\n",
      "169/169 [==============================] - 114s 672ms/step - loss: 0.0711 - accuracy: 0.8138\n",
      "Epoch 54/100\n",
      "169/169 [==============================] - 113s 669ms/step - loss: 0.0688 - accuracy: 0.8192\n",
      "Epoch 55/100\n",
      "169/169 [==============================] - 113s 670ms/step - loss: 0.0661 - accuracy: 0.8272\n",
      "Epoch 56/100\n",
      "169/169 [==============================] - 114s 673ms/step - loss: 0.0641 - accuracy: 0.8321\n",
      "Epoch 57/100\n",
      "169/169 [==============================] - 113s 670ms/step - loss: 0.0617 - accuracy: 0.8384\n",
      "Epoch 58/100\n",
      "169/169 [==============================] - 114s 674ms/step - loss: 0.0593 - accuracy: 0.8449\n",
      "Epoch 59/100\n",
      "169/169 [==============================] - 113s 670ms/step - loss: 0.0573 - accuracy: 0.8498\n",
      "Epoch 60/100\n",
      "169/169 [==============================] - 113s 668ms/step - loss: 0.0551 - accuracy: 0.8555\n",
      "Epoch 61/100\n",
      "169/169 [==============================] - 113s 672ms/step - loss: 0.0531 - accuracy: 0.8603\n",
      "Epoch 62/100\n",
      "169/169 [==============================] - 115s 678ms/step - loss: 0.0519 - accuracy: 0.8633\n",
      "Epoch 63/100\n",
      "169/169 [==============================] - 118s 696ms/step - loss: 0.0499 - accuracy: 0.8684\n",
      "Epoch 64/100\n",
      "169/169 [==============================] - 116s 684ms/step - loss: 0.0482 - accuracy: 0.8726\n",
      "Epoch 65/100\n",
      "169/169 [==============================] - 119s 703ms/step - loss: 0.0464 - accuracy: 0.8773\n",
      "Epoch 66/100\n",
      "169/169 [==============================] - 118s 698ms/step - loss: 0.0447 - accuracy: 0.8818\n",
      "Epoch 67/100\n",
      "169/169 [==============================] - 113s 670ms/step - loss: 0.0432 - accuracy: 0.8867\n",
      "Epoch 68/100\n",
      "169/169 [==============================] - 116s 687ms/step - loss: 0.0417 - accuracy: 0.8911\n",
      "Epoch 69/100\n",
      "169/169 [==============================] - 115s 678ms/step - loss: 0.0404 - accuracy: 0.8939\n",
      "Epoch 70/100\n",
      "169/169 [==============================] - 114s 677ms/step - loss: 0.0390 - accuracy: 0.8975\n",
      "Epoch 71/100\n",
      "169/169 [==============================] - 113s 669ms/step - loss: 0.0378 - accuracy: 0.9002\n",
      "Epoch 72/100\n",
      "169/169 [==============================] - 114s 675ms/step - loss: 0.0370 - accuracy: 0.9023\n",
      "Epoch 73/100\n",
      "169/169 [==============================] - 114s 673ms/step - loss: 0.0356 - accuracy: 0.9062\n",
      "Epoch 74/100\n",
      "169/169 [==============================] - 114s 674ms/step - loss: 0.0345 - accuracy: 0.9085\n",
      "Epoch 75/100\n",
      "169/169 [==============================] - 114s 676ms/step - loss: 0.0331 - accuracy: 0.9125\n",
      "Epoch 76/100\n",
      "169/169 [==============================] - 114s 675ms/step - loss: 0.0320 - accuracy: 0.9149\n",
      "Epoch 77/100\n",
      "169/169 [==============================] - 113s 671ms/step - loss: 0.0310 - accuracy: 0.9165\n",
      "Epoch 78/100\n",
      "169/169 [==============================] - 114s 676ms/step - loss: 0.0300 - accuracy: 0.9201\n",
      "Epoch 79/100\n",
      "169/169 [==============================] - 113s 669ms/step - loss: 0.0293 - accuracy: 0.9216\n",
      "Epoch 80/100\n",
      "169/169 [==============================] - 115s 683ms/step - loss: 0.0288 - accuracy: 0.9224\n",
      "Epoch 81/100\n",
      "169/169 [==============================] - 117s 693ms/step - loss: 0.0278 - accuracy: 0.9237\n",
      "Epoch 82/100\n",
      "169/169 [==============================] - 116s 688ms/step - loss: 0.0267 - accuracy: 0.9276\n",
      "Epoch 83/100\n",
      "169/169 [==============================] - 117s 695ms/step - loss: 0.0262 - accuracy: 0.9288\n",
      "Epoch 84/100\n",
      "169/169 [==============================] - 115s 681ms/step - loss: 0.0258 - accuracy: 0.9287\n",
      "Epoch 85/100\n",
      "169/169 [==============================] - 115s 678ms/step - loss: 0.0252 - accuracy: 0.9301\n",
      "Epoch 86/100\n",
      "169/169 [==============================] - 114s 675ms/step - loss: 0.0241 - accuracy: 0.9327\n",
      "Epoch 87/100\n",
      "169/169 [==============================] - 114s 673ms/step - loss: 0.0232 - accuracy: 0.9345\n",
      "Epoch 88/100\n",
      "169/169 [==============================] - 114s 677ms/step - loss: 0.0225 - accuracy: 0.9357\n",
      "Epoch 89/100\n",
      "169/169 [==============================] - 114s 673ms/step - loss: 0.0219 - accuracy: 0.9365\n",
      "Epoch 90/100\n",
      "169/169 [==============================] - 114s 675ms/step - loss: 0.0214 - accuracy: 0.9377\n",
      "Epoch 91/100\n",
      "169/169 [==============================] - 113s 671ms/step - loss: 0.0208 - accuracy: 0.9395\n",
      "Epoch 92/100\n",
      "169/169 [==============================] - 114s 674ms/step - loss: 0.0205 - accuracy: 0.9398\n",
      "Epoch 93/100\n",
      "169/169 [==============================] - 114s 673ms/step - loss: 0.0202 - accuracy: 0.9400\n",
      "Epoch 94/100\n",
      "169/169 [==============================] - 114s 673ms/step - loss: 0.0196 - accuracy: 0.9409\n",
      "Epoch 95/100\n",
      "169/169 [==============================] - 114s 671ms/step - loss: 0.0193 - accuracy: 0.9420\n",
      "Epoch 96/100\n",
      "169/169 [==============================] - 115s 681ms/step - loss: 0.0193 - accuracy: 0.9418\n",
      "Epoch 97/100\n",
      "169/169 [==============================] - 118s 698ms/step - loss: 0.0187 - accuracy: 0.9423\n",
      "Epoch 98/100\n",
      "169/169 [==============================] - 116s 685ms/step - loss: 0.0183 - accuracy: 0.9432\n",
      "Epoch 99/100\n",
      "169/169 [==============================] - 115s 679ms/step - loss: 0.0178 - accuracy: 0.9431\n",
      "Epoch 100/100\n",
      "169/169 [==============================] - 117s 695ms/step - loss: 0.0175 - accuracy: 0.9445\n"
     ]
    }
   ],
   "source": [
    "model.fit([encoder_input_data, decoder_input_data], decoder_output_data, epochs=100) # epochs>=10\n",
    "model.save('model.h5')"
   ]
  },
  {
   "cell_type": "code",
   "execution_count": 17,
   "id": "7d7cb409",
   "metadata": {
    "execution": {
     "iopub.execute_input": "2022-05-30T23:08:36.775215Z",
     "iopub.status.busy": "2022-05-30T23:08:36.774602Z",
     "iopub.status.idle": "2022-05-30T23:08:39.203066Z",
     "shell.execute_reply": "2022-05-30T23:08:39.202161Z"
    },
    "papermill": {
     "duration": 3.763306,
     "end_time": "2022-05-30T23:08:39.205537",
     "exception": false,
     "start_time": "2022-05-30T23:08:35.442231",
     "status": "completed"
    },
    "tags": []
   },
   "outputs": [],
   "source": [
    "# load model\n",
    "model = load_model('./model.h5')\n",
    "decoder_embedding = model.layers[3](decoder_inputs)\n",
    "decoder_lstm = model.layers[5]\n",
    "decoder_dense = model.layers[-1]"
   ]
  },
  {
   "cell_type": "code",
   "execution_count": 18,
   "id": "61aeaf60",
   "metadata": {
    "execution": {
     "iopub.execute_input": "2022-05-30T23:08:41.798959Z",
     "iopub.status.busy": "2022-05-30T23:08:41.798067Z",
     "iopub.status.idle": "2022-05-30T23:08:42.696819Z",
     "shell.execute_reply": "2022-05-30T23:08:42.695739Z"
    },
    "id": "QaESKXhfvj75",
    "papermill": {
     "duration": 2.150393,
     "end_time": "2022-05-30T23:08:42.699448",
     "exception": false,
     "start_time": "2022-05-30T23:08:40.549055",
     "status": "completed"
    },
    "scrolled": true,
    "tags": []
   },
   "outputs": [],
   "source": [
    "def make_inference_models():\n",
    "    \n",
    "    # encoder model takes questions as input and output its LSTM state\n",
    "    encoder_model = Model(encoder_inputs, encoder_states)\n",
    "    \n",
    "    # decoder takes encoder output states as its initial state \n",
    "    # and 200 because the encoder output states dimension is 200\n",
    "    decoder_state_input_h = Input(shape=(200,))\n",
    "    decoder_state_input_c = Input(shape=(200,))\n",
    "    decoder_states_inputs = [decoder_state_input_h, decoder_state_input_c]\n",
    "    \n",
    "    # use these pre-trained layers of the model: decoder_embedding, decoder_lstm, decoder_dense \n",
    "    decoder_outputs, state_h, state_c = decoder_lstm(decoder_embedding, initial_state=decoder_states_inputs)\n",
    "    decoder_states = [state_h, state_c]\n",
    "    decoder_outputs = decoder_dense(decoder_outputs)\n",
    "    \n",
    "    # decoder model takes \n",
    "    decoder_model = Model([decoder_inputs] + decoder_states_inputs, [decoder_outputs] + decoder_states)\n",
    "    \n",
    "    return encoder_model, decoder_model\n",
    "\n",
    "enc_model, dec_model = make_inference_models()"
   ]
  },
  {
   "cell_type": "code",
   "execution_count": 19,
   "id": "a53aa011",
   "metadata": {
    "execution": {
     "iopub.execute_input": "2022-05-30T23:08:45.323645Z",
     "iopub.status.busy": "2022-05-30T23:08:45.323103Z",
     "iopub.status.idle": "2022-05-30T23:08:45.330785Z",
     "shell.execute_reply": "2022-05-30T23:08:45.329623Z"
    },
    "id": "iZJwkGzpvj75",
    "papermill": {
     "duration": 1.387908,
     "end_time": "2022-05-30T23:08:45.332947",
     "exception": false,
     "start_time": "2022-05-30T23:08:43.945039",
     "status": "completed"
    },
    "tags": []
   },
   "outputs": [],
   "source": [
    "def format_question(sent:str):\n",
    "    sent = normalize([sent], keep_stop_word=False)[0]\n",
    "    words = sent.split()\n",
    "    token_list = []\n",
    "    for word in words:\n",
    "        try:\n",
    "            index = tokenizer.word_index[word]\n",
    "        except KeyError:\n",
    "            index = tokenizer.word_index['<unk>']\n",
    "        token_list.append(index)\n",
    "    return pad_sequences([token_list], maxlen=MAXLEN_QUESTION, padding='post', truncating='post')"
   ]
  },
  {
   "cell_type": "code",
   "execution_count": 20,
   "id": "fe27ceb2",
   "metadata": {
    "execution": {
     "iopub.execute_input": "2022-05-30T23:08:47.915550Z",
     "iopub.status.busy": "2022-05-30T23:08:47.915082Z",
     "iopub.status.idle": "2022-05-30T23:08:47.926135Z",
     "shell.execute_reply": "2022-05-30T23:08:47.925287Z"
    },
    "id": "v_4uY17Uvj77",
    "papermill": {
     "duration": 1.348861,
     "end_time": "2022-05-30T23:08:47.928366",
     "exception": false,
     "start_time": "2022-05-30T23:08:46.579505",
     "status": "completed"
    },
    "tags": []
   },
   "outputs": [],
   "source": [
    "def ask(question):\n",
    "    print('Q:', question)\n",
    "    question = format_question(question)\n",
    "    states_values = enc_model.predict(question)\n",
    "    empty_target_seq = np.zeros((1, 1))\n",
    "    empty_target_seq[0, 0] = tokenizer.word_index['<start>']\n",
    "    \n",
    "    stop_condition = False\n",
    "    decoded_translation = ''\n",
    "    while not stop_condition:\n",
    "        # dec_outputs return a one hot vector with the dimension number of vocab size\n",
    "        dec_outputs, h, c = dec_model.predict([empty_target_seq] + states_values)\n",
    "        gen_word_index = np.argmax(dec_outputs[0, -1])\n",
    "        gen_word = tokenizer.index_word[gen_word_index]\n",
    "        \n",
    "        if gen_word == '<end>' or len(decoded_translation.split()) > MAXLEN_ANSWER:\n",
    "            stop_condition = True\n",
    "        else:\n",
    "            decoded_translation += '{} '.format(gen_word)\n",
    "            \n",
    "        empty_target_seq = np.zeros((1, 1))  \n",
    "        empty_target_seq[0, 0] = gen_word_index\n",
    "        states_values = [h, c]\n",
    "        \n",
    "    answer = decoded_translation[0].upper() + decoded_translation[1:].replace('_', ' ')\n",
    "    print('A:', answer.strip(), '\\n')"
   ]
  },
  {
   "cell_type": "code",
   "execution_count": 21,
   "id": "1a6ca23a",
   "metadata": {
    "execution": {
     "iopub.execute_input": "2022-05-30T23:08:50.511075Z",
     "iopub.status.busy": "2022-05-30T23:08:50.510411Z",
     "iopub.status.idle": "2022-05-30T23:08:56.493254Z",
     "shell.execute_reply": "2022-05-30T23:08:56.492044Z"
    },
    "papermill": {
     "duration": 7.320926,
     "end_time": "2022-05-30T23:08:56.495550",
     "exception": false,
     "start_time": "2022-05-30T23:08:49.174624",
     "status": "completed"
    },
    "tags": []
   },
   "outputs": [
    {
     "name": "stdout",
     "output_type": "stream",
     "text": [
      "Q: Bạn sinh năm bao nhiêu?\n",
      "A: Mình sinh năm 2001 \n",
      "\n",
      "Q: Có người yêu chưa?\n",
      "A: Mình chưa có người yêu \n",
      "\n",
      "Q: Shop tư vấn cho mình một số mẫu giày thích hợp để đi chơi được không?\n",
      "A: Bạn có thể tham khảo vài đôi giày của adidas hoặc nike \n",
      "\n",
      "Q: Quê bạn ở đâu?\n",
      "A: Quê mình ở tiền giang \n",
      "\n",
      "Q: Bạn thường làm gì trong thời gian rảnh?\n",
      "A: Mình thường chơi game hoặc xem phim \n",
      "\n",
      "Q: Bạn có muốn đi xem phim vào cuối tuần này hay không?\n",
      "A: Dĩ nhiên là muốn rồi \n",
      "\n",
      "Q: Bạn thích môn thể thao gì?\n",
      "A: Mình thích chơi đá bóng và billard \n",
      "\n"
     ]
    }
   ],
   "source": [
    "ask('Bạn sinh năm bao nhiêu?')\n",
    "ask('Có người yêu chưa?')\n",
    "ask('Shop tư vấn cho mình một số mẫu giày thích hợp để đi chơi được không?')\n",
    "ask('Quê bạn ở đâu?')\n",
    "ask('Bạn thường làm gì trong thời gian rảnh?')\n",
    "ask('Bạn có muốn đi xem phim vào cuối tuần này hay không?')\n",
    "ask('Bạn thích môn thể thao gì?')"
   ]
  }
 ],
 "metadata": {
  "kernelspec": {
   "display_name": "Python 3",
   "language": "python",
   "name": "python3"
  },
  "language_info": {
   "codemirror_mode": {
    "name": "ipython",
    "version": 3
   },
   "file_extension": ".py",
   "mimetype": "text/x-python",
   "name": "python",
   "nbconvert_exporter": "python",
   "pygments_lexer": "ipython3",
   "version": "3.7.12"
  },
  "papermill": {
   "default_parameters": {},
   "duration": 11510.634718,
   "end_time": "2022-05-30T23:09:01.195656",
   "environment_variables": {},
   "exception": null,
   "input_path": "__notebook__.ipynb",
   "output_path": "__notebook__.ipynb",
   "parameters": {},
   "start_time": "2022-05-30T19:57:10.560938",
   "version": "2.3.4"
  }
 },
 "nbformat": 4,
 "nbformat_minor": 5
}
