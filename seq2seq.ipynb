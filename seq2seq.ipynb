{
 "cells": [
  {
   "cell_type": "code",
   "execution_count": 1,
   "id": "8c50ce75",
   "metadata": {
    "execution": {
     "iopub.execute_input": "2022-06-06T22:46:23.894530Z",
     "iopub.status.busy": "2022-06-06T22:46:23.894080Z",
     "iopub.status.idle": "2022-06-06T22:46:36.658747Z",
     "shell.execute_reply": "2022-06-06T22:46:36.657756Z"
    },
    "id": "3XCqd9nmmini",
    "papermill": {
     "duration": 12.781368,
     "end_time": "2022-06-06T22:46:36.661326",
     "exception": false,
     "start_time": "2022-06-06T22:46:23.879958",
     "status": "completed"
    },
    "tags": []
   },
   "outputs": [
    {
     "name": "stdout",
     "output_type": "stream",
     "text": [
      "Collecting pyvi\r\n",
      "  Downloading pyvi-0.1.1-py2.py3-none-any.whl (8.5 MB)\r\n",
      "\u001b[2K     \u001b[90m━━━━━━━━━━━━━━━━━━━━━━━━━━━━━━━━━━━━━━━━\u001b[0m \u001b[32m8.5/8.5 MB\u001b[0m \u001b[31m9.9 MB/s\u001b[0m eta \u001b[36m0:00:00\u001b[0m\r\n",
      "\u001b[?25hCollecting sklearn-crfsuite\r\n",
      "  Downloading sklearn_crfsuite-0.3.6-py2.py3-none-any.whl (12 kB)\r\n",
      "Requirement already satisfied: scikit-learn in /opt/conda/lib/python3.7/site-packages (from pyvi) (1.0.2)\r\n",
      "Requirement already satisfied: scipy>=1.1.0 in /opt/conda/lib/python3.7/site-packages (from scikit-learn->pyvi) (1.7.3)\r\n",
      "Requirement already satisfied: joblib>=0.11 in /opt/conda/lib/python3.7/site-packages (from scikit-learn->pyvi) (1.1.0)\r\n",
      "Requirement already satisfied: numpy>=1.14.6 in /opt/conda/lib/python3.7/site-packages (from scikit-learn->pyvi) (1.21.6)\r\n",
      "Requirement already satisfied: threadpoolctl>=2.0.0 in /opt/conda/lib/python3.7/site-packages (from scikit-learn->pyvi) (3.1.0)\r\n",
      "Requirement already satisfied: six in /opt/conda/lib/python3.7/site-packages (from sklearn-crfsuite->pyvi) (1.16.0)\r\n",
      "Requirement already satisfied: tqdm>=2.0 in /opt/conda/lib/python3.7/site-packages (from sklearn-crfsuite->pyvi) (4.64.0)\r\n",
      "Requirement already satisfied: tabulate in /opt/conda/lib/python3.7/site-packages (from sklearn-crfsuite->pyvi) (0.8.9)\r\n",
      "Collecting python-crfsuite>=0.8.3\r\n",
      "  Downloading python_crfsuite-0.9.8-cp37-cp37m-manylinux_2_17_x86_64.manylinux2014_x86_64.whl (965 kB)\r\n",
      "\u001b[2K     \u001b[90m━━━━━━━━━━━━━━━━━━━━━━━━━━━━━━━━━━━━━━\u001b[0m \u001b[32m965.4/965.4 kB\u001b[0m \u001b[31m44.3 MB/s\u001b[0m eta \u001b[36m0:00:00\u001b[0m\r\n",
      "\u001b[?25hInstalling collected packages: python-crfsuite, sklearn-crfsuite, pyvi\r\n",
      "Successfully installed python-crfsuite-0.9.8 pyvi-0.1.1 sklearn-crfsuite-0.3.6\r\n",
      "\u001b[33mWARNING: Running pip as the 'root' user can result in broken permissions and conflicting behaviour with the system package manager. It is recommended to use a virtual environment instead: https://pip.pypa.io/warnings/venv\u001b[0m\u001b[33m\r\n",
      "\u001b[0m"
     ]
    }
   ],
   "source": [
    "!pip install pyvi"
   ]
  },
  {
   "cell_type": "code",
   "execution_count": 2,
   "id": "a43de1f2",
   "metadata": {
    "execution": {
     "iopub.execute_input": "2022-06-06T22:46:36.680340Z",
     "iopub.status.busy": "2022-06-06T22:46:36.680026Z",
     "iopub.status.idle": "2022-06-06T22:46:43.501419Z",
     "shell.execute_reply": "2022-06-06T22:46:43.500639Z"
    },
    "id": "OK0jFWTIvj7f",
    "papermill": {
     "duration": 6.833151,
     "end_time": "2022-06-06T22:46:43.503484",
     "exception": false,
     "start_time": "2022-06-06T22:46:36.670333",
     "status": "completed"
    },
    "tags": []
   },
   "outputs": [],
   "source": [
    "SEED = 42\n",
    "\n",
    "import string\n",
    "\n",
    "import nltk\n",
    "import re\n",
    "\n",
    "import numpy as np\n",
    "import pandas as pd\n",
    "from pyvi import ViTokenizer\n",
    "\n",
    "from tensorflow.keras.models import Model, load_model\n",
    "from tensorflow.keras.layers import Dense, Embedding, LSTM, Input\n",
    "from tensorflow.keras.preprocessing.sequence import pad_sequences\n",
    "from tensorflow.keras.utils import to_categorical\n",
    "from keras.preprocessing.text import Tokenizer\n",
    "from keras.utils.vis_utils import plot_model\n",
    "\n",
    "from sklearn.model_selection import train_test_split\n",
    "from gensim.models import Word2Vec\n",
    "from scipy.spatial import distance\n",
    "\n",
    "from matplotlib import pyplot as plt"
   ]
  },
  {
   "cell_type": "code",
   "execution_count": 3,
   "id": "1d8659eb",
   "metadata": {
    "execution": {
     "iopub.execute_input": "2022-06-06T22:46:43.522360Z",
     "iopub.status.busy": "2022-06-06T22:46:43.521720Z",
     "iopub.status.idle": "2022-06-06T22:46:43.532427Z",
     "shell.execute_reply": "2022-06-06T22:46:43.531132Z"
    },
    "id": "nsRvjEMqvj7p",
    "outputId": "43faead3-fdbd-4bc9-a889-a62062dfdc8d",
    "papermill": {
     "duration": 0.02253,
     "end_time": "2022-06-06T22:46:43.534652",
     "exception": false,
     "start_time": "2022-06-06T22:46:43.512122",
     "status": "completed"
    },
    "tags": []
   },
   "outputs": [
    {
     "name": "stdout",
     "output_type": "stream",
     "text": [
      "['shoping.txt', 'a ch.txt', 'tn gu.txt', 'bn b.txt', 'tdtu.txt', 's thch.txt', 'thng tin c nhn.txt', 'hc tp.txt', 'ngh nghip.txt', 'ngi yu.txt', 'gii tr.txt', 'tr chuyn v i n.txt', 'gia nh.txt', 'cc cu hi phc tp.txt', 'du lch.txt', 't nc.txt', 'robot.txt', 'ngh l.txt']\n"
     ]
    }
   ],
   "source": [
    "import os\n",
    "# dir = '/content/drive/MyDrive/NLP/dữ liệu chatbot - dự án cuối kì'\n",
    "dir = '../input/chatbot-data/chatbot'\n",
    "\n",
    "filenames = os.listdir(dir)\n",
    "print(filenames)"
   ]
  },
  {
   "cell_type": "code",
   "execution_count": 4,
   "id": "ed851216",
   "metadata": {
    "execution": {
     "iopub.execute_input": "2022-06-06T22:46:43.554103Z",
     "iopub.status.busy": "2022-06-06T22:46:43.553827Z",
     "iopub.status.idle": "2022-06-06T22:46:43.660007Z",
     "shell.execute_reply": "2022-06-06T22:46:43.659267Z"
    },
    "id": "l9JSiGuhvj7r",
    "outputId": "01601e03-a710-471c-e77d-d479401fe0bb",
    "papermill": {
     "duration": 0.118154,
     "end_time": "2022-06-06T22:46:43.662243",
     "exception": false,
     "start_time": "2022-06-06T22:46:43.544089",
     "status": "completed"
    },
    "tags": []
   },
   "outputs": [
    {
     "name": "stdout",
     "output_type": "stream",
     "text": [
      "Number of QA pairs: 5855 \n",
      "\n",
      "Q: có loại nào đặc biệt không bạn ?\n",
      "A: có 2 loại đặc biệt nha bạn \n",
      "\n",
      "Q: Ê mày tao định mua son nè mày thấy chỗ nào bán được không?\n",
      "A: à mày qua moon shop quận 7 thử \n",
      "\n",
      "Q: cho tôi hỏi nhà này có bao nhiêu phòng?\n",
      "A: ngồi nhà này có đến 5 phòng nha bạn \n",
      "\n",
      "Q: Đặc sản của quê bạn là gì?\n",
      "A: Về trái cây thì có thanh long, Về thức ăn thì có bánh căn 1 loại bánh như bánh xèo nhưng nhỏ hơn. \n",
      "\n",
      "Q: vậy còn số điện thoại của cậu là bao nhiêu?\n",
      "A: số điện thoại của tớ là 0234567891 \n",
      "\n"
     ]
    }
   ],
   "source": [
    "Q = []\n",
    "A = []\n",
    "for i in filenames:\n",
    "    with open(dir+'/'+i, encoding=\"utf8\") as f:\n",
    "        for line in f:\n",
    "            a =  line.split('__eou__')\n",
    "            Q.append(a[0].strip())\n",
    "            A.append(a[1].strip())\n",
    "print('Number of QA pairs:', len(Q), '\\n')\n",
    "\n",
    "# shuffle to mix the data topic\n",
    "QA = pd.DataFrame(zip(Q, A))\n",
    "QA = QA.sample(frac=1, random_state=61)\n",
    "\n",
    "Q = QA.iloc[:, 0].values\n",
    "A = QA.iloc[:, 1].values\n",
    "\n",
    "for i in range(5):\n",
    "    print('Q:', Q[i])\n",
    "    print('A:', A[i], '\\n')"
   ]
  },
  {
   "cell_type": "code",
   "execution_count": 5,
   "id": "bd6f3cc7",
   "metadata": {
    "execution": {
     "iopub.execute_input": "2022-06-06T22:46:43.681444Z",
     "iopub.status.busy": "2022-06-06T22:46:43.680828Z",
     "iopub.status.idle": "2022-06-06T22:46:43.685715Z",
     "shell.execute_reply": "2022-06-06T22:46:43.684881Z"
    },
    "papermill": {
     "duration": 0.015859,
     "end_time": "2022-06-06T22:46:43.687602",
     "exception": false,
     "start_time": "2022-06-06T22:46:43.671743",
     "status": "completed"
    },
    "tags": []
   },
   "outputs": [],
   "source": [
    "def normalize(data):\n",
    "    cleaned_data = []\n",
    "    regex = re.compile('[%s]' % re.escape(string.punctuation))\n",
    "    for sent in data:\n",
    "        sent = regex.sub('', sent)\n",
    "        sent = ViTokenizer.tokenize(sent)\n",
    "        cleaned_data.append(sent.lower())\n",
    "    return cleaned_data"
   ]
  },
  {
   "cell_type": "code",
   "execution_count": 6,
   "id": "1d9e0c31",
   "metadata": {
    "execution": {
     "iopub.execute_input": "2022-06-06T22:46:43.705040Z",
     "iopub.status.busy": "2022-06-06T22:46:43.704790Z",
     "iopub.status.idle": "2022-06-06T22:46:45.245674Z",
     "shell.execute_reply": "2022-06-06T22:46:45.244530Z"
    },
    "papermill": {
     "duration": 1.552381,
     "end_time": "2022-06-06T22:46:45.248169",
     "exception": false,
     "start_time": "2022-06-06T22:46:43.695788",
     "status": "completed"
    },
    "tags": []
   },
   "outputs": [
    {
     "name": "stdout",
     "output_type": "stream",
     "text": [
      "Q: có loại nào đặc_biệt không bạn\n",
      "A: có 2 loại đặc_biệt nha bạn \n",
      "\n",
      "Q: ê mày tao định mua son nè mày thấy chỗ nào bán được không\n",
      "A: à mày qua moon shop quận 7 thử \n",
      "\n",
      "Q: cho tôi hỏi nhà này có bao_nhiêu phòng\n",
      "A: ngồi nhà này có đến 5 phòng nha bạn \n",
      "\n",
      "Q: đặc_sản của quê bạn là gì\n",
      "A: về trái_cây thì có thanh_long về thức_ăn thì có bánh căn 1 loại bánh như bánh_xèo nhưng nhỏ hơn \n",
      "\n",
      "Q: vậy còn số điện_thoại của cậu là bao_nhiêu\n",
      "A: số điện_thoại của tớ là 0234567891 \n",
      "\n"
     ]
    }
   ],
   "source": [
    "questions = normalize(Q)\n",
    "answers = normalize(A)\n",
    "\n",
    "for i in range(5):\n",
    "    print('Q:', questions[i])\n",
    "    print('A:', answers[i], '\\n')"
   ]
  },
  {
   "cell_type": "code",
   "execution_count": 7,
   "id": "a466a71b",
   "metadata": {
    "execution": {
     "iopub.execute_input": "2022-06-06T22:46:45.268086Z",
     "iopub.status.busy": "2022-06-06T22:46:45.267379Z",
     "iopub.status.idle": "2022-06-06T22:46:45.275544Z",
     "shell.execute_reply": "2022-06-06T22:46:45.274642Z"
    },
    "papermill": {
     "duration": 0.019673,
     "end_time": "2022-06-06T22:46:45.277504",
     "exception": false,
     "start_time": "2022-06-06T22:46:45.257831",
     "status": "completed"
    },
    "tags": []
   },
   "outputs": [],
   "source": [
    "X_train, X_test, y_train, y_test = train_test_split(questions, answers, test_size=0.1, random_state=SEED)"
   ]
  },
  {
   "cell_type": "code",
   "execution_count": 8,
   "id": "28887ede",
   "metadata": {
    "execution": {
     "iopub.execute_input": "2022-06-06T22:46:45.295543Z",
     "iopub.status.busy": "2022-06-06T22:46:45.295267Z",
     "iopub.status.idle": "2022-06-06T22:46:45.301815Z",
     "shell.execute_reply": "2022-06-06T22:46:45.300975Z"
    },
    "id": "x7zf0U6Nvj7u",
    "papermill": {
     "duration": 0.017395,
     "end_time": "2022-06-06T22:46:45.303614",
     "exception": false,
     "start_time": "2022-06-06T22:46:45.286219",
     "status": "completed"
    },
    "tags": []
   },
   "outputs": [],
   "source": [
    "# start and end of string token to each answer\n",
    "for i in range(len(y_train)):\n",
    "    y_train[i] = '<start> ' + y_train[i] + ' <end>'"
   ]
  },
  {
   "cell_type": "code",
   "execution_count": 9,
   "id": "937ea1c6",
   "metadata": {
    "execution": {
     "iopub.execute_input": "2022-06-06T22:46:45.321583Z",
     "iopub.status.busy": "2022-06-06T22:46:45.321317Z",
     "iopub.status.idle": "2022-06-06T22:46:45.467399Z",
     "shell.execute_reply": "2022-06-06T22:46:45.466461Z"
    },
    "id": "L90MakM0vj7y",
    "outputId": "08a6011f-e8c7-4bc2-988c-c31bc84497c8",
    "papermill": {
     "duration": 0.157131,
     "end_time": "2022-06-06T22:46:45.469167",
     "exception": false,
     "start_time": "2022-06-06T22:46:45.312036",
     "status": "completed"
    },
    "tags": []
   },
   "outputs": [
    {
     "name": "stdout",
     "output_type": "stream",
     "text": [
      "VOCAB SIZE: 5154\n"
     ]
    }
   ],
   "source": [
    "# count each token appearing time\n",
    "tokenizer = Tokenizer(filters='')\n",
    "tokenizer.fit_on_texts(X_train + X_test + y_train + y_test + ['<unk>'])\n",
    "VOCAB_SIZE = len(tokenizer.word_index) + 1 # padding token for embedding layer later\n",
    "print('VOCAB SIZE: {}'.format(VOCAB_SIZE))\n",
    "vocab = list(tokenizer.word_index.keys()) # list of tokens"
   ]
  },
  {
   "cell_type": "code",
   "execution_count": 10,
   "id": "2b864b9a",
   "metadata": {
    "execution": {
     "iopub.execute_input": "2022-06-06T22:46:45.487002Z",
     "iopub.status.busy": "2022-06-06T22:46:45.486749Z",
     "iopub.status.idle": "2022-06-06T22:46:45.586799Z",
     "shell.execute_reply": "2022-06-06T22:46:45.586098Z"
    },
    "id": "WAl_Wm8gwJnG",
    "outputId": "6ebb3cec-23ee-4405-b204-5eda960340ae",
    "papermill": {
     "duration": 0.110859,
     "end_time": "2022-06-06T22:46:45.588426",
     "exception": false,
     "start_time": "2022-06-06T22:46:45.477567",
     "status": "completed"
    },
    "tags": []
   },
   "outputs": [],
   "source": [
    "tokenized_questions = tokenizer.texts_to_sequences(X_train)\n",
    "tokenized_answers = tokenizer.texts_to_sequences(y_train)"
   ]
  },
  {
   "cell_type": "code",
   "execution_count": 11,
   "id": "9e6ff0ff",
   "metadata": {
    "execution": {
     "iopub.execute_input": "2022-06-06T22:46:45.607022Z",
     "iopub.status.busy": "2022-06-06T22:46:45.606423Z",
     "iopub.status.idle": "2022-06-06T22:46:45.633127Z",
     "shell.execute_reply": "2022-06-06T22:46:45.631988Z"
    },
    "id": "d1UdhpNUvj70",
    "outputId": "1fc607f3-dc03-45d4-ce4a-48259e7151a9",
    "papermill": {
     "duration": 0.037933,
     "end_time": "2022-06-06T22:46:45.635368",
     "exception": false,
     "start_time": "2022-06-06T22:46:45.597435",
     "status": "completed"
    },
    "tags": []
   },
   "outputs": [
    {
     "name": "stdout",
     "output_type": "stream",
     "text": [
      "Encoder input data shape: (5269, 75)\n",
      "Max length of encoder input data: 75\n"
     ]
    }
   ],
   "source": [
    "MAXLEN_QUESTION = max([len(x) for x in tokenized_questions])\n",
    "padded_questions = pad_sequences(tokenized_questions, maxlen=MAXLEN_QUESTION, padding='post')\n",
    "encoder_input_data = np.array(padded_questions)\n",
    "print('Encoder input data shape:', encoder_input_data.shape)\n",
    "print('Max length of encoder input data:', MAXLEN_QUESTION)"
   ]
  },
  {
   "cell_type": "code",
   "execution_count": 12,
   "id": "38b89735",
   "metadata": {
    "execution": {
     "iopub.execute_input": "2022-06-06T22:46:45.654013Z",
     "iopub.status.busy": "2022-06-06T22:46:45.653403Z",
     "iopub.status.idle": "2022-06-06T22:46:45.683969Z",
     "shell.execute_reply": "2022-06-06T22:46:45.682886Z"
    },
    "id": "Y-g2Z_ibvj71",
    "outputId": "e6569561-a5ba-4490-beab-6b165bec28e0",
    "papermill": {
     "duration": 0.041776,
     "end_time": "2022-06-06T22:46:45.686080",
     "exception": false,
     "start_time": "2022-06-06T22:46:45.644304",
     "status": "completed"
    },
    "tags": []
   },
   "outputs": [
    {
     "name": "stdout",
     "output_type": "stream",
     "text": [
      "Decoder input data shape: (5269, 113)\n",
      "Max length of decoder input data: 113\n"
     ]
    }
   ],
   "source": [
    "MAXLEN_ANSWER = max([len(x) for x in tokenized_answers])\n",
    "padded_answers = pad_sequences(tokenized_answers, maxlen=MAXLEN_ANSWER, padding='post')\n",
    "decoder_input_data = np.array(padded_answers)\n",
    "print('Decoder input data shape:', decoder_input_data.shape)\n",
    "print('Max length of decoder input data:', MAXLEN_ANSWER)"
   ]
  },
  {
   "cell_type": "code",
   "execution_count": 13,
   "id": "f3981730",
   "metadata": {
    "execution": {
     "iopub.execute_input": "2022-06-06T22:46:45.704423Z",
     "iopub.status.busy": "2022-06-06T22:46:45.704174Z",
     "iopub.status.idle": "2022-06-06T22:46:46.906544Z",
     "shell.execute_reply": "2022-06-06T22:46:46.905405Z"
    },
    "id": "fEpd4v7Mvj73",
    "outputId": "58b454cf-d703-4ea8-cef1-41495f2894ae",
    "papermill": {
     "duration": 1.213915,
     "end_time": "2022-06-06T22:46:46.908928",
     "exception": false,
     "start_time": "2022-06-06T22:46:45.695013",
     "status": "completed"
    },
    "tags": []
   },
   "outputs": [
    {
     "name": "stdout",
     "output_type": "stream",
     "text": [
      "Decoder ouput data shape: (5269, 113, 5154)\n"
     ]
    }
   ],
   "source": [
    "padded_answers_dec_out = pad_sequences(padded_answers[:, 1:], maxlen=MAXLEN_ANSWER, padding='post')\n",
    "decoder_output_data = to_categorical(padded_answers_dec_out, VOCAB_SIZE, dtype='uint8')# remove <start> tag in answers data\n",
    "print('Decoder ouput data shape:', decoder_output_data.shape)"
   ]
  },
  {
   "cell_type": "code",
   "execution_count": 14,
   "id": "866daee0",
   "metadata": {
    "execution": {
     "iopub.execute_input": "2022-06-06T22:46:46.928397Z",
     "iopub.status.busy": "2022-06-06T22:46:46.928040Z",
     "iopub.status.idle": "2022-06-06T22:46:50.661303Z",
     "shell.execute_reply": "2022-06-06T22:46:50.660519Z"
    },
    "id": "slipHGSXvj73",
    "papermill": {
     "duration": 3.745427,
     "end_time": "2022-06-06T22:46:50.663825",
     "exception": false,
     "start_time": "2022-06-06T22:46:46.918398",
     "status": "completed"
    },
    "tags": []
   },
   "outputs": [
    {
     "name": "stderr",
     "output_type": "stream",
     "text": [
      "2022-06-06 22:46:47.032769: I tensorflow/stream_executor/cuda/cuda_gpu_executor.cc:937] successful NUMA node read from SysFS had negative value (-1), but there must be at least one NUMA node, so returning NUMA node zero\n",
      "2022-06-06 22:46:47.156967: I tensorflow/stream_executor/cuda/cuda_gpu_executor.cc:937] successful NUMA node read from SysFS had negative value (-1), but there must be at least one NUMA node, so returning NUMA node zero\n",
      "2022-06-06 22:46:47.157767: I tensorflow/stream_executor/cuda/cuda_gpu_executor.cc:937] successful NUMA node read from SysFS had negative value (-1), but there must be at least one NUMA node, so returning NUMA node zero\n",
      "2022-06-06 22:46:47.158930: I tensorflow/core/platform/cpu_feature_guard.cc:142] This TensorFlow binary is optimized with oneAPI Deep Neural Network Library (oneDNN) to use the following CPU instructions in performance-critical operations:  AVX2 AVX512F FMA\n",
      "To enable them in other operations, rebuild TensorFlow with the appropriate compiler flags.\n",
      "2022-06-06 22:46:47.159307: I tensorflow/stream_executor/cuda/cuda_gpu_executor.cc:937] successful NUMA node read from SysFS had negative value (-1), but there must be at least one NUMA node, so returning NUMA node zero\n",
      "2022-06-06 22:46:47.160105: I tensorflow/stream_executor/cuda/cuda_gpu_executor.cc:937] successful NUMA node read from SysFS had negative value (-1), but there must be at least one NUMA node, so returning NUMA node zero\n",
      "2022-06-06 22:46:47.160763: I tensorflow/stream_executor/cuda/cuda_gpu_executor.cc:937] successful NUMA node read from SysFS had negative value (-1), but there must be at least one NUMA node, so returning NUMA node zero\n",
      "2022-06-06 22:46:49.606636: I tensorflow/stream_executor/cuda/cuda_gpu_executor.cc:937] successful NUMA node read from SysFS had negative value (-1), but there must be at least one NUMA node, so returning NUMA node zero\n",
      "2022-06-06 22:46:49.607512: I tensorflow/stream_executor/cuda/cuda_gpu_executor.cc:937] successful NUMA node read from SysFS had negative value (-1), but there must be at least one NUMA node, so returning NUMA node zero\n",
      "2022-06-06 22:46:49.608181: I tensorflow/stream_executor/cuda/cuda_gpu_executor.cc:937] successful NUMA node read from SysFS had negative value (-1), but there must be at least one NUMA node, so returning NUMA node zero\n",
      "2022-06-06 22:46:49.608783: I tensorflow/core/common_runtime/gpu/gpu_device.cc:1510] Created device /job:localhost/replica:0/task:0/device:GPU:0 with 15403 MB memory:  -> device: 0, name: Tesla P100-PCIE-16GB, pci bus id: 0000:00:04.0, compute capability: 6.0\n"
     ]
    }
   ],
   "source": [
    "encoder_inputs = Input(shape=(MAXLEN_QUESTION,))\n",
    "encoder_embedding = Embedding(VOCAB_SIZE, 200, mask_zero=True) (encoder_inputs) # mask zero to acknowledge 0 padding\n",
    "_, state_h, state_c = LSTM(200, return_state=True) (encoder_embedding) # return last hidden and cell state\n",
    "encoder_states = [state_h, state_c]"
   ]
  },
  {
   "cell_type": "code",
   "execution_count": 15,
   "id": "1385e83e",
   "metadata": {
    "execution": {
     "iopub.execute_input": "2022-06-06T22:46:50.683001Z",
     "iopub.status.busy": "2022-06-06T22:46:50.682721Z",
     "iopub.status.idle": "2022-06-06T22:46:51.370221Z",
     "shell.execute_reply": "2022-06-06T22:46:51.369386Z"
    },
    "id": "UYaJaLp7vj74",
    "papermill": {
     "duration": 0.699631,
     "end_time": "2022-06-06T22:46:51.372683",
     "exception": false,
     "start_time": "2022-06-06T22:46:50.673052",
     "status": "completed"
    },
    "scrolled": true,
    "tags": []
   },
   "outputs": [],
   "source": [
    "decoder_inputs = Input(shape=(MAXLEN_ANSWER,))\n",
    "decoder_embedding = Embedding(VOCAB_SIZE, 200, mask_zero=True) (decoder_inputs)\n",
    "decoder_lstm = LSTM(200, return_state=True, return_sequences=True)\n",
    "decoder_outputs, _, _ = decoder_lstm(decoder_embedding, initial_state=encoder_states) # passing hidden states to dense\n",
    "decoder_dense = Dense(VOCAB_SIZE, activation='softmax')\n",
    "output = decoder_dense(decoder_outputs)"
   ]
  },
  {
   "cell_type": "code",
   "execution_count": 16,
   "id": "62345662",
   "metadata": {
    "execution": {
     "iopub.execute_input": "2022-06-06T22:46:51.393050Z",
     "iopub.status.busy": "2022-06-06T22:46:51.392779Z",
     "iopub.status.idle": "2022-06-06T22:46:52.440402Z",
     "shell.execute_reply": "2022-06-06T22:46:52.439377Z"
    },
    "id": "zpxqS0CQvj74",
    "outputId": "c7c6e53e-f04b-44c4-a738-80897f7e8cb9",
    "papermill": {
     "duration": 1.059573,
     "end_time": "2022-06-06T22:46:52.442420",
     "exception": false,
     "start_time": "2022-06-06T22:46:51.382847",
     "status": "completed"
    },
    "tags": []
   },
   "outputs": [
    {
     "name": "stdout",
     "output_type": "stream",
     "text": [
      "Model: \"model\"\n",
      "____________________________________________________________________________________________________\n",
      "Layer (type)               Output Shape                                  Param #   Connected to     \n",
      "====================================================================================================\n",
      "input_1 (InputLayer)       [(None, 75)]                                  0                          \n",
      "____________________________________________________________________________________________________\n",
      "input_2 (InputLayer)       [(None, 113)]                                 0                          \n",
      "____________________________________________________________________________________________________\n",
      "embedding (Embedding)      (None, 75, 200)                               1030800   input_1[0][0]    \n",
      "____________________________________________________________________________________________________\n",
      "embedding_1 (Embedding)    (None, 113, 200)                              1030800   input_2[0][0]    \n",
      "____________________________________________________________________________________________________\n",
      "lstm (LSTM)                [(None, 200), (None, 200), (None, 200)]       320800    embedding[0][0]  \n",
      "____________________________________________________________________________________________________\n",
      "lstm_1 (LSTM)              [(None, 113, 200), (None, 200), (None, 200)]  320800    embedding_1[0][0]\n",
      "                                                                                   lstm[0][1]       \n",
      "                                                                                   lstm[0][2]       \n",
      "____________________________________________________________________________________________________\n",
      "dense (Dense)              (None, 113, 5154)                             1035954   lstm_1[0][0]     \n",
      "====================================================================================================\n",
      "Total params: 3,739,154\n",
      "Trainable params: 3,739,154\n",
      "Non-trainable params: 0\n",
      "____________________________________________________________________________________________________\n",
      "None\n"
     ]
    },
    {
     "data": {
      "image/png": "[encoded data removed]",
      "text/plain": [
       "<IPython.core.display.Image object>"
      ]
     },
     "execution_count": 16,
     "metadata": {},
     "output_type": "execute_result"
    }
   ],
   "source": [
    "model = Model([encoder_inputs, decoder_inputs], output)\n",
    "model.compile(loss='categorical_crossentropy', optimizer='adam', metrics=['accuracy'])\n",
    "print(model.summary(line_length=100, positions=[.27, .73, .83, 1.]))\n",
    "plot_model(model, rankdir='LR', show_shapes=True)"
   ]
  },
  {
   "cell_type": "code",
   "execution_count": 17,
   "id": "7420e1e2",
   "metadata": {
    "execution": {
     "iopub.execute_input": "2022-06-06T22:46:52.463909Z",
     "iopub.status.busy": "2022-06-06T22:46:52.463595Z",
     "iopub.status.idle": "2022-06-06T23:01:23.600236Z",
     "shell.execute_reply": "2022-06-06T23:01:23.599453Z"
    },
    "id": "Gi27qYt8vj74",
    "outputId": "03dd453c-8dec-4c03-930a-dfeabf65390c",
    "papermill": {
     "duration": 871.149471,
     "end_time": "2022-06-06T23:01:23.602274",
     "exception": false,
     "start_time": "2022-06-06T22:46:52.452803",
     "status": "completed"
    },
    "scrolled": true,
    "tags": []
   },
   "outputs": [
    {
     "name": "stderr",
     "output_type": "stream",
     "text": [
      "2022-06-06 22:46:52.471126: W tensorflow/core/framework/cpu_allocator_impl.cc:80] Allocation of 2761750284 exceeds 10% of free system memory.\n",
      "2022-06-06 22:46:55.419589: W tensorflow/core/framework/cpu_allocator_impl.cc:80] Allocation of 2761750284 exceeds 10% of free system memory.\n",
      "2022-06-06 22:46:57.452512: I tensorflow/compiler/mlir/mlir_graph_optimization_pass.cc:185] None of the MLIR Optimization Passes are enabled (registered 2)\n"
     ]
    },
    {
     "name": "stdout",
     "output_type": "stream",
     "text": [
      "Epoch 1/100\n"
     ]
    },
    {
     "name": "stderr",
     "output_type": "stream",
     "text": [
      "2022-06-06 22:47:04.099173: I tensorflow/stream_executor/cuda/cuda_dnn.cc:369] Loaded cuDNN version 8005\n"
     ]
    },
    {
     "name": "stdout",
     "output_type": "stream",
     "text": [
      "149/149 [==============================] - 20s 76ms/step - loss: 0.4876 - accuracy: 0.1690 - val_loss: 0.4274 - val_accuracy: 0.2449\n",
      "Epoch 2/100\n",
      "149/149 [==============================] - 9s 60ms/step - loss: 0.4153 - accuracy: 0.2508 - val_loss: 0.4203 - val_accuracy: 0.2481\n",
      "Epoch 3/100\n",
      "149/149 [==============================] - 8s 57ms/step - loss: 0.4034 - accuracy: 0.2547 - val_loss: 0.4148 - val_accuracy: 0.2517\n",
      "Epoch 4/100\n",
      "149/149 [==============================] - 8s 56ms/step - loss: 0.3920 - accuracy: 0.2657 - val_loss: 0.4092 - val_accuracy: 0.2643\n",
      "Epoch 5/100\n",
      "149/149 [==============================] - 9s 57ms/step - loss: 0.3818 - accuracy: 0.2710 - val_loss: 0.4063 - val_accuracy: 0.2637\n",
      "Epoch 6/100\n",
      "149/149 [==============================] - 9s 60ms/step - loss: 0.3727 - accuracy: 0.2736 - val_loss: 0.4035 - val_accuracy: 0.2652\n",
      "Epoch 7/100\n",
      "149/149 [==============================] - 8s 57ms/step - loss: 0.3639 - accuracy: 0.2789 - val_loss: 0.4010 - val_accuracy: 0.2703\n",
      "Epoch 8/100\n",
      "149/149 [==============================] - 9s 58ms/step - loss: 0.3552 - accuracy: 0.2858 - val_loss: 0.3994 - val_accuracy: 0.2728\n",
      "Epoch 9/100\n",
      "149/149 [==============================] - 9s 58ms/step - loss: 0.3462 - accuracy: 0.2909 - val_loss: 0.3965 - val_accuracy: 0.2770\n",
      "Epoch 10/100\n",
      "149/149 [==============================] - 8s 57ms/step - loss: 0.3371 - accuracy: 0.3007 - val_loss: 0.3949 - val_accuracy: 0.2816\n",
      "Epoch 11/100\n",
      "149/149 [==============================] - 8s 57ms/step - loss: 0.3279 - accuracy: 0.3103 - val_loss: 0.3933 - val_accuracy: 0.2852\n",
      "Epoch 12/100\n",
      "149/149 [==============================] - 9s 57ms/step - loss: 0.3188 - accuracy: 0.3197 - val_loss: 0.3915 - val_accuracy: 0.2939\n",
      "Epoch 13/100\n",
      "149/149 [==============================] - 9s 60ms/step - loss: 0.3091 - accuracy: 0.3301 - val_loss: 0.3897 - val_accuracy: 0.2949\n",
      "Epoch 14/100\n",
      "149/149 [==============================] - 8s 56ms/step - loss: 0.2998 - accuracy: 0.3374 - val_loss: 0.3879 - val_accuracy: 0.3023\n",
      "Epoch 15/100\n",
      "149/149 [==============================] - 9s 57ms/step - loss: 0.2903 - accuracy: 0.3465 - val_loss: 0.3855 - val_accuracy: 0.3042\n",
      "Epoch 16/100\n",
      "149/149 [==============================] - 8s 57ms/step - loss: 0.2811 - accuracy: 0.3572 - val_loss: 0.3853 - val_accuracy: 0.3076\n",
      "Epoch 17/100\n",
      "149/149 [==============================] - 9s 60ms/step - loss: 0.2717 - accuracy: 0.3690 - val_loss: 0.3840 - val_accuracy: 0.3105\n",
      "Epoch 18/100\n",
      "149/149 [==============================] - 8s 55ms/step - loss: 0.2624 - accuracy: 0.3802 - val_loss: 0.3845 - val_accuracy: 0.3169\n",
      "Epoch 19/100\n",
      "149/149 [==============================] - 8s 56ms/step - loss: 0.2535 - accuracy: 0.3927 - val_loss: 0.3834 - val_accuracy: 0.3162\n",
      "Epoch 20/100\n",
      "149/149 [==============================] - 8s 57ms/step - loss: 0.2443 - accuracy: 0.4068 - val_loss: 0.3838 - val_accuracy: 0.3234\n",
      "Epoch 21/100\n",
      "149/149 [==============================] - 9s 61ms/step - loss: 0.2352 - accuracy: 0.4210 - val_loss: 0.3844 - val_accuracy: 0.3196\n",
      "Epoch 22/100\n",
      "149/149 [==============================] - 8s 57ms/step - loss: 0.2267 - accuracy: 0.4358 - val_loss: 0.3852 - val_accuracy: 0.3236\n",
      "Epoch 23/100\n",
      "149/149 [==============================] - 8s 56ms/step - loss: 0.2179 - accuracy: 0.4539 - val_loss: 0.3848 - val_accuracy: 0.3329\n",
      "Epoch 24/100\n",
      "149/149 [==============================] - 8s 57ms/step - loss: 0.2093 - accuracy: 0.4724 - val_loss: 0.3865 - val_accuracy: 0.3354\n",
      "Epoch 25/100\n",
      "149/149 [==============================] - 9s 58ms/step - loss: 0.2011 - accuracy: 0.4891 - val_loss: 0.3887 - val_accuracy: 0.3352\n",
      "Epoch 26/100\n",
      "149/149 [==============================] - 8s 57ms/step - loss: 0.1928 - accuracy: 0.5085 - val_loss: 0.3883 - val_accuracy: 0.3407\n",
      "Epoch 27/100\n",
      "149/149 [==============================] - 8s 56ms/step - loss: 0.1848 - accuracy: 0.5272 - val_loss: 0.3906 - val_accuracy: 0.3403\n",
      "Epoch 28/100\n",
      "149/149 [==============================] - 8s 57ms/step - loss: 0.1772 - accuracy: 0.5441 - val_loss: 0.3920 - val_accuracy: 0.3365\n",
      "Epoch 29/100\n",
      "149/149 [==============================] - 9s 60ms/step - loss: 0.1697 - accuracy: 0.5626 - val_loss: 0.3945 - val_accuracy: 0.3409\n",
      "Epoch 30/100\n",
      "149/149 [==============================] - 8s 57ms/step - loss: 0.1628 - accuracy: 0.5760 - val_loss: 0.3961 - val_accuracy: 0.3445\n",
      "Epoch 31/100\n",
      "149/149 [==============================] - 8s 56ms/step - loss: 0.1561 - accuracy: 0.5919 - val_loss: 0.3986 - val_accuracy: 0.3441\n",
      "Epoch 32/100\n",
      "149/149 [==============================] - 9s 58ms/step - loss: 0.1494 - accuracy: 0.6101 - val_loss: 0.4013 - val_accuracy: 0.3477\n",
      "Epoch 33/100\n",
      "149/149 [==============================] - 8s 57ms/step - loss: 0.1432 - accuracy: 0.6239 - val_loss: 0.4030 - val_accuracy: 0.3435\n",
      "Epoch 34/100\n",
      "149/149 [==============================] - 9s 59ms/step - loss: 0.1371 - accuracy: 0.6388 - val_loss: 0.4058 - val_accuracy: 0.3475\n",
      "Epoch 35/100\n",
      "149/149 [==============================] - 8s 57ms/step - loss: 0.1315 - accuracy: 0.6525 - val_loss: 0.4082 - val_accuracy: 0.3492\n",
      "Epoch 36/100\n",
      "149/149 [==============================] - 9s 58ms/step - loss: 0.1257 - accuracy: 0.6687 - val_loss: 0.4104 - val_accuracy: 0.3489\n",
      "Epoch 37/100\n",
      "149/149 [==============================] - 8s 57ms/step - loss: 0.1202 - accuracy: 0.6855 - val_loss: 0.4137 - val_accuracy: 0.3496\n",
      "Epoch 38/100\n",
      "149/149 [==============================] - 9s 57ms/step - loss: 0.1149 - accuracy: 0.6971 - val_loss: 0.4151 - val_accuracy: 0.3489\n",
      "Epoch 39/100\n",
      "149/149 [==============================] - 8s 56ms/step - loss: 0.1102 - accuracy: 0.7109 - val_loss: 0.4182 - val_accuracy: 0.3496\n",
      "Epoch 40/100\n",
      "149/149 [==============================] - 9s 57ms/step - loss: 0.1054 - accuracy: 0.7241 - val_loss: 0.4208 - val_accuracy: 0.3483\n",
      "Epoch 41/100\n",
      "149/149 [==============================] - 9s 58ms/step - loss: 0.1006 - accuracy: 0.7374 - val_loss: 0.4237 - val_accuracy: 0.3475\n",
      "Epoch 42/100\n",
      "149/149 [==============================] - 8s 57ms/step - loss: 0.0965 - accuracy: 0.7501 - val_loss: 0.4282 - val_accuracy: 0.3487\n",
      "Epoch 43/100\n",
      "149/149 [==============================] - 8s 57ms/step - loss: 0.0922 - accuracy: 0.7625 - val_loss: 0.4296 - val_accuracy: 0.3525\n",
      "Epoch 44/100\n",
      "149/149 [==============================] - 9s 58ms/step - loss: 0.0881 - accuracy: 0.7721 - val_loss: 0.4330 - val_accuracy: 0.3536\n",
      "Epoch 45/100\n",
      "149/149 [==============================] - 8s 56ms/step - loss: 0.0845 - accuracy: 0.7814 - val_loss: 0.4360 - val_accuracy: 0.3546\n",
      "Epoch 46/100\n",
      "149/149 [==============================] - 8s 57ms/step - loss: 0.0805 - accuracy: 0.7944 - val_loss: 0.4410 - val_accuracy: 0.3523\n",
      "Epoch 47/100\n",
      "149/149 [==============================] - 8s 56ms/step - loss: 0.0770 - accuracy: 0.8025 - val_loss: 0.4423 - val_accuracy: 0.3530\n",
      "Epoch 48/100\n",
      "149/149 [==============================] - 9s 60ms/step - loss: 0.0735 - accuracy: 0.8135 - val_loss: 0.4463 - val_accuracy: 0.3553\n",
      "Epoch 49/100\n",
      "149/149 [==============================] - 8s 56ms/step - loss: 0.0702 - accuracy: 0.8231 - val_loss: 0.4508 - val_accuracy: 0.3534\n",
      "Epoch 50/100\n",
      "149/149 [==============================] - 9s 58ms/step - loss: 0.0672 - accuracy: 0.8290 - val_loss: 0.4521 - val_accuracy: 0.3511\n",
      "Epoch 51/100\n",
      "149/149 [==============================] - 8s 57ms/step - loss: 0.0642 - accuracy: 0.8396 - val_loss: 0.4571 - val_accuracy: 0.3549\n",
      "Epoch 52/100\n",
      "149/149 [==============================] - 9s 60ms/step - loss: 0.0614 - accuracy: 0.8458 - val_loss: 0.4589 - val_accuracy: 0.3504\n",
      "Epoch 53/100\n",
      "149/149 [==============================] - 8s 56ms/step - loss: 0.0584 - accuracy: 0.8550 - val_loss: 0.4622 - val_accuracy: 0.3527\n",
      "Epoch 54/100\n",
      "149/149 [==============================] - 8s 56ms/step - loss: 0.0556 - accuracy: 0.8639 - val_loss: 0.4658 - val_accuracy: 0.3502\n",
      "Epoch 55/100\n",
      "149/149 [==============================] - 8s 57ms/step - loss: 0.0532 - accuracy: 0.8707 - val_loss: 0.4694 - val_accuracy: 0.3519\n",
      "Epoch 56/100\n",
      "149/149 [==============================] - 9s 61ms/step - loss: 0.0509 - accuracy: 0.8765 - val_loss: 0.4727 - val_accuracy: 0.3521\n",
      "Epoch 57/100\n",
      "149/149 [==============================] - 9s 57ms/step - loss: 0.0485 - accuracy: 0.8840 - val_loss: 0.4749 - val_accuracy: 0.3517\n",
      "Epoch 58/100\n",
      "149/149 [==============================] - 8s 56ms/step - loss: 0.0462 - accuracy: 0.8913 - val_loss: 0.4791 - val_accuracy: 0.3534\n",
      "Epoch 59/100\n",
      "149/149 [==============================] - 9s 60ms/step - loss: 0.0443 - accuracy: 0.8948 - val_loss: 0.4816 - val_accuracy: 0.3500\n",
      "Epoch 60/100\n",
      "149/149 [==============================] - 9s 58ms/step - loss: 0.0421 - accuracy: 0.9027 - val_loss: 0.4851 - val_accuracy: 0.3458\n",
      "Epoch 61/100\n",
      "149/149 [==============================] - 8s 57ms/step - loss: 0.0400 - accuracy: 0.9073 - val_loss: 0.4882 - val_accuracy: 0.3447\n",
      "Epoch 62/100\n",
      "149/149 [==============================] - 8s 56ms/step - loss: 0.0380 - accuracy: 0.9132 - val_loss: 0.4908 - val_accuracy: 0.3515\n",
      "Epoch 63/100\n",
      "149/149 [==============================] - 9s 59ms/step - loss: 0.0363 - accuracy: 0.9190 - val_loss: 0.4930 - val_accuracy: 0.3523\n",
      "Epoch 64/100\n",
      "149/149 [==============================] - 8s 56ms/step - loss: 0.0348 - accuracy: 0.9216 - val_loss: 0.4980 - val_accuracy: 0.3464\n",
      "Epoch 65/100\n",
      "149/149 [==============================] - 8s 56ms/step - loss: 0.0329 - accuracy: 0.9271 - val_loss: 0.5003 - val_accuracy: 0.3454\n",
      "Epoch 66/100\n",
      "149/149 [==============================] - 8s 56ms/step - loss: 0.0312 - accuracy: 0.9312 - val_loss: 0.5032 - val_accuracy: 0.3464\n",
      "Epoch 67/100\n",
      "149/149 [==============================] - 9s 59ms/step - loss: 0.0300 - accuracy: 0.9340 - val_loss: 0.5075 - val_accuracy: 0.3487\n",
      "Epoch 68/100\n",
      "149/149 [==============================] - 8s 57ms/step - loss: 0.0284 - accuracy: 0.9380 - val_loss: 0.5113 - val_accuracy: 0.3454\n",
      "Epoch 69/100\n",
      "149/149 [==============================] - 9s 58ms/step - loss: 0.0269 - accuracy: 0.9424 - val_loss: 0.5139 - val_accuracy: 0.3428\n",
      "Epoch 70/100\n",
      "149/149 [==============================] - 8s 57ms/step - loss: 0.0256 - accuracy: 0.9447 - val_loss: 0.5177 - val_accuracy: 0.3468\n",
      "Epoch 71/100\n",
      "149/149 [==============================] - 9s 59ms/step - loss: 0.0244 - accuracy: 0.9479 - val_loss: 0.5204 - val_accuracy: 0.3470\n",
      "Epoch 72/100\n",
      "149/149 [==============================] - 8s 55ms/step - loss: 0.0233 - accuracy: 0.9509 - val_loss: 0.5236 - val_accuracy: 0.3500\n",
      "Epoch 73/100\n",
      "149/149 [==============================] - 8s 57ms/step - loss: 0.0222 - accuracy: 0.9531 - val_loss: 0.5257 - val_accuracy: 0.3464\n",
      "Epoch 74/100\n",
      "149/149 [==============================] - 9s 58ms/step - loss: 0.0212 - accuracy: 0.9551 - val_loss: 0.5300 - val_accuracy: 0.3420\n",
      "Epoch 75/100\n",
      "149/149 [==============================] - 9s 58ms/step - loss: 0.0203 - accuracy: 0.9579 - val_loss: 0.5323 - val_accuracy: 0.3468\n",
      "Epoch 76/100\n",
      "149/149 [==============================] - 8s 55ms/step - loss: 0.0195 - accuracy: 0.9592 - val_loss: 0.5358 - val_accuracy: 0.3485\n",
      "Epoch 77/100\n",
      "149/149 [==============================] - 9s 59ms/step - loss: 0.0187 - accuracy: 0.9610 - val_loss: 0.5369 - val_accuracy: 0.3464\n",
      "Epoch 78/100\n",
      "149/149 [==============================] - 8s 57ms/step - loss: 0.0179 - accuracy: 0.9636 - val_loss: 0.5397 - val_accuracy: 0.3492\n",
      "Epoch 79/100\n",
      "149/149 [==============================] - 9s 58ms/step - loss: 0.0170 - accuracy: 0.9645 - val_loss: 0.5445 - val_accuracy: 0.3418\n",
      "Epoch 80/100\n",
      "149/149 [==============================] - 8s 57ms/step - loss: 0.0161 - accuracy: 0.9667 - val_loss: 0.5465 - val_accuracy: 0.3477\n",
      "Epoch 81/100\n",
      "149/149 [==============================] - 8s 56ms/step - loss: 0.0152 - accuracy: 0.9686 - val_loss: 0.5483 - val_accuracy: 0.3458\n",
      "Epoch 82/100\n",
      "149/149 [==============================] - 8s 57ms/step - loss: 0.0145 - accuracy: 0.9703 - val_loss: 0.5541 - val_accuracy: 0.3458\n",
      "Epoch 83/100\n",
      "149/149 [==============================] - 9s 59ms/step - loss: 0.0139 - accuracy: 0.9709 - val_loss: 0.5564 - val_accuracy: 0.3487\n",
      "Epoch 84/100\n",
      "149/149 [==============================] - 8s 56ms/step - loss: 0.0132 - accuracy: 0.9721 - val_loss: 0.5592 - val_accuracy: 0.3422\n",
      "Epoch 85/100\n",
      "149/149 [==============================] - 8s 55ms/step - loss: 0.0125 - accuracy: 0.9735 - val_loss: 0.5614 - val_accuracy: 0.3447\n",
      "Epoch 86/100\n",
      "149/149 [==============================] - 9s 61ms/step - loss: 0.0120 - accuracy: 0.9744 - val_loss: 0.5646 - val_accuracy: 0.3460\n",
      "Epoch 87/100\n",
      "149/149 [==============================] - 9s 57ms/step - loss: 0.0114 - accuracy: 0.9761 - val_loss: 0.5665 - val_accuracy: 0.3435\n",
      "Epoch 88/100\n",
      "149/149 [==============================] - 9s 58ms/step - loss: 0.0110 - accuracy: 0.9767 - val_loss: 0.5697 - val_accuracy: 0.3443\n",
      "Epoch 89/100\n",
      "149/149 [==============================] - 8s 56ms/step - loss: 0.0108 - accuracy: 0.9760 - val_loss: 0.5719 - val_accuracy: 0.3454\n",
      "Epoch 90/100\n",
      "149/149 [==============================] - 9s 58ms/step - loss: 0.0107 - accuracy: 0.9759 - val_loss: 0.5712 - val_accuracy: 0.3426\n",
      "Epoch 91/100\n",
      "149/149 [==============================] - 9s 57ms/step - loss: 0.0103 - accuracy: 0.9772 - val_loss: 0.5767 - val_accuracy: 0.3464\n",
      "Epoch 92/100\n",
      "149/149 [==============================] - 9s 59ms/step - loss: 0.0098 - accuracy: 0.9775 - val_loss: 0.5774 - val_accuracy: 0.3458\n",
      "Epoch 93/100\n",
      "149/149 [==============================] - 8s 56ms/step - loss: 0.0094 - accuracy: 0.9787 - val_loss: 0.5807 - val_accuracy: 0.3432\n",
      "Epoch 94/100\n",
      "149/149 [==============================] - 9s 58ms/step - loss: 0.0089 - accuracy: 0.9792 - val_loss: 0.5850 - val_accuracy: 0.3458\n",
      "Epoch 95/100\n",
      "149/149 [==============================] - 9s 58ms/step - loss: 0.0084 - accuracy: 0.9797 - val_loss: 0.5861 - val_accuracy: 0.3445\n",
      "Epoch 96/100\n",
      "149/149 [==============================] - 8s 56ms/step - loss: 0.0078 - accuracy: 0.9805 - val_loss: 0.5904 - val_accuracy: 0.3420\n",
      "Epoch 97/100\n",
      "149/149 [==============================] - 8s 57ms/step - loss: 0.0075 - accuracy: 0.9806 - val_loss: 0.5927 - val_accuracy: 0.3449\n",
      "Epoch 98/100\n",
      "149/149 [==============================] - 9s 59ms/step - loss: 0.0073 - accuracy: 0.9809 - val_loss: 0.5957 - val_accuracy: 0.3458\n",
      "Epoch 99/100\n",
      "149/149 [==============================] - 9s 59ms/step - loss: 0.0087 - accuracy: 0.9781 - val_loss: 0.5955 - val_accuracy: 0.3435\n",
      "Epoch 100/100\n",
      "149/149 [==============================] - 8s 56ms/step - loss: 0.0085 - accuracy: 0.9788 - val_loss: 0.5976 - val_accuracy: 0.3430\n"
     ]
    }
   ],
   "source": [
    "history = model.fit([encoder_input_data, decoder_input_data], decoder_output_data, epochs=100, validation_split=0.1) # epochs >= 10 to get proper answer"
   ]
  },
  {
   "cell_type": "code",
   "execution_count": 18,
   "id": "08c594c2",
   "metadata": {
    "execution": {
     "iopub.execute_input": "2022-06-06T23:01:24.661569Z",
     "iopub.status.busy": "2022-06-06T23:01:24.661155Z",
     "iopub.status.idle": "2022-06-06T23:01:25.364709Z",
     "shell.execute_reply": "2022-06-06T23:01:25.363916Z"
    },
    "id": "QaESKXhfvj75",
    "papermill": {
     "duration": 1.23786,
     "end_time": "2022-06-06T23:01:25.366793",
     "exception": false,
     "start_time": "2022-06-06T23:01:24.128933",
     "status": "completed"
    },
    "scrolled": true,
    "tags": []
   },
   "outputs": [],
   "source": [
    "def make_inference_models():\n",
    "    \n",
    "    # encoder model takes questions as input and output its LSTM state\n",
    "    encoder_model = Model(encoder_inputs, encoder_states)\n",
    "    \n",
    "    # decoder takes encoder output states as its initial state \n",
    "    # and 200 is the output of encoder last hidden and cell states dimension\n",
    "    decoder_state_input_h = Input(shape=(200,))\n",
    "    decoder_state_input_c = Input(shape=(200,))\n",
    "    decoder_states_inputs = [decoder_state_input_h, decoder_state_input_c]\n",
    "    \n",
    "    # use these pre-trained layers of the model: decoder_embedding, decoder_lstm, decoder_dense \n",
    "    decoder_outputs, state_h, state_c = decoder_lstm(decoder_embedding, initial_state=decoder_states_inputs)\n",
    "    decoder_states = [state_h, state_c]\n",
    "    decoder_outputs = decoder_dense(decoder_outputs)\n",
    "    \n",
    "    # decoder model takes one token and the states predicted from enc_model   \n",
    "    decoder_model = Model([decoder_inputs] + decoder_states_inputs, [decoder_outputs] + decoder_states)\n",
    "    \n",
    "    return encoder_model, decoder_model\n",
    "\n",
    "enc_model, dec_model = make_inference_models()\n",
    "enc_model.save('enc_model.h5')\n",
    "dec_model.save('dec_model.h5')"
   ]
  },
  {
   "cell_type": "code",
   "execution_count": 19,
   "id": "263a0ff5",
   "metadata": {
    "execution": {
     "iopub.execute_input": "2022-06-06T23:01:26.438152Z",
     "iopub.status.busy": "2022-06-06T23:01:26.437817Z",
     "iopub.status.idle": "2022-06-06T23:01:26.442132Z",
     "shell.execute_reply": "2022-06-06T23:01:26.441380Z"
    },
    "papermill": {
     "duration": 0.524342,
     "end_time": "2022-06-06T23:01:26.443881",
     "exception": false,
     "start_time": "2022-06-06T23:01:25.919539",
     "status": "completed"
    },
    "tags": []
   },
   "outputs": [],
   "source": [
    "# # load model\n",
    "# enc_model = load_model('./../input/chatbot-data/enc_model.h5')\n",
    "# dec_model = load_model('../input/chatbot-data/dec_model.h5')"
   ]
  },
  {
   "cell_type": "code",
   "execution_count": 20,
   "id": "8010eaae",
   "metadata": {
    "execution": {
     "iopub.execute_input": "2022-06-06T23:01:27.515655Z",
     "iopub.status.busy": "2022-06-06T23:01:27.515187Z",
     "iopub.status.idle": "2022-06-06T23:01:27.521120Z",
     "shell.execute_reply": "2022-06-06T23:01:27.520393Z"
    },
    "id": "iZJwkGzpvj75",
    "papermill": {
     "duration": 0.523989,
     "end_time": "2022-06-06T23:01:27.522846",
     "exception": false,
     "start_time": "2022-06-06T23:01:26.998857",
     "status": "completed"
    },
    "tags": []
   },
   "outputs": [],
   "source": [
    "def format_question(sent:str):\n",
    "    sent = normalize([sent])[0]\n",
    "    words = sent.split()\n",
    "    token_list = []\n",
    "    for word in words:\n",
    "        try:\n",
    "            index = tokenizer.word_index[word]\n",
    "        except KeyError:\n",
    "            index = tokenizer.word_index['<unk>']\n",
    "        token_list.append(index)\n",
    "    return pad_sequences([token_list], maxlen=MAXLEN_QUESTION, padding='post', truncating='post')"
   ]
  },
  {
   "cell_type": "code",
   "execution_count": 21,
   "id": "3568ed4a",
   "metadata": {
    "execution": {
     "iopub.execute_input": "2022-06-06T23:01:28.852026Z",
     "iopub.status.busy": "2022-06-06T23:01:28.851587Z",
     "iopub.status.idle": "2022-06-06T23:01:28.861271Z",
     "shell.execute_reply": "2022-06-06T23:01:28.860515Z"
    },
    "id": "v_4uY17Uvj77",
    "papermill": {
     "duration": 0.705564,
     "end_time": "2022-06-06T23:01:28.863008",
     "exception": false,
     "start_time": "2022-06-06T23:01:28.157444",
     "status": "completed"
    },
    "tags": []
   },
   "outputs": [],
   "source": [
    "def ask(question, display=True):\n",
    "    if display == True: print('Q:', question)\n",
    "    question = format_question(question)\n",
    "    states_values = enc_model.predict(question)\n",
    "    target_seq = np.zeros((1, 1))\n",
    "    target_seq[0, 0] = tokenizer.word_index['<start>']\n",
    "    \n",
    "    stop_condition = False\n",
    "    decoded_seq = ''\n",
    "    while not stop_condition:\n",
    "        # dec_outputs return a one hot vector with the dimension number of vocab size\n",
    "        dec_outputs, h, c = dec_model.predict([target_seq] + states_values)\n",
    "        gen_word_index = np.argmax(dec_outputs[0, -1])\n",
    "        try:\n",
    "            gen_word = tokenizer.index_word[gen_word_index]\n",
    "        except KeyError:\n",
    "            gen_word = '<end>'\n",
    "        if gen_word == '<end>' or len(decoded_seq.split()) > MAXLEN_ANSWER:\n",
    "            stop_condition = True\n",
    "        else:\n",
    "            decoded_seq += gen_word + ' '\n",
    "            \n",
    "        target_seq = np.zeros((1, 1))  \n",
    "        target_seq[0, 0] = gen_word_index\n",
    "        states_values = [h, c]\n",
    "    if display == True:\n",
    "        if len(decoded_seq) > 1: # empty or <2 character answer\n",
    "            answer = decoded_seq[0].upper() + decoded_seq[1:].replace('_', ' ')\n",
    "        else:\n",
    "            answer = decoded_seq\n",
    "        print('A:', answer.strip(), '\\n')\n",
    "    else:\n",
    "        answer = decoded_seq.strip()\n",
    "        return answer\n"
   ]
  },
  {
   "cell_type": "code",
   "execution_count": 22,
   "id": "bbe03160",
   "metadata": {
    "execution": {
     "iopub.execute_input": "2022-06-06T23:01:29.891930Z",
     "iopub.status.busy": "2022-06-06T23:01:29.891583Z",
     "iopub.status.idle": "2022-06-06T23:01:33.523500Z",
     "shell.execute_reply": "2022-06-06T23:01:33.522454Z"
    },
    "papermill": {
     "duration": 4.148923,
     "end_time": "2022-06-06T23:01:33.525233",
     "exception": false,
     "start_time": "2022-06-06T23:01:29.376310",
     "status": "completed"
    },
    "tags": []
   },
   "outputs": [
    {
     "name": "stdout",
     "output_type": "stream",
     "text": [
      "Q: Bạn sinh năm bao nhiêu?\n",
      "A: Mình sinh năm 2001 \n",
      "\n",
      "Q: Có người yêu chưa?\n",
      "A: Chưa \n",
      "\n",
      "Q: Shop tư vấn cho mình một số mẫu giày thích hợp để đi chơi được không?\n",
      "A: Bạn có thể tham khảo vài đôi giày của adidas hoặc nike \n",
      "\n",
      "Q: Quê bạn ở đâu?\n",
      "A: Quê mình ở tiền giang \n",
      "\n",
      "Q: Bạn thường làm gì trong thời gian rảnh?\n",
      "A: Ngủ \n",
      "\n",
      "Q: Bạn có muốn đi xem phim vào cuối tuần này hay không?\n",
      "A: Không mình sẽ đi chắc hay đi xem phim \n",
      "\n",
      "Q: Bạn thích môn thể thao gì?\n",
      "A: Mình thích đá bóng \n",
      "\n"
     ]
    }
   ],
   "source": [
    "ask('Bạn sinh năm bao nhiêu?')\n",
    "ask('Có người yêu chưa?')\n",
    "ask('Shop tư vấn cho mình một số mẫu giày thích hợp để đi chơi được không?')\n",
    "ask('Quê bạn ở đâu?')\n",
    "ask('Bạn thường làm gì trong thời gian rảnh?')\n",
    "ask('Bạn có muốn đi xem phim vào cuối tuần này hay không?')\n",
    "ask('Bạn thích môn thể thao gì?')"
   ]
  },
  {
   "cell_type": "code",
   "execution_count": 23,
   "id": "453121aa",
   "metadata": {
    "execution": {
     "iopub.execute_input": "2022-06-06T23:01:35.090673Z",
     "iopub.status.busy": "2022-06-06T23:01:35.090204Z",
     "iopub.status.idle": "2022-06-06T23:01:35.334792Z",
     "shell.execute_reply": "2022-06-06T23:01:35.334066Z"
    },
    "papermill": {
     "duration": 1.129727,
     "end_time": "2022-06-06T23:01:35.336490",
     "exception": false,
     "start_time": "2022-06-06T23:01:34.206763",
     "status": "completed"
    },
    "tags": []
   },
   "outputs": [
    {
     "data": {
      "image/png": "[encoded data removed]",
      "text/plain": [
       "<Figure size 432x288 with 1 Axes>"
      ]
     },
     "metadata": {
      "needs_background": "light"
     },
     "output_type": "display_data"
    }
   ],
   "source": [
    "plt.plot(history.history['loss'])\n",
    "plt.plot(history.history['val_loss'])\n",
    "plt.title('Model loss')\n",
    "plt.ylabel('loss')\n",
    "plt.xlabel('epoch')\n",
    "plt.legend(['train', 'val'], loc='best')\n",
    "plt.show()"
   ]
  },
  {
   "cell_type": "code",
   "execution_count": 24,
   "id": "094a7a63",
   "metadata": {
    "execution": {
     "iopub.execute_input": "2022-06-06T23:01:36.413669Z",
     "iopub.status.busy": "2022-06-06T23:01:36.413291Z",
     "iopub.status.idle": "2022-06-06T23:01:36.612145Z",
     "shell.execute_reply": "2022-06-06T23:01:36.611360Z"
    },
    "papermill": {
     "duration": 0.71504,
     "end_time": "2022-06-06T23:01:36.613789",
     "exception": false,
     "start_time": "2022-06-06T23:01:35.898749",
     "status": "completed"
    },
    "tags": []
   },
   "outputs": [
    {
     "data": {
      "image/png": "[encoded data removed]",
      "text/plain": [
       "<Figure size 432x288 with 1 Axes>"
      ]
     },
     "metadata": {
      "needs_background": "light"
     },
     "output_type": "display_data"
    }
   ],
   "source": [
    "plt.plot(history.history['accuracy'])\n",
    "plt.plot(history.history['val_accuracy'])\n",
    "plt.title('Model accuracy')\n",
    "plt.ylabel('accuracy')\n",
    "plt.xlabel('epoch')\n",
    "plt.legend(['train', 'val'], loc='best')\n",
    "plt.show()"
   ]
  },
  {
   "cell_type": "code",
   "execution_count": 25,
   "id": "a5ea0f6d",
   "metadata": {
    "execution": {
     "iopub.execute_input": "2022-06-06T23:01:37.692609Z",
     "iopub.status.busy": "2022-06-06T23:01:37.692248Z",
     "iopub.status.idle": "2022-06-06T23:01:38.813371Z",
     "shell.execute_reply": "2022-06-06T23:01:38.812523Z"
    },
    "papermill": {
     "duration": 1.682295,
     "end_time": "2022-06-06T23:01:38.815306",
     "exception": false,
     "start_time": "2022-06-06T23:01:37.133011",
     "status": "completed"
    },
    "tags": []
   },
   "outputs": [],
   "source": [
    "modelw2v = Word2Vec(sentences=[x.split() for x in answers + questions + ['<unk>']], vector_size=100, min_count=1, sg=1)\n",
    "\n",
    "#Tính trung bình cộng các vector của từng từ trong câu\n",
    "def avg_sentence_vector(sent):\n",
    "    feature_vec = np.zeros((100,))\n",
    "    nwords = 0\n",
    "    for word in sent.split():\n",
    "        if word in modelw2v.wv.index_to_key:\n",
    "            try:\n",
    "                word_vec = modelw2v.wv[word]\n",
    "                nwords += 1\n",
    "            except KeyError:\n",
    "                word_vec = modelw2v.wv['<unk>']\n",
    "            feature_vec = np.add(feature_vec, word_vec)\n",
    "    if nwords > 0:\n",
    "        feature_vec = np.divide(feature_vec, nwords)\n",
    "    return feature_vec"
   ]
  },
  {
   "cell_type": "code",
   "execution_count": 26,
   "id": "74923029",
   "metadata": {
    "execution": {
     "iopub.execute_input": "2022-06-06T23:01:40.112925Z",
     "iopub.status.busy": "2022-06-06T23:01:40.112568Z",
     "iopub.status.idle": "2022-06-06T23:01:40.118788Z",
     "shell.execute_reply": "2022-06-06T23:01:40.117948Z"
    },
    "papermill": {
     "duration": 0.531591,
     "end_time": "2022-06-06T23:01:40.120408",
     "exception": false,
     "start_time": "2022-06-06T23:01:39.588817",
     "status": "completed"
    },
    "tags": []
   },
   "outputs": [],
   "source": [
    "def evaluate(preds, actuals):\n",
    "    similarities = []\n",
    "    for i in range(len(preds)):\n",
    "        pred = avg_sentence_vector(preds[i])\n",
    "        actual = avg_sentence_vector(actuals[i])\n",
    "        sim = np.dot(pred, actual) / (np.linalg.norm(pred) * np.linalg.norm(actual)) #distance.cosine(pred, actual)\n",
    "\n",
    "        if not np.isnan(sim):\n",
    "            similarities.append(sim)\n",
    "    return np.sum(similarities)/len(similarities)"
   ]
  },
  {
   "cell_type": "code",
   "execution_count": 27,
   "id": "510bd9f9",
   "metadata": {
    "execution": {
     "iopub.execute_input": "2022-06-06T23:01:41.226593Z",
     "iopub.status.busy": "2022-06-06T23:01:41.226115Z",
     "iopub.status.idle": "2022-06-06T23:05:14.039447Z",
     "shell.execute_reply": "2022-06-06T23:05:14.038633Z"
    },
    "papermill": {
     "duration": 213.389496,
     "end_time": "2022-06-06T23:05:14.041680",
     "exception": false,
     "start_time": "2022-06-06T23:01:40.652184",
     "status": "completed"
    },
    "tags": []
   },
   "outputs": [],
   "source": [
    "preds = [ask(x, display=False) for x in X_test]"
   ]
  },
  {
   "cell_type": "code",
   "execution_count": 28,
   "id": "c3535fb7",
   "metadata": {
    "execution": {
     "iopub.execute_input": "2022-06-06T23:05:15.143518Z",
     "iopub.status.busy": "2022-06-06T23:05:15.142779Z",
     "iopub.status.idle": "2022-06-06T23:05:15.269221Z",
     "shell.execute_reply": "2022-06-06T23:05:15.268255Z"
    },
    "papermill": {
     "duration": 0.697694,
     "end_time": "2022-06-06T23:05:15.271000",
     "exception": false,
     "start_time": "2022-06-06T23:05:14.573306",
     "status": "completed"
    },
    "tags": []
   },
   "outputs": [
    {
     "name": "stdout",
     "output_type": "stream",
     "text": [
      "Score base on semantic similarity:  0.9382172712226284\n"
     ]
    },
    {
     "name": "stderr",
     "output_type": "stream",
     "text": [
      "/opt/conda/lib/python3.7/site-packages/ipykernel_launcher.py:6: RuntimeWarning: invalid value encountered in double_scalars\n",
      "  \n"
     ]
    }
   ],
   "source": [
    "print('Score base on semantic similarity: ', evaluate(preds, y_test))"
   ]
  }
 ],
 "metadata": {
  "kernelspec": {
   "display_name": "Python 3",
   "language": "python",
   "name": "python3"
  },
  "language_info": {
   "codemirror_mode": {
    "name": "ipython",
    "version": 3
   },
   "file_extension": ".py",
   "mimetype": "text/x-python",
   "name": "python",
   "nbconvert_exporter": "python",
   "pygments_lexer": "ipython3",
   "version": "3.7.12"
  },
  "papermill": {
   "default_parameters": {},
   "duration": 1143.458849,
   "end_time": "2022-06-06T23:05:18.951090",
   "environment_variables": {},
   "exception": null,
   "input_path": "__notebook__.ipynb",
   "output_path": "__notebook__.ipynb",
   "parameters": {},
   "start_time": "2022-06-06T22:46:15.492241",
   "version": "2.3.4"
  }
 },
 "nbformat": 4,
 "nbformat_minor": 5
}
