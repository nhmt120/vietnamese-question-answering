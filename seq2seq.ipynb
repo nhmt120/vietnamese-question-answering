{
 "cells": [
  {
   "cell_type": "code",
   "execution_count": 1,
   "id": "616ea527",
   "metadata": {
    "execution": {
     "iopub.execute_input": "2022-06-03T04:47:10.634741Z",
     "iopub.status.busy": "2022-06-03T04:47:10.633923Z",
     "iopub.status.idle": "2022-06-03T04:47:22.321542Z",
     "shell.execute_reply": "2022-06-03T04:47:22.320453Z"
    },
    "id": "3XCqd9nmmini",
    "papermill": {
     "duration": 11.701491,
     "end_time": "2022-06-03T04:47:22.324701",
     "exception": false,
     "start_time": "2022-06-03T04:47:10.623210",
     "status": "completed"
    },
    "tags": []
   },
   "outputs": [
    {
     "name": "stdout",
     "output_type": "stream",
     "text": [
      "Collecting pyvi\r\n",
      "  Downloading pyvi-0.1.1-py2.py3-none-any.whl (8.5 MB)\r\n",
      "\u001b[2K     \u001b[90m━━━━━━━━━━━━━━━━━━━━━━━━━━━━━━━━━━━━━━━━\u001b[0m \u001b[32m8.5/8.5 MB\u001b[0m \u001b[31m38.3 MB/s\u001b[0m eta \u001b[36m0:00:00\u001b[0m\r\n",
      "\u001b[?25hRequirement already satisfied: scikit-learn in /opt/conda/lib/python3.7/site-packages (from pyvi) (1.0.2)\r\n",
      "Collecting sklearn-crfsuite\r\n",
      "  Downloading sklearn_crfsuite-0.3.6-py2.py3-none-any.whl (12 kB)\r\n",
      "Requirement already satisfied: numpy>=1.14.6 in /opt/conda/lib/python3.7/site-packages (from scikit-learn->pyvi) (1.21.6)\r\n",
      "Requirement already satisfied: joblib>=0.11 in /opt/conda/lib/python3.7/site-packages (from scikit-learn->pyvi) (1.1.0)\r\n",
      "Requirement already satisfied: threadpoolctl>=2.0.0 in /opt/conda/lib/python3.7/site-packages (from scikit-learn->pyvi) (3.1.0)\r\n",
      "Requirement already satisfied: scipy>=1.1.0 in /opt/conda/lib/python3.7/site-packages (from scikit-learn->pyvi) (1.7.3)\r\n",
      "Requirement already satisfied: six in /opt/conda/lib/python3.7/site-packages (from sklearn-crfsuite->pyvi) (1.16.0)\r\n",
      "Requirement already satisfied: tabulate in /opt/conda/lib/python3.7/site-packages (from sklearn-crfsuite->pyvi) (0.8.9)\r\n",
      "Requirement already satisfied: tqdm>=2.0 in /opt/conda/lib/python3.7/site-packages (from sklearn-crfsuite->pyvi) (4.64.0)\r\n",
      "Collecting python-crfsuite>=0.8.3\r\n",
      "  Downloading python_crfsuite-0.9.8-cp37-cp37m-manylinux_2_17_x86_64.manylinux2014_x86_64.whl (965 kB)\r\n",
      "\u001b[2K     \u001b[90m━━━━━━━━━━━━━━━━━━━━━━━━━━━━━━━━━━━━━━\u001b[0m \u001b[32m965.4/965.4 kB\u001b[0m \u001b[31m48.6 MB/s\u001b[0m eta \u001b[36m0:00:00\u001b[0m\r\n",
      "\u001b[?25hInstalling collected packages: python-crfsuite, sklearn-crfsuite, pyvi\r\n",
      "Successfully installed python-crfsuite-0.9.8 pyvi-0.1.1 sklearn-crfsuite-0.3.6\r\n",
      "\u001b[33mWARNING: Running pip as the 'root' user can result in broken permissions and conflicting behaviour with the system package manager. It is recommended to use a virtual environment instead: https://pip.pypa.io/warnings/venv\u001b[0m\u001b[33m\r\n",
      "\u001b[0m"
     ]
    }
   ],
   "source": [
    "!pip install pyvi"
   ]
  },
  {
   "cell_type": "code",
   "execution_count": 2,
   "id": "ebc44613",
   "metadata": {
    "execution": {
     "iopub.execute_input": "2022-06-03T04:47:22.349299Z",
     "iopub.status.busy": "2022-06-03T04:47:22.348388Z",
     "iopub.status.idle": "2022-06-03T04:47:29.097259Z",
     "shell.execute_reply": "2022-06-03T04:47:29.096319Z"
    },
    "id": "OK0jFWTIvj7f",
    "papermill": {
     "duration": 6.763925,
     "end_time": "2022-06-03T04:47:29.099847",
     "exception": false,
     "start_time": "2022-06-03T04:47:22.335922",
     "status": "completed"
    },
    "tags": []
   },
   "outputs": [],
   "source": [
    "import string\n",
    "import nltk\n",
    "import re\n",
    "\n",
    "import numpy as np\n",
    "import pandas as pd\n",
    "from pyvi import ViTokenizer\n",
    "\n",
    "from tensorflow.keras.models import Model, load_model\n",
    "from tensorflow.keras.layers import Dense, Embedding, LSTM, Input\n",
    "from tensorflow.keras.preprocessing.sequence import pad_sequences\n",
    "from tensorflow.keras.utils import to_categorical\n",
    "from keras.preprocessing.text import Tokenizer\n",
    "from keras.utils.vis_utils import plot_model\n",
    "\n",
    "from matplotlib import pyplot as plt"
   ]
  },
  {
   "cell_type": "code",
   "execution_count": 3,
   "id": "fcd5459d",
   "metadata": {
    "execution": {
     "iopub.execute_input": "2022-06-03T04:47:29.120306Z",
     "iopub.status.busy": "2022-06-03T04:47:29.119441Z",
     "iopub.status.idle": "2022-06-03T04:47:29.133558Z",
     "shell.execute_reply": "2022-06-03T04:47:29.132595Z"
    },
    "id": "nsRvjEMqvj7p",
    "outputId": "43faead3-fdbd-4bc9-a889-a62062dfdc8d",
    "papermill": {
     "duration": 0.02864,
     "end_time": "2022-06-03T04:47:29.136135",
     "exception": false,
     "start_time": "2022-06-03T04:47:29.107495",
     "status": "completed"
    },
    "tags": []
   },
   "outputs": [
    {
     "name": "stdout",
     "output_type": "stream",
     "text": [
      "['shoping.txt', 'a ch.txt', 'tn gu.txt', 'bn b.txt', 'tdtu.txt', 's thch.txt', 'thng tin c nhn.txt', 'hc tp.txt', 'ngh nghip.txt', 'ngi yu.txt', 'gii tr.txt', 'tr chuyn v i n.txt', 'gia nh.txt', 'cc cu hi phc tp.txt', 'du lch.txt', 't nc.txt', 'robot.txt', 'ngh l.txt']\n"
     ]
    }
   ],
   "source": [
    "import os\n",
    "# dir = '/content/drive/MyDrive/NLP/dữ liệu chatbot - dự án cuối kì'\n",
    "dir = '../input/chatbot-data/chatbot'\n",
    "\n",
    "filenames = os.listdir(dir)\n",
    "print(filenames)"
   ]
  },
  {
   "cell_type": "code",
   "execution_count": 4,
   "id": "a22390dc",
   "metadata": {
    "execution": {
     "iopub.execute_input": "2022-06-03T04:47:29.152530Z",
     "iopub.status.busy": "2022-06-03T04:47:29.152255Z",
     "iopub.status.idle": "2022-06-03T04:47:29.283845Z",
     "shell.execute_reply": "2022-06-03T04:47:29.282878Z"
    },
    "id": "l9JSiGuhvj7r",
    "outputId": "01601e03-a710-471c-e77d-d479401fe0bb",
    "papermill": {
     "duration": 0.142174,
     "end_time": "2022-06-03T04:47:29.286406",
     "exception": false,
     "start_time": "2022-06-03T04:47:29.144232",
     "status": "completed"
    },
    "tags": []
   },
   "outputs": [
    {
     "name": "stdout",
     "output_type": "stream",
     "text": [
      "Number of QA pairs: 5855 \n",
      "\n",
      "Q: có loại nào đặc biệt không bạn ?\n",
      "A: có 2 loại đặc biệt nha bạn \n",
      "\n",
      "Q: Ê mày tao định mua son nè mày thấy chỗ nào bán được không?\n",
      "A: à mày qua moon shop quận 7 thử \n",
      "\n",
      "Q: cho tôi hỏi nhà này có bao nhiêu phòng?\n",
      "A: ngồi nhà này có đến 5 phòng nha bạn \n",
      "\n",
      "Q: Đặc sản của quê bạn là gì?\n",
      "A: Về trái cây thì có thanh long, Về thức ăn thì có bánh căn 1 loại bánh như bánh xèo nhưng nhỏ hơn. \n",
      "\n",
      "Q: vậy còn số điện thoại của cậu là bao nhiêu?\n",
      "A: số điện thoại của tớ là 0234567891 \n",
      "\n"
     ]
    }
   ],
   "source": [
    "Q = []\n",
    "A = []\n",
    "for i in filenames:\n",
    "    with open(dir+'/'+i, encoding=\"utf8\") as f:\n",
    "        for line in f:\n",
    "            a =  line.split('__eou__')\n",
    "            Q.append(a[0].strip())\n",
    "            A.append(a[1].strip())\n",
    "print('Number of QA pairs:', len(Q), '\\n')\n",
    "\n",
    "# shuffle to mix the data topic\n",
    "QA = pd.DataFrame(zip(Q, A))\n",
    "QA = QA.sample(frac=1, random_state=61)\n",
    "\n",
    "Q = QA.iloc[:, 0].values\n",
    "A = QA.iloc[:, 1].values\n",
    "\n",
    "for i in range(5):\n",
    "    print('Q:', Q[i])\n",
    "    print('A:', A[i], '\\n')"
   ]
  },
  {
   "cell_type": "code",
   "execution_count": 5,
   "id": "ddba2f97",
   "metadata": {
    "execution": {
     "iopub.execute_input": "2022-06-03T04:47:29.301961Z",
     "iopub.status.busy": "2022-06-03T04:47:29.301344Z",
     "iopub.status.idle": "2022-06-03T04:47:29.306411Z",
     "shell.execute_reply": "2022-06-03T04:47:29.305564Z"
    },
    "papermill": {
     "duration": 0.014644,
     "end_time": "2022-06-03T04:47:29.308163",
     "exception": false,
     "start_time": "2022-06-03T04:47:29.293519",
     "status": "completed"
    },
    "tags": []
   },
   "outputs": [],
   "source": [
    "def normalize(data):\n",
    "    cleaned_data = []\n",
    "    regex = re.compile('[%s]' % re.escape(string.punctuation))\n",
    "    for sent in data:\n",
    "        sent = regex.sub('', sent)\n",
    "        sent = ViTokenizer.tokenize(sent)\n",
    "        cleaned_data.append(sent.lower())\n",
    "    return cleaned_data"
   ]
  },
  {
   "cell_type": "code",
   "execution_count": 6,
   "id": "f3738e12",
   "metadata": {
    "execution": {
     "iopub.execute_input": "2022-06-03T04:47:29.323243Z",
     "iopub.status.busy": "2022-06-03T04:47:29.322628Z",
     "iopub.status.idle": "2022-06-03T04:47:30.870681Z",
     "shell.execute_reply": "2022-06-03T04:47:30.868327Z"
    },
    "papermill": {
     "duration": 1.557958,
     "end_time": "2022-06-03T04:47:30.872811",
     "exception": false,
     "start_time": "2022-06-03T04:47:29.314853",
     "status": "completed"
    },
    "tags": []
   },
   "outputs": [
    {
     "name": "stdout",
     "output_type": "stream",
     "text": [
      "Q: có loại nào đặc_biệt không bạn\n",
      "A: có 2 loại đặc_biệt nha bạn \n",
      "\n",
      "Q: ê mày tao định mua son nè mày thấy chỗ nào bán được không\n",
      "A: à mày qua moon shop quận 7 thử \n",
      "\n",
      "Q: cho tôi hỏi nhà này có bao_nhiêu phòng\n",
      "A: ngồi nhà này có đến 5 phòng nha bạn \n",
      "\n",
      "Q: đặc_sản của quê bạn là gì\n",
      "A: về trái_cây thì có thanh_long về thức_ăn thì có bánh căn 1 loại bánh như bánh_xèo nhưng nhỏ hơn \n",
      "\n",
      "Q: vậy còn số điện_thoại của cậu là bao_nhiêu\n",
      "A: số điện_thoại của tớ là 0234567891 \n",
      "\n"
     ]
    }
   ],
   "source": [
    "questions = normalize(Q)\n",
    "answers = normalize(A)\n",
    "\n",
    "for i in range(5):\n",
    "    print('Q:', questions[i])\n",
    "    print('A:', answers[i], '\\n')"
   ]
  },
  {
   "cell_type": "code",
   "execution_count": 7,
   "id": "f6213cd4",
   "metadata": {
    "execution": {
     "iopub.execute_input": "2022-06-03T04:47:30.888688Z",
     "iopub.status.busy": "2022-06-03T04:47:30.888377Z",
     "iopub.status.idle": "2022-06-03T04:47:30.894795Z",
     "shell.execute_reply": "2022-06-03T04:47:30.893979Z"
    },
    "id": "x7zf0U6Nvj7u",
    "papermill": {
     "duration": 0.016481,
     "end_time": "2022-06-03T04:47:30.896573",
     "exception": false,
     "start_time": "2022-06-03T04:47:30.880092",
     "status": "completed"
    },
    "tags": []
   },
   "outputs": [],
   "source": [
    "# start and end of string token to each answer\n",
    "for i in range(len(answers)):\n",
    "    answers[i] = '<start> ' + answers[i] + ' <end>'"
   ]
  },
  {
   "cell_type": "code",
   "execution_count": 8,
   "id": "b56c1552",
   "metadata": {
    "execution": {
     "iopub.execute_input": "2022-06-03T04:47:30.911880Z",
     "iopub.status.busy": "2022-06-03T04:47:30.911594Z",
     "iopub.status.idle": "2022-06-03T04:47:31.067232Z",
     "shell.execute_reply": "2022-06-03T04:47:31.066150Z"
    },
    "id": "L90MakM0vj7y",
    "outputId": "08a6011f-e8c7-4bc2-988c-c31bc84497c8",
    "papermill": {
     "duration": 0.166151,
     "end_time": "2022-06-03T04:47:31.069727",
     "exception": false,
     "start_time": "2022-06-03T04:47:30.903576",
     "status": "completed"
    },
    "tags": []
   },
   "outputs": [
    {
     "name": "stdout",
     "output_type": "stream",
     "text": [
      "VOCAB SIZE: 5154\n"
     ]
    }
   ],
   "source": [
    "# count each token appearing time\n",
    "tokenizer = Tokenizer(filters='')\n",
    "tokenizer.fit_on_texts(questions + answers + ['<unk>'])\n",
    "VOCAB_SIZE = len(tokenizer.word_index) + 1 # padding token for embedding layer later\n",
    "print('VOCAB SIZE: {}'.format(VOCAB_SIZE))\n",
    "vocab = list(tokenizer.word_index.keys()) # list of tokens"
   ]
  },
  {
   "cell_type": "code",
   "execution_count": 9,
   "id": "47727910",
   "metadata": {
    "execution": {
     "iopub.execute_input": "2022-06-03T04:47:31.085986Z",
     "iopub.status.busy": "2022-06-03T04:47:31.085677Z",
     "iopub.status.idle": "2022-06-03T04:47:31.200960Z",
     "shell.execute_reply": "2022-06-03T04:47:31.200117Z"
    },
    "id": "WAl_Wm8gwJnG",
    "outputId": "6ebb3cec-23ee-4405-b204-5eda960340ae",
    "papermill": {
     "duration": 0.125181,
     "end_time": "2022-06-03T04:47:31.202987",
     "exception": false,
     "start_time": "2022-06-03T04:47:31.077806",
     "status": "completed"
    },
    "tags": []
   },
   "outputs": [],
   "source": [
    "tokenized_questions = tokenizer.texts_to_sequences(questions)\n",
    "tokenized_answers = tokenizer.texts_to_sequences(answers)"
   ]
  },
  {
   "cell_type": "code",
   "execution_count": 10,
   "id": "57ea4c04",
   "metadata": {
    "execution": {
     "iopub.execute_input": "2022-06-03T04:47:31.219276Z",
     "iopub.status.busy": "2022-06-03T04:47:31.218947Z",
     "iopub.status.idle": "2022-06-03T04:47:31.248937Z",
     "shell.execute_reply": "2022-06-03T04:47:31.247950Z"
    },
    "id": "d1UdhpNUvj70",
    "outputId": "1fc607f3-dc03-45d4-ce4a-48259e7151a9",
    "papermill": {
     "duration": 0.040338,
     "end_time": "2022-06-03T04:47:31.251216",
     "exception": false,
     "start_time": "2022-06-03T04:47:31.210878",
     "status": "completed"
    },
    "tags": []
   },
   "outputs": [
    {
     "name": "stdout",
     "output_type": "stream",
     "text": [
      "Encoder input data shape: (5855, 75)\n",
      "Max length of encoder input data: 75\n"
     ]
    }
   ],
   "source": [
    "MAXLEN_QUESTION = max([len(x) for x in tokenized_questions])\n",
    "padded_questions = pad_sequences(tokenized_questions, maxlen=MAXLEN_QUESTION, padding='post')\n",
    "encoder_input_data = np.array(padded_questions)\n",
    "print('Encoder input data shape:', encoder_input_data.shape)\n",
    "print('Max length of encoder input data:', MAXLEN_QUESTION)"
   ]
  },
  {
   "cell_type": "code",
   "execution_count": 11,
   "id": "930738cf",
   "metadata": {
    "execution": {
     "iopub.execute_input": "2022-06-03T04:47:31.268977Z",
     "iopub.status.busy": "2022-06-03T04:47:31.268315Z",
     "iopub.status.idle": "2022-06-03T04:47:31.300734Z",
     "shell.execute_reply": "2022-06-03T04:47:31.299557Z"
    },
    "id": "Y-g2Z_ibvj71",
    "outputId": "e6569561-a5ba-4490-beab-6b165bec28e0",
    "papermill": {
     "duration": 0.04328,
     "end_time": "2022-06-03T04:47:31.302645",
     "exception": false,
     "start_time": "2022-06-03T04:47:31.259365",
     "status": "completed"
    },
    "tags": []
   },
   "outputs": [
    {
     "name": "stdout",
     "output_type": "stream",
     "text": [
      "Decoder input data shape: (5855, 113)\n",
      "Max length of decoder input data: 113\n"
     ]
    }
   ],
   "source": [
    "MAXLEN_ANSWER = max([len(x) for x in tokenized_answers])\n",
    "padded_answers = pad_sequences(tokenized_answers, maxlen=MAXLEN_ANSWER, padding='post')\n",
    "decoder_input_data = np.array(padded_answers)\n",
    "print('Decoder input data shape:', decoder_input_data.shape)\n",
    "print('Max length of decoder input data:', MAXLEN_ANSWER)"
   ]
  },
  {
   "cell_type": "code",
   "execution_count": 12,
   "id": "5040f4ce",
   "metadata": {
    "execution": {
     "iopub.execute_input": "2022-06-03T04:47:31.318674Z",
     "iopub.status.busy": "2022-06-03T04:47:31.318377Z",
     "iopub.status.idle": "2022-06-03T04:47:32.680608Z",
     "shell.execute_reply": "2022-06-03T04:47:32.679702Z"
    },
    "id": "fEpd4v7Mvj73",
    "outputId": "58b454cf-d703-4ea8-cef1-41495f2894ae",
    "papermill": {
     "duration": 1.372896,
     "end_time": "2022-06-03T04:47:32.682880",
     "exception": false,
     "start_time": "2022-06-03T04:47:31.309984",
     "status": "completed"
    },
    "tags": []
   },
   "outputs": [
    {
     "name": "stdout",
     "output_type": "stream",
     "text": [
      "Decoder ouput data shape: (5855, 113, 5154)\n"
     ]
    }
   ],
   "source": [
    "padded_answers_dec_out = pad_sequences(padded_answers[:, 1:], maxlen=MAXLEN_ANSWER, padding='post')\n",
    "decoder_output_data = to_categorical(padded_answers_dec_out, VOCAB_SIZE, dtype='uint8')# remove <start> tag in answers data\n",
    "print('Decoder ouput data shape:', decoder_output_data.shape)"
   ]
  },
  {
   "cell_type": "code",
   "execution_count": 13,
   "id": "e2406710",
   "metadata": {
    "execution": {
     "iopub.execute_input": "2022-06-03T04:47:32.700257Z",
     "iopub.status.busy": "2022-06-03T04:47:32.699930Z",
     "iopub.status.idle": "2022-06-03T04:47:36.686977Z",
     "shell.execute_reply": "2022-06-03T04:47:36.685910Z"
    },
    "id": "slipHGSXvj73",
    "papermill": {
     "duration": 3.998606,
     "end_time": "2022-06-03T04:47:36.689955",
     "exception": false,
     "start_time": "2022-06-03T04:47:32.691349",
     "status": "completed"
    },
    "tags": []
   },
   "outputs": [
    {
     "name": "stderr",
     "output_type": "stream",
     "text": [
      "2022-06-03 04:47:32.802646: I tensorflow/stream_executor/cuda/cuda_gpu_executor.cc:937] successful NUMA node read from SysFS had negative value (-1), but there must be at least one NUMA node, so returning NUMA node zero\n",
      "2022-06-03 04:47:32.951177: I tensorflow/stream_executor/cuda/cuda_gpu_executor.cc:937] successful NUMA node read from SysFS had negative value (-1), but there must be at least one NUMA node, so returning NUMA node zero\n",
      "2022-06-03 04:47:32.952072: I tensorflow/stream_executor/cuda/cuda_gpu_executor.cc:937] successful NUMA node read from SysFS had negative value (-1), but there must be at least one NUMA node, so returning NUMA node zero\n",
      "2022-06-03 04:47:32.953842: I tensorflow/core/platform/cpu_feature_guard.cc:142] This TensorFlow binary is optimized with oneAPI Deep Neural Network Library (oneDNN) to use the following CPU instructions in performance-critical operations:  AVX2 AVX512F FMA\n",
      "To enable them in other operations, rebuild TensorFlow with the appropriate compiler flags.\n",
      "2022-06-03 04:47:32.954250: I tensorflow/stream_executor/cuda/cuda_gpu_executor.cc:937] successful NUMA node read from SysFS had negative value (-1), but there must be at least one NUMA node, so returning NUMA node zero\n",
      "2022-06-03 04:47:32.955054: I tensorflow/stream_executor/cuda/cuda_gpu_executor.cc:937] successful NUMA node read from SysFS had negative value (-1), but there must be at least one NUMA node, so returning NUMA node zero\n",
      "2022-06-03 04:47:32.955760: I tensorflow/stream_executor/cuda/cuda_gpu_executor.cc:937] successful NUMA node read from SysFS had negative value (-1), but there must be at least one NUMA node, so returning NUMA node zero\n",
      "2022-06-03 04:47:35.356190: I tensorflow/stream_executor/cuda/cuda_gpu_executor.cc:937] successful NUMA node read from SysFS had negative value (-1), but there must be at least one NUMA node, so returning NUMA node zero\n",
      "2022-06-03 04:47:35.357119: I tensorflow/stream_executor/cuda/cuda_gpu_executor.cc:937] successful NUMA node read from SysFS had negative value (-1), but there must be at least one NUMA node, so returning NUMA node zero\n",
      "2022-06-03 04:47:35.357865: I tensorflow/stream_executor/cuda/cuda_gpu_executor.cc:937] successful NUMA node read from SysFS had negative value (-1), but there must be at least one NUMA node, so returning NUMA node zero\n",
      "2022-06-03 04:47:35.358509: I tensorflow/core/common_runtime/gpu/gpu_device.cc:1510] Created device /job:localhost/replica:0/task:0/device:GPU:0 with 15403 MB memory:  -> device: 0, name: Tesla P100-PCIE-16GB, pci bus id: 0000:00:04.0, compute capability: 6.0\n"
     ]
    }
   ],
   "source": [
    "encoder_inputs = Input(shape=(MAXLEN_QUESTION,))\n",
    "encoder_embedding = Embedding(VOCAB_SIZE, 200, mask_zero=True) (encoder_inputs) # mask zero to acknowledge 0 padding\n",
    "_, state_h, state_c = LSTM(200, return_state=True) (encoder_embedding) # return last hidden and cell state\n",
    "encoder_states = [state_h, state_c]"
   ]
  },
  {
   "cell_type": "code",
   "execution_count": 14,
   "id": "867347fc",
   "metadata": {
    "execution": {
     "iopub.execute_input": "2022-06-03T04:47:36.727613Z",
     "iopub.status.busy": "2022-06-03T04:47:36.727040Z",
     "iopub.status.idle": "2022-06-03T04:47:37.858027Z",
     "shell.execute_reply": "2022-06-03T04:47:37.857031Z"
    },
    "id": "UYaJaLp7vj74",
    "papermill": {
     "duration": 1.158194,
     "end_time": "2022-06-03T04:47:37.860485",
     "exception": false,
     "start_time": "2022-06-03T04:47:36.702291",
     "status": "completed"
    },
    "scrolled": true,
    "tags": []
   },
   "outputs": [],
   "source": [
    "decoder_inputs = Input(shape=(MAXLEN_ANSWER,))\n",
    "decoder_embedding = Embedding(VOCAB_SIZE, 200, mask_zero=True) (decoder_inputs)\n",
    "decoder_lstm = LSTM(200, return_state=True, return_sequences=True)\n",
    "decoder_outputs, _, _ = decoder_lstm(decoder_embedding, initial_state=encoder_states) # passing hidden states to dense\n",
    "decoder_dense = Dense(VOCAB_SIZE, activation='softmax')\n",
    "output = decoder_dense(decoder_outputs)"
   ]
  },
  {
   "cell_type": "code",
   "execution_count": 15,
   "id": "5e66bc9c",
   "metadata": {
    "execution": {
     "iopub.execute_input": "2022-06-03T04:47:37.878694Z",
     "iopub.status.busy": "2022-06-03T04:47:37.878405Z",
     "iopub.status.idle": "2022-06-03T04:47:39.013024Z",
     "shell.execute_reply": "2022-06-03T04:47:39.011927Z"
    },
    "id": "zpxqS0CQvj74",
    "outputId": "c7c6e53e-f04b-44c4-a738-80897f7e8cb9",
    "papermill": {
     "duration": 1.145712,
     "end_time": "2022-06-03T04:47:39.015035",
     "exception": false,
     "start_time": "2022-06-03T04:47:37.869323",
     "status": "completed"
    },
    "tags": []
   },
   "outputs": [
    {
     "name": "stdout",
     "output_type": "stream",
     "text": [
      "Model: \"model\"\n",
      "____________________________________________________________________________________________________\n",
      "Layer (type)               Output Shape                                  Param #   Connected to     \n",
      "====================================================================================================\n",
      "input_1 (InputLayer)       [(None, 75)]                                  0                          \n",
      "____________________________________________________________________________________________________\n",
      "input_2 (InputLayer)       [(None, 113)]                                 0                          \n",
      "____________________________________________________________________________________________________\n",
      "embedding (Embedding)      (None, 75, 200)                               1030800   input_1[0][0]    \n",
      "____________________________________________________________________________________________________\n",
      "embedding_1 (Embedding)    (None, 113, 200)                              1030800   input_2[0][0]    \n",
      "____________________________________________________________________________________________________\n",
      "lstm (LSTM)                [(None, 200), (None, 200), (None, 200)]       320800    embedding[0][0]  \n",
      "____________________________________________________________________________________________________\n",
      "lstm_1 (LSTM)              [(None, 113, 200), (None, 200), (None, 200)]  320800    embedding_1[0][0]\n",
      "                                                                                   lstm[0][1]       \n",
      "                                                                                   lstm[0][2]       \n",
      "____________________________________________________________________________________________________\n",
      "dense (Dense)              (None, 113, 5154)                             1035954   lstm_1[0][0]     \n",
      "====================================================================================================\n",
      "Total params: 3,739,154\n",
      "Trainable params: 3,739,154\n",
      "Non-trainable params: 0\n",
      "____________________________________________________________________________________________________\n",
      "None\n"
     ]
    },
    {
     "data": {
      "image/png": "[encoded data removed]",
      "text/plain": [
       "<IPython.core.display.Image object>"
      ]
     },
     "execution_count": 15,
     "metadata": {},
     "output_type": "execute_result"
    }
   ],
   "source": [
    "model = Model([encoder_inputs, decoder_inputs], output)\n",
    "model.compile(loss='categorical_crossentropy', optimizer='adam', metrics=['accuracy'])\n",
    "print(model.summary(line_length=100, positions=[.27, .73, .83, 1.]))\n",
    "plot_model(model, rankdir='LR', show_shapes=True)"
   ]
  },
  {
   "cell_type": "code",
   "execution_count": 16,
   "id": "a3b787ac",
   "metadata": {
    "execution": {
     "iopub.execute_input": "2022-06-03T04:47:39.035708Z",
     "iopub.status.busy": "2022-06-03T04:47:39.034890Z",
     "iopub.status.idle": "2022-06-03T05:05:12.225450Z",
     "shell.execute_reply": "2022-06-03T05:05:12.224419Z"
    },
    "id": "Gi27qYt8vj74",
    "outputId": "03dd453c-8dec-4c03-930a-dfeabf65390c",
    "papermill": {
     "duration": 1053.204061,
     "end_time": "2022-06-03T05:05:12.228425",
     "exception": false,
     "start_time": "2022-06-03T04:47:39.024364",
     "status": "completed"
    },
    "scrolled": true,
    "tags": []
   },
   "outputs": [
    {
     "name": "stderr",
     "output_type": "stream",
     "text": [
      "2022-06-03 04:47:39.045828: W tensorflow/core/framework/cpu_allocator_impl.cc:80] Allocation of 3068676138 exceeds 10% of free system memory.\n",
      "2022-06-03 04:47:42.300079: W tensorflow/core/framework/cpu_allocator_impl.cc:80] Allocation of 3068676138 exceeds 10% of free system memory.\n",
      "2022-06-03 04:47:44.682841: I tensorflow/compiler/mlir/mlir_graph_optimization_pass.cc:185] None of the MLIR Optimization Passes are enabled (registered 2)\n"
     ]
    },
    {
     "name": "stdout",
     "output_type": "stream",
     "text": [
      "Epoch 1/100\n"
     ]
    },
    {
     "name": "stderr",
     "output_type": "stream",
     "text": [
      "2022-06-03 04:47:51.429531: I tensorflow/stream_executor/cuda/cuda_dnn.cc:369] Loaded cuDNN version 8005\n"
     ]
    },
    {
     "name": "stdout",
     "output_type": "stream",
     "text": [
      "165/165 [==============================] - 21s 77ms/step - loss: 0.4800 - accuracy: 0.1875 - val_loss: 0.4374 - val_accuracy: 0.2398\n",
      "Epoch 2/100\n",
      "165/165 [==============================] - 10s 61ms/step - loss: 0.4119 - accuracy: 0.2515 - val_loss: 0.4294 - val_accuracy: 0.2431\n",
      "Epoch 3/100\n",
      "165/165 [==============================] - 10s 59ms/step - loss: 0.3987 - accuracy: 0.2588 - val_loss: 0.4233 - val_accuracy: 0.2547\n",
      "Epoch 4/100\n",
      "165/165 [==============================] - 10s 58ms/step - loss: 0.3869 - accuracy: 0.2689 - val_loss: 0.4177 - val_accuracy: 0.2577\n",
      "Epoch 5/100\n",
      "165/165 [==============================] - 10s 61ms/step - loss: 0.3759 - accuracy: 0.2739 - val_loss: 0.4121 - val_accuracy: 0.2610\n",
      "Epoch 6/100\n",
      "165/165 [==============================] - 10s 57ms/step - loss: 0.3650 - accuracy: 0.2782 - val_loss: 0.4087 - val_accuracy: 0.2654\n",
      "Epoch 7/100\n",
      "165/165 [==============================] - 10s 59ms/step - loss: 0.3546 - accuracy: 0.2851 - val_loss: 0.4046 - val_accuracy: 0.2711\n",
      "Epoch 8/100\n",
      "165/165 [==============================] - 10s 59ms/step - loss: 0.3440 - accuracy: 0.2955 - val_loss: 0.4018 - val_accuracy: 0.2778\n",
      "Epoch 9/100\n",
      "165/165 [==============================] - 10s 60ms/step - loss: 0.3330 - accuracy: 0.3070 - val_loss: 0.3983 - val_accuracy: 0.2853\n",
      "Epoch 10/100\n",
      "165/165 [==============================] - 9s 56ms/step - loss: 0.3217 - accuracy: 0.3191 - val_loss: 0.3957 - val_accuracy: 0.2922\n",
      "Epoch 11/100\n",
      "165/165 [==============================] - 10s 58ms/step - loss: 0.3106 - accuracy: 0.3297 - val_loss: 0.3940 - val_accuracy: 0.2970\n",
      "Epoch 12/100\n",
      "165/165 [==============================] - 10s 61ms/step - loss: 0.2994 - accuracy: 0.3405 - val_loss: 0.3920 - val_accuracy: 0.3001\n",
      "Epoch 13/100\n",
      "165/165 [==============================] - 10s 58ms/step - loss: 0.2887 - accuracy: 0.3516 - val_loss: 0.3915 - val_accuracy: 0.2973\n",
      "Epoch 14/100\n",
      "165/165 [==============================] - 10s 59ms/step - loss: 0.2784 - accuracy: 0.3622 - val_loss: 0.3905 - val_accuracy: 0.3014\n",
      "Epoch 15/100\n",
      "165/165 [==============================] - 10s 62ms/step - loss: 0.2680 - accuracy: 0.3760 - val_loss: 0.3896 - val_accuracy: 0.3082\n",
      "Epoch 16/100\n",
      "165/165 [==============================] - 10s 59ms/step - loss: 0.2580 - accuracy: 0.3863 - val_loss: 0.3894 - val_accuracy: 0.3084\n",
      "Epoch 17/100\n",
      "165/165 [==============================] - 10s 59ms/step - loss: 0.2479 - accuracy: 0.3987 - val_loss: 0.3896 - val_accuracy: 0.3117\n",
      "Epoch 18/100\n",
      "165/165 [==============================] - 10s 58ms/step - loss: 0.2380 - accuracy: 0.4152 - val_loss: 0.3897 - val_accuracy: 0.3117\n",
      "Epoch 19/100\n",
      "165/165 [==============================] - 10s 60ms/step - loss: 0.2283 - accuracy: 0.4321 - val_loss: 0.3903 - val_accuracy: 0.3173\n",
      "Epoch 20/100\n",
      "165/165 [==============================] - 10s 59ms/step - loss: 0.2189 - accuracy: 0.4477 - val_loss: 0.3913 - val_accuracy: 0.3175\n",
      "Epoch 21/100\n",
      "165/165 [==============================] - 10s 58ms/step - loss: 0.2094 - accuracy: 0.4692 - val_loss: 0.3927 - val_accuracy: 0.3234\n",
      "Epoch 22/100\n",
      "165/165 [==============================] - 10s 60ms/step - loss: 0.2003 - accuracy: 0.4883 - val_loss: 0.3939 - val_accuracy: 0.3230\n",
      "Epoch 23/100\n",
      "165/165 [==============================] - 10s 59ms/step - loss: 0.1915 - accuracy: 0.5067 - val_loss: 0.3949 - val_accuracy: 0.3248\n",
      "Epoch 24/100\n",
      "165/165 [==============================] - 10s 59ms/step - loss: 0.1829 - accuracy: 0.5270 - val_loss: 0.3963 - val_accuracy: 0.3315\n",
      "Epoch 25/100\n",
      "165/165 [==============================] - 10s 60ms/step - loss: 0.1748 - accuracy: 0.5482 - val_loss: 0.3985 - val_accuracy: 0.3317\n",
      "Epoch 26/100\n",
      "165/165 [==============================] - 10s 58ms/step - loss: 0.1670 - accuracy: 0.5647 - val_loss: 0.4003 - val_accuracy: 0.3298\n",
      "Epoch 27/100\n",
      "165/165 [==============================] - 10s 59ms/step - loss: 0.1594 - accuracy: 0.5843 - val_loss: 0.4028 - val_accuracy: 0.3359\n",
      "Epoch 28/100\n",
      "165/165 [==============================] - 10s 59ms/step - loss: 0.1523 - accuracy: 0.6018 - val_loss: 0.4055 - val_accuracy: 0.3354\n",
      "Epoch 29/100\n",
      "165/165 [==============================] - 10s 59ms/step - loss: 0.1456 - accuracy: 0.6187 - val_loss: 0.4084 - val_accuracy: 0.3337\n",
      "Epoch 30/100\n",
      "165/165 [==============================] - 9s 57ms/step - loss: 0.1388 - accuracy: 0.6360 - val_loss: 0.4107 - val_accuracy: 0.3398\n",
      "Epoch 31/100\n",
      "165/165 [==============================] - 10s 58ms/step - loss: 0.1325 - accuracy: 0.6496 - val_loss: 0.4131 - val_accuracy: 0.3383\n",
      "Epoch 32/100\n",
      "165/165 [==============================] - 10s 62ms/step - loss: 0.1264 - accuracy: 0.6656 - val_loss: 0.4160 - val_accuracy: 0.3381\n",
      "Epoch 33/100\n",
      "165/165 [==============================] - 10s 59ms/step - loss: 0.1206 - accuracy: 0.6819 - val_loss: 0.4201 - val_accuracy: 0.3415\n",
      "Epoch 34/100\n",
      "165/165 [==============================] - 10s 58ms/step - loss: 0.1151 - accuracy: 0.6947 - val_loss: 0.4221 - val_accuracy: 0.3391\n",
      "Epoch 35/100\n",
      "165/165 [==============================] - 10s 60ms/step - loss: 0.1096 - accuracy: 0.7107 - val_loss: 0.4261 - val_accuracy: 0.3440\n",
      "Epoch 36/100\n",
      "165/165 [==============================] - 10s 59ms/step - loss: 0.1047 - accuracy: 0.7234 - val_loss: 0.4288 - val_accuracy: 0.3429\n",
      "Epoch 37/100\n",
      "165/165 [==============================] - 10s 58ms/step - loss: 0.0999 - accuracy: 0.7364 - val_loss: 0.4326 - val_accuracy: 0.3466\n",
      "Epoch 38/100\n",
      "165/165 [==============================] - 10s 60ms/step - loss: 0.0952 - accuracy: 0.7490 - val_loss: 0.4353 - val_accuracy: 0.3468\n",
      "Epoch 39/100\n",
      "165/165 [==============================] - 10s 59ms/step - loss: 0.0907 - accuracy: 0.7624 - val_loss: 0.4374 - val_accuracy: 0.3446\n",
      "Epoch 40/100\n",
      "165/165 [==============================] - 10s 58ms/step - loss: 0.0867 - accuracy: 0.7730 - val_loss: 0.4418 - val_accuracy: 0.3429\n",
      "Epoch 41/100\n",
      "165/165 [==============================] - 10s 58ms/step - loss: 0.0826 - accuracy: 0.7854 - val_loss: 0.4450 - val_accuracy: 0.3468\n",
      "Epoch 42/100\n",
      "165/165 [==============================] - 10s 61ms/step - loss: 0.0786 - accuracy: 0.7970 - val_loss: 0.4493 - val_accuracy: 0.3466\n",
      "Epoch 43/100\n",
      "165/165 [==============================] - 10s 58ms/step - loss: 0.0744 - accuracy: 0.8078 - val_loss: 0.4524 - val_accuracy: 0.3498\n",
      "Epoch 44/100\n",
      "165/165 [==============================] - 10s 59ms/step - loss: 0.0707 - accuracy: 0.8182 - val_loss: 0.4565 - val_accuracy: 0.3487\n",
      "Epoch 45/100\n",
      "165/165 [==============================] - 11s 64ms/step - loss: 0.0675 - accuracy: 0.8281 - val_loss: 0.4605 - val_accuracy: 0.3472\n",
      "Epoch 46/100\n",
      "165/165 [==============================] - 10s 58ms/step - loss: 0.0642 - accuracy: 0.8386 - val_loss: 0.4629 - val_accuracy: 0.3509\n",
      "Epoch 47/100\n",
      "165/165 [==============================] - 10s 58ms/step - loss: 0.0613 - accuracy: 0.8475 - val_loss: 0.4673 - val_accuracy: 0.3475\n",
      "Epoch 48/100\n",
      "165/165 [==============================] - 10s 61ms/step - loss: 0.0583 - accuracy: 0.8556 - val_loss: 0.4699 - val_accuracy: 0.3496\n",
      "Epoch 49/100\n",
      "165/165 [==============================] - 10s 59ms/step - loss: 0.0552 - accuracy: 0.8641 - val_loss: 0.4738 - val_accuracy: 0.3494\n",
      "Epoch 50/100\n",
      "165/165 [==============================] - 10s 59ms/step - loss: 0.0525 - accuracy: 0.8726 - val_loss: 0.4785 - val_accuracy: 0.3520\n",
      "Epoch 51/100\n",
      "165/165 [==============================] - 9s 57ms/step - loss: 0.0500 - accuracy: 0.8793 - val_loss: 0.4800 - val_accuracy: 0.3536\n",
      "Epoch 52/100\n",
      "165/165 [==============================] - 10s 61ms/step - loss: 0.0475 - accuracy: 0.8860 - val_loss: 0.4840 - val_accuracy: 0.3499\n",
      "Epoch 53/100\n",
      "165/165 [==============================] - 10s 58ms/step - loss: 0.0453 - accuracy: 0.8917 - val_loss: 0.4888 - val_accuracy: 0.3496\n",
      "Epoch 54/100\n",
      "165/165 [==============================] - 9s 57ms/step - loss: 0.0428 - accuracy: 0.8981 - val_loss: 0.4916 - val_accuracy: 0.3525\n",
      "Epoch 55/100\n",
      "165/165 [==============================] - 10s 62ms/step - loss: 0.0404 - accuracy: 0.9056 - val_loss: 0.4946 - val_accuracy: 0.3523\n",
      "Epoch 56/100\n",
      "165/165 [==============================] - 10s 59ms/step - loss: 0.0384 - accuracy: 0.9114 - val_loss: 0.4992 - val_accuracy: 0.3488\n",
      "Epoch 57/100\n",
      "165/165 [==============================] - 10s 58ms/step - loss: 0.0366 - accuracy: 0.9158 - val_loss: 0.5026 - val_accuracy: 0.3468\n",
      "Epoch 58/100\n",
      "165/165 [==============================] - 10s 63ms/step - loss: 0.0358 - accuracy: 0.9174 - val_loss: 0.5068 - val_accuracy: 0.3514\n",
      "Epoch 59/100\n",
      "165/165 [==============================] - 10s 59ms/step - loss: 0.0335 - accuracy: 0.9244 - val_loss: 0.5113 - val_accuracy: 0.3549\n",
      "Epoch 60/100\n",
      "165/165 [==============================] - 10s 59ms/step - loss: 0.0312 - accuracy: 0.9305 - val_loss: 0.5141 - val_accuracy: 0.3518\n",
      "Epoch 61/100\n",
      "165/165 [==============================] - 10s 60ms/step - loss: 0.0296 - accuracy: 0.9337 - val_loss: 0.5183 - val_accuracy: 0.3498\n",
      "Epoch 62/100\n",
      "165/165 [==============================] - 10s 62ms/step - loss: 0.0281 - accuracy: 0.9377 - val_loss: 0.5224 - val_accuracy: 0.3490\n",
      "Epoch 63/100\n",
      "165/165 [==============================] - 10s 58ms/step - loss: 0.0267 - accuracy: 0.9407 - val_loss: 0.5241 - val_accuracy: 0.3523\n",
      "Epoch 64/100\n",
      "165/165 [==============================] - 10s 58ms/step - loss: 0.0254 - accuracy: 0.9441 - val_loss: 0.5296 - val_accuracy: 0.3533\n",
      "Epoch 65/100\n",
      "165/165 [==============================] - 10s 61ms/step - loss: 0.0242 - accuracy: 0.9480 - val_loss: 0.5322 - val_accuracy: 0.3525\n",
      "Epoch 66/100\n",
      "165/165 [==============================] - 10s 58ms/step - loss: 0.0229 - accuracy: 0.9505 - val_loss: 0.5353 - val_accuracy: 0.3492\n",
      "Epoch 67/100\n",
      "165/165 [==============================] - 10s 62ms/step - loss: 0.0218 - accuracy: 0.9527 - val_loss: 0.5395 - val_accuracy: 0.3507\n",
      "Epoch 68/100\n",
      "165/165 [==============================] - 10s 61ms/step - loss: 0.0207 - accuracy: 0.9572 - val_loss: 0.5429 - val_accuracy: 0.3494\n",
      "Epoch 69/100\n",
      "165/165 [==============================] - 10s 59ms/step - loss: 0.0196 - accuracy: 0.9577 - val_loss: 0.5463 - val_accuracy: 0.3547\n",
      "Epoch 70/100\n",
      "165/165 [==============================] - 10s 59ms/step - loss: 0.0184 - accuracy: 0.9618 - val_loss: 0.5499 - val_accuracy: 0.3503\n",
      "Epoch 71/100\n",
      "165/165 [==============================] - 10s 61ms/step - loss: 0.0174 - accuracy: 0.9637 - val_loss: 0.5526 - val_accuracy: 0.3498\n",
      "Epoch 72/100\n",
      "165/165 [==============================] - 10s 58ms/step - loss: 0.0166 - accuracy: 0.9658 - val_loss: 0.5567 - val_accuracy: 0.3501\n",
      "Epoch 73/100\n",
      "165/165 [==============================] - 9s 56ms/step - loss: 0.0158 - accuracy: 0.9672 - val_loss: 0.5600 - val_accuracy: 0.3496\n",
      "Epoch 74/100\n",
      "165/165 [==============================] - 10s 60ms/step - loss: 0.0152 - accuracy: 0.9686 - val_loss: 0.5625 - val_accuracy: 0.3522\n",
      "Epoch 75/100\n",
      "165/165 [==============================] - 10s 61ms/step - loss: 0.0148 - accuracy: 0.9688 - val_loss: 0.5624 - val_accuracy: 0.3472\n",
      "Epoch 76/100\n",
      "165/165 [==============================] - 10s 58ms/step - loss: 0.0141 - accuracy: 0.9711 - val_loss: 0.5687 - val_accuracy: 0.3499\n",
      "Epoch 77/100\n",
      "165/165 [==============================] - 10s 59ms/step - loss: 0.0131 - accuracy: 0.9722 - val_loss: 0.5701 - val_accuracy: 0.3477\n",
      "Epoch 78/100\n",
      "165/165 [==============================] - 10s 61ms/step - loss: 0.0124 - accuracy: 0.9737 - val_loss: 0.5747 - val_accuracy: 0.3488\n",
      "Epoch 79/100\n",
      "165/165 [==============================] - 10s 59ms/step - loss: 0.0118 - accuracy: 0.9741 - val_loss: 0.5750 - val_accuracy: 0.3509\n",
      "Epoch 80/100\n",
      "165/165 [==============================] - 10s 59ms/step - loss: 0.0111 - accuracy: 0.9756 - val_loss: 0.5797 - val_accuracy: 0.3481\n",
      "Epoch 81/100\n",
      "165/165 [==============================] - 10s 59ms/step - loss: 0.0107 - accuracy: 0.9762 - val_loss: 0.5837 - val_accuracy: 0.3488\n",
      "Epoch 82/100\n",
      "165/165 [==============================] - 10s 62ms/step - loss: 0.0101 - accuracy: 0.9764 - val_loss: 0.5847 - val_accuracy: 0.3459\n",
      "Epoch 83/100\n",
      "165/165 [==============================] - 10s 60ms/step - loss: 0.0098 - accuracy: 0.9775 - val_loss: 0.5879 - val_accuracy: 0.3488\n",
      "Epoch 84/100\n",
      "165/165 [==============================] - 10s 58ms/step - loss: 0.0098 - accuracy: 0.9773 - val_loss: 0.5907 - val_accuracy: 0.3496\n",
      "Epoch 85/100\n",
      "165/165 [==============================] - 10s 60ms/step - loss: 0.0094 - accuracy: 0.9778 - val_loss: 0.5933 - val_accuracy: 0.3448\n",
      "Epoch 86/100\n",
      "165/165 [==============================] - 10s 59ms/step - loss: 0.0089 - accuracy: 0.9785 - val_loss: 0.5977 - val_accuracy: 0.3457\n",
      "Epoch 87/100\n",
      "165/165 [==============================] - 10s 63ms/step - loss: 0.0088 - accuracy: 0.9792 - val_loss: 0.6018 - val_accuracy: 0.3464\n",
      "Epoch 88/100\n",
      "165/165 [==============================] - 10s 61ms/step - loss: 0.0084 - accuracy: 0.9790 - val_loss: 0.6001 - val_accuracy: 0.3475\n",
      "Epoch 89/100\n",
      "165/165 [==============================] - 10s 60ms/step - loss: 0.0084 - accuracy: 0.9794 - val_loss: 0.6048 - val_accuracy: 0.3488\n",
      "Epoch 90/100\n",
      "165/165 [==============================] - 10s 61ms/step - loss: 0.0078 - accuracy: 0.9798 - val_loss: 0.6060 - val_accuracy: 0.3468\n",
      "Epoch 91/100\n",
      "165/165 [==============================] - 9s 55ms/step - loss: 0.0075 - accuracy: 0.9798 - val_loss: 0.6112 - val_accuracy: 0.3512\n",
      "Epoch 92/100\n",
      "165/165 [==============================] - 10s 60ms/step - loss: 0.0070 - accuracy: 0.9804 - val_loss: 0.6112 - val_accuracy: 0.3511\n",
      "Epoch 93/100\n",
      "165/165 [==============================] - 10s 61ms/step - loss: 0.0070 - accuracy: 0.9800 - val_loss: 0.6156 - val_accuracy: 0.3499\n",
      "Epoch 94/100\n",
      "165/165 [==============================] - 10s 59ms/step - loss: 0.0067 - accuracy: 0.9807 - val_loss: 0.6198 - val_accuracy: 0.3501\n",
      "Epoch 95/100\n",
      "165/165 [==============================] - 10s 61ms/step - loss: 0.0064 - accuracy: 0.9802 - val_loss: 0.6227 - val_accuracy: 0.3477\n",
      "Epoch 96/100\n",
      "165/165 [==============================] - 10s 59ms/step - loss: 0.0062 - accuracy: 0.9809 - val_loss: 0.6232 - val_accuracy: 0.3487\n",
      "Epoch 97/100\n",
      "165/165 [==============================] - 10s 58ms/step - loss: 0.0059 - accuracy: 0.9812 - val_loss: 0.6249 - val_accuracy: 0.3494\n",
      "Epoch 98/100\n",
      "165/165 [==============================] - 10s 61ms/step - loss: 0.0057 - accuracy: 0.9816 - val_loss: 0.6285 - val_accuracy: 0.3453\n",
      "Epoch 99/100\n",
      "165/165 [==============================] - 10s 63ms/step - loss: 0.0057 - accuracy: 0.9815 - val_loss: 0.6323 - val_accuracy: 0.3488\n",
      "Epoch 100/100\n",
      "165/165 [==============================] - 10s 58ms/step - loss: 0.0056 - accuracy: 0.9808 - val_loss: 0.6343 - val_accuracy: 0.3490\n"
     ]
    }
   ],
   "source": [
    "history = model.fit([encoder_input_data, decoder_input_data], decoder_output_data, epochs=100, validation_split=0.1) # epochs >= 10 to get proper answer"
   ]
  },
  {
   "cell_type": "code",
   "execution_count": 17,
   "id": "8b0e13be",
   "metadata": {
    "execution": {
     "iopub.execute_input": "2022-06-03T05:05:13.736772Z",
     "iopub.status.busy": "2022-06-03T05:05:13.734139Z",
     "iopub.status.idle": "2022-06-03T05:05:14.492228Z",
     "shell.execute_reply": "2022-06-03T05:05:14.491434Z"
    },
    "id": "QaESKXhfvj75",
    "papermill": {
     "duration": 1.514543,
     "end_time": "2022-06-03T05:05:14.494329",
     "exception": false,
     "start_time": "2022-06-03T05:05:12.979786",
     "status": "completed"
    },
    "scrolled": true,
    "tags": []
   },
   "outputs": [],
   "source": [
    "def make_inference_models():\n",
    "    \n",
    "    # encoder model takes questions as input and output its LSTM state\n",
    "    encoder_model = Model(encoder_inputs, encoder_states)\n",
    "    \n",
    "    # decoder takes encoder output states as its initial state \n",
    "    # and 200 is the output of encoder last hidden and cell states dimension\n",
    "    decoder_state_input_h = Input(shape=(200,))\n",
    "    decoder_state_input_c = Input(shape=(200,))\n",
    "    decoder_states_inputs = [decoder_state_input_h, decoder_state_input_c]\n",
    "    \n",
    "    # use these pre-trained layers of the model: decoder_embedding, decoder_lstm, decoder_dense \n",
    "    decoder_outputs, state_h, state_c = decoder_lstm(decoder_embedding, initial_state=decoder_states_inputs)\n",
    "    decoder_states = [state_h, state_c]\n",
    "    decoder_outputs = decoder_dense(decoder_outputs)\n",
    "    \n",
    "    # decoder model takes one token and the states predicted from enc_model   \n",
    "    decoder_model = Model([decoder_inputs] + decoder_states_inputs, [decoder_outputs] + decoder_states)\n",
    "    \n",
    "    return encoder_model, decoder_model\n",
    "\n",
    "enc_model, dec_model = make_inference_models()\n",
    "enc_model.save('enc_model.h5')\n",
    "dec_model.save('dec_model.h5')"
   ]
  },
  {
   "cell_type": "code",
   "execution_count": 18,
   "id": "641a317b",
   "metadata": {
    "execution": {
     "iopub.execute_input": "2022-06-03T05:05:15.911032Z",
     "iopub.status.busy": "2022-06-03T05:05:15.910272Z",
     "iopub.status.idle": "2022-06-03T05:05:15.914581Z",
     "shell.execute_reply": "2022-06-03T05:05:15.913829Z"
    },
    "papermill": {
     "duration": 0.685492,
     "end_time": "2022-06-03T05:05:15.916452",
     "exception": false,
     "start_time": "2022-06-03T05:05:15.230960",
     "status": "completed"
    },
    "tags": []
   },
   "outputs": [],
   "source": [
    "# # load model\n",
    "# enc_model = load_model('./../input/chatbot-data/enc_model.h5')\n",
    "# dec_model = load_model('../input/chatbot-data/dec_model.h5')"
   ]
  },
  {
   "cell_type": "code",
   "execution_count": 19,
   "id": "0297af5e",
   "metadata": {
    "execution": {
     "iopub.execute_input": "2022-06-03T05:05:17.335794Z",
     "iopub.status.busy": "2022-06-03T05:05:17.335350Z",
     "iopub.status.idle": "2022-06-03T05:05:17.341686Z",
     "shell.execute_reply": "2022-06-03T05:05:17.340712Z"
    },
    "id": "iZJwkGzpvj75",
    "papermill": {
     "duration": 0.696065,
     "end_time": "2022-06-03T05:05:17.343843",
     "exception": false,
     "start_time": "2022-06-03T05:05:16.647778",
     "status": "completed"
    },
    "tags": []
   },
   "outputs": [],
   "source": [
    "def format_question(sent:str):\n",
    "    sent = normalize([sent])[0]\n",
    "    words = sent.split()\n",
    "    token_list = []\n",
    "    for word in words:\n",
    "        try:\n",
    "            index = tokenizer.word_index[word]\n",
    "        except KeyError:\n",
    "            index = tokenizer.word_index['<unk>']\n",
    "        token_list.append(index)\n",
    "    return pad_sequences([token_list], maxlen=MAXLEN_QUESTION, padding='post', truncating='post')"
   ]
  },
  {
   "cell_type": "code",
   "execution_count": 20,
   "id": "53bc0bcd",
   "metadata": {
    "execution": {
     "iopub.execute_input": "2022-06-03T05:05:18.759600Z",
     "iopub.status.busy": "2022-06-03T05:05:18.759088Z",
     "iopub.status.idle": "2022-06-03T05:05:18.767710Z",
     "shell.execute_reply": "2022-06-03T05:05:18.767015Z"
    },
    "id": "v_4uY17Uvj77",
    "papermill": {
     "duration": 0.748945,
     "end_time": "2022-06-03T05:05:18.769867",
     "exception": false,
     "start_time": "2022-06-03T05:05:18.020922",
     "status": "completed"
    },
    "tags": []
   },
   "outputs": [],
   "source": [
    "def ask(question):\n",
    "    print('Q:', question)\n",
    "    question = format_question(question)\n",
    "    states_values = enc_model.predict(question)\n",
    "    target_seq = np.zeros((1, 1))\n",
    "    target_seq[0, 0] = tokenizer.word_index['<start>']\n",
    "    \n",
    "    stop_condition = False\n",
    "    decoded_seq = ''\n",
    "    while not stop_condition:\n",
    "        # dec_outputs return a one hot vector with the dimension number of vocab size\n",
    "        dec_outputs, h, c = dec_model.predict([target_seq] + states_values)\n",
    "        gen_word_index = np.argmax(dec_outputs[0, -1])\n",
    "        gen_word = tokenizer.index_word[gen_word_index]\n",
    "        \n",
    "        if gen_word == '<end>' or len(decoded_seq.split()) > MAXLEN_ANSWER:\n",
    "            stop_condition = True\n",
    "        else:\n",
    "            decoded_seq += gen_word + ' '\n",
    "            \n",
    "        target_seq = np.zeros((1, 1))  \n",
    "        target_seq[0, 0] = gen_word_index\n",
    "        states_values = [h, c]\n",
    "        \n",
    "    answer = decoded_seq[0].upper() + decoded_seq[1:].replace('_', ' ')\n",
    "    print('A:', answer.strip(), '\\n')"
   ]
  },
  {
   "cell_type": "code",
   "execution_count": 21,
   "id": "6ddb4d28",
   "metadata": {
    "execution": {
     "iopub.execute_input": "2022-06-03T05:05:20.282122Z",
     "iopub.status.busy": "2022-06-03T05:05:20.281552Z",
     "iopub.status.idle": "2022-06-03T05:05:24.338382Z",
     "shell.execute_reply": "2022-06-03T05:05:24.337574Z"
    },
    "papermill": {
     "duration": 4.871555,
     "end_time": "2022-06-03T05:05:24.340497",
     "exception": false,
     "start_time": "2022-06-03T05:05:19.468942",
     "status": "completed"
    },
    "tags": []
   },
   "outputs": [
    {
     "name": "stdout",
     "output_type": "stream",
     "text": [
      "Q: Bạn sinh năm bao nhiêu?\n",
      "A: Mình sinh năm 2001 \n",
      "\n",
      "Q: Có người yêu chưa?\n",
      "A: Rồi \n",
      "\n",
      "Q: Shop tư vấn cho mình một số mẫu giày thích hợp để đi chơi được không?\n",
      "A: Bạn có thể tham khảo vài đôi giày của adidas hoặc nike \n",
      "\n",
      "Q: Quê bạn ở đâu?\n",
      "A: Quê mình ở bắc giang \n",
      "\n",
      "Q: Bạn thường làm gì trong thời gian rảnh?\n",
      "A: Mình thường nghe nhạc với cô hàng xóm \n",
      "\n",
      "Q: Bạn có muốn đi xem phim vào cuối tuần này hay không?\n",
      "A: Dĩ nhiên là muốn rồi \n",
      "\n",
      "Q: Bạn thích môn thể thao gì?\n",
      "A: Mình thích đá bóng \n",
      "\n"
     ]
    }
   ],
   "source": [
    "ask('Bạn sinh năm bao nhiêu?')\n",
    "ask('Có người yêu chưa?')\n",
    "ask('Shop tư vấn cho mình một số mẫu giày thích hợp để đi chơi được không?')\n",
    "ask('Quê bạn ở đâu?')\n",
    "ask('Bạn thường làm gì trong thời gian rảnh?')\n",
    "ask('Bạn có muốn đi xem phim vào cuối tuần này hay không?')\n",
    "ask('Bạn thích môn thể thao gì?')"
   ]
  },
  {
   "cell_type": "code",
   "execution_count": 22,
   "id": "087f22df",
   "metadata": {
    "execution": {
     "iopub.execute_input": "2022-06-03T05:05:25.774474Z",
     "iopub.status.busy": "2022-06-03T05:05:25.774087Z",
     "iopub.status.idle": "2022-06-03T05:05:26.020747Z",
     "shell.execute_reply": "2022-06-03T05:05:26.019948Z"
    },
    "papermill": {
     "duration": 1.003186,
     "end_time": "2022-06-03T05:05:26.022694",
     "exception": false,
     "start_time": "2022-06-03T05:05:25.019508",
     "status": "completed"
    },
    "tags": []
   },
   "outputs": [
    {
     "data": {
      "image/png": "[encoded data removed]",
      "text/plain": [
       "<Figure size 432x288 with 1 Axes>"
      ]
     },
     "metadata": {
      "needs_background": "light"
     },
     "output_type": "display_data"
    }
   ],
   "source": [
    "plt.plot(history.history['loss'])\n",
    "plt.plot(history.history['val_loss'])\n",
    "plt.title('Model loss')\n",
    "plt.ylabel('loss')\n",
    "plt.xlabel('epoch')\n",
    "plt.legend(['train', 'val'], loc='best')\n",
    "plt.show()"
   ]
  },
  {
   "cell_type": "code",
   "execution_count": 23,
   "id": "9566d7ea",
   "metadata": {
    "execution": {
     "iopub.execute_input": "2022-06-03T05:05:27.480534Z",
     "iopub.status.busy": "2022-06-03T05:05:27.480160Z",
     "iopub.status.idle": "2022-06-03T05:05:27.685512Z",
     "shell.execute_reply": "2022-06-03T05:05:27.684750Z"
    },
    "papermill": {
     "duration": 0.94974,
     "end_time": "2022-06-03T05:05:27.687427",
     "exception": false,
     "start_time": "2022-06-03T05:05:26.737687",
     "status": "completed"
    },
    "tags": []
   },
   "outputs": [
    {
     "data": {
      "image/png": "[encoded data removed]",
      "text/plain": [
       "<Figure size 432x288 with 1 Axes>"
      ]
     },
     "metadata": {
      "needs_background": "light"
     },
     "output_type": "display_data"
    }
   ],
   "source": [
    "plt.plot(history.history['accuracy'])\n",
    "plt.plot(history.history['val_accuracy'])\n",
    "plt.title('Model accuracy')\n",
    "plt.ylabel('accuracy')\n",
    "plt.xlabel('epoch')\n",
    "plt.legend(['train', 'val'], loc='best')\n",
    "plt.show()"
   ]
  },
  {
   "cell_type": "code",
   "execution_count": null,
   "id": "4deb039c",
   "metadata": {
    "papermill": {
     "duration": 0.736527,
     "end_time": "2022-06-03T05:05:29.098848",
     "exception": false,
     "start_time": "2022-06-03T05:05:28.362321",
     "status": "completed"
    },
    "tags": []
   },
   "outputs": [],
   "source": []
  }
 ],
 "metadata": {
  "kernelspec": {
   "display_name": "Python 3",
   "language": "python",
   "name": "python3"
  },
  "language_info": {
   "codemirror_mode": {
    "name": "ipython",
    "version": 3
   },
   "file_extension": ".py",
   "mimetype": "text/x-python",
   "name": "python",
   "nbconvert_exporter": "python",
   "pygments_lexer": "ipython3",
   "version": "3.7.12"
  },
  "papermill": {
   "default_parameters": {},
   "duration": 1111.388644,
   "end_time": "2022-06-03T05:05:33.120956",
   "environment_variables": {},
   "exception": null,
   "input_path": "__notebook__.ipynb",
   "output_path": "__notebook__.ipynb",
   "parameters": {},
   "start_time": "2022-06-03T04:47:01.732312",
   "version": "2.3.4"
  }
 },
 "nbformat": 4,
 "nbformat_minor": 5
}
