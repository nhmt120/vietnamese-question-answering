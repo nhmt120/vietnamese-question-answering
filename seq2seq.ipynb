{
 "cells": [
  {
   "cell_type": "code",
   "execution_count": 1,
   "id": "53bac181",
   "metadata": {
    "execution": {
     "iopub.execute_input": "2022-06-02T11:45:48.965409Z",
     "iopub.status.busy": "2022-06-02T11:45:48.964627Z",
     "iopub.status.idle": "2022-06-02T11:46:05.419703Z",
     "shell.execute_reply": "2022-06-02T11:46:05.418410Z"
    },
    "id": "3XCqd9nmmini",
    "papermill": {
     "duration": 16.475667,
     "end_time": "2022-06-02T11:46:05.422675",
     "exception": false,
     "start_time": "2022-06-02T11:45:48.947008",
     "status": "completed"
    },
    "tags": []
   },
   "outputs": [
    {
     "name": "stdout",
     "output_type": "stream",
     "text": [
      "Collecting pyvi\r\n",
      "  Downloading pyvi-0.1.1-py2.py3-none-any.whl (8.5 MB)\r\n",
      "\u001b[2K     \u001b[90m━━━━━━━━━━━━━━━━━━━━━━━━━━━━━━━━━━━━━━━━\u001b[0m \u001b[32m8.5/8.5 MB\u001b[0m \u001b[31m11.6 MB/s\u001b[0m eta \u001b[36m0:00:00\u001b[0m\r\n",
      "\u001b[?25hRequirement already satisfied: scikit-learn in /opt/conda/lib/python3.7/site-packages (from pyvi) (1.0.2)\r\n",
      "Collecting sklearn-crfsuite\r\n",
      "  Downloading sklearn_crfsuite-0.3.6-py2.py3-none-any.whl (12 kB)\r\n",
      "Requirement already satisfied: joblib>=0.11 in /opt/conda/lib/python3.7/site-packages (from scikit-learn->pyvi) (1.1.0)\r\n",
      "Requirement already satisfied: scipy>=1.1.0 in /opt/conda/lib/python3.7/site-packages (from scikit-learn->pyvi) (1.7.3)\r\n",
      "Requirement already satisfied: numpy>=1.14.6 in /opt/conda/lib/python3.7/site-packages (from scikit-learn->pyvi) (1.21.6)\r\n",
      "Requirement already satisfied: threadpoolctl>=2.0.0 in /opt/conda/lib/python3.7/site-packages (from scikit-learn->pyvi) (3.1.0)\r\n",
      "Requirement already satisfied: six in /opt/conda/lib/python3.7/site-packages (from sklearn-crfsuite->pyvi) (1.16.0)\r\n",
      "Requirement already satisfied: tqdm>=2.0 in /opt/conda/lib/python3.7/site-packages (from sklearn-crfsuite->pyvi) (4.64.0)\r\n",
      "Collecting python-crfsuite>=0.8.3\r\n",
      "  Downloading python_crfsuite-0.9.8-cp37-cp37m-manylinux_2_17_x86_64.manylinux2014_x86_64.whl (965 kB)\r\n",
      "\u001b[2K     \u001b[90m━━━━━━━━━━━━━━━━━━━━━━━━━━━━━━━━━━━━━━\u001b[0m \u001b[32m965.4/965.4 kB\u001b[0m \u001b[31m39.9 MB/s\u001b[0m eta \u001b[36m0:00:00\u001b[0m\r\n",
      "\u001b[?25hRequirement already satisfied: tabulate in /opt/conda/lib/python3.7/site-packages (from sklearn-crfsuite->pyvi) (0.8.9)\r\n",
      "Installing collected packages: python-crfsuite, sklearn-crfsuite, pyvi\r\n",
      "Successfully installed python-crfsuite-0.9.8 pyvi-0.1.1 sklearn-crfsuite-0.3.6\r\n",
      "\u001b[33mWARNING: Running pip as the 'root' user can result in broken permissions and conflicting behaviour with the system package manager. It is recommended to use a virtual environment instead: https://pip.pypa.io/warnings/venv\u001b[0m\u001b[33m\r\n",
      "\u001b[0m"
     ]
    }
   ],
   "source": [
    "!pip install pyvi"
   ]
  },
  {
   "cell_type": "code",
   "execution_count": 2,
   "id": "b3639c06",
   "metadata": {
    "execution": {
     "iopub.execute_input": "2022-06-02T11:46:05.442760Z",
     "iopub.status.busy": "2022-06-02T11:46:05.442321Z",
     "iopub.status.idle": "2022-06-02T11:46:13.688920Z",
     "shell.execute_reply": "2022-06-02T11:46:13.687800Z"
    },
    "id": "OK0jFWTIvj7f",
    "papermill": {
     "duration": 8.260323,
     "end_time": "2022-06-02T11:46:13.691987",
     "exception": false,
     "start_time": "2022-06-02T11:46:05.431664",
     "status": "completed"
    },
    "tags": []
   },
   "outputs": [],
   "source": [
    "import numpy as np\n",
    "import pandas as pd\n",
    "from pyvi import ViTokenizer\n",
    "\n",
    "import string\n",
    "import nltk\n",
    "import re\n",
    "\n",
    "from tensorflow.keras.models import Model, load_model\n",
    "\n",
    "from tensorflow.keras.layers import Dense, Embedding, LSTM, Input\n",
    "\n",
    "from tensorflow.keras.preprocessing.sequence import pad_sequences\n",
    "from keras.utils.vis_utils import plot_model\n",
    "\n",
    "import re\n",
    "from tensorflow.keras.utils import to_categorical\n",
    "from keras.preprocessing.text import Tokenizer"
   ]
  },
  {
   "cell_type": "code",
   "execution_count": 3,
   "id": "1e470f8d",
   "metadata": {
    "execution": {
     "iopub.execute_input": "2022-06-02T11:46:13.710981Z",
     "iopub.status.busy": "2022-06-02T11:46:13.710283Z",
     "iopub.status.idle": "2022-06-02T11:46:13.729941Z",
     "shell.execute_reply": "2022-06-02T11:46:13.728209Z"
    },
    "id": "nsRvjEMqvj7p",
    "outputId": "43faead3-fdbd-4bc9-a889-a62062dfdc8d",
    "papermill": {
     "duration": 0.031778,
     "end_time": "2022-06-02T11:46:13.732455",
     "exception": false,
     "start_time": "2022-06-02T11:46:13.700677",
     "status": "completed"
    },
    "tags": []
   },
   "outputs": [
    {
     "name": "stdout",
     "output_type": "stream",
     "text": [
      "['shoping.txt', 'a ch.txt', 'tn gu.txt', 'bn b.txt', 'tdtu.txt', 's thch.txt', 'thng tin c nhn.txt', 'hc tp.txt', 'ngh nghip.txt', 'ngi yu.txt', 'gii tr.txt', 'tr chuyn v i n.txt', 'gia nh.txt', 'cc cu hi phc tp.txt', 'du lch.txt', 't nc.txt', 'robot.txt', 'ngh l.txt']\n"
     ]
    }
   ],
   "source": [
    "import os\n",
    "# dir = '/content/drive/MyDrive/NLP/dữ liệu chatbot - dự án cuối kì'\n",
    "dir = '../input/chatbot-data/chatbot'\n",
    "\n",
    "filenames = os.listdir(dir)\n",
    "print(filenames)"
   ]
  },
  {
   "cell_type": "code",
   "execution_count": 4,
   "id": "ba6747ff",
   "metadata": {
    "execution": {
     "iopub.execute_input": "2022-06-02T11:46:13.750638Z",
     "iopub.status.busy": "2022-06-02T11:46:13.750239Z",
     "iopub.status.idle": "2022-06-02T11:46:14.007242Z",
     "shell.execute_reply": "2022-06-02T11:46:14.006098Z"
    },
    "id": "l9JSiGuhvj7r",
    "outputId": "01601e03-a710-471c-e77d-d479401fe0bb",
    "papermill": {
     "duration": 0.269478,
     "end_time": "2022-06-02T11:46:14.010446",
     "exception": false,
     "start_time": "2022-06-02T11:46:13.740968",
     "status": "completed"
    },
    "tags": []
   },
   "outputs": [
    {
     "name": "stdout",
     "output_type": "stream",
     "text": [
      "Number of QA pairs: 5855 \n",
      "\n",
      "Q: có loại nào đặc biệt không bạn ?\n",
      "A: có 2 loại đặc biệt nha bạn \n",
      "\n",
      "Q: Ê mày tao định mua son nè mày thấy chỗ nào bán được không?\n",
      "A: à mày qua moon shop quận 7 thử \n",
      "\n",
      "Q: cho tôi hỏi nhà này có bao nhiêu phòng?\n",
      "A: ngồi nhà này có đến 5 phòng nha bạn \n",
      "\n",
      "Q: Đặc sản của quê bạn là gì?\n",
      "A: Về trái cây thì có thanh long, Về thức ăn thì có bánh căn 1 loại bánh như bánh xèo nhưng nhỏ hơn. \n",
      "\n",
      "Q: vậy còn số điện thoại của cậu là bao nhiêu?\n",
      "A: số điện thoại của tớ là 0234567891 \n",
      "\n"
     ]
    }
   ],
   "source": [
    "Q = []\n",
    "A = []\n",
    "for i in filenames:\n",
    "    with open(dir+'/'+i, encoding=\"utf8\") as f:\n",
    "        for line in f:\n",
    "            a =  line.split('__eou__')\n",
    "            Q.append(a[0].strip())\n",
    "            A.append(a[1].strip())\n",
    "print('Number of QA pairs:', len(Q), '\\n')\n",
    "\n",
    "# shuffle to mix the data topic\n",
    "QA = pd.DataFrame(zip(Q, A))\n",
    "QA = QA.sample(frac=1, random_state=61)\n",
    "\n",
    "Q = QA.iloc[:, 0].values\n",
    "A = QA.iloc[:, 1].values\n",
    "\n",
    "for i in range(5):\n",
    "    print('Q:', Q[i])\n",
    "    print('A:', A[i], '\\n')"
   ]
  },
  {
   "cell_type": "code",
   "execution_count": 5,
   "id": "0cca4cb8",
   "metadata": {
    "execution": {
     "iopub.execute_input": "2022-06-02T11:46:14.029531Z",
     "iopub.status.busy": "2022-06-02T11:46:14.029150Z",
     "iopub.status.idle": "2022-06-02T11:46:14.035549Z",
     "shell.execute_reply": "2022-06-02T11:46:14.034339Z"
    },
    "papermill": {
     "duration": 0.018344,
     "end_time": "2022-06-02T11:46:14.037754",
     "exception": false,
     "start_time": "2022-06-02T11:46:14.019410",
     "status": "completed"
    },
    "tags": []
   },
   "outputs": [],
   "source": [
    "def normalize(data):\n",
    "    cleaned_data = []\n",
    "    regex = re.compile('[%s]' % re.escape(string.punctuation))\n",
    "    for sent in data:\n",
    "        sent = regex.sub('', sent)\n",
    "        sent = ViTokenizer.tokenize(sent)\n",
    "        cleaned_data.append(sent.lower())\n",
    "    return cleaned_data"
   ]
  },
  {
   "cell_type": "code",
   "execution_count": 6,
   "id": "b780b640",
   "metadata": {
    "execution": {
     "iopub.execute_input": "2022-06-02T11:46:14.056039Z",
     "iopub.status.busy": "2022-06-02T11:46:14.055707Z",
     "iopub.status.idle": "2022-06-02T11:46:16.040342Z",
     "shell.execute_reply": "2022-06-02T11:46:16.039224Z"
    },
    "papermill": {
     "duration": 1.997847,
     "end_time": "2022-06-02T11:46:16.043902",
     "exception": false,
     "start_time": "2022-06-02T11:46:14.046055",
     "status": "completed"
    },
    "tags": []
   },
   "outputs": [
    {
     "name": "stdout",
     "output_type": "stream",
     "text": [
      "Q: có loại nào đặc_biệt không bạn\n",
      "A: có 2 loại đặc_biệt nha bạn \n",
      "\n",
      "Q: ê mày tao định mua son nè mày thấy chỗ nào bán được không\n",
      "A: à mày qua moon shop quận 7 thử \n",
      "\n",
      "Q: cho tôi hỏi nhà này có bao_nhiêu phòng\n",
      "A: ngồi nhà này có đến 5 phòng nha bạn \n",
      "\n",
      "Q: đặc_sản của quê bạn là gì\n",
      "A: về trái_cây thì có thanh_long về thức_ăn thì có bánh căn 1 loại bánh như bánh_xèo nhưng nhỏ hơn \n",
      "\n",
      "Q: vậy còn số điện_thoại của cậu là bao_nhiêu\n",
      "A: số điện_thoại của tớ là 0234567891 \n",
      "\n"
     ]
    }
   ],
   "source": [
    "questions = normalize(Q)\n",
    "answers = normalize(A)\n",
    "\n",
    "for i in range(5):\n",
    "    print('Q:', questions[i])\n",
    "    print('A:', answers[i], '\\n')"
   ]
  },
  {
   "cell_type": "code",
   "execution_count": 7,
   "id": "03ac956c",
   "metadata": {
    "execution": {
     "iopub.execute_input": "2022-06-02T11:46:16.064147Z",
     "iopub.status.busy": "2022-06-02T11:46:16.063767Z",
     "iopub.status.idle": "2022-06-02T11:46:16.072517Z",
     "shell.execute_reply": "2022-06-02T11:46:16.071300Z"
    },
    "id": "x7zf0U6Nvj7u",
    "papermill": {
     "duration": 0.021079,
     "end_time": "2022-06-02T11:46:16.074992",
     "exception": false,
     "start_time": "2022-06-02T11:46:16.053913",
     "status": "completed"
    },
    "tags": []
   },
   "outputs": [],
   "source": [
    "# start and end of string token to each answer\n",
    "for i in range(len(answers)):\n",
    "    answers[i] = '<start> ' + answers[i] + ' <end>'"
   ]
  },
  {
   "cell_type": "code",
   "execution_count": 8,
   "id": "7000e439",
   "metadata": {
    "execution": {
     "iopub.execute_input": "2022-06-02T11:46:16.094223Z",
     "iopub.status.busy": "2022-06-02T11:46:16.093291Z",
     "iopub.status.idle": "2022-06-02T11:46:16.271857Z",
     "shell.execute_reply": "2022-06-02T11:46:16.270727Z"
    },
    "id": "L90MakM0vj7y",
    "outputId": "08a6011f-e8c7-4bc2-988c-c31bc84497c8",
    "papermill": {
     "duration": 0.191135,
     "end_time": "2022-06-02T11:46:16.275029",
     "exception": false,
     "start_time": "2022-06-02T11:46:16.083894",
     "status": "completed"
    },
    "tags": []
   },
   "outputs": [
    {
     "name": "stdout",
     "output_type": "stream",
     "text": [
      "VOCAB SIZE: 5154\n"
     ]
    }
   ],
   "source": [
    "# count each token appearing time \n",
    "tokenizer = Tokenizer(filters='')\n",
    "tokenizer.fit_on_texts(questions + answers + ['<unk>'])\n",
    "VOCAB_SIZE = len(tokenizer.word_index) + 1 # padding token for embedding layer later\n",
    "print('VOCAB SIZE: {}'.format(VOCAB_SIZE))\n",
    "vocab = list(tokenizer.word_index.keys()) # list of tokens"
   ]
  },
  {
   "cell_type": "code",
   "execution_count": 9,
   "id": "c74239da",
   "metadata": {
    "execution": {
     "iopub.execute_input": "2022-06-02T11:46:16.295729Z",
     "iopub.status.busy": "2022-06-02T11:46:16.294730Z",
     "iopub.status.idle": "2022-06-02T11:46:16.430605Z",
     "shell.execute_reply": "2022-06-02T11:46:16.429403Z"
    },
    "id": "WAl_Wm8gwJnG",
    "outputId": "6ebb3cec-23ee-4405-b204-5eda960340ae",
    "papermill": {
     "duration": 0.148072,
     "end_time": "2022-06-02T11:46:16.433094",
     "exception": false,
     "start_time": "2022-06-02T11:46:16.285022",
     "status": "completed"
    },
    "tags": []
   },
   "outputs": [],
   "source": [
    "tokenized_questions = tokenizer.texts_to_sequences(questions)\n",
    "tokenized_answers = tokenizer.texts_to_sequences(answers)"
   ]
  },
  {
   "cell_type": "code",
   "execution_count": 10,
   "id": "e75f6230",
   "metadata": {
    "execution": {
     "iopub.execute_input": "2022-06-02T11:46:16.452668Z",
     "iopub.status.busy": "2022-06-02T11:46:16.451649Z",
     "iopub.status.idle": "2022-06-02T11:46:16.489106Z",
     "shell.execute_reply": "2022-06-02T11:46:16.487263Z"
    },
    "id": "d1UdhpNUvj70",
    "outputId": "1fc607f3-dc03-45d4-ce4a-48259e7151a9",
    "papermill": {
     "duration": 0.050518,
     "end_time": "2022-06-02T11:46:16.492573",
     "exception": false,
     "start_time": "2022-06-02T11:46:16.442055",
     "status": "completed"
    },
    "tags": []
   },
   "outputs": [
    {
     "name": "stdout",
     "output_type": "stream",
     "text": [
      "Encoder input data shape: (5855, 75)\n",
      "Max length of encoder input data: 75\n"
     ]
    }
   ],
   "source": [
    "MAXLEN_QUESTION = max([len(x) for x in tokenized_questions])\n",
    "padded_questions = pad_sequences(tokenized_questions, maxlen=MAXLEN_QUESTION, padding='post')\n",
    "encoder_input_data = np.array(padded_questions)\n",
    "print('Encoder input data shape:', encoder_input_data.shape)\n",
    "print('Max length of encoder input data:', MAXLEN_QUESTION)"
   ]
  },
  {
   "cell_type": "code",
   "execution_count": 11,
   "id": "b570f483",
   "metadata": {
    "execution": {
     "iopub.execute_input": "2022-06-02T11:46:16.512249Z",
     "iopub.status.busy": "2022-06-02T11:46:16.511888Z",
     "iopub.status.idle": "2022-06-02T11:46:16.549091Z",
     "shell.execute_reply": "2022-06-02T11:46:16.547425Z"
    },
    "id": "Y-g2Z_ibvj71",
    "outputId": "e6569561-a5ba-4490-beab-6b165bec28e0",
    "papermill": {
     "duration": 0.049325,
     "end_time": "2022-06-02T11:46:16.551572",
     "exception": false,
     "start_time": "2022-06-02T11:46:16.502247",
     "status": "completed"
    },
    "tags": []
   },
   "outputs": [
    {
     "name": "stdout",
     "output_type": "stream",
     "text": [
      "Decoder input data shape: (5855, 113)\n",
      "Max length of decoder input data: 113\n"
     ]
    }
   ],
   "source": [
    "MAXLEN_ANSWER = max([len(x) for x in tokenized_answers])\n",
    "padded_answers = pad_sequences(tokenized_answers, maxlen=MAXLEN_ANSWER, padding='post')\n",
    "decoder_input_data = np.array(padded_answers)\n",
    "print('Decoder input data shape:', decoder_input_data.shape)\n",
    "print('Max length of decoder input data:', MAXLEN_ANSWER)"
   ]
  },
  {
   "cell_type": "code",
   "execution_count": 12,
   "id": "1bae7187",
   "metadata": {
    "execution": {
     "iopub.execute_input": "2022-06-02T11:46:16.571579Z",
     "iopub.status.busy": "2022-06-02T11:46:16.571137Z",
     "iopub.status.idle": "2022-06-02T11:46:18.082235Z",
     "shell.execute_reply": "2022-06-02T11:46:18.079714Z"
    },
    "id": "fEpd4v7Mvj73",
    "outputId": "58b454cf-d703-4ea8-cef1-41495f2894ae",
    "papermill": {
     "duration": 1.525458,
     "end_time": "2022-06-02T11:46:18.086408",
     "exception": false,
     "start_time": "2022-06-02T11:46:16.560950",
     "status": "completed"
    },
    "tags": []
   },
   "outputs": [
    {
     "name": "stdout",
     "output_type": "stream",
     "text": [
      "Decoder ouput data shape: (5855, 113, 5154)\n"
     ]
    }
   ],
   "source": [
    "padded_answers_dec_out = pad_sequences(padded_answers[:, 1:], maxlen=MAXLEN_ANSWER, padding='post')\n",
    "decoder_output_data = to_categorical(padded_answers_dec_out, VOCAB_SIZE, dtype='uint8')# remove <start> tag in answers data\n",
    "print('Decoder ouput data shape:', decoder_output_data.shape)"
   ]
  },
  {
   "cell_type": "code",
   "execution_count": 13,
   "id": "2ff65279",
   "metadata": {
    "execution": {
     "iopub.execute_input": "2022-06-02T11:46:18.108753Z",
     "iopub.status.busy": "2022-06-02T11:46:18.108269Z",
     "iopub.status.idle": "2022-06-02T11:46:22.765115Z",
     "shell.execute_reply": "2022-06-02T11:46:22.763958Z"
    },
    "id": "slipHGSXvj73",
    "papermill": {
     "duration": 4.669911,
     "end_time": "2022-06-02T11:46:22.768016",
     "exception": false,
     "start_time": "2022-06-02T11:46:18.098105",
     "status": "completed"
    },
    "tags": []
   },
   "outputs": [
    {
     "name": "stderr",
     "output_type": "stream",
     "text": [
      "2022-06-02 11:46:18.221920: I tensorflow/stream_executor/cuda/cuda_gpu_executor.cc:937] successful NUMA node read from SysFS had negative value (-1), but there must be at least one NUMA node, so returning NUMA node zero\n",
      "2022-06-02 11:46:18.372116: I tensorflow/stream_executor/cuda/cuda_gpu_executor.cc:937] successful NUMA node read from SysFS had negative value (-1), but there must be at least one NUMA node, so returning NUMA node zero\n",
      "2022-06-02 11:46:18.373440: I tensorflow/stream_executor/cuda/cuda_gpu_executor.cc:937] successful NUMA node read from SysFS had negative value (-1), but there must be at least one NUMA node, so returning NUMA node zero\n",
      "2022-06-02 11:46:18.375239: I tensorflow/core/platform/cpu_feature_guard.cc:142] This TensorFlow binary is optimized with oneAPI Deep Neural Network Library (oneDNN) to use the following CPU instructions in performance-critical operations:  AVX2 FMA\n",
      "To enable them in other operations, rebuild TensorFlow with the appropriate compiler flags.\n",
      "2022-06-02 11:46:18.375930: I tensorflow/stream_executor/cuda/cuda_gpu_executor.cc:937] successful NUMA node read from SysFS had negative value (-1), but there must be at least one NUMA node, so returning NUMA node zero\n",
      "2022-06-02 11:46:18.377073: I tensorflow/stream_executor/cuda/cuda_gpu_executor.cc:937] successful NUMA node read from SysFS had negative value (-1), but there must be at least one NUMA node, so returning NUMA node zero\n",
      "2022-06-02 11:46:18.378049: I tensorflow/stream_executor/cuda/cuda_gpu_executor.cc:937] successful NUMA node read from SysFS had negative value (-1), but there must be at least one NUMA node, so returning NUMA node zero\n",
      "2022-06-02 11:46:21.144125: I tensorflow/stream_executor/cuda/cuda_gpu_executor.cc:937] successful NUMA node read from SysFS had negative value (-1), but there must be at least one NUMA node, so returning NUMA node zero\n",
      "2022-06-02 11:46:21.145310: I tensorflow/stream_executor/cuda/cuda_gpu_executor.cc:937] successful NUMA node read from SysFS had negative value (-1), but there must be at least one NUMA node, so returning NUMA node zero\n",
      "2022-06-02 11:46:21.146381: I tensorflow/stream_executor/cuda/cuda_gpu_executor.cc:937] successful NUMA node read from SysFS had negative value (-1), but there must be at least one NUMA node, so returning NUMA node zero\n",
      "2022-06-02 11:46:21.147400: I tensorflow/core/common_runtime/gpu/gpu_device.cc:1510] Created device /job:localhost/replica:0/task:0/device:GPU:0 with 15403 MB memory:  -> device: 0, name: Tesla P100-PCIE-16GB, pci bus id: 0000:00:04.0, compute capability: 6.0\n"
     ]
    }
   ],
   "source": [
    "encoder_inputs = Input(shape=(MAXLEN_QUESTION,))\n",
    "encoder_embedding = Embedding(VOCAB_SIZE, 200, mask_zero=True) (encoder_inputs) # mask zero to acknowledge 0 padding\n",
    "_, state_h, state_c = LSTM(200, return_state=True) (encoder_embedding) # return last hidden and cell state\n",
    "encoder_states = [state_h, state_c]"
   ]
  },
  {
   "cell_type": "code",
   "execution_count": 14,
   "id": "c59f7cb9",
   "metadata": {
    "execution": {
     "iopub.execute_input": "2022-06-02T11:46:22.788680Z",
     "iopub.status.busy": "2022-06-02T11:46:22.787812Z",
     "iopub.status.idle": "2022-06-02T11:46:23.770080Z",
     "shell.execute_reply": "2022-06-02T11:46:23.769067Z"
    },
    "id": "UYaJaLp7vj74",
    "papermill": {
     "duration": 0.994766,
     "end_time": "2022-06-02T11:46:23.772702",
     "exception": false,
     "start_time": "2022-06-02T11:46:22.777936",
     "status": "completed"
    },
    "scrolled": true,
    "tags": []
   },
   "outputs": [],
   "source": [
    "decoder_inputs = Input(shape=(MAXLEN_ANSWER,))\n",
    "decoder_embedding = Embedding(VOCAB_SIZE, 200, mask_zero=True) (decoder_inputs)\n",
    "decoder_lstm = LSTM(200, return_state=True, return_sequences=True)\n",
    "decoder_outputs, _, _ = decoder_lstm(decoder_embedding, initial_state=encoder_states) # passing hidden states to dense\n",
    "decoder_dense = Dense(VOCAB_SIZE, activation='softmax')\n",
    "output = decoder_dense(decoder_outputs)"
   ]
  },
  {
   "cell_type": "code",
   "execution_count": 15,
   "id": "0200537b",
   "metadata": {
    "execution": {
     "iopub.execute_input": "2022-06-02T11:46:23.793042Z",
     "iopub.status.busy": "2022-06-02T11:46:23.792650Z",
     "iopub.status.idle": "2022-06-02T11:46:25.083769Z",
     "shell.execute_reply": "2022-06-02T11:46:25.082553Z"
    },
    "id": "zpxqS0CQvj74",
    "outputId": "c7c6e53e-f04b-44c4-a738-80897f7e8cb9",
    "papermill": {
     "duration": 1.304141,
     "end_time": "2022-06-02T11:46:25.086219",
     "exception": false,
     "start_time": "2022-06-02T11:46:23.782078",
     "status": "completed"
    },
    "tags": []
   },
   "outputs": [
    {
     "name": "stdout",
     "output_type": "stream",
     "text": [
      "Model: \"model\"\n",
      "____________________________________________________________________________________________________\n",
      "Layer (type)               Output Shape                                  Param #   Connected to     \n",
      "====================================================================================================\n",
      "input_1 (InputLayer)       [(None, 75)]                                  0                          \n",
      "____________________________________________________________________________________________________\n",
      "input_2 (InputLayer)       [(None, 113)]                                 0                          \n",
      "____________________________________________________________________________________________________\n",
      "embedding (Embedding)      (None, 75, 200)                               1030800   input_1[0][0]    \n",
      "____________________________________________________________________________________________________\n",
      "embedding_1 (Embedding)    (None, 113, 200)                              1030800   input_2[0][0]    \n",
      "____________________________________________________________________________________________________\n",
      "lstm (LSTM)                [(None, 200), (None, 200), (None, 200)]       320800    embedding[0][0]  \n",
      "____________________________________________________________________________________________________\n",
      "lstm_1 (LSTM)              [(None, 113, 200), (None, 200), (None, 200)]  320800    embedding_1[0][0]\n",
      "                                                                                   lstm[0][1]       \n",
      "                                                                                   lstm[0][2]       \n",
      "____________________________________________________________________________________________________\n",
      "dense (Dense)              (None, 113, 5154)                             1035954   lstm_1[0][0]     \n",
      "====================================================================================================\n",
      "Total params: 3,739,154\n",
      "Trainable params: 3,739,154\n",
      "Non-trainable params: 0\n",
      "____________________________________________________________________________________________________\n",
      "None\n"
     ]
    },
    {
     "data": {
      "image/png": "[encoded data removed]",
      "text/plain": [
       "<IPython.core.display.Image object>"
      ]
     },
     "execution_count": 15,
     "metadata": {},
     "output_type": "execute_result"
    }
   ],
   "source": [
    "model = Model([encoder_inputs, decoder_inputs], output)\n",
    "model.compile(loss='categorical_crossentropy', optimizer='adam', metrics=['accuracy'])\n",
    "print(model.summary(line_length=100, positions=[.27, .73, .83, 1.]))\n",
    "plot_model(model, rankdir='LR', show_shapes=True)"
   ]
  },
  {
   "cell_type": "code",
   "execution_count": 16,
   "id": "e0d484c2",
   "metadata": {
    "execution": {
     "iopub.execute_input": "2022-06-02T11:46:25.108869Z",
     "iopub.status.busy": "2022-06-02T11:46:25.108438Z",
     "iopub.status.idle": "2022-06-02T12:05:47.400448Z",
     "shell.execute_reply": "2022-06-02T12:05:47.399414Z"
    },
    "id": "Gi27qYt8vj74",
    "outputId": "03dd453c-8dec-4c03-930a-dfeabf65390c",
    "papermill": {
     "duration": 1162.305797,
     "end_time": "2022-06-02T12:05:47.402667",
     "exception": false,
     "start_time": "2022-06-02T11:46:25.096870",
     "status": "completed"
    },
    "scrolled": true,
    "tags": []
   },
   "outputs": [
    {
     "name": "stderr",
     "output_type": "stream",
     "text": [
      "2022-06-02 11:46:25.120006: W tensorflow/core/framework/cpu_allocator_impl.cc:80] Allocation of 3409963710 exceeds 10% of free system memory.\n",
      "2022-06-02 11:46:28.993344: W tensorflow/core/framework/cpu_allocator_impl.cc:80] Allocation of 3409963710 exceeds 10% of free system memory.\n",
      "2022-06-02 11:46:31.593768: I tensorflow/compiler/mlir/mlir_graph_optimization_pass.cc:185] None of the MLIR Optimization Passes are enabled (registered 2)\n"
     ]
    },
    {
     "name": "stdout",
     "output_type": "stream",
     "text": [
      "Epoch 1/100\n"
     ]
    },
    {
     "name": "stderr",
     "output_type": "stream",
     "text": [
      "2022-06-02 11:46:40.746792: I tensorflow/stream_executor/cuda/cuda_dnn.cc:369] Loaded cuDNN version 8005\n"
     ]
    },
    {
     "name": "stdout",
     "output_type": "stream",
     "text": [
      "183/183 [==============================] - 23s 62ms/step - loss: 0.4742 - accuracy: 0.1967\n",
      "Epoch 2/100\n",
      "183/183 [==============================] - 12s 67ms/step - loss: 0.4119 - accuracy: 0.2504\n",
      "Epoch 3/100\n",
      "183/183 [==============================] - 11s 61ms/step - loss: 0.3991 - accuracy: 0.2592\n",
      "Epoch 4/100\n",
      "183/183 [==============================] - 11s 62ms/step - loss: 0.3868 - accuracy: 0.2692\n",
      "Epoch 5/100\n",
      "183/183 [==============================] - 12s 64ms/step - loss: 0.3748 - accuracy: 0.2743\n",
      "Epoch 6/100\n",
      "183/183 [==============================] - 11s 61ms/step - loss: 0.3626 - accuracy: 0.2822\n",
      "Epoch 7/100\n",
      "183/183 [==============================] - 11s 62ms/step - loss: 0.3503 - accuracy: 0.2929\n",
      "Epoch 8/100\n",
      "183/183 [==============================] - 11s 62ms/step - loss: 0.3379 - accuracy: 0.3049\n",
      "Epoch 9/100\n",
      "183/183 [==============================] - 11s 62ms/step - loss: 0.3256 - accuracy: 0.3172\n",
      "Epoch 10/100\n",
      "183/183 [==============================] - 11s 63ms/step - loss: 0.3133 - accuracy: 0.3284\n",
      "Epoch 11/100\n",
      "183/183 [==============================] - 12s 66ms/step - loss: 0.3015 - accuracy: 0.3397\n",
      "Epoch 12/100\n",
      "183/183 [==============================] - 11s 63ms/step - loss: 0.2899 - accuracy: 0.3515\n",
      "Epoch 13/100\n",
      "183/183 [==============================] - 12s 64ms/step - loss: 0.2786 - accuracy: 0.3633\n",
      "Epoch 14/100\n",
      "183/183 [==============================] - 11s 61ms/step - loss: 0.2676 - accuracy: 0.3755\n",
      "Epoch 15/100\n",
      "183/183 [==============================] - 11s 62ms/step - loss: 0.2568 - accuracy: 0.3886\n",
      "Epoch 16/100\n",
      "183/183 [==============================] - 11s 63ms/step - loss: 0.2458 - accuracy: 0.4029\n",
      "Epoch 17/100\n",
      "183/183 [==============================] - 11s 61ms/step - loss: 0.2354 - accuracy: 0.4178\n",
      "Epoch 18/100\n",
      "183/183 [==============================] - 11s 62ms/step - loss: 0.2253 - accuracy: 0.4361\n",
      "Epoch 19/100\n",
      "183/183 [==============================] - 12s 65ms/step - loss: 0.2150 - accuracy: 0.4572\n",
      "Epoch 20/100\n",
      "183/183 [==============================] - 11s 61ms/step - loss: 0.2053 - accuracy: 0.4775\n",
      "Epoch 21/100\n",
      "183/183 [==============================] - 11s 61ms/step - loss: 0.1960 - accuracy: 0.4985\n",
      "Epoch 22/100\n",
      "183/183 [==============================] - 12s 63ms/step - loss: 0.1867 - accuracy: 0.5204\n",
      "Epoch 23/100\n",
      "183/183 [==============================] - 12s 64ms/step - loss: 0.1780 - accuracy: 0.5413\n",
      "Epoch 24/100\n",
      "183/183 [==============================] - 11s 61ms/step - loss: 0.1698 - accuracy: 0.5599\n",
      "Epoch 25/100\n",
      "183/183 [==============================] - 12s 64ms/step - loss: 0.1616 - accuracy: 0.5802\n",
      "Epoch 26/100\n",
      "183/183 [==============================] - 11s 63ms/step - loss: 0.1538 - accuracy: 0.5973\n",
      "Epoch 27/100\n",
      "183/183 [==============================] - 11s 61ms/step - loss: 0.1467 - accuracy: 0.6167\n",
      "Epoch 28/100\n",
      "183/183 [==============================] - 13s 69ms/step - loss: 0.1399 - accuracy: 0.6318\n",
      "Epoch 29/100\n",
      "183/183 [==============================] - 11s 61ms/step - loss: 0.1330 - accuracy: 0.6499\n",
      "Epoch 30/100\n",
      "183/183 [==============================] - 11s 63ms/step - loss: 0.1269 - accuracy: 0.6657\n",
      "Epoch 31/100\n",
      "183/183 [==============================] - 12s 64ms/step - loss: 0.1212 - accuracy: 0.6800\n",
      "Epoch 32/100\n",
      "183/183 [==============================] - 11s 61ms/step - loss: 0.1153 - accuracy: 0.6956\n",
      "Epoch 33/100\n",
      "183/183 [==============================] - 11s 61ms/step - loss: 0.1097 - accuracy: 0.7101\n",
      "Epoch 34/100\n",
      "183/183 [==============================] - 12s 66ms/step - loss: 0.1043 - accuracy: 0.7240\n",
      "Epoch 35/100\n",
      "183/183 [==============================] - 11s 60ms/step - loss: 0.0994 - accuracy: 0.7377\n",
      "Epoch 36/100\n",
      "183/183 [==============================] - 11s 63ms/step - loss: 0.0945 - accuracy: 0.7521\n",
      "Epoch 37/100\n",
      "183/183 [==============================] - 12s 63ms/step - loss: 0.0899 - accuracy: 0.7644\n",
      "Epoch 38/100\n",
      "183/183 [==============================] - 11s 62ms/step - loss: 0.0856 - accuracy: 0.7764\n",
      "Epoch 39/100\n",
      "183/183 [==============================] - 12s 67ms/step - loss: 0.0812 - accuracy: 0.7892\n",
      "Epoch 40/100\n",
      "183/183 [==============================] - 11s 61ms/step - loss: 0.0771 - accuracy: 0.7997\n",
      "Epoch 41/100\n",
      "183/183 [==============================] - 11s 60ms/step - loss: 0.0735 - accuracy: 0.8116\n",
      "Epoch 42/100\n",
      "183/183 [==============================] - 12s 65ms/step - loss: 0.0697 - accuracy: 0.8212\n",
      "Epoch 43/100\n",
      "183/183 [==============================] - 11s 61ms/step - loss: 0.0663 - accuracy: 0.8307\n",
      "Epoch 44/100\n",
      "183/183 [==============================] - 11s 60ms/step - loss: 0.0630 - accuracy: 0.8404\n",
      "Epoch 45/100\n",
      "183/183 [==============================] - 12s 65ms/step - loss: 0.0597 - accuracy: 0.8516\n",
      "Epoch 46/100\n",
      "183/183 [==============================] - 11s 61ms/step - loss: 0.0569 - accuracy: 0.8583\n",
      "Epoch 47/100\n",
      "183/183 [==============================] - 11s 61ms/step - loss: 0.0546 - accuracy: 0.8642\n",
      "Epoch 48/100\n",
      "183/183 [==============================] - 12s 67ms/step - loss: 0.0519 - accuracy: 0.8724\n",
      "Epoch 49/100\n",
      "183/183 [==============================] - 11s 61ms/step - loss: 0.0487 - accuracy: 0.8801\n",
      "Epoch 50/100\n",
      "183/183 [==============================] - 12s 63ms/step - loss: 0.0461 - accuracy: 0.8879\n",
      "Epoch 51/100\n",
      "183/183 [==============================] - 11s 63ms/step - loss: 0.0436 - accuracy: 0.8956\n",
      "Epoch 52/100\n",
      "183/183 [==============================] - 11s 60ms/step - loss: 0.0415 - accuracy: 0.9008\n",
      "Epoch 53/100\n",
      "183/183 [==============================] - 11s 63ms/step - loss: 0.0392 - accuracy: 0.9075\n",
      "Epoch 54/100\n",
      "183/183 [==============================] - 11s 62ms/step - loss: 0.0374 - accuracy: 0.9124\n",
      "Epoch 55/100\n",
      "183/183 [==============================] - 11s 60ms/step - loss: 0.0356 - accuracy: 0.9176\n",
      "Epoch 56/100\n",
      "183/183 [==============================] - 11s 61ms/step - loss: 0.0343 - accuracy: 0.9200\n",
      "Epoch 57/100\n",
      "183/183 [==============================] - 12s 62ms/step - loss: 0.0329 - accuracy: 0.9237\n",
      "Epoch 58/100\n",
      "183/183 [==============================] - 11s 60ms/step - loss: 0.0304 - accuracy: 0.9313\n",
      "Epoch 59/100\n",
      "183/183 [==============================] - 11s 62ms/step - loss: 0.0283 - accuracy: 0.9366\n",
      "Epoch 60/100\n",
      "183/183 [==============================] - 12s 63ms/step - loss: 0.0267 - accuracy: 0.9415\n",
      "Epoch 61/100\n",
      "183/183 [==============================] - 11s 60ms/step - loss: 0.0255 - accuracy: 0.9443\n",
      "Epoch 62/100\n",
      "183/183 [==============================] - 12s 64ms/step - loss: 0.0241 - accuracy: 0.9476\n",
      "Epoch 63/100\n",
      "183/183 [==============================] - 12s 64ms/step - loss: 0.0231 - accuracy: 0.9503\n",
      "Epoch 64/100\n",
      "183/183 [==============================] - 12s 62ms/step - loss: 0.0222 - accuracy: 0.9524\n",
      "Epoch 65/100\n",
      "183/183 [==============================] - 11s 58ms/step - loss: 0.0210 - accuracy: 0.9553\n",
      "Epoch 66/100\n",
      "183/183 [==============================] - 11s 61ms/step - loss: 0.0198 - accuracy: 0.9575\n",
      "Epoch 67/100\n",
      "183/183 [==============================] - 12s 66ms/step - loss: 0.0186 - accuracy: 0.9599\n",
      "Epoch 68/100\n",
      "183/183 [==============================] - 11s 61ms/step - loss: 0.0177 - accuracy: 0.9622\n",
      "Epoch 69/100\n",
      "183/183 [==============================] - 11s 60ms/step - loss: 0.0168 - accuracy: 0.9641\n",
      "Epoch 70/100\n",
      "183/183 [==============================] - 12s 66ms/step - loss: 0.0160 - accuracy: 0.9667\n",
      "Epoch 71/100\n",
      "183/183 [==============================] - 11s 59ms/step - loss: 0.0151 - accuracy: 0.9684\n",
      "Epoch 72/100\n",
      "183/183 [==============================] - 11s 60ms/step - loss: 0.0144 - accuracy: 0.9688\n",
      "Epoch 73/100\n",
      "183/183 [==============================] - 12s 66ms/step - loss: 0.0137 - accuracy: 0.9708\n",
      "Epoch 74/100\n",
      "183/183 [==============================] - 11s 59ms/step - loss: 0.0131 - accuracy: 0.9716\n",
      "Epoch 75/100\n",
      "183/183 [==============================] - 11s 60ms/step - loss: 0.0126 - accuracy: 0.9728\n",
      "Epoch 76/100\n",
      "183/183 [==============================] - 12s 66ms/step - loss: 0.0120 - accuracy: 0.9735\n",
      "Epoch 77/100\n",
      "183/183 [==============================] - 11s 62ms/step - loss: 0.0115 - accuracy: 0.9746\n",
      "Epoch 78/100\n",
      "183/183 [==============================] - 11s 60ms/step - loss: 0.0112 - accuracy: 0.9744\n",
      "Epoch 79/100\n",
      "183/183 [==============================] - 13s 69ms/step - loss: 0.0106 - accuracy: 0.9756\n",
      "Epoch 80/100\n",
      "183/183 [==============================] - 11s 59ms/step - loss: 0.0101 - accuracy: 0.9764\n",
      "Epoch 81/100\n",
      "183/183 [==============================] - 11s 62ms/step - loss: 0.0095 - accuracy: 0.9779\n",
      "Epoch 82/100\n",
      "183/183 [==============================] - 12s 66ms/step - loss: 0.0092 - accuracy: 0.9780\n",
      "Epoch 83/100\n",
      "183/183 [==============================] - 11s 60ms/step - loss: 0.0089 - accuracy: 0.9776\n",
      "Epoch 84/100\n",
      "183/183 [==============================] - 12s 64ms/step - loss: 0.0087 - accuracy: 0.9785\n",
      "Epoch 85/100\n",
      "183/183 [==============================] - 11s 60ms/step - loss: 0.0088 - accuracy: 0.9784\n",
      "Epoch 86/100\n",
      "183/183 [==============================] - 11s 60ms/step - loss: 0.0087 - accuracy: 0.9778\n",
      "Epoch 87/100\n",
      "183/183 [==============================] - 12s 65ms/step - loss: 0.0082 - accuracy: 0.9786\n",
      "Epoch 88/100\n",
      "183/183 [==============================] - 11s 62ms/step - loss: 0.0077 - accuracy: 0.9795\n",
      "Epoch 89/100\n",
      "183/183 [==============================] - 11s 61ms/step - loss: 0.0072 - accuracy: 0.9795\n",
      "Epoch 90/100\n",
      "183/183 [==============================] - 13s 69ms/step - loss: 0.0068 - accuracy: 0.9799\n",
      "Epoch 91/100\n",
      "183/183 [==============================] - 11s 61ms/step - loss: 0.0066 - accuracy: 0.9799\n",
      "Epoch 92/100\n",
      "183/183 [==============================] - 11s 62ms/step - loss: 0.0064 - accuracy: 0.9795\n",
      "Epoch 93/100\n",
      "183/183 [==============================] - 12s 64ms/step - loss: 0.0061 - accuracy: 0.9806\n",
      "Epoch 94/100\n",
      "183/183 [==============================] - 12s 64ms/step - loss: 0.0059 - accuracy: 0.9804\n",
      "Epoch 95/100\n",
      "183/183 [==============================] - 11s 61ms/step - loss: 0.0058 - accuracy: 0.9807\n",
      "Epoch 96/100\n",
      "183/183 [==============================] - 12s 63ms/step - loss: 0.0058 - accuracy: 0.9805\n",
      "Epoch 97/100\n",
      "183/183 [==============================] - 11s 63ms/step - loss: 0.0058 - accuracy: 0.9798\n",
      "Epoch 98/100\n",
      "183/183 [==============================] - 11s 61ms/step - loss: 0.0066 - accuracy: 0.9787\n",
      "Epoch 99/100\n",
      "183/183 [==============================] - 12s 67ms/step - loss: 0.0094 - accuracy: 0.9720\n",
      "Epoch 100/100\n",
      "183/183 [==============================] - 11s 61ms/step - loss: 0.0105 - accuracy: 0.9691\n"
     ]
    }
   ],
   "source": [
    "history = model.fit([encoder_input_data, decoder_input_data], decoder_output_data, epochs=100) # epochs >= 10"
   ]
  },
  {
   "cell_type": "code",
   "execution_count": 17,
   "id": "73ccea3c",
   "metadata": {
    "execution": {
     "iopub.execute_input": "2022-06-02T12:05:50.587682Z",
     "iopub.status.busy": "2022-06-02T12:05:50.587112Z",
     "iopub.status.idle": "2022-06-02T12:05:51.560101Z",
     "shell.execute_reply": "2022-06-02T12:05:51.559007Z"
    },
    "id": "QaESKXhfvj75",
    "papermill": {
     "duration": 2.408047,
     "end_time": "2022-06-02T12:05:51.562591",
     "exception": false,
     "start_time": "2022-06-02T12:05:49.154544",
     "status": "completed"
    },
    "scrolled": true,
    "tags": []
   },
   "outputs": [],
   "source": [
    "def make_inference_models():\n",
    "    \n",
    "    # encoder model takes questions as input and output its LSTM state\n",
    "    encoder_model = Model(encoder_inputs, encoder_states)\n",
    "    \n",
    "    # decoder takes encoder output states as its initial state \n",
    "    # and 200 is the output of encoder last hidden and cell states dimension\n",
    "    decoder_state_input_h = Input(shape=(200,))\n",
    "    decoder_state_input_c = Input(shape=(200,))\n",
    "    decoder_states_inputs = [decoder_state_input_h, decoder_state_input_c]\n",
    "    \n",
    "    # use these pre-trained layers of the model: decoder_embedding, decoder_lstm, decoder_dense \n",
    "    decoder_outputs, state_h, state_c = decoder_lstm(decoder_embedding, initial_state=decoder_states_inputs)\n",
    "    decoder_states = [state_h, state_c]\n",
    "    decoder_outputs = decoder_dense(decoder_outputs)\n",
    "    \n",
    "    # decoder model takes one token and the states predicted from enc_model   \n",
    "    decoder_model = Model([decoder_inputs] + decoder_states_inputs, [decoder_outputs] + decoder_states)\n",
    "    \n",
    "    return encoder_model, decoder_model\n",
    "\n",
    "enc_model, dec_model = make_inference_models()\n",
    "enc_model.save('enc_model.h5')\n",
    "dec_model.save('dec_model.h5')"
   ]
  },
  {
   "cell_type": "code",
   "execution_count": 18,
   "id": "71f2e43e",
   "metadata": {
    "execution": {
     "iopub.execute_input": "2022-06-02T12:05:54.326740Z",
     "iopub.status.busy": "2022-06-02T12:05:54.326303Z",
     "iopub.status.idle": "2022-06-02T12:05:54.331054Z",
     "shell.execute_reply": "2022-06-02T12:05:54.329882Z"
    },
    "papermill": {
     "duration": 1.423862,
     "end_time": "2022-06-02T12:05:54.333911",
     "exception": false,
     "start_time": "2022-06-02T12:05:52.910049",
     "status": "completed"
    },
    "tags": []
   },
   "outputs": [],
   "source": [
    "# # load model\n",
    "# enc_model = load_model('./../input/chatbot-data/enc_model.h5')\n",
    "# dec_model = load_model('../input/chatbot-data/dec_model.h5')"
   ]
  },
  {
   "cell_type": "code",
   "execution_count": 19,
   "id": "52780e65",
   "metadata": {
    "execution": {
     "iopub.execute_input": "2022-06-02T12:05:57.193582Z",
     "iopub.status.busy": "2022-06-02T12:05:57.192932Z",
     "iopub.status.idle": "2022-06-02T12:05:57.200656Z",
     "shell.execute_reply": "2022-06-02T12:05:57.199578Z"
    },
    "id": "iZJwkGzpvj75",
    "papermill": {
     "duration": 1.451865,
     "end_time": "2022-06-02T12:05:57.203098",
     "exception": false,
     "start_time": "2022-06-02T12:05:55.751233",
     "status": "completed"
    },
    "tags": []
   },
   "outputs": [],
   "source": [
    "def format_question(sent:str):\n",
    "    sent = normalize([sent])[0]\n",
    "    words = sent.split()\n",
    "    token_list = []\n",
    "    for word in words:\n",
    "        try:\n",
    "            index = tokenizer.word_index[word]\n",
    "        except KeyError:\n",
    "            index = tokenizer.word_index['<unk>']\n",
    "        token_list.append(index)\n",
    "    return pad_sequences([token_list], maxlen=MAXLEN_QUESTION, padding='post', truncating='post')"
   ]
  },
  {
   "cell_type": "code",
   "execution_count": 20,
   "id": "626388fc",
   "metadata": {
    "execution": {
     "iopub.execute_input": "2022-06-02T12:06:00.296670Z",
     "iopub.status.busy": "2022-06-02T12:06:00.296212Z",
     "iopub.status.idle": "2022-06-02T12:06:00.306526Z",
     "shell.execute_reply": "2022-06-02T12:06:00.305284Z"
    },
    "id": "v_4uY17Uvj77",
    "papermill": {
     "duration": 1.667887,
     "end_time": "2022-06-02T12:06:00.309175",
     "exception": false,
     "start_time": "2022-06-02T12:05:58.641288",
     "status": "completed"
    },
    "tags": []
   },
   "outputs": [],
   "source": [
    "def ask(question):\n",
    "    print('Q:', question)\n",
    "    question = format_question(question)\n",
    "    states_values = enc_model.predict(question)\n",
    "    target_seq = np.zeros((1, 1))\n",
    "    target_seq[0, 0] = tokenizer.word_index['<start>']\n",
    "    \n",
    "    stop_condition = False\n",
    "    decoded_seq = ''\n",
    "    while not stop_condition:\n",
    "        # dec_outputs return a one hot vector with the dimension number of vocab size\n",
    "        dec_outputs, h, c = dec_model.predict([target_seq] + states_values)\n",
    "        gen_word_index = np.argmax(dec_outputs[0, -1])\n",
    "        gen_word = tokenizer.index_word[gen_word_index]\n",
    "        \n",
    "        if gen_word == '<end>' or len(decoded_seq.split()) > MAXLEN_ANSWER:\n",
    "            stop_condition = True\n",
    "        else:\n",
    "            decoded_seq += gen_word + ' '\n",
    "            \n",
    "        target_seq = np.zeros((1, 1))  \n",
    "        target_seq[0, 0] = gen_word_index\n",
    "        states_values = [h, c]\n",
    "        \n",
    "    answer = decoded_seq[0].upper() + decoded_seq[1:].replace('_', ' ')\n",
    "    print('A:', answer.strip(), '\\n')"
   ]
  },
  {
   "cell_type": "code",
   "execution_count": 21,
   "id": "91a61fd8",
   "metadata": {
    "execution": {
     "iopub.execute_input": "2022-06-02T12:06:03.136053Z",
     "iopub.status.busy": "2022-06-02T12:06:03.135448Z",
     "iopub.status.idle": "2022-06-02T12:06:09.189854Z",
     "shell.execute_reply": "2022-06-02T12:06:09.188458Z"
    },
    "papermill": {
     "duration": 7.469666,
     "end_time": "2022-06-02T12:06:09.193809",
     "exception": false,
     "start_time": "2022-06-02T12:06:01.724143",
     "status": "completed"
    },
    "tags": []
   },
   "outputs": [
    {
     "name": "stdout",
     "output_type": "stream",
     "text": [
      "Q: Bạn sinh năm bao nhiêu?\n",
      "A: Mình sinh năm 2001 \n",
      "\n",
      "Q: Có người yêu chưa?\n",
      "A: Chưa \n",
      "\n",
      "Q: Shop tư vấn cho mình một số mẫu giày thích hợp để đi chơi được không?\n",
      "A: Bạn có thể tham khảo vài đôi giày của adidas hoặc nike \n",
      "\n",
      "Q: Quê bạn ở đâu?\n",
      "A: Quê mình ở thành phố hồ chí minh \n",
      "\n",
      "Q: Bạn thường làm gì trong thời gian rảnh?\n",
      "A: Tôi thường xem phim nghe nhạc và học một số nhạc cụ \n",
      "\n",
      "Q: Bạn có muốn đi xem phim vào cuối tuần này hay không?\n",
      "A: Dĩ nhiên là muốn rồi \n",
      "\n",
      "Q: Bạn thích môn thể thao gì?\n",
      "A: Mình thích đá bóng \n",
      "\n"
     ]
    }
   ],
   "source": [
    "ask('Bạn sinh năm bao nhiêu?')\n",
    "ask('Có người yêu chưa?')\n",
    "ask('Shop tư vấn cho mình một số mẫu giày thích hợp để đi chơi được không?')\n",
    "ask('Quê bạn ở đâu?')\n",
    "ask('Bạn thường làm gì trong thời gian rảnh?')\n",
    "ask('Bạn có muốn đi xem phim vào cuối tuần này hay không?')\n",
    "ask('Bạn thích môn thể thao gì?')"
   ]
  }
 ],
 "metadata": {
  "kernelspec": {
   "display_name": "Python 3",
   "language": "python",
   "name": "python3"
  },
  "language_info": {
   "codemirror_mode": {
    "name": "ipython",
    "version": 3
   },
   "file_extension": ".py",
   "mimetype": "text/x-python",
   "name": "python",
   "nbconvert_exporter": "python",
   "pygments_lexer": "ipython3",
   "version": "3.7.12"
  },
  "papermill": {
   "default_parameters": {},
   "duration": 1235.201774,
   "end_time": "2022-06-02T12:06:14.229398",
   "environment_variables": {},
   "exception": null,
   "input_path": "__notebook__.ipynb",
   "output_path": "__notebook__.ipynb",
   "parameters": {},
   "start_time": "2022-06-02T11:45:39.027624",
   "version": "2.3.4"
  }
 },
 "nbformat": 4,
 "nbformat_minor": 5
}
