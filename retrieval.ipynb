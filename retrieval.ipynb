{
 "cells": [
  {
   "cell_type": "code",
   "execution_count": 1,
   "metadata": {},
   "outputs": [],
   "source": [
    "import numpy as np\n",
    "import string\n",
    "from pyvi import ViTokenizer\n",
    "from gensim.models import Word2Vec\n",
    "from sklearn.feature_extraction.text import CountVectorizer\n",
    "from sklearn.tree import DecisionTreeClassifier\n",
    "from sklearn.feature_extraction.text import TfidfTransformer,TfidfVectorizer\n",
    "from sklearn.pipeline import Pipeline\n",
    "from scipy.spatial import distance"
   ]
  },
  {
   "cell_type": "code",
   "execution_count": 2,
   "metadata": {},
   "outputs": [],
   "source": [
    "# Pre-processing"
   ]
  },
  {
   "cell_type": "code",
   "execution_count": 5,
   "metadata": {},
   "outputs": [
    {
     "name": "stdout",
     "output_type": "stream",
     "text": [
      "['bạn bè.txt', 'các câu hỏi phức tạp.txt', 'du lịch.txt', 'gia đình.txt', 'giải trí.txt', 'học tập.txt', 'nghề nghiệp.txt', 'nghỉ lễ.txt', 'người yêu.txt', 'robot.txt', 'shoping.txt', 'sở thích.txt', 'tdtu.txt', 'thông tin cá nhân.txt', 'trò chuyện về đi ăn.txt', 'tán gẫu.txt', 'đất nước.txt', 'địa chỉ.txt']\n"
     ]
    }
   ],
   "source": [
    "import os\n",
    "dir = 'data/chatbot'\n",
    "filenames = os.listdir(dir)\n",
    "print(filenames)"
   ]
  },
  {
   "cell_type": "code",
   "execution_count": 9,
   "metadata": {},
   "outputs": [
    {
     "name": "stdout",
     "output_type": "stream",
     "text": [
      "Number of QA pairs: 5855\n"
     ]
    }
   ],
   "source": [
    "Q = []\n",
    "A = []\n",
    "for i in filenames:\n",
    "    with open(dir+'/'+i,encoding=\"utf8\") as f:\n",
    "        for s in f:\n",
    "            a = s.split('__eou__')\n",
    "            Q.append(a[0])\n",
    "            A.append(a[1])\n",
    "print('Number of QA pairs:', len(Q))"
   ]
  },
  {
   "cell_type": "code",
   "execution_count": 15,
   "metadata": {},
   "outputs": [],
   "source": [
    "# Use Word2vec"
   ]
  },
  {
   "cell_type": "code",
   "execution_count": 16,
   "metadata": {},
   "outputs": [],
   "source": [
    "sents = []\n",
    "for i in range(len(Q)):\n",
    "    tokens = ViTokenizer.tokenize(Q[i])\n",
    "    sents.append(tokens)\n",
    "    \n",
    "modelw2v = Word2Vec(sentences=sents, size=100, window=5, min_count=2, sg=1)"
   ]
  },
  {
   "cell_type": "code",
   "execution_count": 17,
   "metadata": {},
   "outputs": [],
   "source": [
    "# Calculate the vector average of each question\n",
    "def avg_sentence_vector(words, model, num_features, index2word_set):\n",
    "    featureVec = np.zeros((num_features,), dtype=\"float32\")\n",
    "    nwords = 0\n",
    "    \n",
    "    tokens = ViTokenizer.tokenize(words)\n",
    "    for word in words:\n",
    "        if word in index2word_set:\n",
    "            nwords = nwords+1\n",
    "            featureVec = np.add(featureVec, model.wv[word])\n",
    "\n",
    "    if nwords > 0:\n",
    "        featureVec = np.divide(featureVec, nwords)\n",
    "    return featureVec"
   ]
  },
  {
   "cell_type": "code",
   "execution_count": 18,
   "metadata": {},
   "outputs": [],
   "source": [
    "def QuestionAnswer(s):\n",
    "    sentence_1_avg_vector = avg_sentence_vector(s, model=modelw2v, num_features=100, index2word_set= modelw2v.wv.index2word)\n",
    "\n",
    "    max_ans = 1\n",
    "    for sentence_2 in Q:\n",
    "        sentence_2_avg_vector = avg_sentence_vector(sentence_2, model=modelw2v, num_features=100, index2word_set= modelw2v.wv.index2word)\n",
    "\n",
    "        values =  distance.cosine(sentence_1_avg_vector,sentence_2_avg_vector)\n",
    "        if(values < max_ans):\n",
    "            max_ans = values\n",
    "            best_ans = A[Q.index(sentence_2)]\n",
    "            best_que = sentence_2\n",
    "            print(best_ans)\n",
    "    return best_ans"
   ]
  },
  {
   "cell_type": "code",
   "execution_count": 19,
   "metadata": {},
   "outputs": [
    {
     "name": "stdout",
     "output_type": "stream",
     "text": [
      " Ngon nhào vô \n",
      " Mình không thích hút thuốc, vì nó làm hại phổi và răng \n",
      " Thật ra học bài đối với mình là chuyện thường xuyên, có những lúc mình thích, có những lúc mình không thích lắm \n",
      " mình cũng thường hay đi chơi thể thao \n",
      " mình và thể thao là hai đường thẳng song song bạn nha \n",
      " tôi thường chạy bộ vào những lúc rảnh rỗi \n",
      " mình thích chơi đá bóng và billard \n",
      " mình thích chơi đá bóng và billard \n"
     ]
    }
   ],
   "source": [
    "s= \"Có môn thể thao nào bạn thích chơi không?\"\n",
    "print(QuestionAnswer(s))"
   ]
  },
  {
   "cell_type": "code",
   "execution_count": 10,
   "metadata": {},
   "outputs": [],
   "source": [
    "# Not using word2vec version"
   ]
  },
  {
   "cell_type": "code",
   "execution_count": 11,
   "metadata": {},
   "outputs": [],
   "source": [
    "def cleaner(x):\n",
    "    return [a for a in (''.join([a for a in x if a not in string.punctuation])).lower().split()]"
   ]
  },
  {
   "cell_type": "code",
   "execution_count": 12,
   "metadata": {},
   "outputs": [],
   "source": [
    "Pipe = Pipeline([\n",
    "    ('bow', CountVectorizer(analyzer=cleaner)),\n",
    "    ('tfidf', TfidfTransformer()),\n",
    "    ('classifier', DecisionTreeClassifier())\n",
    "])"
   ]
  },
  {
   "cell_type": "code",
   "execution_count": 13,
   "metadata": {},
   "outputs": [
    {
     "data": {
      "text/plain": [
       "Pipeline(steps=[('bow',\n",
       "                 CountVectorizer(analyzer=<function cleaner at 0x0000023ADEC66700>)),\n",
       "                ('tfidf', TfidfTransformer()),\n",
       "                ('classifier', DecisionTreeClassifier())])"
      ]
     },
     "execution_count": 13,
     "metadata": {},
     "output_type": "execute_result"
    }
   ],
   "source": [
    "Pipe.fit(Q, A)"
   ]
  },
  {
   "cell_type": "code",
   "execution_count": 14,
   "metadata": {},
   "outputs": [
    {
     "data": {
      "text/plain": [
       "' tôi thường chạy bộ vào những lúc rảnh rỗi '"
      ]
     },
     "execution_count": 14,
     "metadata": {},
     "output_type": "execute_result"
    }
   ],
   "source": [
    "Pipe.predict(['Có môn thể thao nào bạn thích chơi không?'])[0]"
   ]
  },
  {
   "cell_type": "code",
   "execution_count": null,
   "metadata": {},
   "outputs": [],
   "source": []
  }
 ],
 "metadata": {
  "kernelspec": {
   "display_name": "Python 3",
   "language": "python",
   "name": "python3"
  },
  "language_info": {
   "codemirror_mode": {
    "name": "ipython",
    "version": 3
   },
   "file_extension": ".py",
   "mimetype": "text/x-python",
   "name": "python",
   "nbconvert_exporter": "python",
   "pygments_lexer": "ipython3",
   "version": "3.8.3"
  }
 },
 "nbformat": 4,
 "nbformat_minor": 4
}
